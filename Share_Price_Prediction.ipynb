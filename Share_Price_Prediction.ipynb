{
  "nbformat": 4,
  "nbformat_minor": 0,
  "metadata": {
    "colab": {
      "name": "Share Price Prediction.ipynb",
      "provenance": [],
      "collapsed_sections": [],
      "authorship_tag": "ABX9TyMhq6+rU1uuv55vGH0F2Fp4",
      "include_colab_link": true
    },
    "kernelspec": {
      "name": "python3",
      "display_name": "Python 3"
    }
  },
  "cells": [
    {
      "cell_type": "markdown",
      "metadata": {
        "id": "view-in-github",
        "colab_type": "text"
      },
      "source": [
        "<a href=\"https://colab.research.google.com/github/mukul-mschauhan/Data-Science-Projects/blob/master/Share_Price_Prediction.ipynb\" target=\"_parent\"><img src=\"https://colab.research.google.com/assets/colab-badge.svg\" alt=\"Open In Colab\"/></a>"
      ]
    },
    {
      "cell_type": "code",
      "metadata": {
        "id": "vEHoppqcHGde",
        "colab": {
          "base_uri": "https://localhost:8080/",
          "height": 71
        },
        "outputId": "3f636cd9-8b4b-415b-cb64-088dfe81bf86"
      },
      "source": [
        "import numpy as np\n",
        "import pandas as pd\n",
        "import matplotlib.pyplot as plt\n",
        "import seaborn as sns\n",
        "import scipy.stats as stats\n",
        "from sklearn.model_selection import train_test_split\n",
        "from sklearn.ensemble import GradientBoostingRegressor, RandomForestRegressor, AdaBoostRegressor, BaggingRegressor, StackingRegressor\n",
        "from sklearn.linear_model import Ridge, Lasso, LinearRegression\n",
        "from sklearn.tree import DecisionTreeRegressor\n",
        "from sklearn.metrics import r2_score, mean_squared_error\n",
        "from statsmodels.tools.eval_measures import rmse\n",
        "\n",
        "#from pmdarima import auto_arima"
      ],
      "execution_count": null,
      "outputs": [
        {
          "output_type": "stream",
          "text": [
            "/usr/local/lib/python3.6/dist-packages/statsmodels/tools/_testing.py:19: FutureWarning: pandas.util.testing is deprecated. Use the functions in the public API at pandas.testing instead.\n",
            "  import pandas.util.testing as tm\n"
          ],
          "name": "stderr"
        }
      ]
    },
    {
      "cell_type": "code",
      "metadata": {
        "id": "k--QS6QgHI1I",
        "colab": {
          "base_uri": "https://localhost:8080/",
          "height": 34
        },
        "outputId": "c589270f-3702-4751-a1e9-8f0311b0a879"
      },
      "source": [
        "from google.colab import drive\n",
        "drive.mount('/gdrive')"
      ],
      "execution_count": null,
      "outputs": [
        {
          "output_type": "stream",
          "text": [
            "Mounted at /gdrive\n"
          ],
          "name": "stdout"
        }
      ]
    },
    {
      "cell_type": "code",
      "metadata": {
        "id": "moNIH2p1HNtY"
      },
      "source": [
        "price = pd.read_csv(\"/gdrive/My Drive/Colab Notebooks/Jubilant.csv\")"
      ],
      "execution_count": null,
      "outputs": []
    },
    {
      "cell_type": "code",
      "metadata": {
        "id": "n-uC2eLEHfmw",
        "colab": {
          "base_uri": "https://localhost:8080/",
          "height": 208
        },
        "outputId": "90cccfb0-b3ae-445b-d98c-f8499d3fcc59"
      },
      "source": [
        "price.head()"
      ],
      "execution_count": null,
      "outputs": [
        {
          "output_type": "execute_result",
          "data": {
            "text/html": [
              "<div>\n",
              "<style scoped>\n",
              "    .dataframe tbody tr th:only-of-type {\n",
              "        vertical-align: middle;\n",
              "    }\n",
              "\n",
              "    .dataframe tbody tr th {\n",
              "        vertical-align: top;\n",
              "    }\n",
              "\n",
              "    .dataframe thead th {\n",
              "        text-align: right;\n",
              "    }\n",
              "</style>\n",
              "<table border=\"1\" class=\"dataframe\">\n",
              "  <thead>\n",
              "    <tr style=\"text-align: right;\">\n",
              "      <th></th>\n",
              "      <th>Date</th>\n",
              "      <th>Open</th>\n",
              "      <th>High</th>\n",
              "      <th>Low</th>\n",
              "      <th>Close</th>\n",
              "      <th>Adj Close</th>\n",
              "      <th>Volume</th>\n",
              "    </tr>\n",
              "  </thead>\n",
              "  <tbody>\n",
              "    <tr>\n",
              "      <th>0</th>\n",
              "      <td>08/02/10</td>\n",
              "      <td>80.000000</td>\n",
              "      <td>120.449997</td>\n",
              "      <td>80.000000</td>\n",
              "      <td>120.300003</td>\n",
              "      <td>118.110657</td>\n",
              "      <td>113926600</td>\n",
              "    </tr>\n",
              "    <tr>\n",
              "      <th>1</th>\n",
              "      <td>09/02/10</td>\n",
              "      <td>115.275002</td>\n",
              "      <td>125.000000</td>\n",
              "      <td>110.800003</td>\n",
              "      <td>122.099998</td>\n",
              "      <td>119.877899</td>\n",
              "      <td>49861112</td>\n",
              "    </tr>\n",
              "    <tr>\n",
              "      <th>2</th>\n",
              "      <td>10/02/10</td>\n",
              "      <td>126.000000</td>\n",
              "      <td>126.199997</td>\n",
              "      <td>115.800003</td>\n",
              "      <td>117.500000</td>\n",
              "      <td>115.361618</td>\n",
              "      <td>22791756</td>\n",
              "    </tr>\n",
              "    <tr>\n",
              "      <th>3</th>\n",
              "      <td>11/02/10</td>\n",
              "      <td>117.500000</td>\n",
              "      <td>120.000000</td>\n",
              "      <td>112.550003</td>\n",
              "      <td>115.474998</td>\n",
              "      <td>113.373466</td>\n",
              "      <td>11715914</td>\n",
              "    </tr>\n",
              "    <tr>\n",
              "      <th>4</th>\n",
              "      <td>15/02/10</td>\n",
              "      <td>116.800003</td>\n",
              "      <td>118.400002</td>\n",
              "      <td>112.750000</td>\n",
              "      <td>114.574997</td>\n",
              "      <td>112.489853</td>\n",
              "      <td>6380560</td>\n",
              "    </tr>\n",
              "  </tbody>\n",
              "</table>\n",
              "</div>"
            ],
            "text/plain": [
              "       Date        Open        High  ...       Close   Adj Close     Volume\n",
              "0  08/02/10   80.000000  120.449997  ...  120.300003  118.110657  113926600\n",
              "1  09/02/10  115.275002  125.000000  ...  122.099998  119.877899   49861112\n",
              "2  10/02/10  126.000000  126.199997  ...  117.500000  115.361618   22791756\n",
              "3  11/02/10  117.500000  120.000000  ...  115.474998  113.373466   11715914\n",
              "4  15/02/10  116.800003  118.400002  ...  114.574997  112.489853    6380560\n",
              "\n",
              "[5 rows x 7 columns]"
            ]
          },
          "metadata": {
            "tags": []
          },
          "execution_count": 3
        }
      ]
    },
    {
      "cell_type": "code",
      "metadata": {
        "id": "Q7Z1jPREHg5x",
        "colab": {
          "base_uri": "https://localhost:8080/",
          "height": 390
        },
        "outputId": "c7b232fa-d310-44e6-8bf2-fb2736e5de88"
      },
      "source": [
        "plt.figure(figsize = [17, 7])\n",
        "plt.plot(price.Open)\n",
        "plt.plot(price.Close)\n",
        "plt.show()"
      ],
      "execution_count": null,
      "outputs": [
        {
          "output_type": "display_data",
          "data": {
            "image/png": "[encoded data removed]",
            "text/plain": [
              "<Figure size 1224x504 with 1 Axes>"
            ]
          },
          "metadata": {
            "tags": [],
            "needs_background": "light"
          }
        }
      ]
    },
    {
      "cell_type": "code",
      "metadata": {
        "id": "fZu5ZZNUHmP_"
      },
      "source": [
        "# Split the Data in Train and Test and Check the Model Performance\n",
        "tgt = price.Close\n",
        "x = price.drop([\"Date\", \"Close\", \"Adj Close\", \"Volume\"], axis = 1)"
      ],
      "execution_count": null,
      "outputs": []
    },
    {
      "cell_type": "code",
      "metadata": {
        "id": "YVk9FCXPHqF6"
      },
      "source": [
        "\n",
        "xtrain,xtest,ytrain,ytest = train_test_split(x, tgt, test_size = 0.10, random_state = 0)"
      ],
      "execution_count": null,
      "outputs": []
    },
    {
      "cell_type": "code",
      "metadata": {
        "id": "YNb4sulnHsFr"
      },
      "source": [
        "# Stacking Models\n",
        "from sklearn.ensemble import GradientBoostingRegressor, RandomForestRegressor, AdaBoostRegressor, BaggingRegressor, StackingRegressor\n",
        "from sklearn.linear_model import Ridge, Lasso, LinearRegression\n",
        "from sklearn.tree import DecisionTreeRegressor\n",
        "\n",
        "def base_models():\n",
        "    models = dict()\n",
        "    models['lr'] = LinearRegression()\n",
        "    models[\"Ridge\"] = Ridge()\n",
        "    models[\"Lasso\"] = Lasso()\n",
        "    models[\"Tree\"] = DecisionTreeRegressor()\n",
        "    models[\"Random Forest\"] = RandomForestRegressor()\n",
        "    models[\"AdaBoost\"] = AdaBoostRegressor()\n",
        "    models[\"Bagging\"] = BaggingRegressor()\n",
        "    models[\"GBM\"] = GradientBoostingRegressor()\n",
        "    return models"
      ],
      "execution_count": null,
      "outputs": []
    },
    {
      "cell_type": "code",
      "metadata": {
        "id": "TokNfEShHvwD"
      },
      "source": [
        "# Now we will apply K Fold Cross Validation. We will now create a evaluate function with Repeated Stratified K Fold\n",
        "# And Capture the Cross Val Score\n",
        "from sklearn.model_selection import cross_val_score, RepeatedStratifiedKFold, StratifiedKFold, KFold, RepeatedKFold\n",
        "\n",
        "# Function to evaluate the list of models\n",
        "def eval_models(model):\n",
        "    cv = RepeatedKFold(n_splits=10, n_repeats=3, random_state=1)\n",
        "    scores = -cross_val_score(model, x, tgt, scoring='neg_mean_absolute_error', cv=cv, n_jobs=-1, error_score='raise')\n",
        "    return scores"
      ],
      "execution_count": null,
      "outputs": []
    },
    {
      "cell_type": "code",
      "metadata": {
        "id": "jNAXpU_ZHyC_",
        "colab": {
          "base_uri": "https://localhost:8080/",
          "height": 158
        },
        "outputId": "f01dea77-1ca3-4cf9-85e2-576db94dee9e"
      },
      "source": [
        "# get the models to evaluate\n",
        "models = base_models()\n",
        "# evaluate the models and store results\n",
        "results, names = list(), list() \n",
        "\n",
        "for name, model in models.items():\n",
        "  scores = eval_models(model)\n",
        "  results.append(scores)\n",
        "  names.append(name)\n",
        "  print('>%s %.3f (%.3f)' % (name, scores.mean(), scores.std()))"
      ],
      "execution_count": null,
      "outputs": [
        {
          "output_type": "stream",
          "text": [
            ">lr 5.194 (0.423)\n",
            ">Ridge 5.194 (0.423)\n",
            ">Lasso 7.502 (0.529)\n",
            ">Tree 8.008 (0.648)\n",
            ">Random Forest 6.508 (0.512)\n",
            ">AdaBoost 20.650 (1.304)\n",
            ">Bagging 6.764 (0.582)\n",
            ">GBM 7.976 (0.539)\n"
          ],
          "name": "stdout"
        }
      ]
    },
    {
      "cell_type": "code",
      "metadata": {
        "id": "l5-LCCJ8H0EK",
        "colab": {
          "base_uri": "https://localhost:8080/",
          "height": 346
        },
        "outputId": "0f1eea3d-eb72-4649-f003-e686ea593e28"
      },
      "source": [
        "# plot model performance for comparison\n",
        "plt.boxplot(results, labels=names, showmeans=True)\n",
        "plt.xticks(rotation = 90)\n",
        "plt.ylabel(\"MSE\")\n",
        "plt.title(\"Model Performance\")\n",
        "plt.show()"
      ],
      "execution_count": null,
      "outputs": [
        {
          "output_type": "display_data",
          "data": {
            "image/png": "[encoded data removed]",
            "text/plain": [
              "<Figure size 432x288 with 1 Axes>"
            ]
          },
          "metadata": {
            "tags": [],
            "needs_background": "light"
          }
        }
      ]
    },
    {
      "cell_type": "code",
      "metadata": {
        "id": "4q5gxhZJH7fT"
      },
      "source": [
        "# get a stacking ensemble of models\n",
        "from xgboost import XGBRegressor\n",
        "from lightgbm import LGBMRegressor\n",
        "def get_stacking():\n",
        "\t# define the base models\n",
        "  level0 = list()\n",
        "  level0.append(('Tree', DecisionTreeRegressor()))\n",
        "  level0.append(('RF', RandomForestRegressor()))\n",
        "  level0.append(('XGB', XGBRegressor()))\n",
        "  level0.append(('Bagging', BaggingRegressor()))\n",
        "\t# define meta learner model\n",
        "  level1 = LGBMRegressor()\n",
        "\t# define the stacking ensemble\n",
        "  model = StackingRegressor(estimators=level0, final_estimator=level1, cv=5)\n",
        "  return model"
      ],
      "execution_count": null,
      "outputs": []
    },
    {
      "cell_type": "code",
      "metadata": {
        "id": "CROCiRLyH_Zm"
      },
      "source": [
        "def base_models():\n",
        "  models = dict()\n",
        "  models[\"Tree\"] = DecisionTreeRegressor()\n",
        "  models[\"Random Forest\"] = RandomForestRegressor()\n",
        "  models[\"Bagging\"] = BaggingRegressor()\n",
        "  models[\"XGB\"] = XGBRegressor()\n",
        "  models[\"Stacked Model\"] = get_stacking()\n",
        "  return models"
      ],
      "execution_count": null,
      "outputs": []
    },
    {
      "cell_type": "code",
      "metadata": {
        "id": "Z-GgpU3mIB7Z",
        "colab": {
          "base_uri": "https://localhost:8080/",
          "height": 434
        },
        "outputId": "76a34d6b-6035-4ad8-f759-8c4544f7e14a"
      },
      "source": [
        "# Function to evaluate the list of models\n",
        "def eval_models(model):\n",
        "  cv = RepeatedKFold(n_splits=10, n_repeats=3, random_state=1)\n",
        "  scores = -cross_val_score(model, x, tgt, scoring='neg_mean_absolute_error', cv=cv, n_jobs=-1, error_score='raise')\n",
        "  return scores\n",
        "\n",
        "\n",
        "# get the models to evaluate\n",
        "models = base_models()\n",
        "# evaluate the models and store results\n",
        "results, names = list(), list() \n",
        "\n",
        "for name, model in models.items():\n",
        "  scores = eval_models(model)\n",
        "  results.append(scores)\n",
        "  names.append(name)\n",
        "  print('>%s %.3f (%.3f)' % (name, scores.mean(), scores.std()))\n",
        "\n",
        "\n",
        "# plot model performance for comparison\n",
        "plt.boxplot(results, labels=names, showmeans=True)\n",
        "plt.xticks(rotation = 90)\n",
        "plt.ylabel(\"MSE\")\n",
        "plt.title(\"Model Performance\")\n",
        "plt.show()\n"
      ],
      "execution_count": null,
      "outputs": [
        {
          "output_type": "stream",
          "text": [
            ">Tree 7.981 (0.679)\n",
            ">Random Forest 6.494 (0.535)\n",
            ">Bagging 6.687 (0.585)\n",
            ">XGB 8.154 (0.600)\n",
            ">Stacked Model 28.116 (3.094)\n"
          ],
          "name": "stdout"
        },
        {
          "output_type": "display_data",
          "data": {
            "image/png": "[encoded data removed]",
            "text/plain": [
              "<Figure size 432x288 with 1 Axes>"
            ]
          },
          "metadata": {
            "tags": [],
            "needs_background": "light"
          }
        }
      ]
    },
    {
      "cell_type": "code",
      "metadata": {
        "id": "2ekGzZuqIEW3"
      },
      "source": [
        "# Lets apply on Train and Test Split\n",
        "level0 = list()\n",
        "level0.append(('Tree', DecisionTreeRegressor()))\n",
        "level0.append(('RF', RandomForestRegressor()))\n",
        "level0.append(('GBM', GradientBoostingRegressor()))\n",
        "level0.append(('Bagging', BaggingRegressor()))\n",
        "level0.append((\"XGB\", XGBRegressor()))"
      ],
      "execution_count": null,
      "outputs": []
    },
    {
      "cell_type": "code",
      "metadata": {
        "id": "HYO3HhkJIntq"
      },
      "source": [
        "level1 = LGBMRegressor()\n",
        "model = StackingRegressor(estimators=level0, final_estimator=level1, cv=10)"
      ],
      "execution_count": null,
      "outputs": []
    },
    {
      "cell_type": "code",
      "metadata": {
        "id": "_9GdHnkQIqjs",
        "colab": {
          "base_uri": "https://localhost:8080/",
          "height": 231
        },
        "outputId": "1ddc3e38-aa15-4453-8b51-160b57325dcf"
      },
      "source": [
        "# Making Predictions on Train & Test\n",
        "stacked_pred = model.fit(xtrain, ytrain).predict(xtest)"
      ],
      "execution_count": null,
      "outputs": [
        {
          "output_type": "stream",
          "text": [
            "[06:49:07] WARNING: /workspace/src/objective/regression_obj.cu:152: reg:linear is now deprecated in favor of reg:squarederror.\n",
            "[06:49:16] WARNING: /workspace/src/objective/regression_obj.cu:152: reg:linear is now deprecated in favor of reg:squarederror.\n",
            "[06:49:16] WARNING: /workspace/src/objective/regression_obj.cu:152: reg:linear is now deprecated in favor of reg:squarederror.\n",
            "[06:49:16] WARNING: /workspace/src/objective/regression_obj.cu:152: reg:linear is now deprecated in favor of reg:squarederror.\n",
            "[06:49:16] WARNING: /workspace/src/objective/regression_obj.cu:152: reg:linear is now deprecated in favor of reg:squarederror.\n",
            "[06:49:16] WARNING: /workspace/src/objective/regression_obj.cu:152: reg:linear is now deprecated in favor of reg:squarederror.\n",
            "[06:49:17] WARNING: /workspace/src/objective/regression_obj.cu:152: reg:linear is now deprecated in favor of reg:squarederror.\n",
            "[06:49:17] WARNING: /workspace/src/objective/regression_obj.cu:152: reg:linear is now deprecated in favor of reg:squarederror.\n",
            "[06:49:17] WARNING: /workspace/src/objective/regression_obj.cu:152: reg:linear is now deprecated in favor of reg:squarederror.\n",
            "[06:49:17] WARNING: /workspace/src/objective/regression_obj.cu:152: reg:linear is now deprecated in favor of reg:squarederror.\n",
            "[06:49:17] WARNING: /workspace/src/objective/regression_obj.cu:152: reg:linear is now deprecated in favor of reg:squarederror.\n"
          ],
          "name": "stdout"
        }
      ]
    },
    {
      "cell_type": "code",
      "metadata": {
        "id": "gmxbkWjjIuZ5",
        "colab": {
          "base_uri": "https://localhost:8080/",
          "height": 52
        },
        "outputId": "2e87c7e5-742b-4a73-9f58-400a33db810d"
      },
      "source": [
        "from sklearn.metrics import r2_score, mean_squared_error\n",
        "from statsmodels.tools.eval_measures import rmse\n",
        "# Checking Model Metrics\n",
        "print(r2_score(ytest, stacked_pred))\n",
        "print(np.sqrt(mean_squared_error(ytest, stacked_pred)))"
      ],
      "execution_count": null,
      "outputs": [
        {
          "output_type": "stream",
          "text": [
            "0.9991996811128692\n",
            "12.137576072283768\n"
          ],
          "name": "stdout"
        }
      ]
    },
    {
      "cell_type": "code",
      "metadata": {
        "id": "Oz3PHufiKNM8"
      },
      "source": [
        "xgb = XGBRegressor()"
      ],
      "execution_count": null,
      "outputs": []
    },
    {
      "cell_type": "code",
      "metadata": {
        "id": "3uLiKvM-KRPl",
        "colab": {
          "base_uri": "https://localhost:8080/",
          "height": 55
        },
        "outputId": "77df71c2-1d03-49b7-8581-490d10450bc2"
      },
      "source": [
        "stacked_pred = xgb.fit(xtrain, ytrain).predict(xtest)"
      ],
      "execution_count": null,
      "outputs": [
        {
          "output_type": "stream",
          "text": [
            "[06:53:38] WARNING: /workspace/src/objective/regression_obj.cu:152: reg:linear is now deprecated in favor of reg:squarederror.\n"
          ],
          "name": "stdout"
        }
      ]
    },
    {
      "cell_type": "code",
      "metadata": {
        "id": "1cjKIcOfKU7o",
        "colab": {
          "base_uri": "https://localhost:8080/",
          "height": 52
        },
        "outputId": "e5bbf1ad-ec93-423b-87c3-8289a70ce234"
      },
      "source": [
        "print(r2_score(ytest, stacked_pred))\n",
        "print(np.sqrt(mean_squared_error(ytest, stacked_pred)))"
      ],
      "execution_count": null,
      "outputs": [
        {
          "output_type": "stream",
          "text": [
            "0.9989655321612422\n",
            "13.799359479679797\n"
          ],
          "name": "stdout"
        }
      ]
    },
    {
      "cell_type": "code",
      "metadata": {
        "id": "_q4U8P9sKaMk"
      },
      "source": [
        "lgbm=LGBMRegressor()"
      ],
      "execution_count": null,
      "outputs": []
    },
    {
      "cell_type": "code",
      "metadata": {
        "id": "nVsnCsrLKg3g",
        "colab": {
          "base_uri": "https://localhost:8080/",
          "height": 52
        },
        "outputId": "cc7eba23-fecc-480a-c222-b8b264144343"
      },
      "source": [
        "stacked_pred = lgbm.fit(xtrain, ytrain).predict(xtest)\n",
        "print(r2_score(ytest, stacked_pred))\n",
        "print(np.sqrt(mean_squared_error(ytest, stacked_pred)))"
      ],
      "execution_count": null,
      "outputs": [
        {
          "output_type": "stream",
          "text": [
            "0.9993517824583638\n",
            "10.923475061500046\n"
          ],
          "name": "stdout"
        }
      ]
    },
    {
      "cell_type": "code",
      "metadata": {
        "id": "BUGk-DADKlm8",
        "colab": {
          "base_uri": "https://localhost:8080/",
          "height": 52
        },
        "outputId": "f9bf9c11-d211-42ca-8d74-0153b82b14ff"
      },
      "source": [
        "rf = RandomForestRegressor()\n",
        "stacked_pred = rf.fit(xtrain, ytrain).predict(xtest)\n",
        "print(r2_score(ytest, stacked_pred))\n",
        "print(np.sqrt(mean_squared_error(ytest, stacked_pred)))"
      ],
      "execution_count": null,
      "outputs": [
        {
          "output_type": "stream",
          "text": [
            "0.999442300644988\n",
            "10.132124156880547\n"
          ],
          "name": "stdout"
        }
      ]
    },
    {
      "cell_type": "code",
      "metadata": {
        "id": "0bPFrrahNcHy",
        "colab": {
          "base_uri": "https://localhost:8080/",
          "height": 208
        },
        "outputId": "3dcad318-9d23-405c-c43d-dceb50108413"
      },
      "source": [
        "price.head()"
      ],
      "execution_count": null,
      "outputs": [
        {
          "output_type": "execute_result",
          "data": {
            "text/html": [
              "<div>\n",
              "<style scoped>\n",
              "    .dataframe tbody tr th:only-of-type {\n",
              "        vertical-align: middle;\n",
              "    }\n",
              "\n",
              "    .dataframe tbody tr th {\n",
              "        vertical-align: top;\n",
              "    }\n",
              "\n",
              "    .dataframe thead th {\n",
              "        text-align: right;\n",
              "    }\n",
              "</style>\n",
              "<table border=\"1\" class=\"dataframe\">\n",
              "  <thead>\n",
              "    <tr style=\"text-align: right;\">\n",
              "      <th></th>\n",
              "      <th>Date</th>\n",
              "      <th>Open</th>\n",
              "      <th>High</th>\n",
              "      <th>Low</th>\n",
              "      <th>Close</th>\n",
              "      <th>Adj Close</th>\n",
              "      <th>Volume</th>\n",
              "    </tr>\n",
              "  </thead>\n",
              "  <tbody>\n",
              "    <tr>\n",
              "      <th>0</th>\n",
              "      <td>08/02/10</td>\n",
              "      <td>80.000000</td>\n",
              "      <td>120.449997</td>\n",
              "      <td>80.000000</td>\n",
              "      <td>120.300003</td>\n",
              "      <td>118.110657</td>\n",
              "      <td>113926600</td>\n",
              "    </tr>\n",
              "    <tr>\n",
              "      <th>1</th>\n",
              "      <td>09/02/10</td>\n",
              "      <td>115.275002</td>\n",
              "      <td>125.000000</td>\n",
              "      <td>110.800003</td>\n",
              "      <td>122.099998</td>\n",
              "      <td>119.877899</td>\n",
              "      <td>49861112</td>\n",
              "    </tr>\n",
              "    <tr>\n",
              "      <th>2</th>\n",
              "      <td>10/02/10</td>\n",
              "      <td>126.000000</td>\n",
              "      <td>126.199997</td>\n",
              "      <td>115.800003</td>\n",
              "      <td>117.500000</td>\n",
              "      <td>115.361618</td>\n",
              "      <td>22791756</td>\n",
              "    </tr>\n",
              "    <tr>\n",
              "      <th>3</th>\n",
              "      <td>11/02/10</td>\n",
              "      <td>117.500000</td>\n",
              "      <td>120.000000</td>\n",
              "      <td>112.550003</td>\n",
              "      <td>115.474998</td>\n",
              "      <td>113.373466</td>\n",
              "      <td>11715914</td>\n",
              "    </tr>\n",
              "    <tr>\n",
              "      <th>4</th>\n",
              "      <td>15/02/10</td>\n",
              "      <td>116.800003</td>\n",
              "      <td>118.400002</td>\n",
              "      <td>112.750000</td>\n",
              "      <td>114.574997</td>\n",
              "      <td>112.489853</td>\n",
              "      <td>6380560</td>\n",
              "    </tr>\n",
              "  </tbody>\n",
              "</table>\n",
              "</div>"
            ],
            "text/plain": [
              "       Date        Open        High  ...       Close   Adj Close     Volume\n",
              "0  08/02/10   80.000000  120.449997  ...  120.300003  118.110657  113926600\n",
              "1  09/02/10  115.275002  125.000000  ...  122.099998  119.877899   49861112\n",
              "2  10/02/10  126.000000  126.199997  ...  117.500000  115.361618   22791756\n",
              "3  11/02/10  117.500000  120.000000  ...  115.474998  113.373466   11715914\n",
              "4  15/02/10  116.800003  118.400002  ...  114.574997  112.489853    6380560\n",
              "\n",
              "[5 rows x 7 columns]"
            ]
          },
          "metadata": {
            "tags": []
          },
          "execution_count": 24
        }
      ]
    },
    {
      "cell_type": "code",
      "metadata": {
        "id": "ZCppEo6hQevZ"
      },
      "source": [
        "# DLF\n",
        "dlf = pd.read_csv(\"/gdrive/My Drive/Colab Notebooks/DLF.csv\")"
      ],
      "execution_count": null,
      "outputs": []
    },
    {
      "cell_type": "code",
      "metadata": {
        "id": "j68ga1QdReog",
        "colab": {
          "base_uri": "https://localhost:8080/",
          "height": 204
        },
        "outputId": "5fd7b05f-e610-48e0-9b44-a29cecb6a878"
      },
      "source": [
        "dlf.head()"
      ],
      "execution_count": null,
      "outputs": [
        {
          "output_type": "execute_result",
          "data": {
            "text/html": [
              "<div>\n",
              "<style scoped>\n",
              "    .dataframe tbody tr th:only-of-type {\n",
              "        vertical-align: middle;\n",
              "    }\n",
              "\n",
              "    .dataframe tbody tr th {\n",
              "        vertical-align: top;\n",
              "    }\n",
              "\n",
              "    .dataframe thead th {\n",
              "        text-align: right;\n",
              "    }\n",
              "</style>\n",
              "<table border=\"1\" class=\"dataframe\">\n",
              "  <thead>\n",
              "    <tr style=\"text-align: right;\">\n",
              "      <th></th>\n",
              "      <th>Date</th>\n",
              "      <th>Open</th>\n",
              "      <th>High</th>\n",
              "      <th>Low</th>\n",
              "      <th>Close</th>\n",
              "      <th>Adj Close</th>\n",
              "      <th>Volume</th>\n",
              "    </tr>\n",
              "  </thead>\n",
              "  <tbody>\n",
              "    <tr>\n",
              "      <th>0</th>\n",
              "      <td>05/07/07</td>\n",
              "      <td>526.599976</td>\n",
              "      <td>583.950012</td>\n",
              "      <td>526.599976</td>\n",
              "      <td>569.799988</td>\n",
              "      <td>500.565369</td>\n",
              "      <td>78025942</td>\n",
              "    </tr>\n",
              "    <tr>\n",
              "      <th>1</th>\n",
              "      <td>06/07/07</td>\n",
              "      <td>568.000000</td>\n",
              "      <td>586.450012</td>\n",
              "      <td>568.000000</td>\n",
              "      <td>573.599976</td>\n",
              "      <td>503.903503</td>\n",
              "      <td>13724278</td>\n",
              "    </tr>\n",
              "    <tr>\n",
              "      <th>2</th>\n",
              "      <td>09/07/07</td>\n",
              "      <td>574.099976</td>\n",
              "      <td>581.000000</td>\n",
              "      <td>571.500000</td>\n",
              "      <td>574.700012</td>\n",
              "      <td>504.870117</td>\n",
              "      <td>4829804</td>\n",
              "    </tr>\n",
              "    <tr>\n",
              "      <th>3</th>\n",
              "      <td>10/07/07</td>\n",
              "      <td>575.000000</td>\n",
              "      <td>580.000000</td>\n",
              "      <td>568.599976</td>\n",
              "      <td>571.750000</td>\n",
              "      <td>502.278412</td>\n",
              "      <td>5321889</td>\n",
              "    </tr>\n",
              "    <tr>\n",
              "      <th>4</th>\n",
              "      <td>11/07/07</td>\n",
              "      <td>570.000000</td>\n",
              "      <td>594.400024</td>\n",
              "      <td>567.000000</td>\n",
              "      <td>590.750000</td>\n",
              "      <td>518.969910</td>\n",
              "      <td>8859610</td>\n",
              "    </tr>\n",
              "  </tbody>\n",
              "</table>\n",
              "</div>"
            ],
            "text/plain": [
              "       Date        Open        High  ...       Close   Adj Close    Volume\n",
              "0  05/07/07  526.599976  583.950012  ...  569.799988  500.565369  78025942\n",
              "1  06/07/07  568.000000  586.450012  ...  573.599976  503.903503  13724278\n",
              "2  09/07/07  574.099976  581.000000  ...  574.700012  504.870117   4829804\n",
              "3  10/07/07  575.000000  580.000000  ...  571.750000  502.278412   5321889\n",
              "4  11/07/07  570.000000  594.400024  ...  590.750000  518.969910   8859610\n",
              "\n",
              "[5 rows x 7 columns]"
            ]
          },
          "metadata": {
            "tags": []
          },
          "execution_count": 67
        }
      ]
    },
    {
      "cell_type": "code",
      "metadata": {
        "id": "jHvOxXEyRgWw",
        "colab": {
          "base_uri": "https://localhost:8080/",
          "height": 320
        },
        "outputId": "93cce706-af83-41ef-8fd6-d587157369d0"
      },
      "source": [
        "plt.figure(figsize=[10, 5])\n",
        "plt.plot(dlf.Open)\n",
        "plt.plot(dlf.Close)\n",
        "plt.show()"
      ],
      "execution_count": null,
      "outputs": [
        {
          "output_type": "display_data",
          "data": {
            "image/png": "[encoded data removed]",
            "text/plain": [
              "<Figure size 720x360 with 1 Axes>"
            ]
          },
          "metadata": {
            "tags": [],
            "needs_background": "light"
          }
        }
      ]
    },
    {
      "cell_type": "code",
      "metadata": {
        "id": "fu-aJMpNRm7-",
        "colab": {
          "base_uri": "https://localhost:8080/",
          "height": 320
        },
        "outputId": "2071c1b0-90cf-4317-f614-0d33777fb1df"
      },
      "source": [
        "plt.figure(figsize=[10, 5])\n",
        "plt.plot(dlf.Open)\n",
        "plt.plot(dlf.High)\n",
        "plt.plot(dlf.Low)\n",
        "plt.show()"
      ],
      "execution_count": null,
      "outputs": [
        {
          "output_type": "display_data",
          "data": {
            "image/png": "[encoded data removed]",
            "text/plain": [
              "<Figure size 720x360 with 1 Axes>"
            ]
          },
          "metadata": {
            "tags": [],
            "needs_background": "light"
          }
        }
      ]
    },
    {
      "cell_type": "code",
      "metadata": {
        "id": "BQ0OElloR4OI",
        "colab": {
          "base_uri": "https://localhost:8080/",
          "height": 287
        },
        "outputId": "bdf082f4-cc3e-40d5-8302-a059ce13e267"
      },
      "source": [
        "sns.heatmap(dlf.loc[:, [\"Open\", \"High\", \"Low\", \"Close\"]].corr(), annot = True, cmap = \"YlGnBu\")"
      ],
      "execution_count": null,
      "outputs": [
        {
          "output_type": "execute_result",
          "data": {
            "text/plain": [
              "<matplotlib.axes._subplots.AxesSubplot at 0x7fc7ea15c1d0>"
            ]
          },
          "metadata": {
            "tags": []
          },
          "execution_count": 35
        },
        {
          "output_type": "display_data",
          "data": {
            "image/png": "[encoded data removed]",
            "text/plain": [
              "<Figure size 432x288 with 2 Axes>"
            ]
          },
          "metadata": {
            "tags": [],
            "needs_background": "light"
          }
        }
      ]
    },
    {
      "cell_type": "code",
      "metadata": {
        "id": "_eMwm25LS83t",
        "colab": {
          "base_uri": "https://localhost:8080/",
          "height": 35
        },
        "outputId": "b8f939c0-c9df-46ec-92e1-3163ae1becc9"
      },
      "source": [
        "dlf.shape"
      ],
      "execution_count": null,
      "outputs": [
        {
          "output_type": "execute_result",
          "data": {
            "text/plain": [
              "(3242, 7)"
            ]
          },
          "metadata": {
            "tags": []
          },
          "execution_count": 36
        }
      ]
    },
    {
      "cell_type": "code",
      "metadata": {
        "id": "PreZYfRUTXAM",
        "colab": {
          "base_uri": "https://localhost:8080/",
          "height": 176
        },
        "outputId": "76072b19-bb8a-4b1a-859c-c3fb9bb7aa7d"
      },
      "source": [
        "dlf.Close.describe()"
      ],
      "execution_count": null,
      "outputs": [
        {
          "output_type": "execute_result",
          "data": {
            "text/plain": [
              "count    3242.000000\n",
              "mean      250.064374\n",
              "std       169.890604\n",
              "min        80.800003\n",
              "25%       155.899994\n",
              "50%       199.125000\n",
              "75%       259.337502\n",
              "max      1208.150024\n",
              "Name: Close, dtype: float64"
            ]
          },
          "metadata": {
            "tags": []
          },
          "execution_count": 38
        }
      ]
    },
    {
      "cell_type": "code",
      "metadata": {
        "id": "ONyefkJoTZpr"
      },
      "source": [
        "x = dlf.drop([\"Date\", \"Close\", \"Adj Close\", \"Volume\"], axis = 1)\n",
        "tgt= dlf.Close"
      ],
      "execution_count": null,
      "outputs": []
    },
    {
      "cell_type": "code",
      "metadata": {
        "id": "u9X5WX1RTg0S"
      },
      "source": [
        "xtrain, xtest, ytrain, ytest = train_test_split(x, tgt, test_size = 0.10, random_state = 0)"
      ],
      "execution_count": null,
      "outputs": []
    },
    {
      "cell_type": "code",
      "metadata": {
        "id": "ib2bOn87UkGe"
      },
      "source": [
        "rf1 = RandomForestRegressor()"
      ],
      "execution_count": null,
      "outputs": []
    },
    {
      "cell_type": "code",
      "metadata": {
        "id": "1OTBRa73Urlj"
      },
      "source": [
        "pred = rf1.fit(xtrain,ytrain).predict(xtest) # training & testing"
      ],
      "execution_count": null,
      "outputs": []
    },
    {
      "cell_type": "code",
      "metadata": {
        "id": "jMe4gtFGUyS8",
        "colab": {
          "base_uri": "https://localhost:8080/",
          "height": 51
        },
        "outputId": "7aa1341e-1ed2-4fef-8c78-cb0c05654224"
      },
      "source": [
        "print(\"R2Score: \", r2_score(ytest, pred))\n",
        "print(\"RMSE: \", rmse(ytest, pred))"
      ],
      "execution_count": null,
      "outputs": [
        {
          "output_type": "stream",
          "text": [
            "R2Score:  0.9990511607057045\n",
            "RMSE:  4.7843856327981005\n"
          ],
          "name": "stdout"
        }
      ]
    },
    {
      "cell_type": "code",
      "metadata": {
        "id": "MfV0_-W6bibV"
      },
      "source": [
        "names = [\"Open\", \"High\", \"Low\"]\n",
        "price = [156, 158.35, 154.40]\n",
        "\n",
        "test = pd.DataFrame(data = [price], columns = names)"
      ],
      "execution_count": null,
      "outputs": []
    },
    {
      "cell_type": "code",
      "metadata": {
        "id": "hbz1TQk-bn9W",
        "colab": {
          "base_uri": "https://localhost:8080/",
          "height": 34
        },
        "outputId": "1351663e-9297-4078-b643-51d214cc31a8"
      },
      "source": [
        "# Predicting the CLose Price for DLF\n",
        "rf1.predict(test)"
      ],
      "execution_count": null,
      "outputs": [
        {
          "output_type": "execute_result",
          "data": {
            "text/plain": [
              "array([156.13149994])"
            ]
          },
          "metadata": {
            "tags": []
          },
          "execution_count": 76
        }
      ]
    },
    {
      "cell_type": "code",
      "metadata": {
        "id": "c_4GXLhqW0YX"
      },
      "source": [
        "trial = pd.read_csv(\"/gdrive/My Drive/Colab Notebooks/trial2.csv\")"
      ],
      "execution_count": null,
      "outputs": []
    },
    {
      "cell_type": "code",
      "metadata": {
        "id": "MQFcke76ZyM5",
        "colab": {
          "base_uri": "https://localhost:8080/",
          "height": 240
        },
        "outputId": "882559ab-973a-4442-efd7-1f4c62c2c645"
      },
      "source": [
        "trial"
      ],
      "execution_count": null,
      "outputs": [
        {
          "output_type": "execute_result",
          "data": {
            "text/html": [
              "<div>\n",
              "<style scoped>\n",
              "    .dataframe tbody tr th:only-of-type {\n",
              "        vertical-align: middle;\n",
              "    }\n",
              "\n",
              "    .dataframe tbody tr th {\n",
              "        vertical-align: top;\n",
              "    }\n",
              "\n",
              "    .dataframe thead th {\n",
              "        text-align: right;\n",
              "    }\n",
              "</style>\n",
              "<table border=\"1\" class=\"dataframe\">\n",
              "  <thead>\n",
              "    <tr style=\"text-align: right;\">\n",
              "      <th></th>\n",
              "      <th>Open</th>\n",
              "      <th>High</th>\n",
              "      <th>Low</th>\n",
              "      <th>Close</th>\n",
              "    </tr>\n",
              "  </thead>\n",
              "  <tbody>\n",
              "    <tr>\n",
              "      <th>0</th>\n",
              "      <td>149.90</td>\n",
              "      <td>156.90</td>\n",
              "      <td>149.15</td>\n",
              "      <td>154.30</td>\n",
              "    </tr>\n",
              "    <tr>\n",
              "      <th>1</th>\n",
              "      <td>151.20</td>\n",
              "      <td>153.25</td>\n",
              "      <td>147.50</td>\n",
              "      <td>150.20</td>\n",
              "    </tr>\n",
              "    <tr>\n",
              "      <th>2</th>\n",
              "      <td>149.00</td>\n",
              "      <td>151.35</td>\n",
              "      <td>145.05</td>\n",
              "      <td>150.10</td>\n",
              "    </tr>\n",
              "    <tr>\n",
              "      <th>3</th>\n",
              "      <td>152.75</td>\n",
              "      <td>153.90</td>\n",
              "      <td>149.25</td>\n",
              "      <td>150.25</td>\n",
              "    </tr>\n",
              "    <tr>\n",
              "      <th>4</th>\n",
              "      <td>139.00</td>\n",
              "      <td>141.00</td>\n",
              "      <td>136.60</td>\n",
              "      <td>138.60</td>\n",
              "    </tr>\n",
              "    <tr>\n",
              "      <th>5</th>\n",
              "      <td>125.85</td>\n",
              "      <td>134.20</td>\n",
              "      <td>123.80</td>\n",
              "      <td>126.15</td>\n",
              "    </tr>\n",
              "  </tbody>\n",
              "</table>\n",
              "</div>"
            ],
            "text/plain": [
              "     Open    High     Low   Close\n",
              "0  149.90  156.90  149.15  154.30\n",
              "1  151.20  153.25  147.50  150.20\n",
              "2  149.00  151.35  145.05  150.10\n",
              "3  152.75  153.90  149.25  150.25\n",
              "4  139.00  141.00  136.60  138.60\n",
              "5  125.85  134.20  123.80  126.15"
            ]
          },
          "metadata": {
            "tags": []
          },
          "execution_count": 75
        }
      ]
    },
    {
      "cell_type": "code",
      "metadata": {
        "id": "IggJScIQW_j7",
        "colab": {
          "base_uri": "https://localhost:8080/",
          "height": 52
        },
        "outputId": "c7dc11e7-cbd3-4042-81c5-afc8a95383a3"
      },
      "source": [
        "# Predicted\n",
        "rf1.predict(trial.drop(\"Close\",axis = 1))"
      ],
      "execution_count": null,
      "outputs": [
        {
          "output_type": "execute_result",
          "data": {
            "text/plain": [
              "array([154.47900234, 149.89749835, 149.04600396, 151.30050138,\n",
              "       138.80900444, 127.45750165])"
            ]
          },
          "metadata": {
            "tags": []
          },
          "execution_count": 78
        }
      ]
    },
    {
      "cell_type": "code",
      "metadata": {
        "id": "YbtNOGybfR0t"
      },
      "source": [
        "# xgb.predict(trial.drop(\"Close\",axis = 1))"
      ],
      "execution_count": null,
      "outputs": []
    },
    {
      "cell_type": "code",
      "metadata": {
        "id": "SrcMCTehYpet"
      },
      "source": [
        "#nifty = pd.read_csv(\"/gdrive/My Drive/Colab Notebooks/Bank Nifty.csv\")\n",
        "sbi = pd.read_csv(\"/gdrive/My Drive/Colab Notebooks/SBIndia.csv\")"
      ],
      "execution_count": null,
      "outputs": []
    },
    {
      "cell_type": "code",
      "metadata": {
        "id": "pcFpwqpflIC-",
        "colab": {
          "base_uri": "https://localhost:8080/",
          "height": 204
        },
        "outputId": "cb5c2bd6-21b0-4eb2-b24a-ff0f44668eca"
      },
      "source": [
        "nifty.tail()"
      ],
      "execution_count": null,
      "outputs": [
        {
          "output_type": "execute_result",
          "data": {
            "text/html": [
              "<div>\n",
              "<style scoped>\n",
              "    .dataframe tbody tr th:only-of-type {\n",
              "        vertical-align: middle;\n",
              "    }\n",
              "\n",
              "    .dataframe tbody tr th {\n",
              "        vertical-align: top;\n",
              "    }\n",
              "\n",
              "    .dataframe thead th {\n",
              "        text-align: right;\n",
              "    }\n",
              "</style>\n",
              "<table border=\"1\" class=\"dataframe\">\n",
              "  <thead>\n",
              "    <tr style=\"text-align: right;\">\n",
              "      <th></th>\n",
              "      <th>Date</th>\n",
              "      <th>Open</th>\n",
              "      <th>High</th>\n",
              "      <th>Low</th>\n",
              "      <th>Close</th>\n",
              "      <th>Adj Close</th>\n",
              "      <th>Volume</th>\n",
              "    </tr>\n",
              "  </thead>\n",
              "  <tbody>\n",
              "    <tr>\n",
              "      <th>2899</th>\n",
              "      <td>07/09/20</td>\n",
              "      <td>23036.25000</td>\n",
              "      <td>23109.09961</td>\n",
              "      <td>22716.25000</td>\n",
              "      <td>22945.05078</td>\n",
              "      <td>22945.05078</td>\n",
              "      <td>245300</td>\n",
              "    </tr>\n",
              "    <tr>\n",
              "      <th>2900</th>\n",
              "      <td>08/09/20</td>\n",
              "      <td>22971.19922</td>\n",
              "      <td>23064.15039</td>\n",
              "      <td>22641.40039</td>\n",
              "      <td>22744.40039</td>\n",
              "      <td>22744.40039</td>\n",
              "      <td>0</td>\n",
              "    </tr>\n",
              "    <tr>\n",
              "      <th>2901</th>\n",
              "      <td>09/09/20</td>\n",
              "      <td>22486.69922</td>\n",
              "      <td>22554.59961</td>\n",
              "      <td>22080.40039</td>\n",
              "      <td>22267.00000</td>\n",
              "      <td>22267.00000</td>\n",
              "      <td>0</td>\n",
              "    </tr>\n",
              "    <tr>\n",
              "      <th>2902</th>\n",
              "      <td>10/09/20</td>\n",
              "      <td>22466.55078</td>\n",
              "      <td>22678.65039</td>\n",
              "      <td>22225.25000</td>\n",
              "      <td>22466.19922</td>\n",
              "      <td>22466.19922</td>\n",
              "      <td>0</td>\n",
              "    </tr>\n",
              "    <tr>\n",
              "      <th>2903</th>\n",
              "      <td>11/09/20</td>\n",
              "      <td>22509.94922</td>\n",
              "      <td>22668.75000</td>\n",
              "      <td>22205.94922</td>\n",
              "      <td>22479.94922</td>\n",
              "      <td>22479.94922</td>\n",
              "      <td>0</td>\n",
              "    </tr>\n",
              "  </tbody>\n",
              "</table>\n",
              "</div>"
            ],
            "text/plain": [
              "          Date         Open         High  ...        Close    Adj Close  Volume\n",
              "2899  07/09/20  23036.25000  23109.09961  ...  22945.05078  22945.05078  245300\n",
              "2900  08/09/20  22971.19922  23064.15039  ...  22744.40039  22744.40039       0\n",
              "2901  09/09/20  22486.69922  22554.59961  ...  22267.00000  22267.00000       0\n",
              "2902  10/09/20  22466.55078  22678.65039  ...  22466.19922  22466.19922       0\n",
              "2903  11/09/20  22509.94922  22668.75000  ...  22479.94922  22479.94922       0\n",
              "\n",
              "[5 rows x 7 columns]"
            ]
          },
          "metadata": {
            "tags": []
          },
          "execution_count": 157
        }
      ]
    },
    {
      "cell_type": "code",
      "metadata": {
        "id": "MHUicC3_lMDR",
        "colab": {
          "base_uri": "https://localhost:8080/",
          "height": 51
        },
        "outputId": "f96a3356-03a1-41fd-a449-a54cda19666a"
      },
      "source": [
        "# Split the Data in Train and Test\n",
        "x = nifty.drop([\"Date\", \"Close\", \"Adj Close\", \"Volume\"], axis = 1)\n",
        "tgt= nifty.Close\n",
        "\n",
        "xtrain, xtest, ytrain, ytest = train_test_split(x, tgt, test_size = 0.10, random_state = 0)\n",
        "\n",
        "rfn = RandomForestRegressor()\n",
        "pred = rfn.fit(xtrain,ytrain).predict(xtest) # training & testing\n",
        "print(\"R2Score: \", r2_score(ytest, pred))\n",
        "print(\"RMSE: \", rmse(ytest, pred))"
      ],
      "execution_count": null,
      "outputs": [
        {
          "output_type": "stream",
          "text": [
            "R2Score:  0.9997724993936693\n",
            "RMSE:  119.30145593141356\n"
          ],
          "name": "stdout"
        }
      ]
    },
    {
      "cell_type": "code",
      "metadata": {
        "id": "zxMqOjkGlkrj",
        "colab": {
          "base_uri": "https://localhost:8080/",
          "height": 34
        },
        "outputId": "140a8c8a-23a2-40f4-b4a2-ef6fa547590b"
      },
      "source": [
        "# Predicting the Test Set\n",
        "names = [\"Open\", \"High\", \"Low\"]\n",
        "price = [22683.35, 22757.30, 22370.55]\n",
        "\n",
        "test = pd.DataFrame(data = [price], columns = names)\n",
        "rfn.predict(test) # Close Price"
      ],
      "execution_count": null,
      "outputs": [
        {
          "output_type": "execute_result",
          "data": {
            "text/plain": [
              "array([22660.7649025])"
            ]
          },
          "metadata": {
            "tags": []
          },
          "execution_count": 160
        }
      ]
    },
    {
      "cell_type": "code",
      "metadata": {
        "id": "Ou4Whb28mdIr",
        "colab": {
          "base_uri": "https://localhost:8080/",
          "height": 51
        },
        "outputId": "e7fad477-fa63-48cb-d1f4-c21ea2cbe3d9"
      },
      "source": [
        "z_nifty = (22330 - nifty.High.mean())/nifty.High.std()\n",
        "print(z_nifty)\n",
        "print(\"The Prob is: \", 1 - stats.norm.cdf(z_nifty))"
      ],
      "execution_count": null,
      "outputs": [
        {
          "output_type": "stream",
          "text": [
            "0.8509175756700955\n",
            "The Prob is:  0.19740757043484758\n"
          ],
          "name": "stdout"
        }
      ]
    },
    {
      "cell_type": "code",
      "metadata": {
        "id": "IULEFBEidXTs",
        "colab": {
          "base_uri": "https://localhost:8080/",
          "height": 204
        },
        "outputId": "1bf625cd-42db-4659-af05-a80781c387cc"
      },
      "source": [
        "# Preview of SBI\n",
        "\n",
        "# Tick by Tick Data \n",
        "# Candlestick Data\n",
        "# Volumes, Price, High & Low \n",
        "# Is Volume Live - yes, it is available...on an hourly basis\n",
        "# Deviation from Moving Avg - 2x of Moving Avg (40 Hours)\n",
        "# \n",
        "\n",
        "sbi.tail()"
      ],
      "execution_count": null,
      "outputs": [
        {
          "output_type": "execute_result",
          "data": {
            "text/html": [
              "<div>\n",
              "<style scoped>\n",
              "    .dataframe tbody tr th:only-of-type {\n",
              "        vertical-align: middle;\n",
              "    }\n",
              "\n",
              "    .dataframe tbody tr th {\n",
              "        vertical-align: top;\n",
              "    }\n",
              "\n",
              "    .dataframe thead th {\n",
              "        text-align: right;\n",
              "    }\n",
              "</style>\n",
              "<table border=\"1\" class=\"dataframe\">\n",
              "  <thead>\n",
              "    <tr style=\"text-align: right;\">\n",
              "      <th></th>\n",
              "      <th>Date</th>\n",
              "      <th>Open</th>\n",
              "      <th>High</th>\n",
              "      <th>Low</th>\n",
              "      <th>Close</th>\n",
              "      <th>Adj Close</th>\n",
              "      <th>Volume</th>\n",
              "    </tr>\n",
              "  </thead>\n",
              "  <tbody>\n",
              "    <tr>\n",
              "      <th>6096</th>\n",
              "      <td>07/09/20</td>\n",
              "      <td>207.500000</td>\n",
              "      <td>209.649994</td>\n",
              "      <td>205.399994</td>\n",
              "      <td>207.899994</td>\n",
              "      <td>207.899994</td>\n",
              "      <td>35687359</td>\n",
              "    </tr>\n",
              "    <tr>\n",
              "      <th>6097</th>\n",
              "      <td>08/09/20</td>\n",
              "      <td>207.899994</td>\n",
              "      <td>208.500000</td>\n",
              "      <td>202.899994</td>\n",
              "      <td>204.050003</td>\n",
              "      <td>204.050003</td>\n",
              "      <td>34146789</td>\n",
              "    </tr>\n",
              "    <tr>\n",
              "      <th>6098</th>\n",
              "      <td>09/09/20</td>\n",
              "      <td>201.100006</td>\n",
              "      <td>201.399994</td>\n",
              "      <td>192.500000</td>\n",
              "      <td>194.850006</td>\n",
              "      <td>194.850006</td>\n",
              "      <td>72715826</td>\n",
              "    </tr>\n",
              "    <tr>\n",
              "      <th>6099</th>\n",
              "      <td>10/09/20</td>\n",
              "      <td>197.699997</td>\n",
              "      <td>201.449997</td>\n",
              "      <td>195.199997</td>\n",
              "      <td>198.149994</td>\n",
              "      <td>198.149994</td>\n",
              "      <td>67789617</td>\n",
              "    </tr>\n",
              "    <tr>\n",
              "      <th>6100</th>\n",
              "      <td>11/09/20</td>\n",
              "      <td>198.550003</td>\n",
              "      <td>203.850006</td>\n",
              "      <td>197.000000</td>\n",
              "      <td>202.699997</td>\n",
              "      <td>202.699997</td>\n",
              "      <td>48487971</td>\n",
              "    </tr>\n",
              "  </tbody>\n",
              "</table>\n",
              "</div>"
            ],
            "text/plain": [
              "          Date        Open        High  ...       Close   Adj Close    Volume\n",
              "6096  07/09/20  207.500000  209.649994  ...  207.899994  207.899994  35687359\n",
              "6097  08/09/20  207.899994  208.500000  ...  204.050003  204.050003  34146789\n",
              "6098  09/09/20  201.100006  201.399994  ...  194.850006  194.850006  72715826\n",
              "6099  10/09/20  197.699997  201.449997  ...  198.149994  198.149994  67789617\n",
              "6100  11/09/20  198.550003  203.850006  ...  202.699997  202.699997  48487971\n",
              "\n",
              "[5 rows x 7 columns]"
            ]
          },
          "metadata": {
            "tags": []
          },
          "execution_count": 4
        }
      ]
    },
    {
      "cell_type": "code",
      "metadata": {
        "id": "qYCvIhIkdgzq",
        "colab": {
          "base_uri": "https://localhost:8080/",
          "height": 282
        },
        "outputId": "423e89d1-9bfc-47ae-de48-6e6bdaa4a85a"
      },
      "source": [
        "plt.plot(sbi.Open)\n",
        "plt.plot(sbi.Close)"
      ],
      "execution_count": null,
      "outputs": [
        {
          "output_type": "execute_result",
          "data": {
            "text/plain": [
              "[<matplotlib.lines.Line2D at 0x7f39f024c550>]"
            ]
          },
          "metadata": {
            "tags": []
          },
          "execution_count": 173
        },
        {
          "output_type": "display_data",
          "data": {
            "image/png": "[encoded data removed]",
            "text/plain": [
              "<Figure size 432x288 with 1 Axes>"
            ]
          },
          "metadata": {
            "tags": [],
            "needs_background": "light"
          }
        }
      ]
    },
    {
      "cell_type": "code",
      "metadata": {
        "id": "HjcBvJA4cX8C"
      },
      "source": [
        "# Split the Data in Train and Test\n",
        "from sklearn.model_selection import train_test_split\n",
        "x = sbi.drop([\"Date\", \"Close\", \"Adj Close\", \"Volume\"], axis = 1)\n",
        "tgt= sbi.Close\n",
        "\n",
        "xtrain, xtest, ytrain, ytest = train_test_split(x, tgt, test_size = 0.10, random_state = 0)"
      ],
      "execution_count": null,
      "outputs": []
    },
    {
      "cell_type": "code",
      "metadata": {
        "id": "PD41iWG7cTUI",
        "colab": {
          "base_uri": "https://localhost:8080/",
          "height": 51
        },
        "outputId": "b55487c9-3ef6-4cfa-fb3a-e02c2a3853c7"
      },
      "source": [
        "rfsbi = RandomForestRegressor()\n",
        "pred = rfsbi.fit(xtrain,ytrain).predict(xtest) # training & testing\n",
        "print(\"R2Score: \", r2_score(ytest, pred))\n",
        "print(\"RMSE: \", rmse(ytest, pred))\n",
        "\n",
        "# S.Rate is > 60% & Avg Win is 2*Avg Loss : Metric of ML.\n"
      ],
      "execution_count": null,
      "outputs": [
        {
          "output_type": "stream",
          "text": [
            "R2Score:  0.9997411121305015\n",
            "RMSE:  1.669874171061494\n"
          ],
          "name": "stdout"
        }
      ]
    },
    {
      "cell_type": "code",
      "metadata": {
        "id": "wnrChBHRcsET",
        "colab": {
          "base_uri": "https://localhost:8080/",
          "height": 34
        },
        "outputId": "3dbd090f-1359-462b-f950-f024f99c0d6c"
      },
      "source": [
        "# Predicting the Test Set\n",
        "names = [\"Open\", \"High\", \"Low\"]\n",
        "price = [199.85, 200.05, 192]\n",
        "\n",
        "test = pd.DataFrame(data = [price], columns = names)\n",
        "rfsbi.predict(test) # Close Price: 199 | 198.65"
      ],
      "execution_count": null,
      "outputs": [
        {
          "output_type": "execute_result",
          "data": {
            "text/plain": [
              "array([194.92651132])"
            ]
          },
          "metadata": {
            "tags": []
          },
          "execution_count": 17
        }
      ]
    },
    {
      "cell_type": "code",
      "metadata": {
        "id": "ZkrVnVMG-x3s",
        "colab": {
          "base_uri": "https://localhost:8080/",
          "height": 170
        },
        "outputId": "4512c56f-0754-411d-e2be-4f2630bed3f6"
      },
      "source": [
        "sbi.Close.describe()"
      ],
      "execution_count": null,
      "outputs": [
        {
          "output_type": "execute_result",
          "data": {
            "text/plain": [
              "count    6101.000000\n",
              "mean      141.256497\n",
              "std       105.745924\n",
              "min        13.346100\n",
              "25%        26.692200\n",
              "50%       143.962006\n",
              "75%       236.639999\n",
              "max       372.399994\n",
              "Name: Close, dtype: float64"
            ]
          },
          "metadata": {
            "tags": []
          },
          "execution_count": 7
        }
      ]
    },
    {
      "cell_type": "code",
      "metadata": {
        "id": "RYN1ZR4A_5Ct",
        "colab": {
          "base_uri": "https://localhost:8080/",
          "height": 51
        },
        "outputId": "1d5c1025-5893-4e00-c80e-2f00787892bf"
      },
      "source": [
        "# Covariance between Nifty CLose and SBI Close\n",
        "np.cov(nifty.tail(2900)[\"Close\"], sbi.tail(2900)[\"Close\"])"
      ],
      "execution_count": null,
      "outputs": [
        {
          "output_type": "execute_result",
          "data": {
            "text/plain": [
              "array([[6.05619123e+07, 2.19399931e+05],\n",
              "       [2.19399931e+05, 2.90725458e+03]])"
            ]
          },
          "metadata": {
            "tags": []
          },
          "execution_count": 216
        }
      ]
    },
    {
      "cell_type": "code",
      "metadata": {
        "id": "DsHWQw83ebty",
        "colab": {
          "base_uri": "https://localhost:8080/",
          "height": 51
        },
        "outputId": "7acb09f5-84dc-413c-fe3b-9cb191112aea"
      },
      "source": [
        "# Prob of SBI Price going above 206.20\n",
        "zsc_sbi = (206.20 - sbi.Close.mean())/sbi.Close.std()\n",
        "print(zsc_sbi)\n",
        "print(\"The Prob is: \", 1 - stats.norm.cdf(zsc_sbi))"
      ],
      "execution_count": null,
      "outputs": [
        {
          "output_type": "stream",
          "text": [
            "0.6141466264361388\n",
            "The Prob is:  0.2695592196965809\n"
          ],
          "name": "stdout"
        }
      ]
    },
    {
      "cell_type": "code",
      "metadata": {
        "id": "Ubxl5IxYgLs4",
        "colab": {
          "base_uri": "https://localhost:8080/",
          "height": 34
        },
        "outputId": "fcb1bd01-4a56-423a-8692-a79a83bb6644"
      },
      "source": [
        "zsc_sbi1 = (206.20 - sbi.High.mean())/sbi.High.std()\n",
        "print(\"The Prob is: \", stats.norm.cdf(zsc_sbi1) - stats.norm.cdf(zsc_sbi))"
      ],
      "execution_count": null,
      "outputs": [
        {
          "output_type": "stream",
          "text": [
            "The Prob is:  0.1480995391628125\n"
          ],
          "name": "stdout"
        }
      ]
    },
    {
      "cell_type": "code",
      "metadata": {
        "id": "EAa4UEgn4UXg",
        "colab": {
          "base_uri": "https://localhost:8080/",
          "height": 51
        },
        "outputId": "026c641c-9851-4094-c697-29ebccaae1e5"
      },
      "source": [
        "# Low \n",
        "zsc_sbi = (200 - sbi.Low.mean())/sbi.Low.std()\n",
        "print(zsc_sbi)\n",
        "print(\"The Prob is: \", 1 - stats.norm.cdf(zsc_sbi))"
      ],
      "execution_count": null,
      "outputs": [
        {
          "output_type": "stream",
          "text": [
            "0.5823334944015618\n",
            "The Prob is:  0.2801710343037056\n"
          ],
          "name": "stdout"
        }
      ]
    },
    {
      "cell_type": "code",
      "metadata": {
        "id": "msmFPuR4dk8f"
      },
      "source": [
        "daawat = pd.read_csv(\"/gdrive/My Drive/Colab Notebooks/Daawat.csv\")"
      ],
      "execution_count": null,
      "outputs": []
    },
    {
      "cell_type": "code",
      "metadata": {
        "id": "_apxrgJ2iZo5",
        "colab": {
          "base_uri": "https://localhost:8080/",
          "height": 204
        },
        "outputId": "29901e61-06bb-40de-9f60-d587e979820f"
      },
      "source": [
        "daawat.head()"
      ],
      "execution_count": null,
      "outputs": [
        {
          "output_type": "execute_result",
          "data": {
            "text/html": [
              "<div>\n",
              "<style scoped>\n",
              "    .dataframe tbody tr th:only-of-type {\n",
              "        vertical-align: middle;\n",
              "    }\n",
              "\n",
              "    .dataframe tbody tr th {\n",
              "        vertical-align: top;\n",
              "    }\n",
              "\n",
              "    .dataframe thead th {\n",
              "        text-align: right;\n",
              "    }\n",
              "</style>\n",
              "<table border=\"1\" class=\"dataframe\">\n",
              "  <thead>\n",
              "    <tr style=\"text-align: right;\">\n",
              "      <th></th>\n",
              "      <th>Date</th>\n",
              "      <th>Open</th>\n",
              "      <th>High</th>\n",
              "      <th>Low</th>\n",
              "      <th>Close</th>\n",
              "      <th>Adj Close</th>\n",
              "      <th>Volume</th>\n",
              "    </tr>\n",
              "  </thead>\n",
              "  <tbody>\n",
              "    <tr>\n",
              "      <th>0</th>\n",
              "      <td>2006-12-19</td>\n",
              "      <td>5.300</td>\n",
              "      <td>5.785</td>\n",
              "      <td>5.015</td>\n",
              "      <td>5.390</td>\n",
              "      <td>0.599912</td>\n",
              "      <td>63443000.0</td>\n",
              "    </tr>\n",
              "    <tr>\n",
              "      <th>1</th>\n",
              "      <td>2006-12-20</td>\n",
              "      <td>5.365</td>\n",
              "      <td>5.530</td>\n",
              "      <td>5.175</td>\n",
              "      <td>5.205</td>\n",
              "      <td>0.579321</td>\n",
              "      <td>12663000.0</td>\n",
              "    </tr>\n",
              "    <tr>\n",
              "      <th>2</th>\n",
              "      <td>2006-12-21</td>\n",
              "      <td>5.225</td>\n",
              "      <td>5.255</td>\n",
              "      <td>5.000</td>\n",
              "      <td>5.030</td>\n",
              "      <td>0.559844</td>\n",
              "      <td>5408000.0</td>\n",
              "    </tr>\n",
              "    <tr>\n",
              "      <th>3</th>\n",
              "      <td>2006-12-22</td>\n",
              "      <td>5.075</td>\n",
              "      <td>5.090</td>\n",
              "      <td>4.830</td>\n",
              "      <td>4.885</td>\n",
              "      <td>0.543705</td>\n",
              "      <td>3637000.0</td>\n",
              "    </tr>\n",
              "    <tr>\n",
              "      <th>4</th>\n",
              "      <td>2006-12-26</td>\n",
              "      <td>4.800</td>\n",
              "      <td>4.955</td>\n",
              "      <td>4.590</td>\n",
              "      <td>4.645</td>\n",
              "      <td>0.516993</td>\n",
              "      <td>5168000.0</td>\n",
              "    </tr>\n",
              "  </tbody>\n",
              "</table>\n",
              "</div>"
            ],
            "text/plain": [
              "         Date   Open   High    Low  Close  Adj Close      Volume\n",
              "0  2006-12-19  5.300  5.785  5.015  5.390   0.599912  63443000.0\n",
              "1  2006-12-20  5.365  5.530  5.175  5.205   0.579321  12663000.0\n",
              "2  2006-12-21  5.225  5.255  5.000  5.030   0.559844   5408000.0\n",
              "3  2006-12-22  5.075  5.090  4.830  4.885   0.543705   3637000.0\n",
              "4  2006-12-26  4.800  4.955  4.590  4.645   0.516993   5168000.0"
            ]
          },
          "metadata": {
            "tags": []
          },
          "execution_count": 19
        }
      ]
    },
    {
      "cell_type": "code",
      "metadata": {
        "id": "HBLzyPI9ibMQ"
      },
      "source": [
        "daawat = daawat.dropna()"
      ],
      "execution_count": null,
      "outputs": []
    },
    {
      "cell_type": "code",
      "metadata": {
        "id": "s5M5NpJe7mi3",
        "colab": {
          "base_uri": "https://localhost:8080/",
          "height": 282
        },
        "outputId": "e83ab923-284f-437e-8546-6b73eb4fdb15"
      },
      "source": [
        "plt.plot(daawat.Open)\n",
        "plt.plot(daawat.Close)"
      ],
      "execution_count": null,
      "outputs": [
        {
          "output_type": "execute_result",
          "data": {
            "text/plain": [
              "[<matplotlib.lines.Line2D at 0x7f3a000fdc88>]"
            ]
          },
          "metadata": {
            "tags": []
          },
          "execution_count": 10
        },
        {
          "output_type": "display_data",
          "data": {
            "image/png": "[encoded data removed]",
            "text/plain": [
              "<Figure size 432x288 with 1 Axes>"
            ]
          },
          "metadata": {
            "tags": [],
            "needs_background": "light"
          }
        }
      ]
    },
    {
      "cell_type": "code",
      "metadata": {
        "id": "TMH3hzI1ieSm"
      },
      "source": [
        "# Train & test\n",
        "from sklearn.model_selection import train_test_split\n",
        "newx = daawat.drop([\"Date\", \"Close\", \"Adj Close\", \"Volume\"], axis = 1)\n",
        "tgt= daawat.Close\n",
        "\n",
        "xtrain, xtest, ytrain, ytest = train_test_split(newx, tgt, test_size = 0.10, random_state = 0)"
      ],
      "execution_count": null,
      "outputs": []
    },
    {
      "cell_type": "code",
      "metadata": {
        "id": "fE3YySBtixkF"
      },
      "source": [
        "from sklearn.ensemble import RandomForestRegressor\n",
        "rfdaawat = RandomForestRegressor()\n",
        "pred = rfdaawat.fit(xtrain,ytrain).predict(xtest)"
      ],
      "execution_count": null,
      "outputs": []
    },
    {
      "cell_type": "code",
      "metadata": {
        "id": "rcKOh9s2jFy_",
        "colab": {
          "base_uri": "https://localhost:8080/",
          "height": 51
        },
        "outputId": "f19b0820-d12e-4923-9f8c-81c711fd0786"
      },
      "source": [
        "from sklearn.metrics import r2_score\n",
        "from statsmodels.tools.eval_measures import rmse\n",
        "print(\"R2Score: \", r2_score(ytest, pred))\n",
        "print(\"RMSE: \", rmse(ytest, pred))"
      ],
      "execution_count": null,
      "outputs": [
        {
          "output_type": "stream",
          "text": [
            "R2Score:  0.9997176772734467\n",
            "RMSE:  0.4000622027333959\n"
          ],
          "name": "stdout"
        }
      ]
    },
    {
      "cell_type": "code",
      "metadata": {
        "id": "kFH_FZtKjKHl"
      },
      "source": [
        "trial = pd.read_csv(\"/gdrive/My Drive/Colab Notebooks/trial3.csv\")"
      ],
      "execution_count": null,
      "outputs": []
    },
    {
      "cell_type": "code",
      "metadata": {
        "id": "SOBcgSc6kCVH",
        "colab": {
          "base_uri": "https://localhost:8080/",
          "height": 208
        },
        "outputId": "b6cb16fa-4f49-4eed-fc65-80ce823e77e4"
      },
      "source": [
        "trial"
      ],
      "execution_count": null,
      "outputs": [
        {
          "output_type": "execute_result",
          "data": {
            "text/html": [
              "<div>\n",
              "<style scoped>\n",
              "    .dataframe tbody tr th:only-of-type {\n",
              "        vertical-align: middle;\n",
              "    }\n",
              "\n",
              "    .dataframe tbody tr th {\n",
              "        vertical-align: top;\n",
              "    }\n",
              "\n",
              "    .dataframe thead th {\n",
              "        text-align: right;\n",
              "    }\n",
              "</style>\n",
              "<table border=\"1\" class=\"dataframe\">\n",
              "  <thead>\n",
              "    <tr style=\"text-align: right;\">\n",
              "      <th></th>\n",
              "      <th>Open</th>\n",
              "      <th>High</th>\n",
              "      <th>Low</th>\n",
              "      <th>Close</th>\n",
              "    </tr>\n",
              "  </thead>\n",
              "  <tbody>\n",
              "    <tr>\n",
              "      <th>0</th>\n",
              "      <td>56.20</td>\n",
              "      <td>57.80</td>\n",
              "      <td>54.00</td>\n",
              "      <td>57.20</td>\n",
              "    </tr>\n",
              "    <tr>\n",
              "      <th>1</th>\n",
              "      <td>56.70</td>\n",
              "      <td>56.80</td>\n",
              "      <td>55.70</td>\n",
              "      <td>56.25</td>\n",
              "    </tr>\n",
              "    <tr>\n",
              "      <th>2</th>\n",
              "      <td>35.95</td>\n",
              "      <td>37.00</td>\n",
              "      <td>34.25</td>\n",
              "      <td>34.70</td>\n",
              "    </tr>\n",
              "    <tr>\n",
              "      <th>3</th>\n",
              "      <td>21.00</td>\n",
              "      <td>21.45</td>\n",
              "      <td>20.70</td>\n",
              "      <td>21.05</td>\n",
              "    </tr>\n",
              "    <tr>\n",
              "      <th>4</th>\n",
              "      <td>28.50</td>\n",
              "      <td>29.10</td>\n",
              "      <td>28.35</td>\n",
              "      <td>28.55</td>\n",
              "    </tr>\n",
              "  </tbody>\n",
              "</table>\n",
              "</div>"
            ],
            "text/plain": [
              "    Open   High    Low  Close\n",
              "0  56.20  57.80  54.00  57.20\n",
              "1  56.70  56.80  55.70  56.25\n",
              "2  35.95  37.00  34.25  34.70\n",
              "3  21.00  21.45  20.70  21.05\n",
              "4  28.50  29.10  28.35  28.55"
            ]
          },
          "metadata": {
            "tags": []
          },
          "execution_count": 101
        }
      ]
    },
    {
      "cell_type": "code",
      "metadata": {
        "id": "xi_5fnpSj7Ns",
        "colab": {
          "base_uri": "https://localhost:8080/",
          "height": 35
        },
        "outputId": "631af577-01c1-413e-8cba-55fcb39692a0"
      },
      "source": [
        "# Predicted\n",
        "rf2.predict(trial.drop(\"Close\",axis = 1))"
      ],
      "execution_count": null,
      "outputs": [
        {
          "output_type": "execute_result",
          "data": {
            "text/plain": [
              "array([56.99050064, 55.65100018, 34.89025112, 21.09249935, 28.53004942])"
            ]
          },
          "metadata": {
            "tags": []
          },
          "execution_count": 99
        }
      ]
    },
    {
      "cell_type": "code",
      "metadata": {
        "id": "XArFAxuQj979",
        "colab": {
          "base_uri": "https://localhost:8080/",
          "height": 34
        },
        "outputId": "b4df60a1-59a0-48e0-f241-599d6dcf8b90"
      },
      "source": [
        "names = [\"Open\", \"High\", \"Low\"]\n",
        "price = [53.55, 55.20, 53.30]\n",
        "\n",
        "test = pd.DataFrame(data = [price], columns = names)\n",
        "rfdaawat.predict(test) # Close Price: 52.37"
      ],
      "execution_count": null,
      "outputs": [
        {
          "output_type": "execute_result",
          "data": {
            "text/plain": [
              "array([53.73549964])"
            ]
          },
          "metadata": {
            "tags": []
          },
          "execution_count": 27
        }
      ]
    },
    {
      "cell_type": "code",
      "metadata": {
        "id": "L9ngBgYW9bNh",
        "colab": {
          "base_uri": "https://localhost:8080/",
          "height": 51
        },
        "outputId": "418096b3-83e0-45c0-e629-6de8a005e2fc"
      },
      "source": [
        "print(\"Mean: \", daawat.High.mean())\n",
        "print(\"SD: \", daawat.High.std())"
      ],
      "execution_count": null,
      "outputs": [
        {
          "output_type": "stream",
          "text": [
            "Mean:  20.581711727137765\n",
            "SD:  22.97103317749702\n"
          ],
          "name": "stdout"
        }
      ]
    },
    {
      "cell_type": "code",
      "metadata": {
        "id": "QL0D-BdoAd12"
      },
      "source": [
        "# What is the probability that price would be in range of 53 to 55\n",
        "zscore1 = (51.28 - daawat.High.mean())/daawat.High.std()\n",
        "zscore2 = (54.70 - daawat.High.mean())/daawat.High.std()"
      ],
      "execution_count": null,
      "outputs": []
    },
    {
      "cell_type": "code",
      "metadata": {
        "id": "B7xotqEeBdRN",
        "colab": {
          "base_uri": "https://localhost:8080/",
          "height": 34
        },
        "outputId": "b0148163-daf5-499c-89bb-f8965c3c033f"
      },
      "source": [
        "100*(1-stats.norm.cdf(zscore2))"
      ],
      "execution_count": null,
      "outputs": [
        {
          "output_type": "execute_result",
          "data": {
            "text/plain": [
              "6.8735570874213"
            ]
          },
          "metadata": {
            "tags": []
          },
          "execution_count": 116
        }
      ]
    },
    {
      "cell_type": "code",
      "metadata": {
        "id": "Ufa-OZ_tA-TF",
        "colab": {
          "base_uri": "https://localhost:8080/",
          "height": 34
        },
        "outputId": "ab5c7cae-775b-448c-ff65-f41e1e422023"
      },
      "source": [
        "1-  stats.norm.cdf(zscore2) # This shows the probability of z score = 1.49"
      ],
      "execution_count": null,
      "outputs": [
        {
          "output_type": "execute_result",
          "data": {
            "text/plain": [
              "0.07654791038301256"
            ]
          },
          "metadata": {
            "tags": []
          },
          "execution_count": 63
        }
      ]
    },
    {
      "cell_type": "code",
      "metadata": {
        "id": "Tv-x_2rPAwc8",
        "colab": {
          "base_uri": "https://localhost:8080/",
          "height": 34
        },
        "outputId": "1dd141c7-f3cf-4943-8117-65967bce90f3"
      },
      "source": [
        "(stats.norm.cdf(zscore2) - stats.norm.cdf(zscore1))"
      ],
      "execution_count": null,
      "outputs": [
        {
          "output_type": "execute_result",
          "data": {
            "text/plain": [
              "0.014162798240189622"
            ]
          },
          "metadata": {
            "tags": []
          },
          "execution_count": 62
        }
      ]
    },
    {
      "cell_type": "code",
      "metadata": {
        "id": "3yVkNQ6L_JDx",
        "colab": {
          "base_uri": "https://localhost:8080/",
          "height": 282
        },
        "outputId": "7b3c09d5-cd66-4cf6-9d73-935e2305ee3d"
      },
      "source": [
        "daawat.High.plot(kind = \"box\")"
      ],
      "execution_count": null,
      "outputs": [
        {
          "output_type": "execute_result",
          "data": {
            "text/plain": [
              "<matplotlib.axes._subplots.AxesSubplot at 0x7f39f04c5ba8>"
            ]
          },
          "metadata": {
            "tags": []
          },
          "execution_count": 37
        },
        {
          "output_type": "display_data",
          "data": {
            "image/png": "[encoded data removed]",
            "text/plain": [
              "<Figure size 432x288 with 1 Axes>"
            ]
          },
          "metadata": {
            "tags": [],
            "needs_background": "light"
          }
        }
      ]
    },
    {
      "cell_type": "code",
      "metadata": {
        "id": "BgS03xfZ_w5L",
        "colab": {
          "base_uri": "https://localhost:8080/",
          "height": 296
        },
        "outputId": "a49d7657-9b5f-42e6-d85c-14457980bdde"
      },
      "source": [
        "sns.distplot(daawat.High)"
      ],
      "execution_count": null,
      "outputs": [
        {
          "output_type": "execute_result",
          "data": {
            "text/plain": [
              "<matplotlib.axes._subplots.AxesSubplot at 0x7f39f06f3550>"
            ]
          },
          "metadata": {
            "tags": []
          },
          "execution_count": 35
        },
        {
          "output_type": "display_data",
          "data": {
            "image/png": "[encoded data removed]",
            "text/plain": [
              "<Figure size 432x288 with 1 Axes>"
            ]
          },
          "metadata": {
            "tags": [],
            "needs_background": "light"
          }
        }
      ]
    },
    {
      "cell_type": "code",
      "metadata": {
        "id": "_pO2tJU47as_",
        "colab": {
          "base_uri": "https://localhost:8080/",
          "height": 310
        },
        "outputId": "bb8883ab-9487-40aa-b750-ff718a7b0245"
      },
      "source": [
        "pip install nsetools"
      ],
      "execution_count": null,
      "outputs": [
        {
          "output_type": "stream",
          "text": [
            "Collecting nsetools\n",
            "  Downloading https://files.pythonhosted.org/packages/f5/b3/6aac4226a927d5f23f154c06de7c100361e9fa07e932cd76aaa8c45a2af4/nsetools-1.0.11-py3-none-any.whl\n",
            "Requirement already satisfied: six in /usr/local/lib/python3.6/dist-packages (from nsetools) (1.15.0)\n",
            "Collecting dateutils\n",
            "  Downloading https://files.pythonhosted.org/packages/5e/bf/e68c863e72fbf19c84841cdc0d2719ce1741c2ae004f133af9cb3fba3adc/dateutils-0.6.11-py2.py3-none-any.whl\n",
            "Requirement already satisfied: python-dateutil in /usr/local/lib/python3.6/dist-packages (from dateutils->nsetools) (2.8.1)\n",
            "Requirement already satisfied: pytz in /usr/local/lib/python3.6/dist-packages (from dateutils->nsetools) (2018.9)\n",
            "Collecting argparse\n",
            "  Downloading https://files.pythonhosted.org/packages/f2/94/3af39d34be01a24a6e65433d19e107099374224905f1e0cc6bbe1fd22a2f/argparse-1.4.0-py2.py3-none-any.whl\n",
            "Installing collected packages: argparse, dateutils, nsetools\n",
            "Successfully installed argparse-1.4.0 dateutils-0.6.11 nsetools-1.0.11\n"
          ],
          "name": "stdout"
        },
        {
          "output_type": "display_data",
          "data": {
            "application/vnd.colab-display-data+json": {
              "pip_warning": {
                "packages": [
                  "argparse"
                ]
              }
            }
          },
          "metadata": {
            "tags": []
          }
        }
      ]
    },
    {
      "cell_type": "code",
      "metadata": {
        "id": "Dab7-RzM7iek"
      },
      "source": [
        "import nsetools as nse"
      ],
      "execution_count": null,
      "outputs": []
    },
    {
      "cell_type": "code",
      "metadata": {
        "id": "RtsAGgIVuche"
      },
      "source": [
        "import requests\n",
        "from bs4 import BeautifulSoup"
      ],
      "execution_count": null,
      "outputs": []
    },
    {
      "cell_type": "code",
      "metadata": {
        "id": "ny5kLg-Y0T6O",
        "colab": {
          "base_uri": "https://localhost:8080/",
          "height": 34
        },
        "outputId": "7e3e9bea-66b9-42a2-e63d-7dc9bb65bc42"
      },
      "source": [
        "stockcode = \"DAAWAT\"\n",
        "print(stockcode)"
      ],
      "execution_count": null,
      "outputs": [
        {
          "output_type": "stream",
          "text": [
            "DAAWAT\n"
          ],
          "name": "stdout"
        }
      ]
    },
    {
      "cell_type": "code",
      "metadata": {
        "id": "SwQTAsWl0pIQ"
      },
      "source": [
        "https://in.finance.yahoo.com/quote/DAAWAT.NS?p=DAAWAT.NS"
      ],
      "execution_count": null,
      "outputs": []
    },
    {
      "cell_type": "code",
      "metadata": {
        "id": "2jyepStM0cBo",
        "colab": {
          "base_uri": "https://localhost:8080/",
          "height": 51
        },
        "outputId": "0fa53a52-293c-4fac-c529-6800ad4bdd2c"
      },
      "source": [
        "stock_url  = 'https://in.finance.yahoo.com/quote/'+stockcode+'.NS?p='+stockcode+'.NS'\n",
        "print(stock_url)\n",
        "#headers = {'user-agent':'Mozilla/5.0 (Windows NT 10.0; Win64; x64) AppleWebKit/537.36 (KHTML, like Gecko) Chrome/79.0.3945.117 Safari/537.36'}\n",
        "response = requests.get(stock_url)\n",
        "print(response)"
      ],
      "execution_count": null,
      "outputs": [
        {
          "output_type": "stream",
          "text": [
            "https://in.finance.yahoo.com/quote/DAAWAT.NS?p=DAAWAT.NS\n",
            "<Response [200]>\n"
          ],
          "name": "stdout"
        }
      ]
    },
    {
      "cell_type": "code",
      "metadata": {
        "id": "0qk3L_fm09FG"
      },
      "source": [
        "soup = BeautifulSoup(response.text, 'html.parser')"
      ],
      "execution_count": null,
      "outputs": []
    },
    {
      "cell_type": "code",
      "metadata": {
        "id": "L_e37bcd3tLC",
        "colab": {
          "base_uri": "https://localhost:8080/",
          "height": 34
        },
        "outputId": "e437ac93-7308-48f3-c5b1-8998bbee7daf"
      },
      "source": [
        "# Search Span - Data Lies in span\n",
        "float(soup.find_all(\"span\", {\"class\":\"Trsdu(0.3s) Fw(b) Fz(36px) Mb(-4px) D(ib)\"})[0].text)"
      ],
      "execution_count": null,
      "outputs": [
        {
          "output_type": "execute_result",
          "data": {
            "text/plain": [
              "54.75"
            ]
          },
          "metadata": {
            "tags": []
          },
          "execution_count": 36
        }
      ]
    },
    {
      "cell_type": "code",
      "metadata": {
        "id": "EYaMvOuo6W4G",
        "colab": {
          "base_uri": "https://localhost:8080/",
          "height": 34
        },
        "outputId": "001522e8-1283-40a1-c69c-d3b80d5e8eeb"
      },
      "source": [
        "import time\n",
        "time.time()"
      ],
      "execution_count": null,
      "outputs": [
        {
          "output_type": "execute_result",
          "data": {
            "text/plain": [
              "1600243223.8517792"
            ]
          },
          "metadata": {
            "tags": []
          },
          "execution_count": 37
        }
      ]
    },
    {
      "cell_type": "code",
      "metadata": {
        "id": "iWPBc48c7cpo",
        "colab": {
          "base_uri": "https://localhost:8080/",
          "height": 68
        },
        "outputId": "22566beb-07eb-4c2d-a7aa-c5d776275946"
      },
      "source": [
        "# Web Scraping to Pull the Stock Price of Daawat.\n",
        "\n",
        "import requests\n",
        "from bs4 import BeautifulSoup\n",
        "import time\n",
        "\n",
        "stockcode = \"GLOBUSSPR\"\n",
        "print(stockcode)\n",
        "\n",
        "stock_url  = 'https://in.finance.yahoo.com/quote/'+stockcode+'.NS?p='+stockcode+'.NS'\n",
        "print(stock_url)\n",
        "#headers = {'user-agent':'Mozilla/5.0 (Windows NT 10.0; Win64; x64) AppleWebKit/537.36 (KHTML, like Gecko) Chrome/79.0.3945.117 Safari/537.36'}\n",
        "response = requests.get(stock_url)\n",
        "#print(response)\n",
        "\n",
        "soup = BeautifulSoup(response.text, 'html.parser')\n",
        "\n",
        "\n",
        "start_time = time.time()\n",
        "seconds = 30\n",
        "\n",
        "while True:\n",
        "    current_time = time.time()\n",
        "    elapsed_time = current_time - start_time\n",
        "\n",
        "    if elapsed_time > seconds:\n",
        "        stock_url  = 'https://in.finance.yahoo.com/quote/'+stockcode+'.NS?p='+stockcode+'.NS'\n",
        "        response = requests.get(stock_url)\n",
        "        soup = BeautifulSoup(response.text, 'html.parser')\n",
        "        print(soup.find_all(\"span\", {\"class\":\"Trsdu(0.3s) Fw(b) Fz(36px) Mb(-4px) D(ib)\"})[0].text)\n",
        "        break\n"
      ],
      "execution_count": null,
      "outputs": [
        {
          "output_type": "stream",
          "text": [
            "GLOBUSSPR\n",
            "https://in.finance.yahoo.com/quote/GLOBUSSPR.NS?p=GLOBUSSPR.NS\n",
            "280.15\n"
          ],
          "name": "stdout"
        }
      ]
    },
    {
      "cell_type": "code",
      "metadata": {
        "id": "7buAYjgX9LKq"
      },
      "source": [
        ""
      ],
      "execution_count": null,
      "outputs": []
    }
  ]
}