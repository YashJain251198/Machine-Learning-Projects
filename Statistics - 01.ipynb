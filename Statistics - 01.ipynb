{
 "cells": [
  {
   "cell_type": "markdown",
   "metadata": {},
   "source": [
    "# Example of Joint Probability"
   ]
  },
  {
   "cell_type": "code",
   "execution_count": 1,
   "metadata": {},
   "outputs": [],
   "source": [
    "# probability that this employee is a female and College Graduate.\n",
    "# 1. Probability of being a female\n",
    "pfe = 13/40 # favoutcomes/totaloutcomes\n",
    "\n",
    "#2. P(Female | CG)\n",
    "pfe_cg = 4/13"
   ]
  },
  {
   "cell_type": "code",
   "execution_count": 2,
   "metadata": {},
   "outputs": [],
   "source": [
    "# Joint Probability\n",
    "p = pfe * pfe_cg"
   ]
  },
  {
   "cell_type": "code",
   "execution_count": 3,
   "metadata": {},
   "outputs": [
    {
     "name": "stdout",
     "output_type": "stream",
     "text": [
      "0.1\n"
     ]
    }
   ],
   "source": [
    "print(p)"
   ]
  },
  {
   "cell_type": "code",
   "execution_count": 4,
   "metadata": {},
   "outputs": [
    {
     "data": {
      "text/plain": [
       "0.15"
      ]
     },
     "execution_count": 4,
     "metadata": {},
     "output_type": "execute_result"
    }
   ],
   "source": [
    "# Example 1\n",
    "p_senior = 0.20\n",
    "p_senior_scmajor = 0.03\n",
    "# P(cs | senior)\n",
    "p_senior_scmajor/p_senior # Joint Prob/Marginal Prob"
   ]
  },
  {
   "cell_type": "code",
   "execution_count": 5,
   "metadata": {},
   "outputs": [
    {
     "name": "stdout",
     "output_type": "stream",
     "text": [
      "0.0004\n"
     ]
    }
   ],
   "source": [
    "# Example 02\n",
    "# prob of fire alarm not working = 0.02\n",
    "# Find the Prob of Both Alarms not working\n",
    "\n",
    "# Tip - The workin of Fire Alarms is not Related\n",
    "p = 0.02 * 0.02\n",
    "print(p)"
   ]
  },
  {
   "cell_type": "code",
   "execution_count": 6,
   "metadata": {},
   "outputs": [],
   "source": [
    "# Example 3\n",
    "totalc = 100\n",
    "latedelivery = 80\n",
    "poorq = 60\n",
    "e_late_poor = (80+60)-100"
   ]
  },
  {
   "cell_type": "code",
   "execution_count": 11,
   "metadata": {},
   "outputs": [
    {
     "data": {
      "text/plain": [
       "0.4"
      ]
     },
     "execution_count": 11,
     "metadata": {},
     "output_type": "execute_result"
    }
   ],
   "source": [
    "# Joint Prob of Poor Quality and Late Delivery\n",
    "e_late_poor/100"
   ]
  },
  {
   "cell_type": "code",
   "execution_count": 13,
   "metadata": {},
   "outputs": [
    {
     "data": {
      "text/plain": [
       "0.4"
      ]
     },
     "execution_count": 13,
     "metadata": {},
     "output_type": "execute_result"
    }
   ],
   "source": [
    "# Prob of Late Delivery \n",
    "(latedelivery - 40)/100"
   ]
  },
  {
   "cell_type": "code",
   "execution_count": 14,
   "metadata": {},
   "outputs": [],
   "source": [
    "# Addition Rule - P(A Union B) = P(A) +P(B) - P(A and B)\n",
    "p_a = 70/300 # Here a is selecting faculty\n",
    "p_b = 135/300 # Here b is selecting people who favour"
   ]
  },
  {
   "cell_type": "code",
   "execution_count": 15,
   "metadata": {},
   "outputs": [],
   "source": [
    "# P(A and B) = p_a * P(B|A)\n",
    "pfav_faculty = 45/70"
   ]
  },
  {
   "cell_type": "code",
   "execution_count": 20,
   "metadata": {},
   "outputs": [],
   "source": [
    "# Union of Events probability\n",
    "p = (p_a + p_b) - (pfav_faculty *p_a)"
   ]
  },
  {
   "cell_type": "code",
   "execution_count": 21,
   "metadata": {},
   "outputs": [
    {
     "name": "stdout",
     "output_type": "stream",
     "text": [
      "0.5333333333333333\n"
     ]
    }
   ],
   "source": [
    "print(p)"
   ]
  },
  {
   "cell_type": "markdown",
   "metadata": {},
   "source": [
    "### Example\n",
    "\n",
    "The Probability that a patient is allergic to the new drug is 0.20. Suppose the drug is administered to 03 patients\n",
    "\n",
    "1. Find the Probability that all the 03 of them are allergic\n",
    "2. Find the probability that at least one of them is not allergic."
   ]
  },
  {
   "cell_type": "code",
   "execution_count": 22,
   "metadata": {},
   "outputs": [],
   "source": [
    "# 1st Instance \n",
    "p_allallergic = 0.2*0.2*0.2"
   ]
  },
  {
   "cell_type": "code",
   "execution_count": 25,
   "metadata": {},
   "outputs": [
    {
     "data": {
      "text/plain": [
       "0.008"
      ]
     },
     "execution_count": 25,
     "metadata": {},
     "output_type": "execute_result"
    }
   ],
   "source": [
    "round(p_allallergic,4)"
   ]
  },
  {
   "cell_type": "markdown",
   "metadata": {},
   "source": [
    "# Binomial Prob Distribution\n"
   ]
  },
  {
   "cell_type": "code",
   "execution_count": 26,
   "metadata": {},
   "outputs": [],
   "source": [
    "# Libraries that are needed - scipy\n",
    "from scipy.stats import binom\n",
    "import numpy as np\n",
    "import pandas as pd\n",
    "import matplotlib.pyplot as plt"
   ]
  },
  {
   "cell_type": "code",
   "execution_count": 31,
   "metadata": {},
   "outputs": [],
   "source": [
    "# Calc Point Probability of Coin Toss\n",
    "prob = binom.pmf(np.arange(1,51),  n = 50, p = 0.5)"
   ]
  },
  {
   "cell_type": "code",
   "execution_count": 32,
   "metadata": {},
   "outputs": [],
   "source": [
    "import seaborn as sns"
   ]
  },
  {
   "cell_type": "code",
   "execution_count": 40,
   "metadata": {},
   "outputs": [
    {
     "data": {
      "image/png": "[encoded data removed]",
      "text/plain": [
       "<Figure size 432x288 with 1 Axes>"
      ]
     },
     "metadata": {
      "needs_background": "light"
     },
     "output_type": "display_data"
    }
   ],
   "source": [
    "g = sns.barplot(x = np.arange(1,51), y = prob)\n",
    "g.set(xlabel= \"No of Coin Tosses\", ylabel = \"Probabilities\", \n",
    "        title = \"Binomial Distribution - Coin Toss\")\n",
    "plt.tight_layout()"
   ]
  },
  {
   "cell_type": "code",
   "execution_count": 43,
   "metadata": {},
   "outputs": [
    {
     "data": {
      "text/plain": [
       "array([0.01074219, 0.0546875 , 0.171875  , 0.37695313, 0.62304687,\n",
       "       0.828125  , 0.9453125 , 0.98925781, 0.99902344, 1.        ])"
      ]
     },
     "execution_count": 43,
     "metadata": {},
     "output_type": "execute_result"
    }
   ],
   "source": [
    "# Consolidated Probability - Cumulative\n",
    "binom.cdf(np.arange(1,11),  n = 10, p = 0.5)"
   ]
  },
  {
   "cell_type": "code",
   "execution_count": null,
   "metadata": {},
   "outputs": [],
   "source": [
    "# Point Probability\n",
    "binom.pmf(np.arange(1,11),  n = 10, p = 0.5)"
   ]
  },
  {
   "cell_type": "markdown",
   "metadata": {},
   "source": [
    "### Example - Binomial\n",
    "\n",
    "In the Old Days, there was a probability of 0.8 success in any attempt to make a telephone call. (This used to be dependent on the operator and the person being called)\n",
    "\n",
    "Calc the prob. of having 7 successes in 10 attempts"
   ]
  },
  {
   "cell_type": "code",
   "execution_count": 46,
   "metadata": {},
   "outputs": [
    {
     "data": {
      "text/plain": [
       "0.20132659200000014"
      ]
     },
     "execution_count": 46,
     "metadata": {},
     "output_type": "execute_result"
    }
   ],
   "source": [
    "p = 0.8 # prob of success\n",
    "x = 7 # count of success\n",
    "n = 10 # no of trials\n",
    "binom.pmf(x, n, p) # probability"
   ]
  },
  {
   "cell_type": "markdown",
   "metadata": {},
   "source": [
    "### Example Binomial\n",
    "\n",
    "Health records show that of patients sufferin from certain disease, 75 die of it. What is the probability that of 06 randomly selected patients, 4 will recover."
   ]
  },
  {
   "cell_type": "code",
   "execution_count": 47,
   "metadata": {},
   "outputs": [
    {
     "data": {
      "text/plain": [
       "0.032958984375"
      ]
     },
     "execution_count": 47,
     "metadata": {},
     "output_type": "execute_result"
    }
   ],
   "source": [
    "p = 1 - 0.75 #prob of survival\n",
    "x = 4\n",
    "n = 6\n",
    "binom.pmf(x,n,p)"
   ]
  },
  {
   "attachments": {},
   "cell_type": "markdown",
   "metadata": {},
   "source": [
    "### Example Binomial\n",
    "\n",
    "A LED bulb manufacturing company regularly conducts quality checks at specified periods on the products it manufactures. Historically, the failure rate for LED light bulbs that the company manufactures is 5%. Suppose a random sample of 10 LED light bulbs is selected.\n",
    "\n",
    "What is the probability that \n",
    "\n",
    "a) None of the LED bulbs are defective?\n",
    "\n",
    "b) Exactly one of the LED bulbs is defective?\n",
    "\n",
    "c) Two or fewer of the LED bulbs are defective?\n",
    "\n",
    "d) Three or more of the LED bulbs are defective"
   ]
  },
  {
   "cell_type": "code",
   "execution_count": 49,
   "metadata": {},
   "outputs": [
    {
     "name": "stdout",
     "output_type": "stream",
     "text": [
      "The Probaility of None Being Defective is 0.5987\n"
     ]
    }
   ],
   "source": [
    "# Case 1: x = 0, p = 0.05, n = 10\n",
    "print(\"The Probaility of None Being Defective is %1.4f\" %binom.pmf(k = 0, p = 0.05, n = 10))"
   ]
  },
  {
   "cell_type": "code",
   "execution_count": 50,
   "metadata": {},
   "outputs": [
    {
     "name": "stdout",
     "output_type": "stream",
     "text": [
      "The Probaility of One Being Defective is 0.3151\n"
     ]
    }
   ],
   "source": [
    "# Case 2: x = 1, p = 0.05, n = 10\n",
    "print(\"The Probaility of One Being Defective is %1.4f\" %binom.pmf(k = 1, p = 0.05, n = 10))"
   ]
  },
  {
   "cell_type": "code",
   "execution_count": 57,
   "metadata": {},
   "outputs": [
    {
     "data": {
      "text/plain": [
       "0.9885"
      ]
     },
     "execution_count": 57,
     "metadata": {},
     "output_type": "execute_result"
    }
   ],
   "source": [
    "# Case 3: k = 2 p = 0.05, n = 10\n",
    "round(binom.cdf(k = 2, n = 10, p = 0.05),4)\n",
    "round(binom.pmf(np.arange(0,3),n = 10, p = 0.05).sum(),4)"
   ]
  },
  {
   "cell_type": "code",
   "execution_count": 59,
   "metadata": {},
   "outputs": [
    {
     "data": {
      "text/plain": [
       "0.0115"
      ]
     },
     "execution_count": 59,
     "metadata": {},
     "output_type": "execute_result"
    }
   ],
   "source": [
    "# Case 4:Three or more of the LED bulbs are defective\n",
    "round(1-round(binom.cdf(k = 2, n = 10, p = 0.05),4),4)"
   ]
  },
  {
   "cell_type": "code",
   "execution_count": 69,
   "metadata": {},
   "outputs": [],
   "source": [
    "# lets Plot this - xaxis values 0 to 11\n",
    "prob = binom.pmf(np.arange(0,11), n = 10, p = 0.05)"
   ]
  },
  {
   "cell_type": "code",
   "execution_count": 70,
   "metadata": {},
   "outputs": [
    {
     "data": {
      "text/plain": [
       "array([5.98736939e-01, 3.15124705e-01, 7.46347985e-02, 1.04750594e-02,\n",
       "       9.64808106e-04, 6.09352488e-05, 2.67259863e-06, 8.03789063e-08,\n",
       "       1.58642578e-09, 1.85546875e-11, 9.76562500e-14])"
      ]
     },
     "execution_count": 70,
     "metadata": {},
     "output_type": "execute_result"
    }
   ],
   "source": [
    "prob"
   ]
  },
  {
   "cell_type": "code",
   "execution_count": 71,
   "metadata": {},
   "outputs": [
    {
     "data": {
      "image/png": "[encoded data removed]",
      "text/plain": [
       "<Figure size 432x288 with 1 Axes>"
      ]
     },
     "metadata": {
      "needs_background": "light"
     },
     "output_type": "display_data"
    }
   ],
   "source": [
    "plt.plot(np.arange(0,11), prob, \"o-\", color = \"m\", )\n",
    "plt.xlabel(\"Actual Defective LED Bulbs\")\n",
    "plt.ylabel(\"Probability of Defective Bulb\")\n",
    "plt.title(\"Binomial Probability Plot\")\n",
    "plt.show()"
   ]
  },
  {
   "attachments": {},
   "cell_type": "markdown",
   "metadata": {},
   "source": [
    "### Example - Binomial\n",
    "\n",
    "The percentage of orders filled correctly at Wendy's was approximately 86.8%. Suppose that you go to drive-through window at Wendy's and place an order. Two friends of yours independently place orders at the drive-through window at the same Wendy's.\n",
    "\n",
    "What are the probabilities that \n",
    "\n",
    "all three \n",
    "\n",
    "none of the three\n",
    "\n",
    "At Least two of the three orders will be filled correctly?\n",
    "\n",
    "what is the mean and standard deviation of the orders filled correctly?\n"
   ]
  },
  {
   "cell_type": "code",
   "execution_count": 73,
   "metadata": {},
   "outputs": [
    {
     "name": "stdout",
     "output_type": "stream",
     "text": [
      "2.604\n",
      "0.5862832080146932\n"
     ]
    }
   ],
   "source": [
    "# Last Case \n",
    "p = 0.868\n",
    "n = 3\n",
    "print(n * p)\n",
    "sq = np.sqrt(n * p * (1-p))\n",
    "print(sq)"
   ]
  },
  {
   "cell_type": "code",
   "execution_count": null,
   "metadata": {},
   "outputs": [],
   "source": []
  }
 ],
 "metadata": {
  "kernelspec": {
   "display_name": "Python 3",
   "language": "python",
   "name": "python3"
  },
  "language_info": {
   "codemirror_mode": {
    "name": "ipython",
    "version": 3
   },
   "file_extension": ".py",
   "mimetype": "text/x-python",
   "name": "python",
   "nbconvert_exporter": "python",
   "pygments_lexer": "ipython3",
   "version": "3.7.0"
  }
 },
 "nbformat": 4,
 "nbformat_minor": 2
}
