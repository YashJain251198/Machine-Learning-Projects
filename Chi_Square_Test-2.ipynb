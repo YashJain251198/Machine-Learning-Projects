{
  "nbformat": 4,
  "nbformat_minor": 0,
  "metadata": {
    "colab": {
      "name": "Chi Square Test.ipynb",
      "provenance": [],
      "collapsed_sections": []
    },
    "kernelspec": {
      "name": "python3",
      "display_name": "Python 3"
    }
  },
  "cells": [
    {
      "cell_type": "markdown",
      "metadata": {
        "id": "1XJXdblCSpgZ",
        "colab_type": "text"
      },
      "source": [
        "### Problem Statement:\n",
        "\n",
        "We have to find out whether there is any pattern or significant relation between the spending time on the website and Buying done by a customer. The Data has been given below. Find out if the No of Items Purchased are related to the Time Spent on the Website with 99% Certainty\n",
        "\n",
        "\n",
        "### Defining Null Hypothesis\n",
        "H0: There is no relation between the Time Spent on Website and the Purchase by a Buyer/Visitor.\n",
        "\n",
        "### Defining Alternate Hypothesis\n",
        "H0: There is a significant relation between the Time Spent on Website and the Purchase by a Buyer/Visitor.\n",
        "\n",
        "### Choose Alpha\n",
        "Since, the Level of Significance given is 99% and hence alpha (max error = 1- LOS) which is 0.01."
      ]
    },
    {
      "cell_type": "code",
      "metadata": {
        "id": "mrNwG6r4Oqj6",
        "colab_type": "code",
        "colab": {}
      },
      "source": [
        "import numpy as np\n",
        "import pandas as pd\n",
        "import scipy.stats as stats"
      ],
      "execution_count": 0,
      "outputs": []
    },
    {
      "cell_type": "code",
      "metadata": {
        "id": "7BhOsnieOuWB",
        "colab_type": "code",
        "colab": {}
      },
      "source": [
        "time = [\"0 to 10 Mins\", \"10 to 20 Mins\", \"More than 20 Mins\"]\n",
        "data = {\"Zero\":[1000, 1500, 500], \"One\":[900, 2600, 2500], \"Two\":[100, 500, 400]}"
      ],
      "execution_count": 0,
      "outputs": []
    },
    {
      "cell_type": "code",
      "metadata": {
        "id": "7REZUXhiOva_",
        "colab_type": "code",
        "colab": {}
      },
      "source": [
        "obs = pd.DataFrame(data, index = time)"
      ],
      "execution_count": 0,
      "outputs": []
    },
    {
      "cell_type": "code",
      "metadata": {
        "id": "gaU7b9wzNNq-",
        "colab_type": "code",
        "outputId": "46b81e18-f4bc-4622-e81f-3023bb49e715",
        "colab": {
          "base_uri": "https://localhost:8080/",
          "height": 34
        }
      },
      "source": [
        "obs.columns"
      ],
      "execution_count": 0,
      "outputs": [
        {
          "output_type": "execute_result",
          "data": {
            "text/plain": [
              "Index(['Zero', 'One', 'Two'], dtype='object')"
            ]
          },
          "metadata": {
            "tags": []
          },
          "execution_count": 30
        }
      ]
    },
    {
      "cell_type": "code",
      "metadata": {
        "id": "5rdlOMEPNS-9",
        "colab_type": "code",
        "colab": {}
      },
      "source": [
        "tstats,pvalue,df,exp_count = stats.chi2_contingency(observed=obs)"
      ],
      "execution_count": 0,
      "outputs": []
    },
    {
      "cell_type": "code",
      "metadata": {
        "id": "DmXy5jZHNY83",
        "colab_type": "code",
        "outputId": "0e8282f7-7c8d-4362-f642-2375f8638bf6",
        "colab": {
          "base_uri": "https://localhost:8080/",
          "height": 68
        }
      },
      "source": [
        "print(\"Test Statistic:\", tstats)\n",
        "print(\"PValue:\", pvalue)\n",
        "print(\"Degrees of Freedom:\", df)"
      ],
      "execution_count": 0,
      "outputs": [
        {
          "output_type": "stream",
          "text": [
            "Test Statistic: 794.2668371696506\n",
            "PValue: 1.3402208259188017e-170\n",
            "Degrees of Freedom: 4\n"
          ],
          "name": "stdout"
        }
      ]
    },
    {
      "cell_type": "code",
      "metadata": {
        "id": "0C7_e7-zNjWk",
        "colab_type": "code",
        "outputId": "8dd83b91-8155-4b9f-f48f-4ff0b4908f7d",
        "colab": {
          "base_uri": "https://localhost:8080/",
          "height": 142
        }
      },
      "source": [
        "pd.DataFrame(exp_count, columns = obs.columns)"
      ],
      "execution_count": 0,
      "outputs": [
        {
          "output_type": "execute_result",
          "data": {
            "text/html": [
              "<div>\n",
              "<style scoped>\n",
              "    .dataframe tbody tr th:only-of-type {\n",
              "        vertical-align: middle;\n",
              "    }\n",
              "\n",
              "    .dataframe tbody tr th {\n",
              "        vertical-align: top;\n",
              "    }\n",
              "\n",
              "    .dataframe thead th {\n",
              "        text-align: right;\n",
              "    }\n",
              "</style>\n",
              "<table border=\"1\" class=\"dataframe\">\n",
              "  <thead>\n",
              "    <tr style=\"text-align: right;\">\n",
              "      <th></th>\n",
              "      <th>Zero</th>\n",
              "      <th>One</th>\n",
              "      <th>Two</th>\n",
              "    </tr>\n",
              "  </thead>\n",
              "  <tbody>\n",
              "    <tr>\n",
              "      <th>0</th>\n",
              "      <td>600.0</td>\n",
              "      <td>1200.0</td>\n",
              "      <td>200.0</td>\n",
              "    </tr>\n",
              "    <tr>\n",
              "      <th>1</th>\n",
              "      <td>1380.0</td>\n",
              "      <td>2760.0</td>\n",
              "      <td>460.0</td>\n",
              "    </tr>\n",
              "    <tr>\n",
              "      <th>2</th>\n",
              "      <td>1020.0</td>\n",
              "      <td>2040.0</td>\n",
              "      <td>340.0</td>\n",
              "    </tr>\n",
              "  </tbody>\n",
              "</table>\n",
              "</div>"
            ],
            "text/plain": [
              "     Zero     One    Two\n",
              "0   600.0  1200.0  200.0\n",
              "1  1380.0  2760.0  460.0\n",
              "2  1020.0  2040.0  340.0"
            ]
          },
          "metadata": {
            "tags": []
          },
          "execution_count": 33
        }
      ]
    },
    {
      "cell_type": "code",
      "metadata": {
        "id": "Xv0rKG0lN_3g",
        "colab_type": "code",
        "outputId": "532ea61f-a22f-4a03-aa45-de9bb501a278",
        "colab": {
          "base_uri": "https://localhost:8080/",
          "height": 51
        }
      },
      "source": [
        "# Finding Chi Square Critical Value\n",
        "from scipy.stats import chi2\n",
        "prob_value = 0.99\n",
        "df = 4\n",
        "value = chi2.ppf(prob_value, df)\n",
        "print(value)\n",
        "print(chi2.cdf(value, df))"
      ],
      "execution_count": 0,
      "outputs": [
        {
          "output_type": "stream",
          "text": [
            "13.276704135987622\n",
            "0.99\n"
          ],
          "name": "stdout"
        }
      ]
    },
    {
      "cell_type": "code",
      "metadata": {
        "id": "ZU_paAFrOqmF",
        "colab_type": "code",
        "colab": {}
      },
      "source": [
        "# Calculate Inference\n",
        "def inference(crit, tstats):\n",
        "  if(tstats>crit):\n",
        "    return(\"Attributes are NOT Independent\")\n",
        "  else:\n",
        "    return(\"Attributes ARE Independent\")"
      ],
      "execution_count": 0,
      "outputs": []
    },
    {
      "cell_type": "code",
      "metadata": {
        "id": "tiLwHgLeP0S1",
        "colab_type": "code",
        "outputId": "d00f480d-5c01-4c4d-db0f-211fabfb27a2",
        "colab": {
          "base_uri": "https://localhost:8080/",
          "height": 34
        }
      },
      "source": [
        "inference(value, tstats)"
      ],
      "execution_count": 0,
      "outputs": [
        {
          "output_type": "execute_result",
          "data": {
            "text/plain": [
              "'Attributes are NOT Independent'"
            ]
          },
          "metadata": {
            "tags": []
          },
          "execution_count": 29
        }
      ]
    },
    {
      "cell_type": "code",
      "metadata": {
        "id": "9WGwo186P2RV",
        "colab_type": "code",
        "colab": {}
      },
      "source": [
        "def chisquaretest(df):\n",
        "  # Finding Test Statistic\n",
        "  import scipy.stats as stats\n",
        "  tstats, pvalue, df, exp_count = stats.chi2_contingency(observed = df)\n",
        "  print(\"Test Statistics: \", tstats.round(3))\n",
        "  print(\"PValue: \", pvalue)\n",
        "  print(\"Degrees of Freedom: \", df)\n",
        "  print(\"Expected Values: \", exp_count)\n",
        "\n",
        "  # Finding Critical Values\n",
        "  from scipy.stats import chi2\n",
        "  value = chi2.ppf(0.99, df)\n",
        "  print(\"Chi Square Critical Value: \", value)\n",
        "  print(\"The LOS is: \", chi2.cdf(value, df), \"And Alpha is: \",(1-chi2.cdf(value, df)))\n",
        "\n",
        "  # Finding Inference\n",
        "  if(tstats>value):\n",
        "    print(\"Attributes are NOT Independent\")\n",
        "  else:\n",
        "    print(\"Attributes are Independent\")"
      ],
      "execution_count": 0,
      "outputs": []
    },
    {
      "cell_type": "code",
      "metadata": {
        "id": "5Z5TnHVKQohq",
        "colab_type": "code",
        "outputId": "a1a0008d-37af-4d6e-d741-d7f11263013d",
        "colab": {
          "base_uri": "https://localhost:8080/",
          "height": 170
        }
      },
      "source": [
        "chisquaretest(obs)"
      ],
      "execution_count": 0,
      "outputs": [
        {
          "output_type": "stream",
          "text": [
            "Test Statistics:  794.267\n",
            "PValue:  1.3402208259188017e-170\n",
            "Degrees of Freedom:  4\n",
            "Expected Values:  [[ 600. 1200.  200.]\n",
            " [1380. 2760.  460.]\n",
            " [1020. 2040.  340.]]\n",
            "Chi Square Critical Value:  13.276704135987622\n",
            "The LOS is:  0.99 And Alpha is:  0.010000000000000009\n",
            "Attributes are NOT Independent\n"
          ],
          "name": "stdout"
        }
      ]
    },
    {
      "cell_type": "markdown",
      "metadata": {
        "id": "eYohtUr6TbJh",
        "colab_type": "text"
      },
      "source": [
        "## Conclusion\n",
        "\n",
        "1. Basis P Value\n",
        "\n",
        "Since, it is found that the PValue is less than 0.05, hence the relation between the Time Spent Vs the Purchase is significantly related to each other\n",
        "\n",
        "2. Basis Critical Value and Test Statistic\n",
        "\n",
        "Since, the Test Statistic is 794.26 and the Critical Value is 13.27 it means that the Test Statistic lies in the Rejection Region and hence, we reject the H0 meaning that the Attributes are not Related. The test proves that both the Attributes are Related."
      ]
    },
    {
      "cell_type": "markdown",
      "metadata": {
        "id": "oo4yI6bTb6vQ",
        "colab_type": "text"
      },
      "source": [
        "# Binomial Probability Distribution\n",
        "An Experiment is Binomial Experiement if it satisfies three conditions:\n",
        "\n",
        "1. The no of Trials or Observations are Fixed.\n",
        "\n",
        "2. Each Observation or Trial is Independent. For e.g. tossing the coin first time and then second time. Customers purchasing online.\n",
        "\n",
        "3. There should be two possible outcomes. E.g. Head or Tails or Buy & Not Buy\n",
        "\n",
        "4. The Probability of Success remains same for each trial. For e.g. Prob(H) will be same as Prob(T)\n",
        "\n",
        "#### Real Life Examples\n",
        "\n",
        "1. Drug Testing - Whether the drug works or it doesnt.\n",
        "2. Buying Lottery - Either you win or loose\n",
        "3. Online Shopping - Buy or Not Buy\n",
        "4. Credit Card - Default Payments or not\n",
        "\n",
        "Y is the number of flights sold per hour by an online travel agency. This travel agency usually sells 10 flights per hour - Poisson Distribution\t\n",
        "\n",
        "20% of eggs from a family-run farm are bad. X is the number of bad eggs in a box of a dozen - Binomial Distribution\n",
        "\n",
        "Callers to the Vodaphone call centre will get through to an operator immediately with probability 0.25. X is the number of callers that speak to an operator immediately out of thirty such callers - Binomial Distribtuion"
      ]
    },
    {
      "cell_type": "code",
      "metadata": {
        "id": "aJuADfzYbOuE",
        "colab_type": "code",
        "colab": {}
      },
      "source": [
        "# Binomial Probability Distribution\n",
        "# 60% of people who purchase sports cars are men.  \n",
        "# If 10 sports car owners are randomly selected, find the probability that exactly 7 are men.\n",
        "import scipy.stats as stats"
      ],
      "execution_count": 0,
      "outputs": []
    },
    {
      "cell_type": "code",
      "metadata": {
        "id": "pSp5QW_6bauu",
        "colab_type": "code",
        "outputId": "33283c4e-f19c-4d40-d244-fc11da041080",
        "colab": {
          "base_uri": "https://localhost:8080/",
          "height": 34
        }
      },
      "source": [
        "stats.binom.pmf(k = 7, n = 10, p = 0.60).round(3)\n",
        "# k - favourable value for which we want to find the probability\n",
        "# n - total trials\n",
        "# p - prior probability"
      ],
      "execution_count": 2,
      "outputs": [
        {
          "output_type": "execute_result",
          "data": {
            "text/plain": [
              "0.215"
            ]
          },
          "metadata": {
            "tags": []
          },
          "execution_count": 2
        }
      ]
    },
    {
      "cell_type": "code",
      "metadata": {
        "id": "-gEUAfUOd5ig",
        "colab_type": "code",
        "colab": {}
      },
      "source": [
        "prob = []\n",
        "for i in range(1,11):\n",
        "  prob.append(stats.binom.pmf(i, 10, 0.60))\n",
        "\n",
        "import pandas as pd\n",
        "import numpy as np\n",
        "\n",
        "df = pd.DataFrame({\"x\": range(1,11), \"prob\": prob})"
      ],
      "execution_count": 0,
      "outputs": []
    },
    {
      "cell_type": "code",
      "metadata": {
        "id": "ykJZ7IWMjHu_",
        "colab_type": "code",
        "colab": {}
      },
      "source": [
        "# Finding the Expected Value\n",
        "df[\"mean\"] = df[\"x\"] * df[\"prob\"] # sum of [x*p(x)]"
      ],
      "execution_count": 0,
      "outputs": []
    },
    {
      "cell_type": "code",
      "metadata": {
        "id": "KaF2MzU5j27J",
        "colab_type": "code",
        "outputId": "1232ea60-3dcf-4958-bd83-bb7b5f971bfb",
        "colab": {
          "base_uri": "https://localhost:8080/",
          "height": 34
        }
      },
      "source": [
        "print(\"The expected value is: \", df[\"mean\"].sum().round(2))\n",
        "# This means on an average the males who own sport cars are 6"
      ],
      "execution_count": 26,
      "outputs": [
        {
          "output_type": "stream",
          "text": [
            "The expected value is:  6.0\n"
          ],
          "name": "stdout"
        }
      ]
    },
    {
      "cell_type": "code",
      "metadata": {
        "id": "9kTJcGQIj7Ra",
        "colab_type": "code",
        "colab": {}
      },
      "source": [
        "# Finding Variance\n",
        "df[\"variance\"] = (df[\"x\"] - df[\"x\"].mean())**2*df[\"prob\"]"
      ],
      "execution_count": 0,
      "outputs": []
    },
    {
      "cell_type": "code",
      "metadata": {
        "id": "VHAKh617lG_h",
        "colab_type": "code",
        "outputId": "e5cda0f3-f755-459f-8327-d1a9388d1bd6",
        "colab": {
          "base_uri": "https://localhost:8080/",
          "height": 51
        }
      },
      "source": [
        "print(\"The variance is \", df[\"variance\"].sum().round(3))\n",
        "print(\"The Standard Deviation is \", np.sqrt(df[\"variance\"].sum()).round(3))\n",
        "\n",
        "# This means that we can expect 6 males sport car owners with a deviation of 1.6 males."
      ],
      "execution_count": 28,
      "outputs": [
        {
          "output_type": "stream",
          "text": [
            "The variance is  2.647\n",
            "The Standard Deviation is  1.627\n"
          ],
          "name": "stdout"
        }
      ]
    },
    {
      "cell_type": "code",
      "metadata": {
        "id": "gPMF-GFnjDXI",
        "colab_type": "code",
        "colab": {
          "base_uri": "https://localhost:8080/",
          "height": 265
        },
        "outputId": "bc60e1ed-4c5c-4b68-cf78-b5b86a1b098e"
      },
      "source": [
        "import matplotlib.pyplot as plt\n",
        "import seaborn as sns\n",
        "plt.plot(df[\"prob\"], \"o-\", c = \"r\")\n",
        "plt.xticks(range(0,10))\n",
        "plt.show()"
      ],
      "execution_count": 29,
      "outputs": [
        {
          "output_type": "display_data",
          "data": {
            "image/png": "[encoded data removed]",
            "text/plain": [
              "<Figure size 432x288 with 1 Axes>"
            ]
          },
          "metadata": {
            "tags": [],
            "needs_background": "light"
          }
        }
      ]
    },
    {
      "cell_type": "markdown",
      "metadata": {
        "id": "3lmbMHZomHm2",
        "colab_type": "text"
      },
      "source": [
        "\n",
        "When looking at a person's eye color, it turns out that 1% of the people in the world has green eyes. Considering the group of 20 people, find the probability that:\n",
        "\n",
        "1. None has Green Eyes\n",
        "\n",
        "2. Nine has Green Eyes\n",
        "\n",
        "3. At most 3 have Green Eyes\n",
        "\n",
        "4. At last 4 have Green Eyes"
      ]
    },
    {
      "cell_type": "code",
      "metadata": {
        "id": "N-Abs1MMla-t",
        "colab_type": "code",
        "outputId": "7a145d99-8ffb-4bce-8497-e9b15c92d689",
        "colab": {
          "base_uri": "https://localhost:8080/",
          "height": 34
        }
      },
      "source": [
        "# None has Green Eyes\n",
        "# Given k = 0, n = 20, p = 0.01 \n",
        "stats.binom.pmf(k = 0, n = 20, p = 0.01)"
      ],
      "execution_count": 0,
      "outputs": [
        {
          "output_type": "execute_result",
          "data": {
            "text/plain": [
              "0.8179069375972309"
            ]
          },
          "metadata": {
            "tags": []
          },
          "execution_count": 48
        }
      ]
    },
    {
      "cell_type": "code",
      "metadata": {
        "id": "nmAAEfg8ltdW",
        "colab_type": "code",
        "outputId": "eb54f8ad-676b-4edc-9e3e-f6ae52d8e7bb",
        "colab": {
          "base_uri": "https://localhost:8080/",
          "height": 34
        }
      },
      "source": [
        "# Nine has Green Eyes\n",
        "# k = 9, n = 20, p = 0.01\n",
        "stats.binom.pmf(k = 9, n = 20, p = 0.01) # Probability is 0"
      ],
      "execution_count": 0,
      "outputs": [
        {
          "output_type": "execute_result",
          "data": {
            "text/plain": [
              "1.5038101318529419e-13"
            ]
          },
          "metadata": {
            "tags": []
          },
          "execution_count": 49
        }
      ]
    },
    {
      "cell_type": "code",
      "metadata": {
        "id": "DagFiUemrcBS",
        "colab_type": "code",
        "outputId": "2bbd6650-a079-4832-fd00-8253cdc20b11",
        "colab": {
          "base_uri": "https://localhost:8080/",
          "height": 34
        }
      },
      "source": [
        "# At Most 3 Green Eyes meaning Max 3 or Prob of green eyes less than equal to 3\n",
        "# k = 0,1,2, n = 20, p = 0.01\n",
        "stats.binom.cdf(k = 3, n = 20, p = 0.01) # We will apply cdf where we need value till a certain trial no."
      ],
      "execution_count": 0,
      "outputs": [
        {
          "output_type": "execute_result",
          "data": {
            "text/plain": [
              "0.9999573790723576"
            ]
          },
          "metadata": {
            "tags": []
          },
          "execution_count": 50
        }
      ]
    },
    {
      "cell_type": "code",
      "metadata": {
        "id": "995xKlrhsHWc",
        "colab_type": "code",
        "outputId": "4a12db25-d44c-42dd-f199-39fc8d2e2186",
        "colab": {
          "base_uri": "https://localhost:8080/",
          "height": 34
        }
      },
      "source": [
        "# At least 4 have Green eyes\n",
        "1-stats.binom.cdf(k = 3, n = 20, p = 0.01)"
      ],
      "execution_count": 0,
      "outputs": [
        {
          "output_type": "execute_result",
          "data": {
            "text/plain": [
              "4.262092764240055e-05"
            ]
          },
          "metadata": {
            "tags": []
          },
          "execution_count": 51
        }
      ]
    },
    {
      "cell_type": "markdown",
      "metadata": {
        "id": "7gbcxCTKwX3U",
        "colab_type": "text"
      },
      "source": [
        "There are ten customers in a shop. The probability that an individual customer buys something is 0.4.\n",
        "\n",
        "(A) Calculate the probability that one customer buys something.\n",
        "\n",
        "(B) Calculate the probability that four customers buy something.\n",
        "\n",
        "(C) Calculate the probability that at most two people buy something.\n",
        "\n",
        "(D) What is the probability that at least two people buy something?\n",
        "\n",
        "(E) How many customers do we expect to buy something?"
      ]
    },
    {
      "cell_type": "code",
      "metadata": {
        "id": "HqwaMUMasu7V",
        "colab_type": "code",
        "outputId": "8a8e59d4-16b5-4343-e0d9-2465eba8aadf",
        "colab": {
          "base_uri": "https://localhost:8080/",
          "height": 34
        }
      },
      "source": [
        "# Probability that one customer buys something.\n",
        "# n = 10, p = 0.4 k = 1\n",
        "stats.binom.pmf(k = 1, n = 10, p = 0.4)"
      ],
      "execution_count": 0,
      "outputs": [
        {
          "output_type": "execute_result",
          "data": {
            "text/plain": [
              "0.04031078400000004"
            ]
          },
          "metadata": {
            "tags": []
          },
          "execution_count": 67
        }
      ]
    },
    {
      "cell_type": "code",
      "metadata": {
        "id": "_KcgJcesvtrk",
        "colab_type": "code",
        "outputId": "f137404c-98fe-4c45-bbf2-6206555eaa3a",
        "colab": {
          "base_uri": "https://localhost:8080/",
          "height": 34
        }
      },
      "source": [
        "# Probability that four customers buy something.\n",
        "# n = 10, k = 4, p = 0.4\n",
        "stats.binom.pmf(k = 4, n = 10, p = 0.4)"
      ],
      "execution_count": 0,
      "outputs": [
        {
          "output_type": "execute_result",
          "data": {
            "text/plain": [
              "0.2508226560000002"
            ]
          },
          "metadata": {
            "tags": []
          },
          "execution_count": 68
        }
      ]
    },
    {
      "cell_type": "code",
      "metadata": {
        "id": "kcKITRLtv9Uv",
        "colab_type": "code",
        "outputId": "b20014ef-2769-4c35-d1a0-d56a3273c036",
        "colab": {
          "base_uri": "https://localhost:8080/",
          "height": 34
        }
      },
      "source": [
        "# Probability that at most two people buy something.\n",
        "stats.binom.cdf(k = 2, n = 10, p = 0.4)"
      ],
      "execution_count": 0,
      "outputs": [
        {
          "output_type": "execute_result",
          "data": {
            "text/plain": [
              "0.16728975360000004"
            ]
          },
          "metadata": {
            "tags": []
          },
          "execution_count": 69
        }
      ]
    },
    {
      "cell_type": "code",
      "metadata": {
        "id": "-YEpaxIFw5wp",
        "colab_type": "code",
        "outputId": "2b76b149-f6bc-49e2-ace8-49155521c1f3",
        "colab": {
          "base_uri": "https://localhost:8080/",
          "height": 34
        }
      },
      "source": [
        "# Probability that at least two people buy something\n",
        "1 - stats.binom.cdf(k = 1, n = 10, p = 0.4)"
      ],
      "execution_count": 0,
      "outputs": [
        {
          "output_type": "execute_result",
          "data": {
            "text/plain": [
              "0.9536425984"
            ]
          },
          "metadata": {
            "tags": []
          },
          "execution_count": 71
        }
      ]
    },
    {
      "cell_type": "code",
      "metadata": {
        "id": "H2fUuGmsxOrg",
        "colab_type": "code",
        "outputId": "a96dfab3-e2c8-431b-eba9-a229ab776cf6",
        "colab": {
          "base_uri": "https://localhost:8080/",
          "height": 34
        }
      },
      "source": [
        "# How many customers do we expect to buy something\n",
        "# Here we need to find the expected value\n",
        "10 * 0.4 # On an average 4 customers should be buying."
      ],
      "execution_count": 0,
      "outputs": [
        {
          "output_type": "execute_result",
          "data": {
            "text/plain": [
              "4.0"
            ]
          },
          "metadata": {
            "tags": []
          },
          "execution_count": 73
        }
      ]
    },
    {
      "cell_type": "markdown",
      "metadata": {
        "id": "AMnFHZEeix-8",
        "colab_type": "text"
      },
      "source": [
        "# Poisson Distribution\n",
        "\n",
        "A Poisson Distribution is a measure of how many times an event occurs in X time interval. For e.g. A Library rents to 40 people on an average on a Sunday. How likely it is that 100 people will come to library for books.\n",
        "\n",
        "Another example is on an average 200 customers visit ATMs on a Saturday. How likely it is that on this Saturday, we can have 250 customers or more.\n",
        "\n",
        "#### Properties of Poisson Distribution\n",
        "\n",
        "1. Poisson is based on time interval, space interval or volumne interval.\n",
        "2. Example of Space Interval is No of Defects in 5 Foot Long Iron Rod where as Volume can be no of Defective Items Manufactured in a Machine.\n",
        "3. The Occurence of the event is random in nature. It means that there is no prior intimation of the event happening. For e.g. Patients Visiting Doctor after appointment is not random event because it is planned. Similarly, landing of aircrafts, People visiting a Bday Party where as People Visiting a Career Fair qualifies as random.\n",
        "4. Happening of One Occurence is Independent of the Other. \n",
        "5. The Average No of Occurences is given by Lambda or Mew.\n",
        "6. The Actual No of Occurences in that interval is denoted by x.\n",
        "\n",
        "### Formula of Poisson Distribution\n",
        "P(x) = [lambda^x * (e^-lambda)]/factorial(x)\n",
        "\n",
        "Note: value of e is 2.71828\n",
        "\n",
        "Note: The Average No of Occurences aka Lambda is aka Poisson Parameter.\n",
        "\n",
        "### Mean and Standard Deviation of Poisson Probability Distribution\n",
        "\n",
        "1. Mean of Poisson Distribution is Lambda\n",
        "2. SD = sqrt(Lambda)\n",
        "\n",
        "### Examples of Poisson Distribution\n",
        "\n",
        "1. Customers Calling Customer Care.\n",
        "2. Visitors on a Website.\n",
        "3. No of Network Failure in a Day\n",
        "4. No of Bankruptcies filed in a Month.\n",
        "5. No of People entering MacD\n",
        "\n",
        "A Laptop Assembly unit is permorning a Defects Analysis, to understand the number of defects that could happen for a given defective laptop. It is noted from past quality & audit data that 12 defects are noticed on an average for a defective Laptop, calculate\n",
        "\n",
        "1. Probability that a defective laptop has exactly 5 defects\n",
        "2. Probability that a defective laptop has less than 5 defects"
      ]
    },
    {
      "cell_type": "code",
      "metadata": {
        "id": "YtzlQrQki05T",
        "colab_type": "code",
        "colab": {
          "base_uri": "https://localhost:8080/",
          "height": 34
        },
        "outputId": "800d0c60-38ec-4463-8f7b-4e29c3e4adc6"
      },
      "source": [
        "# mu = 12 x = 5 # Exactly 5 Defects\n",
        "stats.poisson.pmf(k = 5, mu = 12)"
      ],
      "execution_count": 37,
      "outputs": [
        {
          "output_type": "execute_result",
          "data": {
            "text/plain": [
              "0.012740638735861376"
            ]
          },
          "metadata": {
            "tags": []
          },
          "execution_count": 37
        }
      ]
    },
    {
      "cell_type": "code",
      "metadata": {
        "id": "JI3Kw1Wwo8Qx",
        "colab_type": "code",
        "colab": {
          "base_uri": "https://localhost:8080/",
          "height": 34
        },
        "outputId": "49f3be77-2b7c-47bc-ecd8-e69e62444c8c"
      },
      "source": [
        "# Less than 5 defects\n",
        "stats.poisson.cdf(k = 4, mu = 12) "
      ],
      "execution_count": 39,
      "outputs": [
        {
          "output_type": "execute_result",
          "data": {
            "text/plain": [
              "0.007600390681066992"
            ]
          },
          "metadata": {
            "tags": []
          },
          "execution_count": 39
        }
      ]
    },
    {
      "cell_type": "markdown",
      "metadata": {
        "id": "GXdvlKdfuqPO",
        "colab_type": "text"
      },
      "source": [
        "The number of claims handled by an insurance agent follows a Poisson distribution with a mean of 5 per day.\n",
        "\n",
        "i. What is the probability that there are less than 4 claims handled by the agent in a randomly selected day?\n",
        "\n",
        "ii. What is the probability that among 20 randomly selected days, there are more than 17 days that have more than 3 claims?"
      ]
    },
    {
      "cell_type": "code",
      "metadata": {
        "id": "UNrkt4tWuAR9",
        "colab_type": "code",
        "colab": {
          "base_uri": "https://localhost:8080/",
          "height": 34
        },
        "outputId": "c741f34c-ea3e-4198-8c53-b7297aee3694"
      },
      "source": [
        "# mu = 5, x = 3\n",
        "stats.poisson.cdf(k = 3, mu = 5)"
      ],
      "execution_count": 40,
      "outputs": [
        {
          "output_type": "execute_result",
          "data": {
            "text/plain": [
              "0.2650259152973616"
            ]
          },
          "metadata": {
            "tags": []
          },
          "execution_count": 40
        }
      ]
    },
    {
      "cell_type": "code",
      "metadata": {
        "id": "qQW584GJuzoB",
        "colab_type": "code",
        "colab": {
          "base_uri": "https://localhost:8080/",
          "height": 34
        },
        "outputId": "aab74591-194d-4f85-8854-25ad1dba6e13"
      },
      "source": [
        "# lets Find the Probability of Getting More than 3 Claims\n",
        "1 - stats.poisson.cdf( k =2, mu = 5)"
      ],
      "execution_count": 43,
      "outputs": [
        {
          "output_type": "execute_result",
          "data": {
            "text/plain": [
              "0.8753479805169189"
            ]
          },
          "metadata": {
            "tags": []
          },
          "execution_count": 43
        }
      ]
    },
    {
      "cell_type": "code",
      "metadata": {
        "id": "HKcbnlNqvASV",
        "colab_type": "code",
        "colab": {
          "base_uri": "https://localhost:8080/",
          "height": 34
        },
        "outputId": "03434761-9887-43d5-cce1-a381c524a6fd"
      },
      "source": [
        "1 - stats.binom.cdf( k = 17, n =20, p=0.875)"
      ],
      "execution_count": 46,
      "outputs": [
        {
          "output_type": "execute_result",
          "data": {
            "text/plain": [
              "0.5353085627616241"
            ]
          },
          "metadata": {
            "tags": []
          },
          "execution_count": 46
        }
      ]
    },
    {
      "cell_type": "markdown",
      "metadata": {
        "id": "P02NjQgLzyAm",
        "colab_type": "text"
      },
      "source": [
        "The Global Birth Rate and Death Rate is 4.3 per second & 1.8 per second respectively as per the US Census Bureau.\n",
        "\n",
        "If we assume that the global birth and death rates follow the Poisson probability distribution, we can find the probability of any given number of global births or deaths for a given time interval.\n",
        "\n",
        "i) Find the probability of at most three global births during any given 1-second interval.\n",
        "ii) Find the probability of exactly six global births using the Poisson formula.\n",
        "iii) Find the probability of at most two global deaths\n"
      ]
    },
    {
      "cell_type": "code",
      "metadata": {
        "id": "0CnlNgg-vpRd",
        "colab_type": "code",
        "colab": {
          "base_uri": "https://localhost:8080/",
          "height": 34
        },
        "outputId": "e51262df-ac06-48e3-f71d-917539121530"
      },
      "source": [
        "# most three global births during any given 1-second interval\n",
        "stats.poisson.cdf(k = 3, mu = 4.3)"
      ],
      "execution_count": 54,
      "outputs": [
        {
          "output_type": "execute_result",
          "data": {
            "text/plain": [
              "0.3771539277296392"
            ]
          },
          "metadata": {
            "tags": []
          },
          "execution_count": 54
        }
      ]
    },
    {
      "cell_type": "code",
      "metadata": {
        "id": "BT2-PHg30lSd",
        "colab_type": "code",
        "colab": {
          "base_uri": "https://localhost:8080/",
          "height": 34
        },
        "outputId": "4c7a519e-8a9b-4df3-ae63-aca7b124c901"
      },
      "source": [
        "# exactly six global births\n",
        "stats.poisson.pmf(k = 6, mu = 4.3)"
      ],
      "execution_count": 55,
      "outputs": [
        {
          "output_type": "execute_result",
          "data": {
            "text/plain": [
              "0.1191274827331984"
            ]
          },
          "metadata": {
            "tags": []
          },
          "execution_count": 55
        }
      ]
    },
    {
      "cell_type": "code",
      "metadata": {
        "id": "L2BzO5aW1eQn",
        "colab_type": "code",
        "colab": {
          "base_uri": "https://localhost:8080/",
          "height": 34
        },
        "outputId": "523cdc5f-7496-441e-ce05-73002eee3787"
      },
      "source": [
        "# probability of at most two global deaths\n",
        "stats.poisson.cdf(k = 2, mu = 1.8) "
      ],
      "execution_count": 56,
      "outputs": [
        {
          "output_type": "execute_result",
          "data": {
            "text/plain": [
              "0.7306210859394124"
            ]
          },
          "metadata": {
            "tags": []
          },
          "execution_count": 56
        }
      ]
    },
    {
      "cell_type": "code",
      "metadata": {
        "id": "ILw9V7T-3BM3",
        "colab_type": "code",
        "colab": {}
      },
      "source": [
        ""
      ],
      "execution_count": 0,
      "outputs": []
    },
    {
      "cell_type": "markdown",
      "metadata": {
        "id": "XCatpdtA43Mo",
        "colab_type": "text"
      },
      "source": [
        "The number of misprints on a page of the Daily Mercury has a Poisson distribution with mean 1.2. Find the probability that the number of errors\n",
        "\n",
        "1. on page four is 2;\n",
        "2. on page three is less than 3\n",
        "3. on all forty pages adds up to at least 3 - DONT TAKE THIS QUESTION."
      ]
    },
    {
      "cell_type": "code",
      "metadata": {
        "id": "vw-MeF9v4_SZ",
        "colab_type": "code",
        "colab": {
          "base_uri": "https://localhost:8080/",
          "height": 34
        },
        "outputId": "72691c02-a27a-4c6f-9bca-be8ecf580f85"
      },
      "source": [
        "# on page four is 2\n",
        "stats.poisson.pmf(k = 2, mu = 1.2)"
      ],
      "execution_count": 71,
      "outputs": [
        {
          "output_type": "execute_result",
          "data": {
            "text/plain": [
              "0.2168598325767855"
            ]
          },
          "metadata": {
            "tags": []
          },
          "execution_count": 71
        }
      ]
    },
    {
      "cell_type": "code",
      "metadata": {
        "id": "0FK7fvKV5D15",
        "colab_type": "code",
        "colab": {
          "base_uri": "https://localhost:8080/",
          "height": 34
        },
        "outputId": "f6ec8d67-8b8a-406a-ee32-e2a97dac92ab"
      },
      "source": [
        "# on page three is less than 3\n",
        "stats.poisson.cdf(k = 2, mu = 1.2)"
      ],
      "execution_count": 72,
      "outputs": [
        {
          "output_type": "execute_result",
          "data": {
            "text/plain": [
              "0.8794870987836302"
            ]
          },
          "metadata": {
            "tags": []
          },
          "execution_count": 72
        }
      ]
    },
    {
      "cell_type": "code",
      "metadata": {
        "id": "-kzq_Yyv5Lc3",
        "colab_type": "code",
        "colab": {
          "base_uri": "https://localhost:8080/",
          "height": 34
        },
        "outputId": "7a30871e-d789-409a-e16a-c0bd5436d389"
      },
      "source": [
        "# on all forty pages adds up to at least 3 \n",
        "stats.poisson.cdf(k = 3, mu = 1.2)\n",
        "1-stats.binom.cdf(k = 3, n = 40, p = 0.966)"
      ],
      "execution_count": 75,
      "outputs": [
        {
          "output_type": "execute_result",
          "data": {
            "text/plain": [
              "1.0"
            ]
          },
          "metadata": {
            "tags": []
          },
          "execution_count": 75
        }
      ]
    },
    {
      "cell_type": "markdown",
      "metadata": {
        "id": "1GDu23DW6Kf1",
        "colab_type": "text"
      },
      "source": [
        "Assuming that the weekly demand for the video recorder is a Poisson variable with mean 3, find the probability that the shop sells\n",
        "(i) at least 3 in a week\n",
        "(ii) at most 7 in a week"
      ]
    },
    {
      "cell_type": "code",
      "metadata": {
        "id": "xof7u7Oh5YBW",
        "colab_type": "code",
        "colab": {
          "base_uri": "https://localhost:8080/",
          "height": 34
        },
        "outputId": "bb155140-adfb-4d42-bc70-4b052192eff7"
      },
      "source": [
        "# at least 3 in a week\n",
        "1 - stats.poisson.cdf(mu = 3, k = 2)"
      ],
      "execution_count": 77,
      "outputs": [
        {
          "output_type": "execute_result",
          "data": {
            "text/plain": [
              "0.5768099188731564"
            ]
          },
          "metadata": {
            "tags": []
          },
          "execution_count": 77
        }
      ]
    },
    {
      "cell_type": "code",
      "metadata": {
        "id": "Vy9u3HIT6LsO",
        "colab_type": "code",
        "colab": {
          "base_uri": "https://localhost:8080/",
          "height": 34
        },
        "outputId": "b378a24f-20ce-4158-ec48-2b5860bc94b3"
      },
      "source": [
        "# at most 7 in a week\n",
        "stats.poisson.cdf(k = 7, mu = 3)"
      ],
      "execution_count": 79,
      "outputs": [
        {
          "output_type": "execute_result",
          "data": {
            "text/plain": [
              "0.9880954961436426"
            ]
          },
          "metadata": {
            "tags": []
          },
          "execution_count": 79
        }
      ]
    },
    {
      "cell_type": "code",
      "metadata": {
        "id": "v3vMF_WE7Xc3",
        "colab_type": "code",
        "colab": {}
      },
      "source": [
        ""
      ],
      "execution_count": 0,
      "outputs": []
    }
  ]
}