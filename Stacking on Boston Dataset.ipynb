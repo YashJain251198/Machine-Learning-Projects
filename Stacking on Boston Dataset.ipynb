{
  "nbformat": 4,
  "nbformat_minor": 0,
  "metadata": {
    "colab": {
      "name": "Stacking - Boston Dataset.ipynb",
      "provenance": [],
      "collapsed_sections": [],
      "authorship_tag": "ABX9TyM83BrwtG5C1MT1zJd1YfMK",
      "include_colab_link": true
    },
    "kernelspec": {
      "name": "python3",
      "display_name": "Python 3"
    }
  },
  "cells": [
    {
      "cell_type": "markdown",
      "metadata": {
        "id": "view-in-github",
        "colab_type": "text"
      },
      "source": [
        "<a href=\"https://colab.research.google.com/github/mukul-mschauhan/Data-Science-Projects/blob/master/Stacking%20on%20Boston%20Dataset.ipynb\" target=\"_parent\"><img src=\"https://colab.research.google.com/assets/colab-badge.svg\" alt=\"Open In Colab\"/></a>"
      ]
    },
    {
      "cell_type": "code",
      "metadata": {
        "id": "-37FNDAvDNNX",
        "colab_type": "code",
        "colab": {
          "base_uri": "https://localhost:8080/",
          "height": 71
        },
        "outputId": "ab670272-52e3-47da-ff6e-07bfda96009b"
      },
      "source": [
        "import pandas as pd\n",
        "import numpy as np\n",
        "import matplotlib.pyplot as plt\n",
        "import seaborn as sns\n",
        "from sklearn.datasets import load_boston\n",
        "import warnings"
      ],
      "execution_count": 1,
      "outputs": [
        {
          "output_type": "stream",
          "text": [
            "/usr/local/lib/python3.6/dist-packages/statsmodels/tools/_testing.py:19: FutureWarning: pandas.util.testing is deprecated. Use the functions in the public API at pandas.testing instead.\n",
            "  import pandas.util.testing as tm\n"
          ],
          "name": "stderr"
        }
      ]
    },
    {
      "cell_type": "code",
      "metadata": {
        "id": "NLr6edhGDmls",
        "colab_type": "code",
        "colab": {}
      },
      "source": [
        "# Function Approach to do the same\n",
        "def _df(load):\n",
        "  # Creating Dataframe\n",
        "  df = pd.DataFrame(data = load.data, columns = load.feature_names)\n",
        "  # Adding Output to the DF\n",
        "  df[\"label\"] = load.target\n",
        "  # Return df\n",
        "  return(df)"
      ],
      "execution_count": 0,
      "outputs": []
    },
    {
      "cell_type": "code",
      "metadata": {
        "id": "BTC6ZvUkDwTc",
        "colab_type": "code",
        "colab": {}
      },
      "source": [
        "df = _df(load_boston()) # Running Function Created Above"
      ],
      "execution_count": 0,
      "outputs": []
    },
    {
      "cell_type": "code",
      "metadata": {
        "id": "Ii3DphiPFRfk",
        "colab_type": "code",
        "colab": {
          "base_uri": "https://localhost:8080/",
          "height": 68
        },
        "outputId": "9f08479d-0231-474d-cdea-4079804115ea"
      },
      "source": [
        "df.columns"
      ],
      "execution_count": 12,
      "outputs": [
        {
          "output_type": "execute_result",
          "data": {
            "text/plain": [
              "Index(['CRIM', 'ZN', 'INDUS', 'CHAS', 'NOX', 'RM', 'AGE', 'DIS', 'RAD', 'TAX',\n",
              "       'PTRATIO', 'B', 'LSTAT', 'label'],\n",
              "      dtype='object')"
            ]
          },
          "metadata": {
            "tags": []
          },
          "execution_count": 12
        }
      ]
    },
    {
      "cell_type": "code",
      "metadata": {
        "id": "KR8RB6W3Efi0",
        "colab_type": "code",
        "colab": {
          "base_uri": "https://localhost:8080/",
          "height": 904
        },
        "outputId": "d52efd79-8e3f-4d1d-939f-c5aef0337dc6"
      },
      "source": [
        "# Data Dictionary\n",
        "print(load_boston().DESCR)"
      ],
      "execution_count": 16,
      "outputs": [
        {
          "output_type": "stream",
          "text": [
            ".. _boston_dataset:\n",
            "\n",
            "Boston house prices dataset\n",
            "---------------------------\n",
            "\n",
            "**Data Set Characteristics:**  \n",
            "\n",
            "    :Number of Instances: 506 \n",
            "\n",
            "    :Number of Attributes: 13 numeric/categorical predictive. Median Value (attribute 14) is usually the target.\n",
            "\n",
            "    :Attribute Information (in order):\n",
            "        - CRIM     per capita crime rate by town\n",
            "        - ZN       proportion of residential land zoned for lots over 25,000 sq.ft.\n",
            "        - INDUS    proportion of non-retail business acres per town\n",
            "        - CHAS     Charles River dummy variable (= 1 if tract bounds river; 0 otherwise)\n",
            "        - NOX      nitric oxides concentration (parts per 10 million)\n",
            "        - RM       average number of rooms per dwelling\n",
            "        - AGE      proportion of owner-occupied units built prior to 1940\n",
            "        - DIS      weighted distances to five Boston employment centres\n",
            "        - RAD      index of accessibility to radial highways\n",
            "        - TAX      full-value property-tax rate per $10,000\n",
            "        - PTRATIO  pupil-teacher ratio by town\n",
            "        - B        1000(Bk - 0.63)^2 where Bk is the proportion of blacks by town\n",
            "        - LSTAT    % lower status of the population\n",
            "        - MEDV     Median value of owner-occupied homes in $1000's\n",
            "\n",
            "    :Missing Attribute Values: None\n",
            "\n",
            "    :Creator: Harrison, D. and Rubinfeld, D.L.\n",
            "\n",
            "This is a copy of UCI ML housing dataset.\n",
            "https://archive.ics.uci.edu/ml/machine-learning-databases/housing/\n",
            "\n",
            "\n",
            "This dataset was taken from the StatLib library which is maintained at Carnegie Mellon University.\n",
            "\n",
            "The Boston house-price data of Harrison, D. and Rubinfeld, D.L. 'Hedonic\n",
            "prices and the demand for clean air', J. Environ. Economics & Management,\n",
            "vol.5, 81-102, 1978.   Used in Belsley, Kuh & Welsch, 'Regression diagnostics\n",
            "...', Wiley, 1980.   N.B. Various transformations are used in the table on\n",
            "pages 244-261 of the latter.\n",
            "\n",
            "The Boston house-price data has been used in many machine learning papers that address regression\n",
            "problems.   \n",
            "     \n",
            ".. topic:: References\n",
            "\n",
            "   - Belsley, Kuh & Welsch, 'Regression diagnostics: Identifying Influential Data and Sources of Collinearity', Wiley, 1980. 244-261.\n",
            "   - Quinlan,R. (1993). Combining Instance-Based and Model-Based Learning. In Proceedings on the Tenth International Conference of Machine Learning, 236-243, University of Massachusetts, Amherst. Morgan Kaufmann.\n",
            "\n"
          ],
          "name": "stdout"
        }
      ]
    },
    {
      "cell_type": "code",
      "metadata": {
        "id": "vXhQnqB7Elh_",
        "colab_type": "code",
        "colab": {}
      },
      "source": [
        "# Splitting the Data in Train and Test\n",
        "from sklearn.model_selection import train_test_split\n",
        "\n",
        "# Getting X and Ys\n",
        "X = df.drop(\"label\", axis = 1)\n",
        "y = df.label\n",
        "\n",
        "# Creating Train and Test\n",
        "xtrain,xtest,ytrain,ytest = train_test_split(X, y, test_size = 0.33, random_state = None)"
      ],
      "execution_count": 0,
      "outputs": []
    },
    {
      "cell_type": "code",
      "metadata": {
        "id": "17zOqr_bVi3U",
        "colab_type": "code",
        "colab": {
          "base_uri": "https://localhost:8080/",
          "height": 34
        },
        "outputId": "ac9ba86b-3934-44e9-b046-5577b8949359"
      },
      "source": [
        "# Checking Sklearn Version\n",
        "import sklearn\n",
        "sklearn.__version__"
      ],
      "execution_count": 5,
      "outputs": [
        {
          "output_type": "execute_result",
          "data": {
            "text/plain": [
              "'0.22.2.post1'"
            ]
          },
          "metadata": {
            "tags": []
          },
          "execution_count": 5
        }
      ]
    },
    {
      "cell_type": "code",
      "metadata": {
        "id": "E2Xk07iwD79O",
        "colab_type": "code",
        "colab": {}
      },
      "source": [
        "# Get a List of Models as Base Models\n",
        "from sklearn.ensemble import StackingRegressor, RandomForestRegressor, BaggingRegressor, GradientBoostingRegressor\n",
        "\n",
        "from sklearn.linear_model import Ridge, Lasso\n",
        "def base_models():\n",
        "  models = dict()\n",
        "  models['lr'] = LinearRegression()\n",
        "  models[\"Ridge\"] = Ridge()\n",
        "  models[\"Lasso\"] = Lasso()\n",
        "  models[\"Tree\"] = DecisionTreeRegressor()\n",
        "  models[\"Random Forest\"] = RandomForestRegressor()\n",
        "  models[\"Bagging\"] = BaggingRegressor()\n",
        "  models[\"GBM\"] = GradientBoostingRegressor()\n",
        "  return models\n"
      ],
      "execution_count": 0,
      "outputs": []
    },
    {
      "cell_type": "code",
      "metadata": {
        "id": "bgZKS02WEuHc",
        "colab_type": "code",
        "colab": {}
      },
      "source": [
        "# Now we will apply K Fold Cross Validation. We will now create a evaluate function with Repeated Stratified K Fold\n",
        "# And Capture the Cross Val Score\n",
        "from sklearn.model_selection import cross_val_score, RepeatedStratifiedKFold, StratifiedKFold, KFold, RepeatedKFold\n",
        "from matplotlib import pyplot\n",
        "\n",
        "# Function to evaluate the list of models\n",
        "def eval_models(model):\n",
        "  cv = RepeatedKFold(n_splits=10, n_repeats=3, random_state=1)\n",
        "  scores = -cross_val_score(model, X, y, scoring='neg_mean_absolute_error', cv=cv, n_jobs=-1, error_score='raise')\n",
        "  return scores"
      ],
      "execution_count": 0,
      "outputs": []
    },
    {
      "cell_type": "code",
      "metadata": {
        "id": "B7VQfsDxFIeL",
        "colab_type": "code",
        "colab": {
          "base_uri": "https://localhost:8080/",
          "height": 136
        },
        "outputId": "c2d704a9-b364-46a3-bb8a-3c73fea028a0"
      },
      "source": [
        "# Lets Apply and Calculate the Scores\n",
        "# Getting X and Ys\n",
        "X = df.drop(\"label\", axis = 1)\n",
        "y = df.label\n",
        "\n",
        "# get the models to evaluate\n",
        "models = base_models()\n",
        "# evaluate the models and store results\n",
        "results, names = list(), list() \n",
        "\n",
        "for name, model in models.items():\n",
        "  scores = eval_models(model)\n",
        "  results.append(scores)\n",
        "  names.append(name)\n",
        "  print('>%s %.3f (%.3f)' % (name, scores.mean(), scores.std()))\n"
      ],
      "execution_count": 64,
      "outputs": [
        {
          "output_type": "stream",
          "text": [
            ">lr 3.391 (0.530)\n",
            ">Ridge 3.382 (0.519)\n",
            ">Lasso 3.711 (0.549)\n",
            ">Tree 2.875 (0.391)\n",
            ">Random Forest 2.197 (0.353)\n",
            ">Bagging 2.251 (0.343)\n",
            ">GBM 2.088 (0.278)\n"
          ],
          "name": "stdout"
        }
      ]
    },
    {
      "cell_type": "code",
      "metadata": {
        "id": "uQSNPAXKFsw6",
        "colab_type": "code",
        "colab": {
          "base_uri": "https://localhost:8080/",
          "height": 346
        },
        "outputId": "6e4bfb41-fb3b-4365-e868-4e98f1a70ef0"
      },
      "source": [
        "# plot model performance for comparison\n",
        "pyplot.boxplot(results, labels=names, showmeans=True)\n",
        "pyplot.xticks(rotation = 90)\n",
        "pyplot.ylabel(\"MSE\")\n",
        "pyplot.title(\"Model Performance\")\n",
        "pyplot.show()"
      ],
      "execution_count": 67,
      "outputs": [
        {
          "output_type": "display_data",
          "data": {
            "image/png": "[encoded data removed]",
            "text/plain": [
              "<Figure size 432x288 with 1 Axes>"
            ]
          },
          "metadata": {
            "tags": [],
            "needs_background": "light"
          }
        }
      ]
    },
    {
      "cell_type": "code",
      "metadata": {
        "id": "XdRUydIIH4If",
        "colab_type": "code",
        "colab": {}
      },
      "source": [
        "# get a stacking ensemble of models\n",
        "from xgboost import XGBRegressor\n",
        "from lightgbm import LGBMRegressor\n",
        "def get_stacking():\n",
        "\t# define the base models\n",
        "  level0 = list()\n",
        "  level0.append(('Tree', DecisionTreeRegressor()))\n",
        "  level0.append(('RF', RandomForestRegressor()))\n",
        "  level0.append(('XGB', XGBRegressor()))\n",
        "  level0.append(('Bagging', BaggingRegressor()))\n",
        "\t# define meta learner model\n",
        "  level1 = LGBMRegressor()\n",
        "\t# define the stacking ensemble\n",
        "  model = StackingRegressor(estimators=level0, final_estimator=level1, cv=5)\n",
        "  return model"
      ],
      "execution_count": 0,
      "outputs": []
    },
    {
      "cell_type": "code",
      "metadata": {
        "id": "_0cYWFnnPUQu",
        "colab_type": "code",
        "colab": {}
      },
      "source": [
        "def base_models():\n",
        "  models = dict()\n",
        "  models[\"Tree\"] = DecisionTreeRegressor()\n",
        "  models[\"Random Forest\"] = RandomForestRegressor()\n",
        "  models[\"Bagging\"] = BaggingRegressor()\n",
        "  models[\"XGB\"] = XGBRegressor()\n",
        "  models[\"Stacked Model\"] = get_stacking()\n",
        "  return models"
      ],
      "execution_count": 0,
      "outputs": []
    },
    {
      "cell_type": "code",
      "metadata": {
        "id": "UB_qe9-xPgzr",
        "colab_type": "code",
        "colab": {
          "base_uri": "https://localhost:8080/",
          "height": 431
        },
        "outputId": "592d9955-405f-4726-da98-93ec06d31ee6"
      },
      "source": [
        "# Function to evaluate the list of models\n",
        "def eval_models(model):\n",
        "  cv = RepeatedKFold(n_splits=10, n_repeats=3, random_state=1)\n",
        "  scores = -cross_val_score(model, X, y, scoring='neg_mean_absolute_error', cv=cv, n_jobs=-1, error_score='raise')\n",
        "  return scores\n",
        "\n",
        "\n",
        "# get the models to evaluate\n",
        "models = base_models()\n",
        "# evaluate the models and store results\n",
        "results, names = list(), list() \n",
        "\n",
        "for name, model in models.items():\n",
        "  scores = eval_models(model)\n",
        "  results.append(scores)\n",
        "  names.append(name)\n",
        "  print('>%s %.3f (%.3f)' % (name, scores.mean(), scores.std()))\n",
        "\n",
        "\n",
        "# plot model performance for comparison\n",
        "pyplot.boxplot(results, labels=names, showmeans=True)\n",
        "pyplot.xticks(rotation = 90)\n",
        "pyplot.ylabel(\"MSE\")\n",
        "pyplot.title(\"Model Performance\")\n",
        "pyplot.show()"
      ],
      "execution_count": 117,
      "outputs": [
        {
          "output_type": "stream",
          "text": [
            ">Tree 2.924 (0.514)\n",
            ">Random Forest 2.190 (0.370)\n",
            ">Bagging 2.296 (0.358)\n",
            ">XGB 2.146 (0.328)\n",
            ">Stacked Model 2.708 (0.358)\n"
          ],
          "name": "stdout"
        },
        {
          "output_type": "display_data",
          "data": {
            "image/png": "[encoded data removed]",
            "text/plain": [
              "<Figure size 432x288 with 1 Axes>"
            ]
          },
          "metadata": {
            "tags": [],
            "needs_background": "light"
          }
        }
      ]
    },
    {
      "cell_type": "code",
      "metadata": {
        "id": "3KX0eS9fJh3l",
        "colab_type": "code",
        "colab": {}
      },
      "source": [
        "# Lets apply on Train and Test Split\n",
        "level0 = list()\n",
        "level0.append(('Tree', DecisionTreeRegressor()))\n",
        "level0.append(('RF', RandomForestRegressor()))\n",
        "level0.append(('GBM', GradientBoostingRegressor()))\n",
        "level0.append(('Bagging', BaggingRegressor()))\n",
        "level0.append((\"XGB\", XGBRegressor()))"
      ],
      "execution_count": 0,
      "outputs": []
    },
    {
      "cell_type": "code",
      "metadata": {
        "id": "dn12mTjtI0xg",
        "colab_type": "code",
        "colab": {}
      },
      "source": [
        "level1 = LGBMRegressor()\n",
        "model = StackingRegressor(estimators=level0, final_estimator=level1, cv=10)"
      ],
      "execution_count": 0,
      "outputs": []
    },
    {
      "cell_type": "code",
      "metadata": {
        "id": "VBzRgKnjJP94",
        "colab_type": "code",
        "colab": {
          "base_uri": "https://localhost:8080/",
          "height": 204
        },
        "outputId": "d61e0275-6e16-4109-cba3-0b636eb381ad"
      },
      "source": [
        "# Making Predictions on Train & Test\n",
        "stacked_pred = model.fit(xtrain, ytrain).predict(xtest)"
      ],
      "execution_count": 122,
      "outputs": [
        {
          "output_type": "stream",
          "text": [
            "[21:31:26] WARNING: /workspace/src/objective/regression_obj.cu:152: reg:linear is now deprecated in favor of reg:squarederror.\n",
            "[21:31:30] WARNING: /workspace/src/objective/regression_obj.cu:152: reg:linear is now deprecated in favor of reg:squarederror.\n",
            "[21:31:30] WARNING: /workspace/src/objective/regression_obj.cu:152: reg:linear is now deprecated in favor of reg:squarederror.\n",
            "[21:31:30] WARNING: /workspace/src/objective/regression_obj.cu:152: reg:linear is now deprecated in favor of reg:squarederror.\n",
            "[21:31:30] WARNING: /workspace/src/objective/regression_obj.cu:152: reg:linear is now deprecated in favor of reg:squarederror.\n",
            "[21:31:30] WARNING: /workspace/src/objective/regression_obj.cu:152: reg:linear is now deprecated in favor of reg:squarederror.\n",
            "[21:31:30] WARNING: /workspace/src/objective/regression_obj.cu:152: reg:linear is now deprecated in favor of reg:squarederror.\n",
            "[21:31:30] WARNING: /workspace/src/objective/regression_obj.cu:152: reg:linear is now deprecated in favor of reg:squarederror.\n",
            "[21:31:30] WARNING: /workspace/src/objective/regression_obj.cu:152: reg:linear is now deprecated in favor of reg:squarederror.\n",
            "[21:31:30] WARNING: /workspace/src/objective/regression_obj.cu:152: reg:linear is now deprecated in favor of reg:squarederror.\n",
            "[21:31:30] WARNING: /workspace/src/objective/regression_obj.cu:152: reg:linear is now deprecated in favor of reg:squarederror.\n"
          ],
          "name": "stdout"
        }
      ]
    },
    {
      "cell_type": "code",
      "metadata": {
        "id": "sTJ7D-sPOzNX",
        "colab_type": "code",
        "colab": {}
      },
      "source": [
        "from sklearn.metrics import r2_score, mean_squared_error"
      ],
      "execution_count": 0,
      "outputs": []
    },
    {
      "cell_type": "code",
      "metadata": {
        "id": "gbbK3iqDPAJf",
        "colab_type": "code",
        "colab": {
          "base_uri": "https://localhost:8080/",
          "height": 51
        },
        "outputId": "b20cb924-0cbf-4654-a82e-3b6cb4f7a610"
      },
      "source": [
        "# Checking Model Metrics\n",
        "print(r2_score(ytest, stacked_pred))\n",
        "print(np.sqrt(mean_squared_error(ytest, stacked_pred)))"
      ],
      "execution_count": 123,
      "outputs": [
        {
          "output_type": "stream",
          "text": [
            "0.8202170270477344\n",
            "4.194178557256572\n"
          ],
          "name": "stdout"
        }
      ]
    },
    {
      "cell_type": "markdown",
      "metadata": {
        "id": "YkbmmQ-ITWCW",
        "colab_type": "text"
      },
      "source": [
        "## Conclusion\n",
        "\n",
        "Hence, it is clear that LightGBM is a better stacked model as it has increased the R2 Score to 0.82"
      ]
    },
    {
      "cell_type": "code",
      "metadata": {
        "id": "nSVZ6lVeTfQu",
        "colab_type": "code",
        "colab": {}
      },
      "source": [
        ""
      ],
      "execution_count": 0,
      "outputs": []
    }
  ]
}