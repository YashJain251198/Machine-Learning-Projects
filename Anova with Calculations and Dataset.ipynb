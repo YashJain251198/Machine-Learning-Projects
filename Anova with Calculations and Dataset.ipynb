{
  "nbformat": 4,
  "nbformat_minor": 0,
  "metadata": {
    "colab": {
      "name": "Anova.ipynb",
      "provenance": [],
      "collapsed_sections": [],
      "authorship_tag": "ABX9TyMqeThkq2C/pi3rhFxMK3dK",
      "include_colab_link": true
    },
    "kernelspec": {
      "name": "python3",
      "display_name": "Python 3"
    }
  },
  "cells": [
    {
      "cell_type": "markdown",
      "metadata": {
        "id": "view-in-github",
        "colab_type": "text"
      },
      "source": [
        "<a href=\"https://colab.research.google.com/github/mukul-mschauhan/Data-Science-Projects/blob/master/Anova%20with%20Calculations%20and%20Dataset.ipynb\" target=\"_parent\"><img src=\"https://colab.research.google.com/assets/colab-badge.svg\" alt=\"Open In Colab\"/></a>"
      ]
    },
    {
      "cell_type": "markdown",
      "metadata": {
        "id": "iq7nCxPVzK2H",
        "colab_type": "text"
      },
      "source": [
        "## About Anova\n",
        "\n",
        "1. The Fundamental Essence behind Anova is to check the difference in mean or variance between Groups. For e.g. Checking if the Patients are reacting to different methods of Treatment such as Sleep Therapy, Hypnotism, Medical Counselling etc\n",
        "\n",
        "2. One Away Anova Means One Independent Variable with 2 Columns/Levels/Categories.\n",
        "\n",
        "3. Two Way Anova means two or more independent variables with multiple levels/columns/categories\n",
        "\n",
        "4. Levels: Suppose you are treating Alcoholic Patients and trying to reduce their Alcohol Consumption. You might split the group in three groups/levels such as Medication, Medication & Counselling, Meditation and Exercise, Counselling Only. Here the levels would be the categories defined above and dependent variable would be Quantity/No of Alcoholic Beverages Consumed in a Day. This will be a good example of Two Way Anova.\n",
        "\n",
        "Thus, One Way Anova is study of comparing means/variance of two independent(unrelated) Groups Using F Distribution. For e.g. Researcher wants to study the Consumption of Tea on Weight Loss and Divides the group of People - Green Tea, Black Tea, English Tea or No Tea. Here we have one Numerical/Quantitative Variable and Another Categorical.\n",
        "\n",
        "In Two Way Anova, we have more than one Independent Variable Use a two way ANOVA when you have one measurement variable (i.e. a quantitative variable) and two nominal variables. In other words, if your experiment has a quantitative outcome and you have two categorical explanatory variables, a two way ANOVA is appropriate.\n",
        "\n",
        "The Categorical Variables are also called Factors in Anova.\n",
        "\n",
        "### Assumptions for Two Way ANOVA\n",
        "* Normal: The population must be close to a normal distribution.\n",
        "* Independent: Samples must be independent.\n",
        "* Variance: Population variances must be equal.\n",
        "* Equal Samples: Groups must have equal sample sizes.\n",
        "\n",
        "\n",
        "### About F Distribution\n",
        "\n",
        "\n",
        "To perform an ANOVA test, we need to compare two kinds of variation, the variation between the sample means, as well as the variation within each of our samples.\n",
        "\n",
        "2. We combine all of this variation into a single statistic, called the ​F statistic because it uses the F-distribution.\n",
        "\n",
        "### How to Calculate Anova Steps\n",
        "\n",
        "1. Find out the Degrees of Freedom for Within and Between\n",
        "\n",
        "2. DFn - Degrees of Freedom Between (Columns - 1) (Numerator)\n",
        "3. DFd - Degrees of Freedom Within (Total Data Points - Total Columns: N-k) (Denominator)\n",
        "\n",
        "4. Find the Mean of All the Columns and Grand Mean of the Data\n",
        "\n",
        "5. Sum of Square Total (SST) is sum of Difference of Data Point & Grand Mean Squared.\n",
        "\n",
        "5. Sum of Square Within (SSW) is the sum of Difference of Data Point and Column Mean Squared.\n",
        "\n",
        "6. Sum of Square Between (SSB) is the difference of SST and SSW (SST-SSW)\n",
        "\n",
        "7. Next We Calculate the Mean Square Between which is nothing but the variance and it is given by SSB/DFn\n",
        "\n",
        "8. Mean Square Within: SSw/dfd\n",
        "\n",
        "9. F Statistic = Mean Square Between / Mean Square Within\n",
        "\n",
        "10. Compare it with the Critical Value and conclude.\n"
      ]
    },
    {
      "cell_type": "code",
      "metadata": {
        "id": "AWt4QO_f2I2-",
        "colab_type": "code",
        "colab": {
          "base_uri": "https://localhost:8080/",
          "height": 34
        },
        "outputId": "6828a019-76c3-4262-fe27-3452c8464794"
      },
      "source": [
        "#from scipy import stats\n",
        "stats.f.ppf(q = 0.95, dfn = 2,dfd = 6) # Same as Excel: Confidence Level, DFN and DFD"
      ],
      "execution_count": 3,
      "outputs": [
        {
          "output_type": "execute_result",
          "data": {
            "text/plain": [
              "5.143252849784718"
            ]
          },
          "metadata": {
            "tags": []
          },
          "execution_count": 3
        }
      ]
    },
    {
      "cell_type": "code",
      "metadata": {
        "id": "n6RdnB9D2Oe8",
        "colab_type": "code",
        "colab": {}
      },
      "source": [
        "# Ho: No Difference in the Mean Across Three Levels mew1 = mew2 = mew3\n",
        "# H1: Significant Difference in the Mean Across Three Levels mew1 = mew2 = mew3\n",
        "import numpy as np\n",
        "import pandas as pd\n",
        "df = pd.DataFrame({\"Col1\":[1,2,5], \"Col2\":[2,4,2], \"Col3\": [2,3,4]})"
      ],
      "execution_count": 0,
      "outputs": []
    },
    {
      "cell_type": "code",
      "metadata": {
        "id": "xNMPHxKX5fQH",
        "colab_type": "code",
        "colab": {
          "base_uri": "https://localhost:8080/",
          "height": 142
        },
        "outputId": "dfa9a137-ece9-4112-8f67-2b8373a4b70c"
      },
      "source": [
        "df"
      ],
      "execution_count": 7,
      "outputs": [
        {
          "output_type": "execute_result",
          "data": {
            "text/html": [
              "<div>\n",
              "<style scoped>\n",
              "    .dataframe tbody tr th:only-of-type {\n",
              "        vertical-align: middle;\n",
              "    }\n",
              "\n",
              "    .dataframe tbody tr th {\n",
              "        vertical-align: top;\n",
              "    }\n",
              "\n",
              "    .dataframe thead th {\n",
              "        text-align: right;\n",
              "    }\n",
              "</style>\n",
              "<table border=\"1\" class=\"dataframe\">\n",
              "  <thead>\n",
              "    <tr style=\"text-align: right;\">\n",
              "      <th></th>\n",
              "      <th>Col1</th>\n",
              "      <th>Col2</th>\n",
              "      <th>Col3</th>\n",
              "    </tr>\n",
              "  </thead>\n",
              "  <tbody>\n",
              "    <tr>\n",
              "      <th>0</th>\n",
              "      <td>1</td>\n",
              "      <td>2</td>\n",
              "      <td>2</td>\n",
              "    </tr>\n",
              "    <tr>\n",
              "      <th>1</th>\n",
              "      <td>2</td>\n",
              "      <td>4</td>\n",
              "      <td>3</td>\n",
              "    </tr>\n",
              "    <tr>\n",
              "      <th>2</th>\n",
              "      <td>5</td>\n",
              "      <td>2</td>\n",
              "      <td>4</td>\n",
              "    </tr>\n",
              "  </tbody>\n",
              "</table>\n",
              "</div>"
            ],
            "text/plain": [
              "   Col1  Col2  Col3\n",
              "0     1     2     2\n",
              "1     2     4     3\n",
              "2     5     2     4"
            ]
          },
          "metadata": {
            "tags": []
          },
          "execution_count": 7
        }
      ]
    },
    {
      "cell_type": "code",
      "metadata": {
        "id": "ofmpDZaC5f0q",
        "colab_type": "code",
        "colab": {}
      },
      "source": [
        "from statsmodels.formula.api import ols\n",
        "from statsmodels.stats.anova import anova_lm\n",
        "import matplotlib.pyplot as plt\n",
        "import seaborn as sns"
      ],
      "execution_count": 0,
      "outputs": []
    },
    {
      "cell_type": "code",
      "metadata": {
        "id": "3aUjkGzE6LKe",
        "colab_type": "code",
        "colab": {
          "base_uri": "https://localhost:8080/",
          "height": 221
        },
        "outputId": "d52fed67-9f32-4602-8804-2d2453b7507b"
      },
      "source": [
        "model = ols(\"Col3~Col1+Col2\", data = df).fit()\n",
        "anovatab = anova_lm(model)\n",
        "print(anovatab)"
      ],
      "execution_count": 9,
      "outputs": [
        {
          "output_type": "stream",
          "text": [
            "           df        sum_sq   mean_sq    F  PR(>F)\n",
            "Col1      1.0  1.846154e+00  1.846154  0.0     NaN\n",
            "Col2      1.0  1.538462e-01  0.153846  0.0     NaN\n",
            "Residual  0.0  4.733165e-30       inf  NaN     NaN\n"
          ],
          "name": "stdout"
        },
        {
          "output_type": "stream",
          "text": [
            "/usr/local/lib/python3.6/dist-packages/statsmodels/stats/anova.py:140: RuntimeWarning: divide by zero encountered in double_scalars\n",
            "  (model.ssr / model.df_resid))\n",
            "/usr/local/lib/python3.6/dist-packages/scipy/stats/_distn_infrastructure.py:903: RuntimeWarning: invalid value encountered in greater\n",
            "  return (a < x) & (x < b)\n",
            "/usr/local/lib/python3.6/dist-packages/scipy/stats/_distn_infrastructure.py:903: RuntimeWarning: invalid value encountered in less\n",
            "  return (a < x) & (x < b)\n",
            "/usr/local/lib/python3.6/dist-packages/scipy/stats/_distn_infrastructure.py:1912: RuntimeWarning: invalid value encountered in less_equal\n",
            "  cond2 = cond0 & (x <= _a)\n"
          ],
          "name": "stderr"
        }
      ]
    },
    {
      "cell_type": "code",
      "metadata": {
        "id": "HgW4ZH-26VTB",
        "colab_type": "code",
        "colab": {
          "base_uri": "https://localhost:8080/",
          "height": 34
        },
        "outputId": "e8ce8d55-3c78-4c65-dd78-ee7e3c5f90a5"
      },
      "source": [
        "stats.f_oneway(df[\"Col1\"], df[\"Col2\"], df[\"Col3\"])"
      ],
      "execution_count": 12,
      "outputs": [
        {
          "output_type": "execute_result",
          "data": {
            "text/plain": [
              "F_onewayResult(statistic=0.049999999999999996, pvalue=0.9516215013591449)"
            ]
          },
          "metadata": {
            "tags": []
          },
          "execution_count": 12
        }
      ]
    },
    {
      "cell_type": "code",
      "metadata": {
        "id": "cRtJ0REK6eHy",
        "colab_type": "code",
        "colab": {
          "base_uri": "https://localhost:8080/",
          "height": 68
        },
        "outputId": "04f8fe6d-3e52-4555-dfd2-652b1a75e07a"
      },
      "source": [
        "# Check if Data is Normal\n",
        "#import scipy.stats as stats\n",
        "stats.shapiro(df[\"Col1\"]), stats.shapiro(df[\"Col2\"]), stats.shapiro(df[\"Col3\"])\n",
        "# This is to find if the Data is Normal or Not"
      ],
      "execution_count": 25,
      "outputs": [
        {
          "output_type": "execute_result",
          "data": {
            "text/plain": [
              "((0.923076868057251, 0.46326157450675964),\n",
              " (0.7500000596046448, -9.106917104872991e-07),\n",
              " (1.0, 0.999998927116394))"
            ]
          },
          "metadata": {
            "tags": []
          },
          "execution_count": 25
        }
      ]
    },
    {
      "cell_type": "code",
      "metadata": {
        "id": "7ZVIJ_YB7SIK",
        "colab_type": "code",
        "colab": {
          "base_uri": "https://localhost:8080/",
          "height": 34
        },
        "outputId": "965ead27-8af6-4411-9735-24fa71fcfc13"
      },
      "source": [
        "# Levene Test Tells us whether the Samples Have Equal Variance or not.\n",
        "# Ho: Variance is Equal across Samples.\n",
        "# H1: Ho is False.\n",
        "stats.levene(df[\"Col1\"], df[\"Col2\"], df[\"Col3\"])\n",
        "\n",
        "# p value is greater than threshold a = 0.05, therefore we \"fail to reject\" the null hypothesis \n",
        "# (conclusion: samples come from populations with the same variance)"
      ],
      "execution_count": 28,
      "outputs": [
        {
          "output_type": "execute_result",
          "data": {
            "text/plain": [
              "LeveneResult(statistic=0.3333333333333333, pvalue=0.7289999999999998)"
            ]
          },
          "metadata": {
            "tags": []
          },
          "execution_count": 28
        }
      ]
    },
    {
      "cell_type": "code",
      "metadata": {
        "id": "mWQQn8318Sdw",
        "colab_type": "code",
        "colab": {}
      },
      "source": [
        "# Lets Apply Manual Calculation\n",
        "# Find the Col Mean and Grand Mean\n",
        "col1_mean = df.mean()[0]\n",
        "col2_mean = df.mean()[1]\n",
        "col3_mean = df.mean()[2]\n",
        "grandmean = (col1_mean+col2_mean+col3_mean)/3"
      ],
      "execution_count": 0,
      "outputs": []
    },
    {
      "cell_type": "code",
      "metadata": {
        "id": "zMGsENJs82YV",
        "colab_type": "code",
        "colab": {}
      },
      "source": [
        "# Lets Find the Degrees of Freedom\n",
        "dfn = len(df.columns)-1 # DFBetween (Numerator)\n",
        "dfd = df.shape[0] * df.shape[1] - df.shape[1] # DFwithin  (Denominator) N-k"
      ],
      "execution_count": 0,
      "outputs": []
    },
    {
      "cell_type": "code",
      "metadata": {
        "id": "qw4dvfur9I_Q",
        "colab_type": "code",
        "colab": {}
      },
      "source": [
        "# Find the Sum of Square Total\n",
        "SST = np.sum((df[\"Col1\"]-grandmean)**2) + np.sum((df[\"Col2\"]-grandmean)**2) + np.sum((df[\"Col3\"]-grandmean)**2)"
      ],
      "execution_count": 0,
      "outputs": []
    },
    {
      "cell_type": "code",
      "metadata": {
        "id": "xSrL3Dox9ZcH",
        "colab_type": "code",
        "colab": {}
      },
      "source": [
        "# Find the Sum of Square Within\n",
        "SSW = np.sum((df[\"Col1\"]-col1_mean)**2) + np.sum((df[\"Col2\"]-col2_mean)**2) + np.sum((df[\"Col3\"]-col3_mean)**2)"
      ],
      "execution_count": 0,
      "outputs": []
    },
    {
      "cell_type": "code",
      "metadata": {
        "id": "Ey-XYS3E93wT",
        "colab_type": "code",
        "colab": {}
      },
      "source": [
        "# Find the Sum of Square Between\n",
        "SSB = SST - SSW"
      ],
      "execution_count": 0,
      "outputs": []
    },
    {
      "cell_type": "code",
      "metadata": {
        "id": "QxOXD7Rf-TFJ",
        "colab_type": "code",
        "colab": {
          "base_uri": "https://localhost:8080/",
          "height": 51
        },
        "outputId": "1b784386-f944-41a7-9a63-f528b1c6d401"
      },
      "source": [
        "# Find the Mean Square Between: SSB/DFbetween\n",
        "MSB = SSB/dfn\n",
        "\n",
        "# Find the Mean Square Within: SSB/DFbetween\n",
        "MSW = SSW/dfd\n",
        "\n",
        "# Calculate the F Statistic\n",
        "f_stats = MSB/MSW\n",
        "\n",
        "print(f_stats)\n",
        "\n",
        "# Find the F Critical\n",
        "stats.f.ppf(0.95, dfn, dfd)\n",
        "\n",
        "# Conclusion: Since the F Stats< FCritical and hence we fail to reject the Ho.\n",
        "# Meaning that the Mean Distribution is Nearly Same across all the 3 Groups."
      ],
      "execution_count": 56,
      "outputs": [
        {
          "output_type": "stream",
          "text": [
            "0.04999999999999942\n"
          ],
          "name": "stdout"
        },
        {
          "output_type": "execute_result",
          "data": {
            "text/plain": [
              "5.143252849784718"
            ]
          },
          "metadata": {
            "tags": []
          },
          "execution_count": 56
        }
      ]
    },
    {
      "cell_type": "markdown",
      "metadata": {
        "id": "1Iu9mcjgH_cS",
        "colab_type": "text"
      },
      "source": [
        "## Two Way Anova Example\n",
        "\n",
        "* The Dataset has Two Factors (Independent Variables) - Genotype and Years Genotypes and years has 05 and 03 levels respectively.\n",
        "\n",
        "* Since there are Two Factors to Evaluate and therefore it is Termed as Two Way Anova.\n",
        "\n",
        "* Here, using two-way ANOVA, we can simultaneously evaluate how type of genotype and years affects the yields of plants.\n",
        "\n",
        "* If you apply one-way ANOVA here, you can able to evaluate only one factor at a time.\n",
        "\n",
        "* From two-way ANOVA, we can tests three hypotheses 1) effect of genotype on yield 2) effect of time (years) on yield, and 3) effect of genotype and time (years) interactions on yield\n",
        "\n"
      ]
    },
    {
      "cell_type": "code",
      "metadata": {
        "id": "1u-Go1YW-yE_",
        "colab_type": "code",
        "colab": {}
      },
      "source": [
        "# Two way Anova\n",
        "d = pd.read_csv(\"https://reneshbedre.github.io/assets/posts/anova/twowayanova.txt\", sep=\"\\t\")"
      ],
      "execution_count": 0,
      "outputs": []
    },
    {
      "cell_type": "code",
      "metadata": {
        "id": "FkiAqXVwHotM",
        "colab_type": "code",
        "colab": {
          "base_uri": "https://localhost:8080/",
          "height": 204
        },
        "outputId": "d4d8807b-8a93-4af1-dc2a-305b850273d8"
      },
      "source": [
        "d.head()"
      ],
      "execution_count": 62,
      "outputs": [
        {
          "output_type": "execute_result",
          "data": {
            "text/html": [
              "<div>\n",
              "<style scoped>\n",
              "    .dataframe tbody tr th:only-of-type {\n",
              "        vertical-align: middle;\n",
              "    }\n",
              "\n",
              "    .dataframe tbody tr th {\n",
              "        vertical-align: top;\n",
              "    }\n",
              "\n",
              "    .dataframe thead th {\n",
              "        text-align: right;\n",
              "    }\n",
              "</style>\n",
              "<table border=\"1\" class=\"dataframe\">\n",
              "  <thead>\n",
              "    <tr style=\"text-align: right;\">\n",
              "      <th></th>\n",
              "      <th>Genotype</th>\n",
              "      <th>1_year</th>\n",
              "      <th>2_year</th>\n",
              "      <th>3_year</th>\n",
              "    </tr>\n",
              "  </thead>\n",
              "  <tbody>\n",
              "    <tr>\n",
              "      <th>0</th>\n",
              "      <td>A</td>\n",
              "      <td>1.53</td>\n",
              "      <td>4.08</td>\n",
              "      <td>6.69</td>\n",
              "    </tr>\n",
              "    <tr>\n",
              "      <th>1</th>\n",
              "      <td>A</td>\n",
              "      <td>1.83</td>\n",
              "      <td>3.84</td>\n",
              "      <td>5.97</td>\n",
              "    </tr>\n",
              "    <tr>\n",
              "      <th>2</th>\n",
              "      <td>A</td>\n",
              "      <td>1.38</td>\n",
              "      <td>3.96</td>\n",
              "      <td>6.33</td>\n",
              "    </tr>\n",
              "    <tr>\n",
              "      <th>3</th>\n",
              "      <td>B</td>\n",
              "      <td>3.60</td>\n",
              "      <td>5.70</td>\n",
              "      <td>8.55</td>\n",
              "    </tr>\n",
              "    <tr>\n",
              "      <th>4</th>\n",
              "      <td>B</td>\n",
              "      <td>2.94</td>\n",
              "      <td>5.07</td>\n",
              "      <td>7.95</td>\n",
              "    </tr>\n",
              "  </tbody>\n",
              "</table>\n",
              "</div>"
            ],
            "text/plain": [
              "  Genotype  1_year  2_year  3_year\n",
              "0        A    1.53    4.08    6.69\n",
              "1        A    1.83    3.84    5.97\n",
              "2        A    1.38    3.96    6.33\n",
              "3        B    3.60    5.70    8.55\n",
              "4        B    2.94    5.07    7.95"
            ]
          },
          "metadata": {
            "tags": []
          },
          "execution_count": 62
        }
      ]
    },
    {
      "cell_type": "code",
      "metadata": {
        "id": "PKNWvcW2HpV9",
        "colab_type": "code",
        "colab": {
          "base_uri": "https://localhost:8080/",
          "height": 296
        },
        "outputId": "fa49a756-0c68-47eb-e525-096cf9fa384b"
      },
      "source": [
        "d_melt = pd.melt(d, id_vars=['Genotype'], value_vars=['1_year', '2_year', '3_year'])\n",
        "# replace column names\n",
        "d_melt.columns = ['Genotype', 'years', 'value']\n",
        "# generate a boxplot to see the data distribution by genotypes and years. Using boxplot, we can easily detect the \n",
        "# differences between different groups\n",
        "sns.boxplot(x=\"Genotype\", y=\"value\", hue=\"years\", data=d_melt, palette=\"Set2\") "
      ],
      "execution_count": 69,
      "outputs": [
        {
          "output_type": "execute_result",
          "data": {
            "text/plain": [
              "<matplotlib.axes._subplots.AxesSubplot at 0x7fb0899284e0>"
            ]
          },
          "metadata": {
            "tags": []
          },
          "execution_count": 69
        },
        {
          "output_type": "display_data",
          "data": {
            "image/png": "[encoded data removed]",
            "text/plain": [
              "<Figure size 432x288 with 1 Axes>"
            ]
          },
          "metadata": {
            "tags": [],
            "needs_background": "light"
          }
        }
      ]
    },
    {
      "cell_type": "code",
      "metadata": {
        "id": "KJRidIR5IwCl",
        "colab_type": "code",
        "colab": {
          "base_uri": "https://localhost:8080/",
          "height": 204
        },
        "outputId": "510582f2-e9ad-4832-c34a-02de419c73ff"
      },
      "source": [
        "d_melt.head()"
      ],
      "execution_count": 67,
      "outputs": [
        {
          "output_type": "execute_result",
          "data": {
            "text/html": [
              "<div>\n",
              "<style scoped>\n",
              "    .dataframe tbody tr th:only-of-type {\n",
              "        vertical-align: middle;\n",
              "    }\n",
              "\n",
              "    .dataframe tbody tr th {\n",
              "        vertical-align: top;\n",
              "    }\n",
              "\n",
              "    .dataframe thead th {\n",
              "        text-align: right;\n",
              "    }\n",
              "</style>\n",
              "<table border=\"1\" class=\"dataframe\">\n",
              "  <thead>\n",
              "    <tr style=\"text-align: right;\">\n",
              "      <th></th>\n",
              "      <th>Genotype</th>\n",
              "      <th>years</th>\n",
              "      <th>value</th>\n",
              "    </tr>\n",
              "  </thead>\n",
              "  <tbody>\n",
              "    <tr>\n",
              "      <th>0</th>\n",
              "      <td>A</td>\n",
              "      <td>1_year</td>\n",
              "      <td>1.53</td>\n",
              "    </tr>\n",
              "    <tr>\n",
              "      <th>1</th>\n",
              "      <td>A</td>\n",
              "      <td>1_year</td>\n",
              "      <td>1.83</td>\n",
              "    </tr>\n",
              "    <tr>\n",
              "      <th>2</th>\n",
              "      <td>A</td>\n",
              "      <td>1_year</td>\n",
              "      <td>1.38</td>\n",
              "    </tr>\n",
              "    <tr>\n",
              "      <th>3</th>\n",
              "      <td>B</td>\n",
              "      <td>1_year</td>\n",
              "      <td>3.60</td>\n",
              "    </tr>\n",
              "    <tr>\n",
              "      <th>4</th>\n",
              "      <td>B</td>\n",
              "      <td>1_year</td>\n",
              "      <td>2.94</td>\n",
              "    </tr>\n",
              "  </tbody>\n",
              "</table>\n",
              "</div>"
            ],
            "text/plain": [
              "  Genotype   years  value\n",
              "0        A  1_year   1.53\n",
              "1        A  1_year   1.83\n",
              "2        A  1_year   1.38\n",
              "3        B  1_year   3.60\n",
              "4        B  1_year   2.94"
            ]
          },
          "metadata": {
            "tags": []
          },
          "execution_count": 67
        }
      ]
    },
    {
      "cell_type": "code",
      "metadata": {
        "id": "RNl-bVagI6Fj",
        "colab_type": "code",
        "colab": {
          "base_uri": "https://localhost:8080/",
          "height": 173
        },
        "outputId": "406db8ff-17ab-4e8e-ee28-5e8f208149bc"
      },
      "source": [
        "# load packages\n",
        "import statsmodels.api as sm\n",
        "from statsmodels.formula.api import ols\n",
        "\n",
        "# Ordinary Least Squares (OLS) model\n",
        "# C(Genotype):C(years) represent interaction term\n",
        "model = ols('value ~ Genotype + years + Genotype:years', data=d_melt).fit()\n",
        "anova_table = sm.stats.anova_lm(model)\n",
        "anova_table"
      ],
      "execution_count": 89,
      "outputs": [
        {
          "output_type": "execute_result",
          "data": {
            "text/html": [
              "<div>\n",
              "<style scoped>\n",
              "    .dataframe tbody tr th:only-of-type {\n",
              "        vertical-align: middle;\n",
              "    }\n",
              "\n",
              "    .dataframe tbody tr th {\n",
              "        vertical-align: top;\n",
              "    }\n",
              "\n",
              "    .dataframe thead th {\n",
              "        text-align: right;\n",
              "    }\n",
              "</style>\n",
              "<table border=\"1\" class=\"dataframe\">\n",
              "  <thead>\n",
              "    <tr style=\"text-align: right;\">\n",
              "      <th></th>\n",
              "      <th>df</th>\n",
              "      <th>sum_sq</th>\n",
              "      <th>mean_sq</th>\n",
              "      <th>F</th>\n",
              "      <th>PR(&gt;F)</th>\n",
              "    </tr>\n",
              "  </thead>\n",
              "  <tbody>\n",
              "    <tr>\n",
              "      <th>Genotype</th>\n",
              "      <td>5.0</td>\n",
              "      <td>58.551733</td>\n",
              "      <td>11.710347</td>\n",
              "      <td>32.748581</td>\n",
              "      <td>1.931655e-12</td>\n",
              "    </tr>\n",
              "    <tr>\n",
              "      <th>years</th>\n",
              "      <td>2.0</td>\n",
              "      <td>278.925633</td>\n",
              "      <td>139.462817</td>\n",
              "      <td>390.014868</td>\n",
              "      <td>4.006243e-25</td>\n",
              "    </tr>\n",
              "    <tr>\n",
              "      <th>Genotype:years</th>\n",
              "      <td>10.0</td>\n",
              "      <td>17.122967</td>\n",
              "      <td>1.712297</td>\n",
              "      <td>4.788525</td>\n",
              "      <td>2.230094e-04</td>\n",
              "    </tr>\n",
              "    <tr>\n",
              "      <th>Residual</th>\n",
              "      <td>36.0</td>\n",
              "      <td>12.873000</td>\n",
              "      <td>0.357583</td>\n",
              "      <td>NaN</td>\n",
              "      <td>NaN</td>\n",
              "    </tr>\n",
              "  </tbody>\n",
              "</table>\n",
              "</div>"
            ],
            "text/plain": [
              "                  df      sum_sq     mean_sq           F        PR(>F)\n",
              "Genotype         5.0   58.551733   11.710347   32.748581  1.931655e-12\n",
              "years            2.0  278.925633  139.462817  390.014868  4.006243e-25\n",
              "Genotype:years  10.0   17.122967    1.712297    4.788525  2.230094e-04\n",
              "Residual        36.0   12.873000    0.357583         NaN           NaN"
            ]
          },
          "metadata": {
            "tags": []
          },
          "execution_count": 89
        }
      ]
    },
    {
      "cell_type": "markdown",
      "metadata": {
        "id": "FxdOcN4KKJIZ",
        "colab_type": "text"
      },
      "source": [
        "## Conclusion\n",
        "\n",
        "Interpretation: The P-value obtained from ANOVA analysis for genotype, years, and interaction are statistically significant (P<0.05). \n",
        "\n",
        "We conclude that type of genotype significantly affects the yield outcome, time (years) significantly affects the yield outcome, and interaction of both genotype and time (years) significantly affects the yield outcome.\n",
        "\n",
        "Note: Now, we know that genotype and time (years) differences are statistically significant, but ANOVA does not tell which genotype and time (years) are significantly different from each other. To know the pairs of significant different genotype and time (years), perform multiple pairwise comparison (Post-hoc comparison) analysis using Tukey HSD test.\n",
        "\n"
      ]
    },
    {
      "cell_type": "code",
      "metadata": {
        "id": "HrEAbCoXJkID",
        "colab_type": "code",
        "colab": {
          "base_uri": "https://localhost:8080/",
          "height": 153
        },
        "outputId": "6a0d5ce5-78ec-424f-9770-8b31541053fc"
      },
      "source": [
        "# load packages\n",
        "from statsmodels.stats.multicomp import pairwise_tukeyhsd\n",
        "# perform multiple pairwise comparison (Tukey HSD)\n",
        "m_comp = pairwise_tukeyhsd(endog=d_melt['value'], groups=d_melt[\"years\"], alpha=0.05)\n",
        "print(m_comp)"
      ],
      "execution_count": 86,
      "outputs": [
        {
          "output_type": "stream",
          "text": [
            "Multiple Comparison of Means - Tukey HSD, FWER=0.05\n",
            "=================================================\n",
            "group1 group2 meandiff p-adj lower  upper  reject\n",
            "-------------------------------------------------\n",
            "1_year 2_year   2.1467 0.001 1.0864 3.2069   True\n",
            "1_year 3_year   5.5217 0.001 4.4614 6.5819   True\n",
            "2_year 3_year    3.375 0.001 2.3147 4.4353   True\n",
            "-------------------------------------------------\n"
          ],
          "name": "stdout"
        }
      ]
    },
    {
      "cell_type": "code",
      "metadata": {
        "id": "it34fZJDLbAT",
        "colab_type": "code",
        "colab": {
          "base_uri": "https://localhost:8080/",
          "height": 122
        },
        "outputId": "c156810f-b744-4b4d-c033-5e9083a31141"
      },
      "source": [
        "from google.colab import drive\n",
        "drive.mount('/gdrive')"
      ],
      "execution_count": 91,
      "outputs": [
        {
          "output_type": "stream",
          "text": [
            "Go to this URL in a browser: https://accounts.google.com/o/oauth2/auth?client_id=947318989803-6bn6qk8qdgf4n4g3pfee6491hc0brc4i.apps.googleusercontent.com&redirect_uri=urn%3aietf%3awg%3aoauth%3a2.0%3aoob&response_type=code&scope=email%20https%3a%2f%2fwww.googleapis.com%2fauth%2fdocs.test%20https%3a%2f%2fwww.googleapis.com%2fauth%2fdrive%20https%3a%2f%2fwww.googleapis.com%2fauth%2fdrive.photos.readonly%20https%3a%2f%2fwww.googleapis.com%2fauth%2fpeopleapi.readonly\n",
            "\n",
            "Enter your authorization code:\n",
            "··········\n",
            "Mounted at /gdrive\n"
          ],
          "name": "stdout"
        }
      ]
    },
    {
      "cell_type": "code",
      "metadata": {
        "id": "uisUWwp8OpnE",
        "colab_type": "code",
        "colab": {}
      },
      "source": [
        "crop = pd.read_csv(\"/gdrive/My Drive/Colab Notebooks/anova2.csv\")"
      ],
      "execution_count": 0,
      "outputs": []
    },
    {
      "cell_type": "code",
      "metadata": {
        "id": "huJ8TC2vO2Lh",
        "colab_type": "code",
        "colab": {
          "base_uri": "https://localhost:8080/",
          "height": 204
        },
        "outputId": "14ca0cb0-9792-40a8-d5a2-0b43ae505b5c"
      },
      "source": [
        "crop.head()"
      ],
      "execution_count": 93,
      "outputs": [
        {
          "output_type": "execute_result",
          "data": {
            "text/html": [
              "<div>\n",
              "<style scoped>\n",
              "    .dataframe tbody tr th:only-of-type {\n",
              "        vertical-align: middle;\n",
              "    }\n",
              "\n",
              "    .dataframe tbody tr th {\n",
              "        vertical-align: top;\n",
              "    }\n",
              "\n",
              "    .dataframe thead th {\n",
              "        text-align: right;\n",
              "    }\n",
              "</style>\n",
              "<table border=\"1\" class=\"dataframe\">\n",
              "  <thead>\n",
              "    <tr style=\"text-align: right;\">\n",
              "      <th></th>\n",
              "      <th>Blend</th>\n",
              "      <th>Crop</th>\n",
              "      <th>Yield</th>\n",
              "    </tr>\n",
              "  </thead>\n",
              "  <tbody>\n",
              "    <tr>\n",
              "      <th>0</th>\n",
              "      <td>Blend X</td>\n",
              "      <td>Wheat</td>\n",
              "      <td>123</td>\n",
              "    </tr>\n",
              "    <tr>\n",
              "      <th>1</th>\n",
              "      <td>Blend X</td>\n",
              "      <td>Wheat</td>\n",
              "      <td>156</td>\n",
              "    </tr>\n",
              "    <tr>\n",
              "      <th>2</th>\n",
              "      <td>Blend X</td>\n",
              "      <td>Wheat</td>\n",
              "      <td>112</td>\n",
              "    </tr>\n",
              "    <tr>\n",
              "      <th>3</th>\n",
              "      <td>Blend X</td>\n",
              "      <td>Wheat</td>\n",
              "      <td>100</td>\n",
              "    </tr>\n",
              "    <tr>\n",
              "      <th>4</th>\n",
              "      <td>Blend X</td>\n",
              "      <td>Corn</td>\n",
              "      <td>128</td>\n",
              "    </tr>\n",
              "  </tbody>\n",
              "</table>\n",
              "</div>"
            ],
            "text/plain": [
              "     Blend   Crop  Yield\n",
              "0  Blend X  Wheat    123\n",
              "1  Blend X  Wheat    156\n",
              "2  Blend X  Wheat    112\n",
              "3  Blend X  Wheat    100\n",
              "4  Blend X   Corn    128"
            ]
          },
          "metadata": {
            "tags": []
          },
          "execution_count": 93
        }
      ]
    },
    {
      "cell_type": "code",
      "metadata": {
        "id": "oMZ-XwZyO3jz",
        "colab_type": "code",
        "colab": {
          "base_uri": "https://localhost:8080/",
          "height": 173
        },
        "outputId": "4ff8647e-b4be-4d3d-ff73-6973aa7bc02e"
      },
      "source": [
        "model = ols('Yield ~ Blend + Crop + Blend:Crop', data=crop).fit()\n",
        "anova_table = sm.stats.anova_lm(model)\n",
        "anova_table\n",
        "\n",
        "# Interpretation: The P-value obtained from ANOVA analysis for Blend, Crop, \n",
        "# and interaction are Not statistically significant (P<0.05)."
      ],
      "execution_count": 95,
      "outputs": [
        {
          "output_type": "execute_result",
          "data": {
            "text/html": [
              "<div>\n",
              "<style scoped>\n",
              "    .dataframe tbody tr th:only-of-type {\n",
              "        vertical-align: middle;\n",
              "    }\n",
              "\n",
              "    .dataframe tbody tr th {\n",
              "        vertical-align: top;\n",
              "    }\n",
              "\n",
              "    .dataframe thead th {\n",
              "        text-align: right;\n",
              "    }\n",
              "</style>\n",
              "<table border=\"1\" class=\"dataframe\">\n",
              "  <thead>\n",
              "    <tr style=\"text-align: right;\">\n",
              "      <th></th>\n",
              "      <th>df</th>\n",
              "      <th>sum_sq</th>\n",
              "      <th>mean_sq</th>\n",
              "      <th>F</th>\n",
              "      <th>PR(&gt;F)</th>\n",
              "    </tr>\n",
              "  </thead>\n",
              "  <tbody>\n",
              "    <tr>\n",
              "      <th>Blend</th>\n",
              "      <td>1.0</td>\n",
              "      <td>2.041667</td>\n",
              "      <td>2.041667</td>\n",
              "      <td>0.003768</td>\n",
              "      <td>0.951730</td>\n",
              "    </tr>\n",
              "    <tr>\n",
              "      <th>Crop</th>\n",
              "      <td>2.0</td>\n",
              "      <td>2736.583333</td>\n",
              "      <td>1368.291667</td>\n",
              "      <td>2.525235</td>\n",
              "      <td>0.107978</td>\n",
              "    </tr>\n",
              "    <tr>\n",
              "      <th>Blend:Crop</th>\n",
              "      <td>2.0</td>\n",
              "      <td>2360.083333</td>\n",
              "      <td>1180.041667</td>\n",
              "      <td>2.177813</td>\n",
              "      <td>0.142223</td>\n",
              "    </tr>\n",
              "    <tr>\n",
              "      <th>Residual</th>\n",
              "      <td>18.0</td>\n",
              "      <td>9753.250000</td>\n",
              "      <td>541.847222</td>\n",
              "      <td>NaN</td>\n",
              "      <td>NaN</td>\n",
              "    </tr>\n",
              "  </tbody>\n",
              "</table>\n",
              "</div>"
            ],
            "text/plain": [
              "              df       sum_sq      mean_sq         F    PR(>F)\n",
              "Blend        1.0     2.041667     2.041667  0.003768  0.951730\n",
              "Crop         2.0  2736.583333  1368.291667  2.525235  0.107978\n",
              "Blend:Crop   2.0  2360.083333  1180.041667  2.177813  0.142223\n",
              "Residual    18.0  9753.250000   541.847222       NaN       NaN"
            ]
          },
          "metadata": {
            "tags": []
          },
          "execution_count": 95
        }
      ]
    },
    {
      "cell_type": "code",
      "metadata": {
        "id": "tIkrVH7cPDoj",
        "colab_type": "code",
        "colab": {}
      },
      "source": [
        "test = pd.read_csv(\"/gdrive/My Drive/Colab Notebooks/train_HK6lq50.csv\")"
      ],
      "execution_count": 0,
      "outputs": []
    },
    {
      "cell_type": "code",
      "metadata": {
        "id": "x1bMRhkrPQfD",
        "colab_type": "code",
        "colab": {
          "base_uri": "https://localhost:8080/",
          "height": 275
        },
        "outputId": "a21e2460-e957-4355-beb8-59fb93711f73"
      },
      "source": [
        "#newtest = test.dropna()\n",
        "newtest.head()"
      ],
      "execution_count": 117,
      "outputs": [
        {
          "output_type": "execute_result",
          "data": {
            "text/html": [
              "<div>\n",
              "<style scoped>\n",
              "    .dataframe tbody tr th:only-of-type {\n",
              "        vertical-align: middle;\n",
              "    }\n",
              "\n",
              "    .dataframe tbody tr th {\n",
              "        vertical-align: top;\n",
              "    }\n",
              "\n",
              "    .dataframe thead th {\n",
              "        text-align: right;\n",
              "    }\n",
              "</style>\n",
              "<table border=\"1\" class=\"dataframe\">\n",
              "  <thead>\n",
              "    <tr style=\"text-align: right;\">\n",
              "      <th></th>\n",
              "      <th>id</th>\n",
              "      <th>program_id</th>\n",
              "      <th>program_type</th>\n",
              "      <th>program_duration</th>\n",
              "      <th>test_id</th>\n",
              "      <th>test_type</th>\n",
              "      <th>difficulty_level</th>\n",
              "      <th>trainee_id</th>\n",
              "      <th>gender</th>\n",
              "      <th>education</th>\n",
              "      <th>city_tier</th>\n",
              "      <th>age</th>\n",
              "      <th>total_programs_enrolled</th>\n",
              "      <th>is_handicapped</th>\n",
              "      <th>trainee_engagement_rating</th>\n",
              "      <th>is_pass</th>\n",
              "    </tr>\n",
              "  </thead>\n",
              "  <tbody>\n",
              "    <tr>\n",
              "      <th>0</th>\n",
              "      <td>9389_150</td>\n",
              "      <td>Y_1</td>\n",
              "      <td>Y</td>\n",
              "      <td>136</td>\n",
              "      <td>150</td>\n",
              "      <td>offline</td>\n",
              "      <td>intermediate</td>\n",
              "      <td>9389</td>\n",
              "      <td>M</td>\n",
              "      <td>Matriculation</td>\n",
              "      <td>3</td>\n",
              "      <td>24.0</td>\n",
              "      <td>5</td>\n",
              "      <td>N</td>\n",
              "      <td>1.0</td>\n",
              "      <td>0</td>\n",
              "    </tr>\n",
              "    <tr>\n",
              "      <th>1</th>\n",
              "      <td>16523_44</td>\n",
              "      <td>T_1</td>\n",
              "      <td>T</td>\n",
              "      <td>131</td>\n",
              "      <td>44</td>\n",
              "      <td>offline</td>\n",
              "      <td>easy</td>\n",
              "      <td>16523</td>\n",
              "      <td>F</td>\n",
              "      <td>High School Diploma</td>\n",
              "      <td>4</td>\n",
              "      <td>26.0</td>\n",
              "      <td>2</td>\n",
              "      <td>N</td>\n",
              "      <td>3.0</td>\n",
              "      <td>1</td>\n",
              "    </tr>\n",
              "    <tr>\n",
              "      <th>2</th>\n",
              "      <td>13987_178</td>\n",
              "      <td>Z_2</td>\n",
              "      <td>Z</td>\n",
              "      <td>120</td>\n",
              "      <td>178</td>\n",
              "      <td>online</td>\n",
              "      <td>easy</td>\n",
              "      <td>13987</td>\n",
              "      <td>M</td>\n",
              "      <td>Matriculation</td>\n",
              "      <td>1</td>\n",
              "      <td>40.0</td>\n",
              "      <td>1</td>\n",
              "      <td>N</td>\n",
              "      <td>2.0</td>\n",
              "      <td>1</td>\n",
              "    </tr>\n",
              "    <tr>\n",
              "      <th>4</th>\n",
              "      <td>10591_84</td>\n",
              "      <td>V_3</td>\n",
              "      <td>V</td>\n",
              "      <td>131</td>\n",
              "      <td>84</td>\n",
              "      <td>offline</td>\n",
              "      <td>intermediate</td>\n",
              "      <td>10591</td>\n",
              "      <td>F</td>\n",
              "      <td>High School Diploma</td>\n",
              "      <td>1</td>\n",
              "      <td>42.0</td>\n",
              "      <td>2</td>\n",
              "      <td>N</td>\n",
              "      <td>4.0</td>\n",
              "      <td>1</td>\n",
              "    </tr>\n",
              "    <tr>\n",
              "      <th>5</th>\n",
              "      <td>12531_23</td>\n",
              "      <td>T_3</td>\n",
              "      <td>T</td>\n",
              "      <td>134</td>\n",
              "      <td>23</td>\n",
              "      <td>offline</td>\n",
              "      <td>intermediate</td>\n",
              "      <td>12531</td>\n",
              "      <td>F</td>\n",
              "      <td>High School Diploma</td>\n",
              "      <td>1</td>\n",
              "      <td>29.0</td>\n",
              "      <td>4</td>\n",
              "      <td>N</td>\n",
              "      <td>2.0</td>\n",
              "      <td>0</td>\n",
              "    </tr>\n",
              "  </tbody>\n",
              "</table>\n",
              "</div>"
            ],
            "text/plain": [
              "          id program_id  ... trainee_engagement_rating  is_pass\n",
              "0   9389_150        Y_1  ...                       1.0        0\n",
              "1   16523_44        T_1  ...                       3.0        1\n",
              "2  13987_178        Z_2  ...                       2.0        1\n",
              "4   10591_84        V_3  ...                       4.0        1\n",
              "5   12531_23        T_3  ...                       2.0        0\n",
              "\n",
              "[5 rows x 16 columns]"
            ]
          },
          "metadata": {
            "tags": []
          },
          "execution_count": 117
        }
      ]
    },
    {
      "cell_type": "code",
      "metadata": {
        "id": "NptMDkMMQAAm",
        "colab_type": "code",
        "colab": {
          "base_uri": "https://localhost:8080/",
          "height": 111
        },
        "outputId": "0bd7e8b0-e6fd-4764-c23e-505ba7f20774"
      },
      "source": [
        "# Has Program Duration any impact on Pass or Fail\n",
        "model = ols('is_pass~program_duration', data=newtest).fit()\n",
        "anova_table = sm.stats.anova_lm(model)\n",
        "anova_table\n",
        "\n",
        "# No Impact of Program Duration"
      ],
      "execution_count": 115,
      "outputs": [
        {
          "output_type": "execute_result",
          "data": {
            "text/html": [
              "<div>\n",
              "<style scoped>\n",
              "    .dataframe tbody tr th:only-of-type {\n",
              "        vertical-align: middle;\n",
              "    }\n",
              "\n",
              "    .dataframe tbody tr th {\n",
              "        vertical-align: top;\n",
              "    }\n",
              "\n",
              "    .dataframe thead th {\n",
              "        text-align: right;\n",
              "    }\n",
              "</style>\n",
              "<table border=\"1\" class=\"dataframe\">\n",
              "  <thead>\n",
              "    <tr style=\"text-align: right;\">\n",
              "      <th></th>\n",
              "      <th>df</th>\n",
              "      <th>sum_sq</th>\n",
              "      <th>mean_sq</th>\n",
              "      <th>F</th>\n",
              "      <th>PR(&gt;F)</th>\n",
              "    </tr>\n",
              "  </thead>\n",
              "  <tbody>\n",
              "    <tr>\n",
              "      <th>program_duration</th>\n",
              "      <td>1.0</td>\n",
              "      <td>0.231416</td>\n",
              "      <td>0.231416</td>\n",
              "      <td>1.090388</td>\n",
              "      <td>0.296391</td>\n",
              "    </tr>\n",
              "    <tr>\n",
              "      <th>Residual</th>\n",
              "      <td>45370.0</td>\n",
              "      <td>9628.999652</td>\n",
              "      <td>0.212233</td>\n",
              "      <td>NaN</td>\n",
              "      <td>NaN</td>\n",
              "    </tr>\n",
              "  </tbody>\n",
              "</table>\n",
              "</div>"
            ],
            "text/plain": [
              "                       df       sum_sq   mean_sq         F    PR(>F)\n",
              "program_duration      1.0     0.231416  0.231416  1.090388  0.296391\n",
              "Residual          45370.0  9628.999652  0.212233       NaN       NaN"
            ]
          },
          "metadata": {
            "tags": []
          },
          "execution_count": 115
        }
      ]
    },
    {
      "cell_type": "code",
      "metadata": {
        "id": "hNtsri63Q5zL",
        "colab_type": "code",
        "colab": {
          "base_uri": "https://localhost:8080/",
          "height": 51
        },
        "outputId": "c8b806f9-f8f2-4e62-8375-6891ce4c9a11"
      },
      "source": [
        "# Has the Exam Difficulty Level Any Role in Pass/Fail\n",
        "data = pd.crosstab(newtest.difficulty_level, newtest.is_pass)\n",
        "teststats, pvalue, df, exp_freq = stats.chi2_contingency(data)\n",
        "print(\"Test Statistics: \", teststats)\n",
        "print(\"PValue: \", pvalue)\n",
        "\n",
        "# Represents that the Difficulty Level has role in Pass & Fail"
      ],
      "execution_count": 116,
      "outputs": [
        {
          "output_type": "stream",
          "text": [
            "Test Statistics:  712.7864719642091\n",
            "PValue:  3.543333459044808e-154\n"
          ],
          "name": "stdout"
        }
      ]
    },
    {
      "cell_type": "code",
      "metadata": {
        "id": "bHKvi6CQRW86",
        "colab_type": "code",
        "colab": {
          "base_uri": "https://localhost:8080/",
          "height": 173
        },
        "outputId": "c781f7ff-1d2b-4be5-8cc0-256afeda1032"
      },
      "source": [
        "# Has the Test Type and Is_Pass any Contribution in the Rating of the Trainee\n",
        "model = ols('trainee_engagement_rating~is_pass+test_type+test_type:is_pass', data=newtest).fit()\n",
        "anova_table = sm.stats.anova_lm(model)\n",
        "anova_table\n",
        "\n",
        "# Test Type and Pass Fail has an Impact on the Rating"
      ],
      "execution_count": 132,
      "outputs": [
        {
          "output_type": "execute_result",
          "data": {
            "text/html": [
              "<div>\n",
              "<style scoped>\n",
              "    .dataframe tbody tr th:only-of-type {\n",
              "        vertical-align: middle;\n",
              "    }\n",
              "\n",
              "    .dataframe tbody tr th {\n",
              "        vertical-align: top;\n",
              "    }\n",
              "\n",
              "    .dataframe thead th {\n",
              "        text-align: right;\n",
              "    }\n",
              "</style>\n",
              "<table border=\"1\" class=\"dataframe\">\n",
              "  <thead>\n",
              "    <tr style=\"text-align: right;\">\n",
              "      <th></th>\n",
              "      <th>df</th>\n",
              "      <th>sum_sq</th>\n",
              "      <th>mean_sq</th>\n",
              "      <th>F</th>\n",
              "      <th>PR(&gt;F)</th>\n",
              "    </tr>\n",
              "  </thead>\n",
              "  <tbody>\n",
              "    <tr>\n",
              "      <th>test_type</th>\n",
              "      <td>1.0</td>\n",
              "      <td>845.670402</td>\n",
              "      <td>845.670402</td>\n",
              "      <td>499.224040</td>\n",
              "      <td>5.511588e-110</td>\n",
              "    </tr>\n",
              "    <tr>\n",
              "      <th>is_pass</th>\n",
              "      <td>1.0</td>\n",
              "      <td>2853.727122</td>\n",
              "      <td>2853.727122</td>\n",
              "      <td>1684.638813</td>\n",
              "      <td>0.000000e+00</td>\n",
              "    </tr>\n",
              "    <tr>\n",
              "      <th>test_type:is_pass</th>\n",
              "      <td>1.0</td>\n",
              "      <td>141.513768</td>\n",
              "      <td>141.513768</td>\n",
              "      <td>83.539727</td>\n",
              "      <td>6.495300e-20</td>\n",
              "    </tr>\n",
              "    <tr>\n",
              "      <th>Residual</th>\n",
              "      <td>45368.0</td>\n",
              "      <td>76852.017805</td>\n",
              "      <td>1.693970</td>\n",
              "      <td>NaN</td>\n",
              "      <td>NaN</td>\n",
              "    </tr>\n",
              "  </tbody>\n",
              "</table>\n",
              "</div>"
            ],
            "text/plain": [
              "                        df        sum_sq  ...            F         PR(>F)\n",
              "test_type              1.0    845.670402  ...   499.224040  5.511588e-110\n",
              "is_pass                1.0   2853.727122  ...  1684.638813   0.000000e+00\n",
              "test_type:is_pass      1.0    141.513768  ...    83.539727   6.495300e-20\n",
              "Residual           45368.0  76852.017805  ...          NaN            NaN\n",
              "\n",
              "[4 rows x 5 columns]"
            ]
          },
          "metadata": {
            "tags": []
          },
          "execution_count": 132
        }
      ]
    },
    {
      "cell_type": "code",
      "metadata": {
        "id": "Kgr50_VFTYLM",
        "colab_type": "code",
        "colab": {
          "base_uri": "https://localhost:8080/",
          "height": 296
        },
        "outputId": "765c6496-95c2-4403-87ac-f498517c26d9"
      },
      "source": [
        "# Has Gender got something to do with the Pass/Fail\n",
        "sns.countplot(x = \"gender\", hue = \"is_pass\", data = test)"
      ],
      "execution_count": 135,
      "outputs": [
        {
          "output_type": "execute_result",
          "data": {
            "text/plain": [
              "<matplotlib.axes._subplots.AxesSubplot at 0x7fb080361f60>"
            ]
          },
          "metadata": {
            "tags": []
          },
          "execution_count": 135
        },
        {
          "output_type": "display_data",
          "data": {
            "image/png": "[encoded data removed]",
            "text/plain": [
              "<Figure size 432x288 with 1 Axes>"
            ]
          },
          "metadata": {
            "tags": [],
            "needs_background": "light"
          }
        }
      ]
    },
    {
      "cell_type": "code",
      "metadata": {
        "id": "6rO6vGrYSS-y",
        "colab_type": "code",
        "colab": {
          "base_uri": "https://localhost:8080/",
          "height": 51
        },
        "outputId": "29d37689-3e20-45c5-e1a3-4e77121e47ce"
      },
      "source": [
        "# Has Gender got something to do with the Pass/Fail\n",
        "data = pd.crosstab(newtest.gender, newtest.is_pass)\n",
        "teststats, pvalue, df, exp_freq = stats.chi2_contingency(data)\n",
        "print(\"Test Statistics: \", teststats)\n",
        "print(\"PValue: \", pvalue)\n",
        "\n",
        "# Gender has an Impact on Pass Fail"
      ],
      "execution_count": 134,
      "outputs": [
        {
          "output_type": "stream",
          "text": [
            "Test Statistics:  11.886799749325878\n",
            "PValue:  0.000565331723291225\n"
          ],
          "name": "stdout"
        }
      ]
    },
    {
      "cell_type": "code",
      "metadata": {
        "id": "hieFav2OULY2",
        "colab_type": "code",
        "colab": {
          "base_uri": "https://localhost:8080/",
          "height": 102
        },
        "outputId": "acfdb98a-73cb-47f5-a92c-f0f58fe7425d"
      },
      "source": [
        "# Has the Program Type, Test Type & Difficulty Level an Impact on Program Duration\n",
        "test.columns"
      ],
      "execution_count": 136,
      "outputs": [
        {
          "output_type": "execute_result",
          "data": {
            "text/plain": [
              "Index(['id', 'program_id', 'program_type', 'program_duration', 'test_id',\n",
              "       'test_type', 'difficulty_level', 'trainee_id', 'gender', 'education',\n",
              "       'city_tier', 'age', 'total_programs_enrolled', 'is_handicapped',\n",
              "       'trainee_engagement_rating', 'is_pass'],\n",
              "      dtype='object')"
            ]
          },
          "metadata": {
            "tags": []
          },
          "execution_count": 136
        }
      ]
    },
    {
      "cell_type": "code",
      "metadata": {
        "id": "qC2oPiTvUrVm",
        "colab_type": "code",
        "colab": {
          "base_uri": "https://localhost:8080/",
          "height": 173
        },
        "outputId": "7b7c9602-016c-4603-c29e-9c93ef9cdc3d"
      },
      "source": [
        "# Has the Mean Program Duration same for all the Categories - Program Type, Test Type & Difficulty Level\n",
        "model = ols('program_duration~program_type+test_type+difficulty_level', data=newtest).fit()\n",
        "anova_table = sm.stats.anova_lm(model)\n",
        "anova_table\n",
        "\n",
        "# All 03 have an Impact on the Program Duration"
      ],
      "execution_count": 137,
      "outputs": [
        {
          "output_type": "execute_result",
          "data": {
            "text/html": [
              "<div>\n",
              "<style scoped>\n",
              "    .dataframe tbody tr th:only-of-type {\n",
              "        vertical-align: middle;\n",
              "    }\n",
              "\n",
              "    .dataframe tbody tr th {\n",
              "        vertical-align: top;\n",
              "    }\n",
              "\n",
              "    .dataframe thead th {\n",
              "        text-align: right;\n",
              "    }\n",
              "</style>\n",
              "<table border=\"1\" class=\"dataframe\">\n",
              "  <thead>\n",
              "    <tr style=\"text-align: right;\">\n",
              "      <th></th>\n",
              "      <th>df</th>\n",
              "      <th>sum_sq</th>\n",
              "      <th>mean_sq</th>\n",
              "      <th>F</th>\n",
              "      <th>PR(&gt;F)</th>\n",
              "    </tr>\n",
              "  </thead>\n",
              "  <tbody>\n",
              "    <tr>\n",
              "      <th>program_type</th>\n",
              "      <td>6.0</td>\n",
              "      <td>1.641277e+05</td>\n",
              "      <td>27354.621935</td>\n",
              "      <td>646.969925</td>\n",
              "      <td>0.000000e+00</td>\n",
              "    </tr>\n",
              "    <tr>\n",
              "      <th>test_type</th>\n",
              "      <td>1.0</td>\n",
              "      <td>1.644184e+04</td>\n",
              "      <td>16441.836821</td>\n",
              "      <td>388.869346</td>\n",
              "      <td>3.355593e-86</td>\n",
              "    </tr>\n",
              "    <tr>\n",
              "      <th>difficulty_level</th>\n",
              "      <td>3.0</td>\n",
              "      <td>2.078956e+04</td>\n",
              "      <td>6929.854210</td>\n",
              "      <td>163.899442</td>\n",
              "      <td>1.121849e-105</td>\n",
              "    </tr>\n",
              "    <tr>\n",
              "      <th>Residual</th>\n",
              "      <td>45361.0</td>\n",
              "      <td>1.917915e+06</td>\n",
              "      <td>42.281134</td>\n",
              "      <td>NaN</td>\n",
              "      <td>NaN</td>\n",
              "    </tr>\n",
              "  </tbody>\n",
              "</table>\n",
              "</div>"
            ],
            "text/plain": [
              "                       df        sum_sq  ...           F         PR(>F)\n",
              "program_type          6.0  1.641277e+05  ...  646.969925   0.000000e+00\n",
              "test_type             1.0  1.644184e+04  ...  388.869346   3.355593e-86\n",
              "difficulty_level      3.0  2.078956e+04  ...  163.899442  1.121849e-105\n",
              "Residual          45361.0  1.917915e+06  ...         NaN            NaN\n",
              "\n",
              "[4 rows x 5 columns]"
            ]
          },
          "metadata": {
            "tags": []
          },
          "execution_count": 137
        }
      ]
    },
    {
      "cell_type": "code",
      "metadata": {
        "id": "vTEiEUiGVB8A",
        "colab_type": "code",
        "colab": {
          "base_uri": "https://localhost:8080/",
          "height": 51
        },
        "outputId": "70bbe25f-b1a0-452a-864d-b533489e682d"
      },
      "source": [
        "# Gender, Education has an Impact on the Pass & Fail\n",
        "data = pd.pivot_table(test, values = [\"is_pass\"], index = [\"gender\"], columns = [\"education\"], aggfunc = \"count\")\n",
        "teststats, pvalue, df, exp_freq = stats.chi2_contingency(data)\n",
        "print(\"Test Statistics: \", teststats)\n",
        "print(\"PValue: \", pvalue)\n",
        "# Since P Value is less than 0.05 and hence Gender, Education have an impact on the Target Variable."
      ],
      "execution_count": 144,
      "outputs": [
        {
          "output_type": "stream",
          "text": [
            "Test Statistics:  473.04133103525027\n",
            "PValue:  4.5298259049070655e-101\n"
          ],
          "name": "stdout"
        }
      ]
    },
    {
      "cell_type": "code",
      "metadata": {
        "id": "3ndPsxYhWJ3n",
        "colab_type": "code",
        "colab": {
          "base_uri": "https://localhost:8080/",
          "height": 279
        },
        "outputId": "2653e7c6-d917-4535-f884-7d4589912190"
      },
      "source": [
        "# sns.FacetGrid(tips, col=\"time\", row=\"smoker\")\n",
        "# g.map(plt.hist, \"total_bill\")\n",
        "g = sns.FacetGrid(test, col = \"education\")\n",
        "g.map(sns.countplot, \"is_pass\", color = \"brown\")\n",
        "plt.show()"
      ],
      "execution_count": 159,
      "outputs": [
        {
          "output_type": "stream",
          "text": [
            "/usr/local/lib/python3.6/dist-packages/seaborn/axisgrid.py:723: UserWarning: Using the countplot function without specifying `order` is likely to produce an incorrect plot.\n",
            "  warnings.warn(warning)\n"
          ],
          "name": "stderr"
        },
        {
          "output_type": "display_data",
          "data": {
            "image/png": "[encoded data removed]",
            "text/plain": [
              "<Figure size 1080x216 with 5 Axes>"
            ]
          },
          "metadata": {
            "tags": [],
            "needs_background": "light"
          }
        }
      ]
    }
  ]
}