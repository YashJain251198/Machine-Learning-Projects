{
  "nbformat": 4,
  "nbformat_minor": 0,
  "metadata": {
    "colab": {
      "name": "Normal Distribution & Z Test Test One Sample & Independent.ipynb",
      "provenance": [],
      "collapsed_sections": [],
      "authorship_tag": "ABX9TyPuFW1Si7WoPraYuYV9bSQX",
      "include_colab_link": true
    },
    "kernelspec": {
      "name": "python3",
      "display_name": "Python 3"
    }
  },
  "cells": [
    {
      "cell_type": "markdown",
      "metadata": {
        "id": "view-in-github",
        "colab_type": "text"
      },
      "source": [
        "<a href=\"https://colab.research.google.com/github/mukul-mschauhan/Data-Science-Projects/blob/master/Normal_Distribution_%26_Z_Test_Test_One_Sample_%26_Independent.ipynb\" target=\"_parent\"><img src=\"https://colab.research.google.com/assets/colab-badge.svg\" alt=\"Open In Colab\"/></a>"
      ]
    },
    {
      "cell_type": "markdown",
      "metadata": {
        "id": "SW0BNcewE62k",
        "colab_type": "text"
      },
      "source": [
        "# Normal Distribution\n",
        "\n",
        "1. In the case of Continuous Random Variable, the probability distribution is the result of the Random Experiment that is done in the business/sports etc to find the probability in a particular interval.\n",
        "\n",
        "2. Interval is involved. It is not a concept of Discrete/Point Probability.\n",
        "3. It focuses on finding the prob between two points (range).\n",
        "4. The Point Probability in Normal Distt. is 0.\n",
        "5. The Total Area Under Curve is 1.\n",
        "6. Since, it is symmetrical in nature and hence, mean = median = mode.\n",
        "7. 50% of the area is in left side and same on right side.\n",
        "8. There is a difference between Normal Distribution and Standard Normal Distribution. A ND can assume any value as mean and sd where as St Normal Curve has a mean of 0 and SD of 1.\n",
        "9. How to convert Normal ~ St Normal - Z Score: (xi-mean)/sd\n",
        "10. Empirical Rule - 68% of values lie within 1 SD, 95% values lie within 2 SD & 99.7% Values lie within 3sd.\n",
        "\n"
      ]
    },
    {
      "cell_type": "code",
      "metadata": {
        "id": "ima20PtfDTjr",
        "colab_type": "code",
        "colab": {}
      },
      "source": [
        "# Normal Distribution - What are those two things.\n",
        "# How the Shape of the N is decided - Flat Curve, Narrow one.\n",
        "# To Change SD Values and Observe the Shape\n",
        "import scipy.stats as stats"
      ],
      "execution_count": 0,
      "outputs": []
    },
    {
      "cell_type": "code",
      "metadata": {
        "id": "FA3k2CwCMgX6",
        "colab_type": "code",
        "colab": {
          "base_uri": "https://localhost:8080/",
          "height": 34
        },
        "outputId": "f8cb4a5d-1f50-497b-813f-11d3130743d3"
      },
      "source": [
        "# Stats>norm>pdf/cdf\n",
        "stats.norm.pdf(-3, 0, 1) # x, mean, sd"
      ],
      "execution_count": 2,
      "outputs": [
        {
          "output_type": "execute_result",
          "data": {
            "text/plain": [
              "0.0044318484119380075"
            ]
          },
          "metadata": {
            "tags": []
          },
          "execution_count": 2
        }
      ]
    },
    {
      "cell_type": "code",
      "metadata": {
        "id": "yfua6TqfM1cp",
        "colab_type": "code",
        "colab": {
          "base_uri": "https://localhost:8080/",
          "height": 34
        },
        "outputId": "e95ff503-14bc-4877-fbd1-fd8293c42767"
      },
      "source": [
        "# How the Values of Empirical Rule are Calculated.\n",
        "# Find the Area under the Standard Normal Curve to the Left of z = 1.95 - 0.9744\n",
        "# Find the Area under the Standard Normal Curve from z = -2.17 to z = 0.\n",
        "# stats.norm.cdf(1.95, 0, 1) \n",
        "stats.norm.cdf(0, 0, 1) - stats.norm.cdf(-2.17, 0, 1)"
      ],
      "execution_count": 6,
      "outputs": [
        {
          "output_type": "execute_result",
          "data": {
            "text/plain": [
              "0.4849965770262678"
            ]
          },
          "metadata": {
            "tags": []
          },
          "execution_count": 6
        }
      ]
    },
    {
      "cell_type": "markdown",
      "metadata": {
        "id": "mfwrwMHbS3q3",
        "colab_type": "text"
      },
      "source": [
        "According to Sallie Mae Survey and Credit Bureau Data, college students carried on an average a debt of $3173 on their credit cards. \n",
        "\n",
        "Suppose that current credit card debts for all the college students have a normal distribution of the mean of 3173 and a SD of 800.\n",
        " \n",
        "Find the probability that the credit card debt for a randomly selected college student is between 2109 and 3605."
      ]
    },
    {
      "cell_type": "code",
      "metadata": {
        "id": "OYr2rVodRob2",
        "colab_type": "code",
        "colab": {
          "base_uri": "https://localhost:8080/",
          "height": 34
        },
        "outputId": "1a8ed619-f2af-4503-f8a8-8e2b33073148"
      },
      "source": [
        "# Mean = 3173, SD = 800\n",
        "stats.norm.cdf(3605, 3173, 800) - stats.norm.cdf(2109, 3173, 800)\n",
        "\n",
        "# Thee is 61% chance that the College Student has debt in range of $2109 - $3605."
      ],
      "execution_count": 9,
      "outputs": [
        {
          "output_type": "execute_result",
          "data": {
            "text/plain": [
              "0.6136423481340212"
            ]
          },
          "metadata": {
            "tags": []
          },
          "execution_count": 9
        }
      ]
    },
    {
      "cell_type": "markdown",
      "metadata": {
        "id": "gbnQ5II3UU8v",
        "colab_type": "text"
      },
      "source": [
        "A survey of use of smart phones in India was conducted and it is observed that the user spends 68 mins in a day on an avg in sending messages with a SD of 12 Minutes\n",
        "\n",
        "1. What proportion of the users spend more than 90 minutes on cellphone.\n",
        "2. What proportion of people are spending less than 20 mins.\n",
        "3. What proportion of people are spending between 50 mins and 100 mins."
      ]
    },
    {
      "cell_type": "code",
      "metadata": {
        "id": "eFCHFPzATeyT",
        "colab_type": "code",
        "colab": {
          "base_uri": "https://localhost:8080/",
          "height": 34
        },
        "outputId": "cb56f0b1-5539-45cd-e47a-e521f2fb6ffd"
      },
      "source": [
        "# Case 1\n",
        "1 - stats.norm.cdf(90, 68, 12)"
      ],
      "execution_count": 11,
      "outputs": [
        {
          "output_type": "execute_result",
          "data": {
            "text/plain": [
              "0.03337650758481725"
            ]
          },
          "metadata": {
            "tags": []
          },
          "execution_count": 11
        }
      ]
    },
    {
      "cell_type": "code",
      "metadata": {
        "id": "Dxs4Bii5U5wk",
        "colab_type": "code",
        "colab": {
          "base_uri": "https://localhost:8080/",
          "height": 34
        },
        "outputId": "e11cb256-8cec-4875-f739-7fd0b4d8c230"
      },
      "source": [
        "# Case 2: spending less than 20 mins\n",
        "stats.norm.cdf(20, 68, 12)"
      ],
      "execution_count": 15,
      "outputs": [
        {
          "output_type": "execute_result",
          "data": {
            "text/plain": [
              "0.9999683287581669"
            ]
          },
          "metadata": {
            "tags": []
          },
          "execution_count": 15
        }
      ]
    },
    {
      "cell_type": "code",
      "metadata": {
        "id": "EDToRMNKVZud",
        "colab_type": "code",
        "colab": {
          "base_uri": "https://localhost:8080/",
          "height": 34
        },
        "outputId": "9688d42b-40bb-4575-b21f-53352d1798eb"
      },
      "source": [
        "# Case 3: between 50 mins and 100 mins\n",
        "stats.norm.cdf(100, 68, 12) - stats.norm.cdf(50, 68, 12)"
      ],
      "execution_count": 16,
      "outputs": [
        {
          "output_type": "execute_result",
          "data": {
            "text/plain": [
              "0.9293624181635521"
            ]
          },
          "metadata": {
            "tags": []
          },
          "execution_count": 16
        }
      ]
    },
    {
      "cell_type": "markdown",
      "metadata": {
        "id": "95cTotyVWVvg",
        "colab_type": "text"
      },
      "source": [
        "Hupper Corporation produces many types of soft drinks, including Orange Cola. The filling machines are adjusted to pour 12 ounces of soda into each 12-ounce can of Orange Cola. However, the actual amount of soda poured into each can is not exactly 12 ounces; it varies from can to can. \n",
        "\n",
        "It has been observed that the net amount of soda in such a can has a normal distribution with a mean of 12 ounces and a standard deviation of .015 ounce.\n",
        "\n",
        "(a) What is the probability that a randomly selected can of Orange Cola contains 11.97 to 11.99 ounces of soda?\n",
        "\n",
        "(b) What percentage of the Orange Cola cans contain 12.02 to 12.07 ounces of soda?"
      ]
    },
    {
      "cell_type": "code",
      "metadata": {
        "id": "uOegS8JUWIlZ",
        "colab_type": "code",
        "colab": {
          "base_uri": "https://localhost:8080/",
          "height": 34
        },
        "outputId": "a80a03c3-49f6-48ad-a17d-35c70e015fd7"
      },
      "source": [
        "# randomly selected can of Orange Cola contains 11.97 to 11.99 ounces of soda?\n",
        "stats.norm.cdf(11.99, 12, 0.015) - stats.norm.cdf(11.97, 12, 0.015)"
      ],
      "execution_count": 18,
      "outputs": [
        {
          "output_type": "execute_result",
          "data": {
            "text/plain": [
              "0.2297424055987459"
            ]
          },
          "metadata": {
            "tags": []
          },
          "execution_count": 18
        }
      ]
    },
    {
      "cell_type": "code",
      "metadata": {
        "id": "BvtDdJXTW1DT",
        "colab_type": "code",
        "colab": {
          "base_uri": "https://localhost:8080/",
          "height": 34
        },
        "outputId": "3c0d8efc-6ef5-4c57-d149-1a355e1c49ad"
      },
      "source": [
        "# randomly selected can of Orange Cola contains 12.02 to 12.07 ounces of soda?\n",
        "stats.norm.cdf(12.07, 12, 0.015) - stats.norm.cdf(12.02, 12, 0.015)"
      ],
      "execution_count": 19,
      "outputs": [
        {
          "output_type": "execute_result",
          "data": {
            "text/plain": [
              "0.09120968909913596"
            ]
          },
          "metadata": {
            "tags": []
          },
          "execution_count": 19
        }
      ]
    },
    {
      "cell_type": "markdown",
      "metadata": {
        "id": "EvDfHBOMXMZk",
        "colab_type": "text"
      },
      "source": [
        "Suppose the life span of a calculator manufactured by Texas Instruments has a normal distribution with a mean of 54 months and a standard deviation of 8 months. \n",
        "\n",
        "The company guarantees that any calculator that starts malfunctioning within 36 months of the purchase will be replaced by a new one. About what percentage of calculators made by this company are expected to be replaced?"
      ]
    },
    {
      "cell_type": "code",
      "metadata": {
        "id": "yBHV0e9EXE_P",
        "colab_type": "code",
        "colab": {
          "base_uri": "https://localhost:8080/",
          "height": 34
        },
        "outputId": "a085d305-a8b3-440d-a4b7-7230db18db12"
      },
      "source": [
        "stats.norm.cdf(36, 54, 8)* 100 # 1.2% of the calculator may be returned."
      ],
      "execution_count": 21,
      "outputs": [
        {
          "output_type": "execute_result",
          "data": {
            "text/plain": [
              "1.2224472655044696"
            ]
          },
          "metadata": {
            "tags": []
          },
          "execution_count": 21
        }
      ]
    },
    {
      "cell_type": "code",
      "metadata": {
        "id": "8Sf3W6llXd0D",
        "colab_type": "code",
        "colab": {}
      },
      "source": [
        "# PDF is the Probability Distribution. The Curve tells us how the probability values\n",
        "# are distributed over Z Score Values.\n",
        "\n",
        "# If I want to sum up the whole area under the curve, it will give me the value of 1.\n",
        "# This value of 1 is nothing but the sum of the whole curve. When we try to find the cumulative/total area under the curve, we use CDF.\n",
        "# CDF is Cumulative Density Function which the total area of the curve to the point asked."
      ],
      "execution_count": 0,
      "outputs": []
    },
    {
      "cell_type": "markdown",
      "metadata": {
        "id": "yCa-YYKbZIce",
        "colab_type": "text"
      },
      "source": [
        "# Hypothesis Testing\n",
        "1. Trying to encourage people to stop driving to campus, the university claims that on average it takes at least 30 minutes to find a parking space on campus. Someone droves five times to campus & calculated average parking time to be 20 mins. Assuming that the time it takes to find a parking spot is normal, and that σ = 6 minutes in general, then perform a hypothesis test with level α= 0.10 to see if the claim is correct.\n",
        "\n",
        "#### Ho: Null Hypothesis\n",
        "The Average Parking time is of 30 Mins or more.\n",
        "\n",
        "#### H1: Alternate Hypothesis\n",
        "The Average Parking time is < than 30 Mins.\n",
        "\n",
        "#### LOS = 0.90 as alpha = 0.10 | One Tail Test\n",
        "\n"
      ]
    },
    {
      "cell_type": "code",
      "metadata": {
        "id": "bRh77NhMZE_f",
        "colab_type": "code",
        "colab": {
          "base_uri": "https://localhost:8080/",
          "height": 34
        },
        "outputId": "8e994c81-065a-442e-b1cc-2561d7017f02"
      },
      "source": [
        "# Find the Test Statistic :z = sample mean - Pop Mean/sigma/rootn\n",
        "import numpy as np\n",
        "(20-30)/(6/np.sqrt(5)) # n -5, xbar - 20 popmean = 30, sigma = 6"
      ],
      "execution_count": 1,
      "outputs": [
        {
          "output_type": "execute_result",
          "data": {
            "text/plain": [
              "-3.7267799624996494"
            ]
          },
          "metadata": {
            "tags": []
          },
          "execution_count": 1
        }
      ]
    },
    {
      "cell_type": "code",
      "metadata": {
        "id": "KFv9CEHCUAfo",
        "colab_type": "code",
        "colab": {
          "base_uri": "https://localhost:8080/",
          "height": 34
        },
        "outputId": "94470c2a-c195-41fb-9ef3-c288cc7c4ff4"
      },
      "source": [
        "# Find the Critical Value and compare it with the Test Statistic\n",
        "import scipy.stats as stats\n",
        "stats.norm.ppf(0.10)\n",
        "\n",
        "# Since test statistic < cv thus the value lie in rejection region and we will Reject H0 & conclude that it does not take\n",
        "# 30 mins to find a parking. It is lot lesser than 30 mins."
      ],
      "execution_count": 4,
      "outputs": [
        {
          "output_type": "execute_result",
          "data": {
            "text/plain": [
              "-1.2815515655446004"
            ]
          },
          "metadata": {
            "tags": []
          },
          "execution_count": 4
        }
      ]
    },
    {
      "cell_type": "markdown",
      "metadata": {
        "id": "zjYAM0IyI7uz",
        "colab_type": "text"
      },
      "source": [
        "# One Sample T Test\n",
        "\n",
        "* Compares the mean of the Sample Data with a Known Value. For e.g. we want to know how the sample data mean is compared with the Population Mean.\n",
        "* One should run a one sample t test when you don’t know the population standard deviation or you have a small sample size\n",
        "\n",
        "Consider 20 first year resident female doctors drawn at random from one area, resting systolic blood pressures measured using an electronic sphygmomanometer were\n",
        "\n",
        "From previous large studies of women drawn at random from the healthy general public, a resting systolic blood pressure of 120 mm Hg was decided as the population mean for the relevant age group. \n",
        "\n",
        "Find out if the Average has changed or not\n",
        "\n",
        "## H0: Null Hypothesis\n",
        "That the Average Blood Pressure = 120\n",
        "\n",
        "## H1: Alternate Hypothesis\n",
        "That the Average Blood Pressure <> 120\n",
        "\n",
        "## Level of Significance\n",
        "The LOS is 0.95 meaning that the Alpha is 0.05 and it is going to be a Two Tail Test.\n"
      ]
    },
    {
      "cell_type": "code",
      "metadata": {
        "id": "BvwZLWsbI6G5",
        "colab_type": "code",
        "colab": {
          "base_uri": "https://localhost:8080/",
          "height": 136
        },
        "outputId": "76211f7e-2a02-41e2-9a49-f439365dfcbc"
      },
      "source": [
        "values = [128, 118, 144, 133, 132, 111, 149, 139, 136, 126, 127, 115, 142, 140, 131, 132, 122, 119, 129, 128]\n",
        "\n",
        "mean_values = np.mean(values)\n",
        "mew =120\n",
        "se = stats.sem(values) # Finding Standard Error\n",
        "tstats = (mean_values - mew)/(np.sqrt(se**2)) # Finding T statistic\n",
        "freedom = len(values)-1\n",
        "t_crit = stats.t.ppf(0.95, freedom)\n",
        "p = (1-stats.t.cdf(tstats, freedom))*2\n",
        "print(\"Critical Values: \", np.round(t_crit,3))\n",
        "print(\"Tstats: \", np.round(tstats,3))\n",
        "print(\"DF: \", freedom)\n",
        "print(\"Sample Mean: \", mean_values)\n",
        "print(\"n: \", len(values))\n",
        "print(\"PValue: \", np.round(p,5))\n",
        "\n",
        "if(t_crit<tstats):\n",
        "  print(\"Reject the Null that Means are Equal\")\n",
        "else:\n",
        "  print(\"Fail to Reject the Ho. Results arent significant\")"
      ],
      "execution_count": 54,
      "outputs": [
        {
          "output_type": "stream",
          "text": [
            "Critical Values:  1.729\n",
            "Tstats:  4.512\n",
            "DF:  19\n",
            "Sample Mean:  130.05\n",
            "n:  20\n",
            "PValue:  0.00024\n",
            "Reject the Null that Means are Equal\n"
          ],
          "name": "stdout"
        }
      ]
    },
    {
      "cell_type": "code",
      "metadata": {
        "id": "dBR314ZqM1Rm",
        "colab_type": "code",
        "colab": {
          "base_uri": "https://localhost:8080/",
          "height": 34
        },
        "outputId": "0b39f88d-176b-4b9d-f279-3b102d079aaf"
      },
      "source": [
        "stats.ttest_1samp(values, mew) # From Python"
      ],
      "execution_count": 55,
      "outputs": [
        {
          "output_type": "execute_result",
          "data": {
            "text/plain": [
              "Ttest_1sampResult(statistic=4.512403659336718, pvalue=0.00023838063630967753)"
            ]
          },
          "metadata": {
            "tags": []
          },
          "execution_count": 55
        }
      ]
    },
    {
      "cell_type": "code",
      "metadata": {
        "id": "jIt_5cQ5OYW0",
        "colab_type": "code",
        "colab": {
          "base_uri": "https://localhost:8080/",
          "height": 34
        },
        "outputId": "edcf2788-c6b4-4d63-b389-f629d86ef62d"
      },
      "source": [
        "#stats.t.ppf(0.95, 19)\n",
        "#(1-stats.t.cdf(3.23, 19))*2\n",
        "pre_module = [18,21, 16, 22, 19, 24, 17, 21, 23, 18, 14, 16, 16, 19, 18, 20, 12, 22, 15, 17]\n",
        "post_module = [22, 25, 17, 24, 16, 29, 20, 23, 19, 20, 15, 15, 18, 26, 18, 24, 18, 25, 19, 16]\n",
        "stats.ttest_rel(pre_module, post_module)"
      ],
      "execution_count": 58,
      "outputs": [
        {
          "output_type": "execute_result",
          "data": {
            "text/plain": [
              "Ttest_relResult(statistic=-3.231252665580312, pvalue=0.004394965993185664)"
            ]
          },
          "metadata": {
            "tags": []
          },
          "execution_count": 58
        }
      ]
    },
    {
      "cell_type": "markdown",
      "metadata": {
        "id": "q4EHm96g_Fbx",
        "colab_type": "text"
      },
      "source": [
        "# Student’s t-Test\n",
        "\n",
        "The Student’s t-test will comment on whether it is likely to observe two samples given that the samples were drawn from the same population.\n",
        "\n",
        "The Student’s t-Test is a statistical hypothesis test for testing whether two samples are expected to have been drawn from the same population.\n",
        "\n",
        "The test works by checking the means from two samples to see if they are significantly different from each other. \n",
        "\n",
        "The t statistic calculated by the test can be interpreted by comparing it to critical values from the t-distribution. The critical value can be calculated using the degrees of freedom and a significance level.\n",
        "\n",
        "* If abs(t-statistic) <= critical value: Accept null hypothesis that the means are equal.\n",
        "* If abs(t-statistic) > critical value: Reject the null hypothesis that the means are equal.\n",
        "\n",
        "Q. RER Test: A study of the effect of caffeine on muscle metabolism used eighteen male volunteers who each underwent arm exercise tests. Nine of the men were randomly selected to take a capsule containing pure caffeine one hour before the test. The other men received a placebo capsule. \n",
        "\n",
        "During each exercise the subject's respiratory exchange ratio (RER) was measured. (RER is the ratio of CO2 produced to O2 consumed and is an indicator of whether energy is being obtained from carbohydrates or fats).\n",
        "\n",
        "The point of research is whether Caffeine changes the RER Ratio.\n",
        "\n",
        "The Data is two samples - One with Placebo and Another Group with Caffeine\n",
        "\n",
        "\n"
      ]
    },
    {
      "cell_type": "code",
      "metadata": {
        "id": "f_f0NhGuUWwp",
        "colab_type": "code",
        "colab": {}
      },
      "source": [
        "import numpy as np\n",
        "import pandas as pd\n",
        "from scipy import stats"
      ],
      "execution_count": 0,
      "outputs": []
    },
    {
      "cell_type": "code",
      "metadata": {
        "id": "UCXFDIz0CVSS",
        "colab_type": "code",
        "colab": {}
      },
      "source": [
        "df = pd.DataFrame({\"Placebo\":[105, 119, 100, 97, 96, 101, 94, 95, 98], \n",
        "              \"Caffeine\":[96, 99, 94, 89, 96, 93, 88, 105, 88]})"
      ],
      "execution_count": 0,
      "outputs": []
    },
    {
      "cell_type": "code",
      "metadata": {
        "id": "OVI0KTiyCif1",
        "colab_type": "code",
        "colab": {
          "base_uri": "https://localhost:8080/",
          "height": 328
        },
        "outputId": "2e4e5771-2b07-4268-9bee-1633b6c521af"
      },
      "source": [
        "df"
      ],
      "execution_count": 5,
      "outputs": [
        {
          "output_type": "execute_result",
          "data": {
            "text/html": [
              "<div>\n",
              "<style scoped>\n",
              "    .dataframe tbody tr th:only-of-type {\n",
              "        vertical-align: middle;\n",
              "    }\n",
              "\n",
              "    .dataframe tbody tr th {\n",
              "        vertical-align: top;\n",
              "    }\n",
              "\n",
              "    .dataframe thead th {\n",
              "        text-align: right;\n",
              "    }\n",
              "</style>\n",
              "<table border=\"1\" class=\"dataframe\">\n",
              "  <thead>\n",
              "    <tr style=\"text-align: right;\">\n",
              "      <th></th>\n",
              "      <th>Placebo</th>\n",
              "      <th>Caffeine</th>\n",
              "    </tr>\n",
              "  </thead>\n",
              "  <tbody>\n",
              "    <tr>\n",
              "      <th>0</th>\n",
              "      <td>105</td>\n",
              "      <td>96</td>\n",
              "    </tr>\n",
              "    <tr>\n",
              "      <th>1</th>\n",
              "      <td>119</td>\n",
              "      <td>99</td>\n",
              "    </tr>\n",
              "    <tr>\n",
              "      <th>2</th>\n",
              "      <td>100</td>\n",
              "      <td>94</td>\n",
              "    </tr>\n",
              "    <tr>\n",
              "      <th>3</th>\n",
              "      <td>97</td>\n",
              "      <td>89</td>\n",
              "    </tr>\n",
              "    <tr>\n",
              "      <th>4</th>\n",
              "      <td>96</td>\n",
              "      <td>96</td>\n",
              "    </tr>\n",
              "    <tr>\n",
              "      <th>5</th>\n",
              "      <td>101</td>\n",
              "      <td>93</td>\n",
              "    </tr>\n",
              "    <tr>\n",
              "      <th>6</th>\n",
              "      <td>94</td>\n",
              "      <td>88</td>\n",
              "    </tr>\n",
              "    <tr>\n",
              "      <th>7</th>\n",
              "      <td>95</td>\n",
              "      <td>105</td>\n",
              "    </tr>\n",
              "    <tr>\n",
              "      <th>8</th>\n",
              "      <td>98</td>\n",
              "      <td>88</td>\n",
              "    </tr>\n",
              "  </tbody>\n",
              "</table>\n",
              "</div>"
            ],
            "text/plain": [
              "   Placebo  Caffeine\n",
              "0      105        96\n",
              "1      119        99\n",
              "2      100        94\n",
              "3       97        89\n",
              "4       96        96\n",
              "5      101        93\n",
              "6       94        88\n",
              "7       95       105\n",
              "8       98        88"
            ]
          },
          "metadata": {
            "tags": []
          },
          "execution_count": 5
        }
      ]
    },
    {
      "cell_type": "markdown",
      "metadata": {
        "id": "b9hC_TboC5Ke",
        "colab_type": "text"
      },
      "source": [
        "## Ho: Null Hypothesis\n",
        "That there is no effect of Caffeine on the Blood or in other words Mew(Placebo) = Mew(Caffeine)\n",
        "\n",
        "## H1: Alternate Hypothesis\n",
        "That there is effect of Caffeine on the Blood or in other words Mew(Placebo)<> Mew(Caffeine)\n",
        "\n",
        "### Two Tail Test\n",
        "\n",
        "This signifies Two Tail Test and therefore we will perform the test at Alpha = 0.05. It means that Sig Level is 0.95.\n",
        "\n",
        "\n"
      ]
    },
    {
      "cell_type": "code",
      "metadata": {
        "id": "L-axRID1Dco-",
        "colab_type": "code",
        "colab": {}
      },
      "source": [
        "def ind_test(d1, d2, alpha):\n",
        "  # Import Libraries\n",
        "  import numpy as np\n",
        "  from scipy import stats\n",
        "  # Calculate the Means\n",
        "  mean_d1, mean_d2 = np.mean(d1), np.mean(d2)\n",
        "  # Calculate the Standard Error\n",
        "  se_1, se_2 = stats.sem(d1), stats.sem(d2)\n",
        "  # Denominator - Sqrt of Standard Errors\n",
        "  se_d = np.sqrt(se_1**2 + se_2**2)\n",
        "  # Lets Calculate the T statistic\n",
        "  t_stats = (mean_d1-mean_d2)/se_d\n",
        "  # Find the Degrees of Freedom\n",
        "  freedom = len(d1)+len(d2) - 2\n",
        "  # Find the Critical Value\n",
        "  t_crit = stats.t.ppf(1-alpha, freedom)\n",
        "  p = (1.0 - stats.t.cdf(abs(t_stats), freedom)) * 2.0\n",
        "  # Return the Stats\n",
        "  print(\"Mean of Both Groups is: \", np.round(mean_d1,2), np.round(mean_d2,2))\n",
        "  print(\"SE is: \", np.round(se_1,3), np.round(se_2,3))\n",
        "  print(\"Critical Value:\", t_crit.round(3))\n",
        "  print(\"T Stats:\", t_stats.round(3))\n",
        "  print(\"Degrees of Freedom:\", freedom)\n",
        "  print(\"PValue: \", p)\n",
        "  if p<0.05:\n",
        "    return(\"Reject H0\")\n",
        "  else:\n",
        "    return(\"Fail to Reject the Ho. The Results are not Significant\")"
      ],
      "execution_count": 0,
      "outputs": []
    },
    {
      "cell_type": "code",
      "metadata": {
        "id": "tfIJzDnTDnAE",
        "colab_type": "code",
        "colab": {
          "base_uri": "https://localhost:8080/",
          "height": 136
        },
        "outputId": "60ca6131-913b-4e88-943c-8a4fb97381e6"
      },
      "source": [
        "ind_test(df[\"Placebo\"], df[\"Caffeine\"], 0.05)"
      ],
      "execution_count": 41,
      "outputs": [
        {
          "output_type": "stream",
          "text": [
            "Mean of Both Groups is:  100.56 94.22\n",
            "SE is:  2.566 1.869\n",
            "Critical Value: 1.746\n",
            "T Stats: 1.995\n",
            "Degrees of Freedom: 16\n",
            "PValue:  0.06338905121134086\n"
          ],
          "name": "stdout"
        },
        {
          "output_type": "execute_result",
          "data": {
            "text/plain": [
              "'Fail to Reject the Ho. The Results are not Significant'"
            ]
          },
          "metadata": {
            "tags": []
          },
          "execution_count": 41
        }
      ]
    },
    {
      "cell_type": "code",
      "metadata": {
        "id": "xbbJy46kEo-m",
        "colab_type": "code",
        "colab": {}
      },
      "source": [
        ""
      ],
      "execution_count": 0,
      "outputs": []
    },
    {
      "cell_type": "code",
      "metadata": {
        "id": "SGwCCdICIJev",
        "colab_type": "code",
        "colab": {}
      },
      "source": [
        ""
      ],
      "execution_count": 0,
      "outputs": []
    }
  ]
}