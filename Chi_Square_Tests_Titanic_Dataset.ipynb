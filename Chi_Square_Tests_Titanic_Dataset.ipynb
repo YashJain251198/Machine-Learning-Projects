{
  "nbformat": 4,
  "nbformat_minor": 0,
  "metadata": {
    "colab": {
      "name": "Chi Square Tests - Titanic Dataset.ipynb",
      "provenance": [],
      "collapsed_sections": [],
      "include_colab_link": true
    },
    "kernelspec": {
      "name": "python3",
      "display_name": "Python 3"
    }
  },
  "cells": [
    {
      "cell_type": "markdown",
      "metadata": {
        "id": "view-in-github",
        "colab_type": "text"
      },
      "source": [
        "<a href=\"https://colab.research.google.com/github/mukul-mschauhan/Data-Science-Projects/blob/master/Chi_Square_Tests_Titanic_Dataset.ipynb\" target=\"_parent\"><img src=\"https://colab.research.google.com/assets/colab-badge.svg\" alt=\"Open In Colab\"/></a>"
      ]
    },
    {
      "cell_type": "markdown",
      "metadata": {
        "id": "8JFGk8H-pgCH",
        "colab_type": "text"
      },
      "source": [
        "# About Chi Square Tests\n",
        "\n",
        "1. A Chi Square test is a test of hypothesis where two samples are tested for Independence.\n",
        "\n",
        "2. It means whether the samples are independent of each other or not.\n",
        "\n",
        "3. Here we dont compare means or variance. Here, we have Categorical variables on which we test the hypothesis of Independence.\n",
        "\n",
        "4. Here, we check whether the variables are independent of each other or there is a pattern of dependence between them.\n",
        "\n",
        "5. If there is a Dependence, researcher claims that two variables have statistical relationship.\n",
        "\n",
        "6. Since, it is a test on categories, hence the test is highly dependent on Frequencies. The Sample Of Data received is called \"Observed Frequencies\" and we find out the expected frequencies basis the data received.\n",
        "\n",
        "7. The Chi Square Test is based on the difference between the Observed and the Expected Values. sum[(Obs - Exp)**2/Exp]\n",
        "\n",
        "Q. A University conducted a survey of its recent graduates to collect demographic and health information for future planning purposes as well as to assess students' satisfaction with their undergraduate experiences. The survey revealed that a substantial proportion of students were not engaging in regular exercise, many felt their nutrition was poor and a substantial number were smoking. In response to a question on regular exercise, 60% of all graduates reported getting no regular exercise, 25% reported exercising sporadically and 15% reported exercising regularly as undergraduates. \n",
        "\n",
        "The next year the University launched a health promotion campaign on campus in an attempt to increase health behaviors among undergraduates. The program included modules on exercise, nutrition and smoking cessation. To evaluate the impact of the program, the University again surveyed graduates and asked the same questions. The survey was completed by 470 graduates and the following data were collected on the exercise question:\n",
        "\n",
        "The Distribution of the responses for the last year have been (60%, 25%, 15%).\n",
        "\n",
        "Based on the data, is there evidence of a shift in the distribution of responses to the exercise question following the implementation of the health promotion campaign on campus? Run the test at a 5% level of significance.\n",
        "\n",
        "### Null Hypothesis:\n",
        "\n",
        "The Responses are 60%, 25% and 15%\n",
        "\n",
        "### Alternate Hypothesis:\n",
        "\n",
        "Responses have changed meaning H0 is False.\n"
      ]
    },
    {
      "cell_type": "code",
      "metadata": {
        "id": "UChy23NnLvYh",
        "colab_type": "code",
        "colab": {}
      },
      "source": [
        "import numpy as np\n",
        "import pandas as pd\n",
        "from scipy import stats"
      ],
      "execution_count": 0,
      "outputs": []
    },
    {
      "cell_type": "code",
      "metadata": {
        "id": "69OpnZiKLwnh",
        "colab_type": "code",
        "colab": {}
      },
      "source": [
        "dict_ex = {\"No Regular Exercise\": [255], \"Irregular\": [125], \"Regular\": [90]}"
      ],
      "execution_count": 0,
      "outputs": []
    },
    {
      "cell_type": "code",
      "metadata": {
        "id": "Pa920uePt1EX",
        "colab_type": "code",
        "colab": {
          "base_uri": "https://localhost:8080/",
          "height": 34
        },
        "outputId": "332eb4c8-2e84-4e5f-9ebb-854d2dcd298f"
      },
      "source": [
        "dict_ex"
      ],
      "execution_count": 22,
      "outputs": [
        {
          "output_type": "execute_result",
          "data": {
            "text/plain": [
              "{'Irregular': [125], 'No Regular Exercise': [255], 'Regular': [90]}"
            ]
          },
          "metadata": {
            "tags": []
          },
          "execution_count": 22
        }
      ]
    },
    {
      "cell_type": "code",
      "metadata": {
        "id": "mFsZ6iiGslyl",
        "colab_type": "code",
        "colab": {}
      },
      "source": [
        "df = pd.DataFrame({\"Observed\": [255, 125, 90]})\n",
        "total = df.Observed.sum()"
      ],
      "execution_count": 0,
      "outputs": []
    },
    {
      "cell_type": "code",
      "metadata": {
        "id": "9lv5rsZrsy2d",
        "colab_type": "code",
        "colab": {}
      },
      "source": [
        "# proportion = [i for i in df[\"Observed\"]/total]\n",
        "proportion = [0.60, 0.25, 0.15]\n",
        "\n",
        "expected =[]\n",
        "for i in proportion:\n",
        "  expected.append(total * i)"
      ],
      "execution_count": 0,
      "outputs": []
    },
    {
      "cell_type": "code",
      "metadata": {
        "id": "3JNEzrjls2ar",
        "colab_type": "code",
        "colab": {}
      },
      "source": [
        "df[\"Expected\"] = expected"
      ],
      "execution_count": 0,
      "outputs": []
    },
    {
      "cell_type": "code",
      "metadata": {
        "id": "vBW0vaWQtGC2",
        "colab_type": "code",
        "colab": {
          "base_uri": "https://localhost:8080/",
          "height": 34
        },
        "outputId": "2d84586a-02b4-4dd6-f0d9-9683d32aef4e"
      },
      "source": [
        "stats.chisquare([255, 125, 90], [282, 117.5, 70.5])"
      ],
      "execution_count": 101,
      "outputs": [
        {
          "output_type": "execute_result",
          "data": {
            "text/plain": [
              "Power_divergenceResult(statistic=8.457446808510639, pvalue=0.014570979931304122)"
            ]
          },
          "metadata": {
            "tags": []
          },
          "execution_count": 101
        }
      ]
    },
    {
      "cell_type": "code",
      "metadata": {
        "id": "Ll1Fs3ngtKs5",
        "colab_type": "code",
        "colab": {}
      },
      "source": [
        "df[\"Obs-Exp**2\"] = (df.Observed - df.Expected)**2/df.Expected"
      ],
      "execution_count": 0,
      "outputs": []
    },
    {
      "cell_type": "code",
      "metadata": {
        "id": "b15OPPebtnko",
        "colab_type": "code",
        "colab": {
          "base_uri": "https://localhost:8080/",
          "height": 34
        },
        "outputId": "7ab3c337-2e73-4015-d0a7-706d3c6c683b"
      },
      "source": [
        "df[\"Obs-Exp**2\"].sum()"
      ],
      "execution_count": 50,
      "outputs": [
        {
          "output_type": "execute_result",
          "data": {
            "text/plain": [
              "8.457446808510639"
            ]
          },
          "metadata": {
            "tags": []
          },
          "execution_count": 50
        }
      ]
    },
    {
      "cell_type": "code",
      "metadata": {
        "id": "ar9kLzrIvR4u",
        "colab_type": "code",
        "colab": {
          "base_uri": "https://localhost:8080/",
          "height": 34
        },
        "outputId": "6e71f220-1c6a-4814-91b5-073ce8d159df"
      },
      "source": [
        "# Chi square Critical Value - Needs LOS and DF\n",
        "stats.chi2.ppf(0.95, 2)"
      ],
      "execution_count": 105,
      "outputs": [
        {
          "output_type": "execute_result",
          "data": {
            "text/plain": [
              "5.991464547107979"
            ]
          },
          "metadata": {
            "tags": []
          },
          "execution_count": 105
        }
      ]
    },
    {
      "cell_type": "markdown",
      "metadata": {
        "id": "lxAmLWv9xjA-",
        "colab_type": "text"
      },
      "source": [
        "### Conclusion\n",
        "\n",
        "Since the Test Statistic 8.45 is greater than Chi Square Critical Value 5.99 and hence we  reject the Ho meaning that the responses towards exercise has changed.\n"
      ]
    },
    {
      "cell_type": "markdown",
      "metadata": {
        "id": "PZKFljyDyzRB",
        "colab_type": "text"
      },
      "source": [
        "The National Center for Health Statistics (NCHS) provided data on the distribution of weight (in categories) among Americans in 2002. The distribution was based on specific values of body mass index (BMI) computed as weight in kilograms over height in meters squared.\n",
        "\n",
        "Underweight was defined as BMI< 18.5, Normal weight as BMI between 18.5 and 24.9, overweight as BMI between 25 and 29.9 and obese as BMI of 30 or greater.\n",
        "\n",
        "Americans in 2002 were distributed as follows: 2% Underweight, 39% Normal Weight, 36% Overweight, and 23% Obese.\n",
        "\n",
        "Suppose we want to assess whether the distribution of BMI is different in the Framingham Offspring sample. Using data from the n=3,326 participants who attended the seventh examination of the Offspring in the Framingham Heart Study we created the BMI categories as defined and observed the following:\n"
      ]
    },
    {
      "cell_type": "code",
      "metadata": {
        "id": "0CIgSgKDw0Lh",
        "colab_type": "code",
        "colab": {}
      },
      "source": [
        "weights = {\"Underweight\":20, \"Normal\": 932, \"Overweight\": 1374,\n",
        "           \"Obese\": 1000}"
      ],
      "execution_count": 0,
      "outputs": []
    },
    {
      "cell_type": "code",
      "metadata": {
        "id": "TD7hHf_7zRj-",
        "colab_type": "code",
        "colab": {}
      },
      "source": [
        "df = pd.DataFrame({\"Observed\": [20, 932, 1374, 1000]})"
      ],
      "execution_count": 0,
      "outputs": []
    },
    {
      "cell_type": "code",
      "metadata": {
        "id": "11AxVhmZzXrr",
        "colab_type": "code",
        "colab": {}
      },
      "source": [
        "# Find the Expected - 2, 39, 36, 23\n",
        "prop = [0.02, 0.39, 0.36, 0.23]\n",
        "exp = []\n",
        "for i in prop:\n",
        "  exp.append(i*df.Observed.sum())"
      ],
      "execution_count": 0,
      "outputs": []
    },
    {
      "cell_type": "code",
      "metadata": {
        "id": "gE9u6ByXzYgG",
        "colab_type": "code",
        "colab": {}
      },
      "source": [
        "df[\"Expected\"] = exp"
      ],
      "execution_count": 0,
      "outputs": []
    },
    {
      "cell_type": "code",
      "metadata": {
        "id": "bYIJJadEzvyp",
        "colab_type": "code",
        "colab": {}
      },
      "source": [
        "df[\"Obs-Exp**2\"] = (df.Observed - df.Expected)**2/df.Expected"
      ],
      "execution_count": 0,
      "outputs": []
    },
    {
      "cell_type": "code",
      "metadata": {
        "id": "5hgSjpHBz4Vk",
        "colab_type": "code",
        "colab": {}
      },
      "source": [
        "tstats = df[\"Obs-Exp**2\"].sum() # Test Statistic"
      ],
      "execution_count": 0,
      "outputs": []
    },
    {
      "cell_type": "code",
      "metadata": {
        "id": "sdu5bdb7z836",
        "colab_type": "code",
        "colab": {
          "base_uri": "https://localhost:8080/",
          "height": 34
        },
        "outputId": "bcaa8bab-a2f7-45a1-ed97-5ebfaf22ed51"
      },
      "source": [
        "# Find the Critical Value\n",
        "stats.chi2.ppf(0.95, 3)"
      ],
      "execution_count": 74,
      "outputs": [
        {
          "output_type": "execute_result",
          "data": {
            "text/plain": [
              "7.814727903251179"
            ]
          },
          "metadata": {
            "tags": []
          },
          "execution_count": 74
        }
      ]
    },
    {
      "cell_type": "markdown",
      "metadata": {
        "id": "lykspFFN0QWE",
        "colab_type": "text"
      },
      "source": [
        "## Conclusion\n",
        "\n",
        "Since the Test Statistic 223 is greater than Chi Square Critical Value 7.81 and hence we reject the Ho meaning that the distribution towards BMI has changed.\\\n",
        "\n",
        "\n",
        "## Null Hypothesis: Twitter Question:\n",
        "The Opinion Percentage is Still Same - 0.45, 0.21, 0.17, 0.17\n",
        "\n",
        "## Alternate Hypothesis: Twitter Question:\n",
        "The Opinion Percentage is Not Same.\n"
      ]
    },
    {
      "cell_type": "code",
      "metadata": {
        "id": "11ilkaiH0Gj8",
        "colab_type": "code",
        "colab": {}
      },
      "source": [
        "df = pd.DataFrame({\"Observed\": [374, 183, 127, 116]})\n"
      ],
      "execution_count": 0,
      "outputs": []
    },
    {
      "cell_type": "code",
      "metadata": {
        "id": "WjNQIZJn0i2Y",
        "colab_type": "code",
        "colab": {}
      },
      "source": [
        "# Find the Expected - 2, 39, 36, 23\n",
        "prop = [0.45, 0.21, 0.17, 0.17]\n",
        "exp = []\n",
        "for i in prop:\n",
        "  exp.append(i*df.Observed.sum())"
      ],
      "execution_count": 0,
      "outputs": []
    },
    {
      "cell_type": "code",
      "metadata": {
        "id": "lrh815A57IKq",
        "colab_type": "code",
        "colab": {}
      },
      "source": [
        "df[\"Expected\"] = exp\n",
        "df[\"Obs-Exp**2\"] = (df.Observed - df.Expected)**2/df.Expected\n",
        "tstats = df[\"Obs-Exp**2\"].sum()"
      ],
      "execution_count": 0,
      "outputs": []
    },
    {
      "cell_type": "code",
      "metadata": {
        "id": "XxvIVwaE7OWu",
        "colab_type": "code",
        "colab": {
          "base_uri": "https://localhost:8080/",
          "height": 34
        },
        "outputId": "a197f6a3-04ed-4b93-c3dc-9027700a0904"
      },
      "source": [
        "# Find the Critical Value\n",
        "stats.chi2.ppf(1-0.025, 3), tstats"
      ],
      "execution_count": 91,
      "outputs": [
        {
          "output_type": "execute_result",
          "data": {
            "text/plain": [
              "(9.348403604496148, 5.420494864612512)"
            ]
          },
          "metadata": {
            "tags": []
          },
          "execution_count": 91
        }
      ]
    },
    {
      "cell_type": "markdown",
      "metadata": {
        "id": "uMuN2SzG7eAX",
        "colab_type": "text"
      },
      "source": [
        "# Conclusion\n",
        "\n",
        "The value of the test statistic is 5.4204 & Critical Value is 9.34\n",
        "and it falls in the nonrejection region. Hence, we fail to reject the null hypothesis, and state that the current percentage distribution of opinions is the same as for 2009."
      ]
    },
    {
      "cell_type": "code",
      "metadata": {
        "id": "NdZcA4OV7U2V",
        "colab_type": "code",
        "colab": {
          "base_uri": "https://localhost:8080/",
          "height": 34
        },
        "outputId": "a14ceedf-1dab-4daa-a360-6067564d35c9"
      },
      "source": [
        "stats.chisquare(df.Observed, df.Expected)"
      ],
      "execution_count": 100,
      "outputs": [
        {
          "output_type": "execute_result",
          "data": {
            "text/plain": [
              "Power_divergenceResult(statistic=5.420494864612512, pvalue=0.14347199699959678)"
            ]
          },
          "metadata": {
            "tags": []
          },
          "execution_count": 100
        }
      ]
    },
    {
      "cell_type": "code",
      "metadata": {
        "id": "goc3Z-2A7xkV",
        "colab_type": "code",
        "colab": {
          "base_uri": "https://localhost:8080/",
          "height": 139
        },
        "outputId": "9f6ebb40-f9fc-48d8-a4f0-7fc2169e1852"
      },
      "source": [
        "from google.colab import drive\n",
        "drive.mount('/gdrive')\n",
        "%cd /gdrive"
      ],
      "execution_count": 106,
      "outputs": [
        {
          "output_type": "stream",
          "text": [
            "Go to this URL in a browser: https://accounts.google.com/o/oauth2/auth?client_id=947318989803-6bn6qk8qdgf4n4g3pfee6491hc0brc4i.apps.googleusercontent.com&redirect_uri=urn%3aietf%3awg%3aoauth%3a2.0%3aoob&response_type=code&scope=email%20https%3a%2f%2fwww.googleapis.com%2fauth%2fdocs.test%20https%3a%2f%2fwww.googleapis.com%2fauth%2fdrive%20https%3a%2f%2fwww.googleapis.com%2fauth%2fdrive.photos.readonly%20https%3a%2f%2fwww.googleapis.com%2fauth%2fpeopleapi.readonly\n",
            "\n",
            "Enter your authorization code:\n",
            "··········\n",
            "Mounted at /gdrive\n",
            "/gdrive\n"
          ],
          "name": "stdout"
        }
      ]
    },
    {
      "cell_type": "code",
      "metadata": {
        "id": "3cRWy0t38C9L",
        "colab_type": "code",
        "colab": {}
      },
      "source": [
        "titanic = pd.read_csv(\"/gdrive/My Drive/Colab Notebooks/TitanicTrain.csv\")"
      ],
      "execution_count": 0,
      "outputs": []
    },
    {
      "cell_type": "code",
      "metadata": {
        "id": "lQDddr0YA2A_",
        "colab_type": "code",
        "colab": {
          "base_uri": "https://localhost:8080/",
          "height": 204
        },
        "outputId": "9d592828-9f89-429f-df33-77019a3c5594"
      },
      "source": [
        "titanic.head()"
      ],
      "execution_count": 109,
      "outputs": [
        {
          "output_type": "execute_result",
          "data": {
            "text/html": [
              "<div>\n",
              "<style scoped>\n",
              "    .dataframe tbody tr th:only-of-type {\n",
              "        vertical-align: middle;\n",
              "    }\n",
              "\n",
              "    .dataframe tbody tr th {\n",
              "        vertical-align: top;\n",
              "    }\n",
              "\n",
              "    .dataframe thead th {\n",
              "        text-align: right;\n",
              "    }\n",
              "</style>\n",
              "<table border=\"1\" class=\"dataframe\">\n",
              "  <thead>\n",
              "    <tr style=\"text-align: right;\">\n",
              "      <th></th>\n",
              "      <th>Survived</th>\n",
              "      <th>Pclass</th>\n",
              "      <th>Sex</th>\n",
              "      <th>Age</th>\n",
              "      <th>Fare</th>\n",
              "      <th>Embarked</th>\n",
              "      <th>Cabin_Status</th>\n",
              "      <th>Titles</th>\n",
              "      <th>Family</th>\n",
              "      <th>Family_On_Board</th>\n",
              "      <th>Fare_Per_Person</th>\n",
              "      <th>SocioEcoStats</th>\n",
              "    </tr>\n",
              "  </thead>\n",
              "  <tbody>\n",
              "    <tr>\n",
              "      <th>0</th>\n",
              "      <td>0</td>\n",
              "      <td>3</td>\n",
              "      <td>male</td>\n",
              "      <td>22.0</td>\n",
              "      <td>7.2500</td>\n",
              "      <td>S</td>\n",
              "      <td>No Cabin Found</td>\n",
              "      <td>Mr</td>\n",
              "      <td>1</td>\n",
              "      <td>Singles</td>\n",
              "      <td>7.2500</td>\n",
              "      <td>Low</td>\n",
              "    </tr>\n",
              "    <tr>\n",
              "      <th>1</th>\n",
              "      <td>1</td>\n",
              "      <td>1</td>\n",
              "      <td>female</td>\n",
              "      <td>38.0</td>\n",
              "      <td>71.2833</td>\n",
              "      <td>C</td>\n",
              "      <td>Cabin Allotted</td>\n",
              "      <td>Mrs</td>\n",
              "      <td>1</td>\n",
              "      <td>Singles</td>\n",
              "      <td>71.2833</td>\n",
              "      <td>Upper</td>\n",
              "    </tr>\n",
              "    <tr>\n",
              "      <th>2</th>\n",
              "      <td>1</td>\n",
              "      <td>3</td>\n",
              "      <td>female</td>\n",
              "      <td>26.0</td>\n",
              "      <td>7.9250</td>\n",
              "      <td>S</td>\n",
              "      <td>No Cabin Found</td>\n",
              "      <td>Miss</td>\n",
              "      <td>1</td>\n",
              "      <td>Singles</td>\n",
              "      <td>7.9250</td>\n",
              "      <td>Low</td>\n",
              "    </tr>\n",
              "    <tr>\n",
              "      <th>3</th>\n",
              "      <td>1</td>\n",
              "      <td>1</td>\n",
              "      <td>female</td>\n",
              "      <td>35.0</td>\n",
              "      <td>53.1000</td>\n",
              "      <td>S</td>\n",
              "      <td>Cabin Allotted</td>\n",
              "      <td>Mrs</td>\n",
              "      <td>1</td>\n",
              "      <td>Singles</td>\n",
              "      <td>53.1000</td>\n",
              "      <td>Upper</td>\n",
              "    </tr>\n",
              "    <tr>\n",
              "      <th>4</th>\n",
              "      <td>0</td>\n",
              "      <td>3</td>\n",
              "      <td>male</td>\n",
              "      <td>35.0</td>\n",
              "      <td>8.0500</td>\n",
              "      <td>S</td>\n",
              "      <td>No Cabin Found</td>\n",
              "      <td>Mr</td>\n",
              "      <td>1</td>\n",
              "      <td>Singles</td>\n",
              "      <td>8.0500</td>\n",
              "      <td>Low</td>\n",
              "    </tr>\n",
              "  </tbody>\n",
              "</table>\n",
              "</div>"
            ],
            "text/plain": [
              "   Survived  Pclass     Sex  ...  Family_On_Board  Fare_Per_Person SocioEcoStats\n",
              "0         0       3    male  ...          Singles           7.2500           Low\n",
              "1         1       1  female  ...          Singles          71.2833         Upper\n",
              "2         1       3  female  ...          Singles           7.9250           Low\n",
              "3         1       1  female  ...          Singles          53.1000         Upper\n",
              "4         0       3    male  ...          Singles           8.0500           Low\n",
              "\n",
              "[5 rows x 12 columns]"
            ]
          },
          "metadata": {
            "tags": []
          },
          "execution_count": 109
        }
      ]
    },
    {
      "cell_type": "code",
      "metadata": {
        "id": "BhM1uF8IBBXO",
        "colab_type": "code",
        "colab": {}
      },
      "source": [
        "# Does the Survival Depends on Gender\n",
        "# Ho: Gender and Survival and Independent of Each Other meaning Survival Doesn't Depend on Gender\n",
        "teststats, pvalue, df, exp_freq = stats.chi2_contingency(pd.crosstab(titanic.Sex, titanic.Survived))"
      ],
      "execution_count": 0,
      "outputs": []
    },
    {
      "cell_type": "code",
      "metadata": {
        "id": "6uAv39n3BYaB",
        "colab_type": "code",
        "colab": {
          "base_uri": "https://localhost:8080/",
          "height": 51
        },
        "outputId": "0ee18864-fa89-4c8e-b878-3e223bc67f77"
      },
      "source": [
        "print(teststats)\n",
        "print(pvalue)\n",
        "\n",
        "# Con: Since P Value is Less than 0, it means that the results are statistically significant meaning that these variables are dep."
      ],
      "execution_count": 114,
      "outputs": [
        {
          "output_type": "stream",
          "text": [
            "260.71702016732104\n",
            "1.1973570627755645e-58\n"
          ],
          "name": "stdout"
        }
      ]
    },
    {
      "cell_type": "code",
      "metadata": {
        "id": "EX-7XqX8B5oe",
        "colab_type": "code",
        "colab": {
          "base_uri": "https://localhost:8080/",
          "height": 296
        },
        "outputId": "fc46e60b-34eb-49e8-b067-53ec6c634372"
      },
      "source": [
        "# Lets Check how it is Distributed\n",
        "import matplotlib.pyplot as plt\n",
        "import seaborn as sns\n",
        "sns.countplot(x = \"SocioEcoStats\", hue = \"Survived\", data = titanic)"
      ],
      "execution_count": 131,
      "outputs": [
        {
          "output_type": "execute_result",
          "data": {
            "text/plain": [
              "<matplotlib.axes._subplots.AxesSubplot at 0x7f5bb7e3ea20>"
            ]
          },
          "metadata": {
            "tags": []
          },
          "execution_count": 131
        },
        {
          "output_type": "display_data",
          "data": {
            "image/png": "[encoded data removed]",
            "text/plain": [
              "<Figure size 432x288 with 1 Axes>"
            ]
          },
          "metadata": {
            "tags": [],
            "needs_background": "light"
          }
        }
      ]
    },
    {
      "cell_type": "code",
      "metadata": {
        "id": "LVJs9WWrBoPu",
        "colab_type": "code",
        "colab": {
          "base_uri": "https://localhost:8080/",
          "height": 51
        },
        "outputId": "a27372e5-9ffb-40d1-81fa-d2f2189aed6f"
      },
      "source": [
        "# Check if Survival is Also Independent of SES\n",
        "# Ho: Survival is Independent of SocioEcoStatus\n",
        "# H1: Null is False meaning that Survival depends on whether you are rich or not.\n",
        "teststats, pvalue, df, exp_freq = stats.chi2_contingency(pd.crosstab(titanic.SocioEcoStats, titanic.Survived))\n",
        "\n",
        "print(teststats)\n",
        "print(pvalue)\n",
        "\n",
        "# Again the P Value is 0 meaning that the Survival is Dependent on the SocioEcoStatus."
      ],
      "execution_count": 129,
      "outputs": [
        {
          "output_type": "stream",
          "text": [
            "102.88898875696057\n",
            "4.5492517112987287e-23\n"
          ],
          "name": "stdout"
        }
      ]
    },
    {
      "cell_type": "code",
      "metadata": {
        "id": "XYU4o582CaMf",
        "colab_type": "code",
        "colab": {}
      },
      "source": [
        "# Does the Fare Same for all the PClasses\n",
        "import statsmodels.api         as     sm\n",
        "from   statsmodels.formula.api import ols\n",
        "from   statsmodels.stats.anova import anova_lm"
      ],
      "execution_count": 0,
      "outputs": []
    },
    {
      "cell_type": "code",
      "metadata": {
        "id": "qjQG95xkEKrm",
        "colab_type": "code",
        "colab": {
          "base_uri": "https://localhost:8080/",
          "height": 68
        },
        "outputId": "59157460-0f9f-4728-c6be-6910673b7b1f"
      },
      "source": [
        "formula = 'Pclass ~ Fare'\n",
        "model = ols(formula, titanic).fit() # Fitting the Anova Table\n",
        "aov_table = anova_lm(model) # Generating the Anova Table\n",
        "print(aov_table)\n",
        "\n",
        "# Conclusion - Mean Fare Paid across Categories is not Same. Avg Fare is Different for each category"
      ],
      "execution_count": 148,
      "outputs": [
        {
          "output_type": "stream",
          "text": [
            "             df      sum_sq     mean_sq           F        PR(>F)\n",
            "Fare        1.0  187.850073  187.850073  384.547434  1.967386e-71\n",
            "Residual  889.0  434.273383    0.488496         NaN           NaN\n"
          ],
          "name": "stdout"
        }
      ]
    },
    {
      "cell_type": "code",
      "metadata": {
        "id": "xvqaWR2BEUTW",
        "colab_type": "code",
        "colab": {
          "base_uri": "https://localhost:8080/",
          "height": 51
        },
        "outputId": "e7ed8afd-25c4-4f5d-f924-8c66120904ed"
      },
      "source": [
        "# Does the Survival Depends on the Family Count\n",
        "teststats, pvalue, df, exp_freq = stats.chi2_contingency(pd.crosstab(titanic.Family, titanic.Survived))\n",
        "print(teststats)\n",
        "print(pvalue)\n",
        "\n",
        "# Again the P Value is 0 meaning that the Survival is Dependent on the Family Count. The Same can be seen in the Plot Too."
      ],
      "execution_count": 149,
      "outputs": [
        {
          "output_type": "stream",
          "text": [
            "48.13393377928416\n",
            "3.352263602998165e-08\n"
          ],
          "name": "stdout"
        }
      ]
    },
    {
      "cell_type": "code",
      "metadata": {
        "id": "CdFFemZrEdnv",
        "colab_type": "code",
        "colab": {
          "base_uri": "https://localhost:8080/",
          "height": 296
        },
        "outputId": "d0f074ee-54a9-45e9-fe5b-2d302f407876"
      },
      "source": [
        "sns.countplot(x = \"Family\", hue = \"Survived\", data = titanic)"
      ],
      "execution_count": 141,
      "outputs": [
        {
          "output_type": "execute_result",
          "data": {
            "text/plain": [
              "<matplotlib.axes._subplots.AxesSubplot at 0x7f5bad3de2e8>"
            ]
          },
          "metadata": {
            "tags": []
          },
          "execution_count": 141
        },
        {
          "output_type": "display_data",
          "data": {
            "image/png": "[encoded data removed]",
            "text/plain": [
              "<Figure size 432x288 with 1 Axes>"
            ]
          },
          "metadata": {
            "tags": [],
            "needs_background": "light"
          }
        }
      ]
    },
    {
      "cell_type": "code",
      "metadata": {
        "id": "kwMSpASeE_tK",
        "colab_type": "code",
        "colab": {
          "base_uri": "https://localhost:8080/",
          "height": 34
        },
        "outputId": "5aacd3b7-2b76-4c81-8ece-1234f91a7244"
      },
      "source": [
        "# Is the Fare Same Across the Survived Class Too.\n",
        "stats.ttest_ind(titanic.loc[titanic.Survived==1, \"Fare\"], titanic.loc[titanic.Survived==0, \"Fare\"])"
      ],
      "execution_count": 151,
      "outputs": [
        {
          "output_type": "execute_result",
          "data": {
            "text/plain": [
              "Ttest_indResult(statistic=7.939191660871055, pvalue=6.120189341924198e-15)"
            ]
          },
          "metadata": {
            "tags": []
          },
          "execution_count": 151
        }
      ]
    },
    {
      "cell_type": "code",
      "metadata": {
        "id": "QJZI6p4OFfdu",
        "colab_type": "code",
        "colab": {
          "base_uri": "https://localhost:8080/",
          "height": 51
        },
        "outputId": "3b40652b-20d2-4268-dd9d-dd138950f858"
      },
      "source": [
        "# Does the Survival Depend on the Boarding Point\n",
        "teststats, pvalue, df, exp_freq = stats.chi2_contingency(pd.crosstab(titanic.Embarked, titanic.Survived))\n",
        "print(teststats)\n",
        "print(pvalue)\n",
        "\n",
        "# Again the P Value is 0 meaning that the Survival is Dependent on the Location of Boarding"
      ],
      "execution_count": 152,
      "outputs": [
        {
          "output_type": "stream",
          "text": [
            "25.964452881874784\n",
            "2.3008626481449577e-06\n"
          ],
          "name": "stdout"
        }
      ]
    },
    {
      "cell_type": "code",
      "metadata": {
        "id": "fa2cdmDlFim2",
        "colab_type": "code",
        "colab": {
          "base_uri": "https://localhost:8080/",
          "height": 296
        },
        "outputId": "4f5b6ee4-21b1-49e7-ee72-d8b40f1a26e5"
      },
      "source": [
        "sns.countplot(titanic.Embarked, hue = \"Survived\", data = titanic)\n",
        "# Southampton People have better Survival Count"
      ],
      "execution_count": 153,
      "outputs": [
        {
          "output_type": "execute_result",
          "data": {
            "text/plain": [
              "<matplotlib.axes._subplots.AxesSubplot at 0x7f5badb864a8>"
            ]
          },
          "metadata": {
            "tags": []
          },
          "execution_count": 153
        },
        {
          "output_type": "display_data",
          "data": {
            "image/png": "[encoded data removed]",
            "text/plain": [
              "<Figure size 432x288 with 1 Axes>"
            ]
          },
          "metadata": {
            "tags": [],
            "needs_background": "light"
          }
        }
      ]
    },
    {
      "cell_type": "code",
      "metadata": {
        "id": "fyEC5Zo9HVQO",
        "colab_type": "code",
        "colab": {
          "base_uri": "https://localhost:8080/",
          "height": 299
        },
        "outputId": "e2409cc3-494f-42f2-d628-bfdcd6dc511d"
      },
      "source": [
        "sns.countplot(titanic.Cabin_Status, hue = \"Survived\", data = titanic)\n",
        "# No Cabin Found have better Survival Count"
      ],
      "execution_count": 154,
      "outputs": [
        {
          "output_type": "execute_result",
          "data": {
            "text/plain": [
              "<matplotlib.axes._subplots.AxesSubplot at 0x7f5bad924208>"
            ]
          },
          "metadata": {
            "tags": []
          },
          "execution_count": 154
        },
        {
          "output_type": "display_data",
          "data": {
            "image/png": "[encoded data removed]",
            "text/plain": [
              "<Figure size 432x288 with 1 Axes>"
            ]
          },
          "metadata": {
            "tags": [],
            "needs_background": "light"
          }
        }
      ]
    },
    {
      "cell_type": "code",
      "metadata": {
        "id": "_QrnvY0xHiHq",
        "colab_type": "code",
        "colab": {
          "base_uri": "https://localhost:8080/",
          "height": 51
        },
        "outputId": "558f0f59-c4e5-48bb-9d33-bb6b3153afeb"
      },
      "source": [
        "# Does the Survival Depend on the Boarding Point\n",
        "teststats, pvalue, df, exp_freq = stats.chi2_contingency(pd.crosstab(titanic.Cabin_Status, titanic.Survived))\n",
        "print(teststats)\n",
        "print(pvalue)\n",
        "\n",
        "# Again the P Value is 0 meaning that the Survival is Dependent on the Cabin Status. The People Had no Cabin had better survival chances."
      ],
      "execution_count": 155,
      "outputs": [
        {
          "output_type": "stream",
          "text": [
            "87.94148561238097\n",
            "6.7419704360811776e-21\n"
          ],
          "name": "stdout"
        }
      ]
    },
    {
      "cell_type": "code",
      "metadata": {
        "id": "dH-Y2Qv4HtMC",
        "colab_type": "code",
        "colab": {
          "base_uri": "https://localhost:8080/",
          "height": 51
        },
        "outputId": "215eb977-e056-4be6-88b3-ad297a825169"
      },
      "source": [
        "# Does the Survival Depend on the Boarding Point\n",
        "teststats, pvalue, df, exp_freq = stats.chi2_contingency(pd.crosstab(titanic.Titles, titanic.Survived))\n",
        "print(teststats)\n",
        "print(pvalue)\n",
        "\n",
        "# Again the P Value is 0 meaning that the Survival is Dependent on the Titles. \n",
        "# Miss & Mrs Found have better Survival Count"
      ],
      "execution_count": 156,
      "outputs": [
        {
          "output_type": "stream",
          "text": [
            "284.6667057498796\n",
            "1.9783487591671835e-59\n"
          ],
          "name": "stdout"
        }
      ]
    },
    {
      "cell_type": "code",
      "metadata": {
        "id": "PXCmITEuH7N_",
        "colab_type": "code",
        "colab": {
          "base_uri": "https://localhost:8080/",
          "height": 296
        },
        "outputId": "5952a796-58b9-4ad5-cdc1-c8fe6a99cd2e"
      },
      "source": [
        "sns.countplot(titanic.Titles, hue = \"Survived\", data = titanic)\n",
        "# Miss & Mrs Found have better Survival Count"
      ],
      "execution_count": 157,
      "outputs": [
        {
          "output_type": "execute_result",
          "data": {
            "text/plain": [
              "<matplotlib.axes._subplots.AxesSubplot at 0x7f5bad369c50>"
            ]
          },
          "metadata": {
            "tags": []
          },
          "execution_count": 157
        },
        {
          "output_type": "display_data",
          "data": {
            "image/png": "[encoded data removed]",
            "text/plain": [
              "<Figure size 432x288 with 1 Axes>"
            ]
          },
          "metadata": {
            "tags": [],
            "needs_background": "light"
          }
        }
      ]
    },
    {
      "cell_type": "code",
      "metadata": {
        "id": "pbOep7gOIB_n",
        "colab_type": "code",
        "colab": {}
      },
      "source": [
        ""
      ],
      "execution_count": 0,
      "outputs": []
    }
  ]
}