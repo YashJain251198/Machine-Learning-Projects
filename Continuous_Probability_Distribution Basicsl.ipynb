{
  "nbformat": 4,
  "nbformat_minor": 0,
  "metadata": {
    "colab": {
      "name": "Continuous Probability Distribution & Confidence Interval.ipynb",
      "provenance": [],
      "authorship_tag": "ABX9TyPpcKoQLy6MdNCbXm6o1OeZ",
      "include_colab_link": true
    },
    "kernelspec": {
      "name": "python3",
      "display_name": "Python 3"
    }
  },
  "cells": [
    {
      "cell_type": "markdown",
      "metadata": {
        "id": "view-in-github",
        "colab_type": "text"
      },
      "source": [
        "<a href=\"https://colab.research.google.com/github/mukul-mschauhan/Data-Science-Projects/blob/master/Continuous_Probability_Distribution%20Basicsl.ipynb\" target=\"_parent\"><img src=\"https://colab.research.google.com/assets/colab-badge.svg\" alt=\"Open In Colab\"/></a>"
      ]
    },
    {
      "cell_type": "markdown",
      "metadata": {
        "id": "VXKP-b9ajyWM",
        "colab_type": "text"
      },
      "source": [
        "# Continuous Probability Distribution\n",
        "\n",
        "A Probability Distribution is a set of all possible probability values from a random experiment (of a Random Variable) "
      ]
    },
    {
      "cell_type": "code",
      "metadata": {
        "id": "EljV0Sg3jBP8",
        "colab_type": "code",
        "colab": {}
      },
      "source": [
        "import scipy.stats as stats"
      ],
      "execution_count": 0,
      "outputs": []
    },
    {
      "cell_type": "code",
      "metadata": {
        "id": "fIDT6Qlv9yph",
        "colab_type": "code",
        "colab": {
          "base_uri": "https://localhost:8080/",
          "height": 34
        },
        "outputId": "f0951c8b-63f7-4191-b029-5225c80f9ed3"
      },
      "source": [
        "stats.norm.cdf(1.95, 0, 1) # Findin the Area Under the Curve"
      ],
      "execution_count": 3,
      "outputs": [
        {
          "output_type": "execute_result",
          "data": {
            "text/plain": [
              "0.9744119404783614"
            ]
          },
          "metadata": {
            "tags": []
          },
          "execution_count": 3
        }
      ]
    },
    {
      "cell_type": "code",
      "metadata": {
        "id": "TE4rnufE99gF",
        "colab_type": "code",
        "colab": {
          "base_uri": "https://localhost:8080/",
          "height": 34
        },
        "outputId": "5c206cd1-ad19-44b0-ce24-4a6ee3d4af77"
      },
      "source": [
        "# Find the Area Under the Curve from z = -2.17 to z = 0\n",
        "stats.norm.cdf(0, 0,1) - stats.norm.cdf(-2.17, 0,1)"
      ],
      "execution_count": 4,
      "outputs": [
        {
          "output_type": "execute_result",
          "data": {
            "text/plain": [
              "0.4849965770262678"
            ]
          },
          "metadata": {
            "tags": []
          },
          "execution_count": 4
        }
      ]
    },
    {
      "cell_type": "code",
      "metadata": {
        "id": "d_RR6g1Q-_Tc",
        "colab_type": "code",
        "colab": {
          "base_uri": "https://localhost:8080/",
          "height": 34
        },
        "outputId": "575d2f0c-29f8-43b6-95d3-f51d51343a2c"
      },
      "source": [
        "# Find the Probability for the P(1.19 < z < 2.12)\n",
        "stats.norm.cdf(2.12, 0,1) - stats.norm.cdf(1.19, 0,1)"
      ],
      "execution_count": 5,
      "outputs": [
        {
          "output_type": "execute_result",
          "data": {
            "text/plain": [
              "0.10002017337547597"
            ]
          },
          "metadata": {
            "tags": []
          },
          "execution_count": 5
        }
      ]
    },
    {
      "cell_type": "code",
      "metadata": {
        "id": "HE4sJv6G_dpz",
        "colab_type": "code",
        "colab": {
          "base_uri": "https://localhost:8080/",
          "height": 34
        },
        "outputId": "3f6d340d-3394-499b-89df-26747ea9d9d4"
      },
      "source": [
        "# Ex 6-11\n",
        "mean = 3173\n",
        "sd = 800\n",
        "# Prob that cc debt for a randomly selected student is between 2109 and 3605\n",
        "stats.norm.cdf(3605, mean, sd) - stats.norm.cdf(2109, mean, sd)"
      ],
      "execution_count": 6,
      "outputs": [
        {
          "output_type": "execute_result",
          "data": {
            "text/plain": [
              "0.6136423481340212"
            ]
          },
          "metadata": {
            "tags": []
          },
          "execution_count": 6
        }
      ]
    },
    {
      "cell_type": "code",
      "metadata": {
        "id": "kkH2L187JyqK",
        "colab_type": "code",
        "colab": {
          "base_uri": "https://localhost:8080/",
          "height": 34
        },
        "outputId": "54b21e64-7d05-4e26-d946-651611fcf13f"
      },
      "source": [
        "# Cola\n",
        "mean = 12\n",
        "sd = 0.015\n",
        "stats.norm.cdf(11.99, mean, sd) - stats.norm.cdf(11.97, mean, sd)"
      ],
      "execution_count": 9,
      "outputs": [
        {
          "output_type": "execute_result",
          "data": {
            "text/plain": [
              "0.2297424055987459"
            ]
          },
          "metadata": {
            "tags": []
          },
          "execution_count": 9
        }
      ]
    },
    {
      "cell_type": "code",
      "metadata": {
        "id": "RNanypINMExu",
        "colab_type": "code",
        "colab": {
          "base_uri": "https://localhost:8080/",
          "height": 34
        },
        "outputId": "a0337f6b-8d91-44d6-888b-23e5f521d491"
      },
      "source": [
        "stats.norm.cdf(12.07, mean, sd) - stats.norm.cdf(12.02, mean, sd)"
      ],
      "execution_count": 10,
      "outputs": [
        {
          "output_type": "execute_result",
          "data": {
            "text/plain": [
              "0.09120968909913596"
            ]
          },
          "metadata": {
            "tags": []
          },
          "execution_count": 10
        }
      ]
    },
    {
      "cell_type": "code",
      "metadata": {
        "id": "7oCVIO_EMQxn",
        "colab_type": "code",
        "colab": {}
      },
      "source": [
        ""
      ],
      "execution_count": 0,
      "outputs": []
    },
    {
      "cell_type": "code",
      "metadata": {
        "id": "o-oXtSSQNNuJ",
        "colab_type": "code",
        "colab": {}
      },
      "source": [
        ""
      ],
      "execution_count": 0,
      "outputs": []
    }
  ]
}