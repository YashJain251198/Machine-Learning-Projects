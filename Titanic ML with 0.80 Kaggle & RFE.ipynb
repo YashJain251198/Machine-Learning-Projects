{
 "cells": [
  {
   "cell_type": "code",
   "execution_count": 1,
   "metadata": {},
   "outputs": [],
   "source": [
    "from pyforest import *"
   ]
  },
  {
   "cell_type": "code",
   "execution_count": 2,
   "metadata": {},
   "outputs": [],
   "source": [
    "train = pd.read_csv(\"~/Downloads/Titanic/train.csv\")"
   ]
  },
  {
   "cell_type": "code",
   "execution_count": 3,
   "metadata": {},
   "outputs": [],
   "source": [
    "test =pd.read_csv(\"~/Downloads/Titanic/test.csv\")"
   ]
  },
  {
   "cell_type": "code",
   "execution_count": 4,
   "metadata": {},
   "outputs": [
    {
     "data": {
      "text/html": [
       "<div>\n",
       "<style scoped>\n",
       "    .dataframe tbody tr th:only-of-type {\n",
       "        vertical-align: middle;\n",
       "    }\n",
       "\n",
       "    .dataframe tbody tr th {\n",
       "        vertical-align: top;\n",
       "    }\n",
       "\n",
       "    .dataframe thead th {\n",
       "        text-align: right;\n",
       "    }\n",
       "</style>\n",
       "<table border=\"1\" class=\"dataframe\">\n",
       "  <thead>\n",
       "    <tr style=\"text-align: right;\">\n",
       "      <th></th>\n",
       "      <th>PassengerId</th>\n",
       "      <th>Survived</th>\n",
       "      <th>Pclass</th>\n",
       "      <th>Name</th>\n",
       "      <th>Sex</th>\n",
       "      <th>Age</th>\n",
       "      <th>SibSp</th>\n",
       "      <th>Parch</th>\n",
       "      <th>Ticket</th>\n",
       "      <th>Fare</th>\n",
       "      <th>Cabin</th>\n",
       "      <th>Embarked</th>\n",
       "    </tr>\n",
       "  </thead>\n",
       "  <tbody>\n",
       "    <tr>\n",
       "      <th>0</th>\n",
       "      <td>1</td>\n",
       "      <td>0</td>\n",
       "      <td>3</td>\n",
       "      <td>Braund, Mr. Owen Harris</td>\n",
       "      <td>male</td>\n",
       "      <td>22.0</td>\n",
       "      <td>1</td>\n",
       "      <td>0</td>\n",
       "      <td>A/5 21171</td>\n",
       "      <td>7.2500</td>\n",
       "      <td>NaN</td>\n",
       "      <td>S</td>\n",
       "    </tr>\n",
       "    <tr>\n",
       "      <th>1</th>\n",
       "      <td>2</td>\n",
       "      <td>1</td>\n",
       "      <td>1</td>\n",
       "      <td>Cumings, Mrs. John Bradley (Florence Briggs Th...</td>\n",
       "      <td>female</td>\n",
       "      <td>38.0</td>\n",
       "      <td>1</td>\n",
       "      <td>0</td>\n",
       "      <td>PC 17599</td>\n",
       "      <td>71.2833</td>\n",
       "      <td>C85</td>\n",
       "      <td>C</td>\n",
       "    </tr>\n",
       "    <tr>\n",
       "      <th>2</th>\n",
       "      <td>3</td>\n",
       "      <td>1</td>\n",
       "      <td>3</td>\n",
       "      <td>Heikkinen, Miss. Laina</td>\n",
       "      <td>female</td>\n",
       "      <td>26.0</td>\n",
       "      <td>0</td>\n",
       "      <td>0</td>\n",
       "      <td>STON/O2. 3101282</td>\n",
       "      <td>7.9250</td>\n",
       "      <td>NaN</td>\n",
       "      <td>S</td>\n",
       "    </tr>\n",
       "    <tr>\n",
       "      <th>3</th>\n",
       "      <td>4</td>\n",
       "      <td>1</td>\n",
       "      <td>1</td>\n",
       "      <td>Futrelle, Mrs. Jacques Heath (Lily May Peel)</td>\n",
       "      <td>female</td>\n",
       "      <td>35.0</td>\n",
       "      <td>1</td>\n",
       "      <td>0</td>\n",
       "      <td>113803</td>\n",
       "      <td>53.1000</td>\n",
       "      <td>C123</td>\n",
       "      <td>S</td>\n",
       "    </tr>\n",
       "    <tr>\n",
       "      <th>4</th>\n",
       "      <td>5</td>\n",
       "      <td>0</td>\n",
       "      <td>3</td>\n",
       "      <td>Allen, Mr. William Henry</td>\n",
       "      <td>male</td>\n",
       "      <td>35.0</td>\n",
       "      <td>0</td>\n",
       "      <td>0</td>\n",
       "      <td>373450</td>\n",
       "      <td>8.0500</td>\n",
       "      <td>NaN</td>\n",
       "      <td>S</td>\n",
       "    </tr>\n",
       "  </tbody>\n",
       "</table>\n",
       "</div>"
      ],
      "text/plain": [
       "   PassengerId  Survived  Pclass  \\\n",
       "0            1         0       3   \n",
       "1            2         1       1   \n",
       "2            3         1       3   \n",
       "3            4         1       1   \n",
       "4            5         0       3   \n",
       "\n",
       "                                                Name     Sex   Age  SibSp  \\\n",
       "0                            Braund, Mr. Owen Harris    male  22.0      1   \n",
       "1  Cumings, Mrs. John Bradley (Florence Briggs Th...  female  38.0      1   \n",
       "2                             Heikkinen, Miss. Laina  female  26.0      0   \n",
       "3       Futrelle, Mrs. Jacques Heath (Lily May Peel)  female  35.0      1   \n",
       "4                           Allen, Mr. William Henry    male  35.0      0   \n",
       "\n",
       "   Parch            Ticket     Fare Cabin Embarked  \n",
       "0      0         A/5 21171   7.2500   NaN        S  \n",
       "1      0          PC 17599  71.2833   C85        C  \n",
       "2      0  STON/O2. 3101282   7.9250   NaN        S  \n",
       "3      0            113803  53.1000  C123        S  \n",
       "4      0            373450   8.0500   NaN        S  "
      ]
     },
     "execution_count": 4,
     "metadata": {},
     "output_type": "execute_result"
    }
   ],
   "source": [
    "train.head()"
   ]
  },
  {
   "cell_type": "code",
   "execution_count": 5,
   "metadata": {},
   "outputs": [],
   "source": [
    "# Combining Train and Test\n",
    "combined = pd.concat([train,test], ignore_index = True, sort = False)"
   ]
  },
  {
   "cell_type": "code",
   "execution_count": 6,
   "metadata": {
    "scrolled": true
   },
   "outputs": [
    {
     "data": {
      "text/plain": [
       "Survived     418\n",
       "Age          263\n",
       "Fare           1\n",
       "Cabin       1014\n",
       "Embarked       2\n",
       "dtype: int64"
      ]
     },
     "execution_count": 6,
     "metadata": {},
     "output_type": "execute_result"
    }
   ],
   "source": [
    "combined.isnull().sum()[combined.isnull().sum()!=0]"
   ]
  },
  {
   "cell_type": "code",
   "execution_count": 7,
   "metadata": {},
   "outputs": [
    {
     "data": {
      "text/html": [
       "<div>\n",
       "<style scoped>\n",
       "    .dataframe tbody tr th:only-of-type {\n",
       "        vertical-align: middle;\n",
       "    }\n",
       "\n",
       "    .dataframe tbody tr th {\n",
       "        vertical-align: top;\n",
       "    }\n",
       "\n",
       "    .dataframe thead th {\n",
       "        text-align: right;\n",
       "    }\n",
       "</style>\n",
       "<table border=\"1\" class=\"dataframe\">\n",
       "  <thead>\n",
       "    <tr style=\"text-align: right;\">\n",
       "      <th></th>\n",
       "      <th>PassengerId</th>\n",
       "      <th>Survived</th>\n",
       "      <th>Pclass</th>\n",
       "      <th>Name</th>\n",
       "      <th>Sex</th>\n",
       "      <th>Age</th>\n",
       "      <th>SibSp</th>\n",
       "      <th>Parch</th>\n",
       "      <th>Ticket</th>\n",
       "      <th>Fare</th>\n",
       "      <th>Cabin</th>\n",
       "      <th>Embarked</th>\n",
       "    </tr>\n",
       "  </thead>\n",
       "  <tbody>\n",
       "    <tr>\n",
       "      <th>61</th>\n",
       "      <td>62</td>\n",
       "      <td>1.0</td>\n",
       "      <td>1</td>\n",
       "      <td>Icard, Miss. Amelie</td>\n",
       "      <td>female</td>\n",
       "      <td>38.0</td>\n",
       "      <td>0</td>\n",
       "      <td>0</td>\n",
       "      <td>113572</td>\n",
       "      <td>80.0</td>\n",
       "      <td>B28</td>\n",
       "      <td>NaN</td>\n",
       "    </tr>\n",
       "    <tr>\n",
       "      <th>829</th>\n",
       "      <td>830</td>\n",
       "      <td>1.0</td>\n",
       "      <td>1</td>\n",
       "      <td>Stone, Mrs. George Nelson (Martha Evelyn)</td>\n",
       "      <td>female</td>\n",
       "      <td>62.0</td>\n",
       "      <td>0</td>\n",
       "      <td>0</td>\n",
       "      <td>113572</td>\n",
       "      <td>80.0</td>\n",
       "      <td>B28</td>\n",
       "      <td>NaN</td>\n",
       "    </tr>\n",
       "  </tbody>\n",
       "</table>\n",
       "</div>"
      ],
      "text/plain": [
       "     PassengerId  Survived  Pclass                                       Name  \\\n",
       "61            62       1.0       1                        Icard, Miss. Amelie   \n",
       "829          830       1.0       1  Stone, Mrs. George Nelson (Martha Evelyn)   \n",
       "\n",
       "        Sex   Age  SibSp  Parch  Ticket  Fare Cabin Embarked  \n",
       "61   female  38.0      0      0  113572  80.0   B28      NaN  \n",
       "829  female  62.0      0      0  113572  80.0   B28      NaN  "
      ]
     },
     "execution_count": 7,
     "metadata": {},
     "output_type": "execute_result"
    }
   ],
   "source": [
    "combined[combined.Embarked.isnull()]"
   ]
  },
  {
   "cell_type": "code",
   "execution_count": 8,
   "metadata": {},
   "outputs": [],
   "source": [
    "# Find Embarked\n",
    "df= pd.DataFrame(combined.groupby([\"Survived\", \"Sex\"])[\"Embarked\"].value_counts())"
   ]
  },
  {
   "cell_type": "code",
   "execution_count": 9,
   "metadata": {},
   "outputs": [
    {
     "data": {
      "text/plain": [
       "<matplotlib.axes._subplots.AxesSubplot at 0x1132f53c8>"
      ]
     },
     "execution_count": 9,
     "metadata": {},
     "output_type": "execute_result"
    }
   ],
   "source": [
    "df.plot(kind = \"barh\")\n",
    "\n",
    "# This plot shows that majority of Females who survived were from Southampton"
   ]
  },
  {
   "cell_type": "code",
   "execution_count": 10,
   "metadata": {},
   "outputs": [],
   "source": [
    "# Filling S in Embarked\n",
    "combined.loc[combined.Embarked.isnull(),\"Embarked\"]=\"S\""
   ]
  },
  {
   "cell_type": "code",
   "execution_count": 11,
   "metadata": {},
   "outputs": [
    {
     "data": {
      "text/html": [
       "<div>\n",
       "<style scoped>\n",
       "    .dataframe tbody tr th:only-of-type {\n",
       "        vertical-align: middle;\n",
       "    }\n",
       "\n",
       "    .dataframe tbody tr th {\n",
       "        vertical-align: top;\n",
       "    }\n",
       "\n",
       "    .dataframe thead th {\n",
       "        text-align: right;\n",
       "    }\n",
       "</style>\n",
       "<table border=\"1\" class=\"dataframe\">\n",
       "  <thead>\n",
       "    <tr style=\"text-align: right;\">\n",
       "      <th></th>\n",
       "      <th>PassengerId</th>\n",
       "      <th>Survived</th>\n",
       "      <th>Pclass</th>\n",
       "      <th>Name</th>\n",
       "      <th>Sex</th>\n",
       "      <th>Age</th>\n",
       "      <th>SibSp</th>\n",
       "      <th>Parch</th>\n",
       "      <th>Ticket</th>\n",
       "      <th>Fare</th>\n",
       "      <th>Cabin</th>\n",
       "      <th>Embarked</th>\n",
       "    </tr>\n",
       "  </thead>\n",
       "  <tbody>\n",
       "    <tr>\n",
       "      <th>1043</th>\n",
       "      <td>1044</td>\n",
       "      <td>NaN</td>\n",
       "      <td>3</td>\n",
       "      <td>Storey, Mr. Thomas</td>\n",
       "      <td>male</td>\n",
       "      <td>60.5</td>\n",
       "      <td>0</td>\n",
       "      <td>0</td>\n",
       "      <td>3701</td>\n",
       "      <td>NaN</td>\n",
       "      <td>NaN</td>\n",
       "      <td>S</td>\n",
       "    </tr>\n",
       "  </tbody>\n",
       "</table>\n",
       "</div>"
      ],
      "text/plain": [
       "      PassengerId  Survived  Pclass                Name   Sex   Age  SibSp  \\\n",
       "1043         1044       NaN       3  Storey, Mr. Thomas  male  60.5      0   \n",
       "\n",
       "      Parch Ticket  Fare Cabin Embarked  \n",
       "1043      0   3701   NaN   NaN        S  "
      ]
     },
     "execution_count": 11,
     "metadata": {},
     "output_type": "execute_result"
    }
   ],
   "source": [
    "# Fare\n",
    "combined[combined.Fare.isnull()]"
   ]
  },
  {
   "cell_type": "code",
   "execution_count": 12,
   "metadata": {},
   "outputs": [
    {
     "data": {
      "text/plain": [
       "<matplotlib.axes._subplots.AxesSubplot at 0x11b7bb668>"
      ]
     },
     "execution_count": 12,
     "metadata": {},
     "output_type": "execute_result"
    },
    {
     "data": {
      "image/png": "[encoded data removed]",
      "text/plain": [
       "<Figure size 432x288 with 1 Axes>"
      ]
     },
     "metadata": {
      "needs_background": "light"
     },
     "output_type": "display_data"
    }
   ],
   "source": [
    "# Lets Find the Relation between Fare and PClass\n",
    "sns.distplot(combined.Fare.dropna(), color = \"red\")"
   ]
  },
  {
   "cell_type": "code",
   "execution_count": 13,
   "metadata": {
    "scrolled": true
   },
   "outputs": [
    {
     "data": {
      "text/html": [
       "<div>\n",
       "<style scoped>\n",
       "    .dataframe tbody tr th:only-of-type {\n",
       "        vertical-align: middle;\n",
       "    }\n",
       "\n",
       "    .dataframe tbody tr th {\n",
       "        vertical-align: top;\n",
       "    }\n",
       "\n",
       "    .dataframe thead th {\n",
       "        text-align: right;\n",
       "    }\n",
       "</style>\n",
       "<table border=\"1\" class=\"dataframe\">\n",
       "  <thead>\n",
       "    <tr style=\"text-align: right;\">\n",
       "      <th></th>\n",
       "      <th></th>\n",
       "      <th></th>\n",
       "      <th>count</th>\n",
       "      <th>mean</th>\n",
       "      <th>std</th>\n",
       "      <th>min</th>\n",
       "      <th>25%</th>\n",
       "      <th>50%</th>\n",
       "      <th>75%</th>\n",
       "      <th>max</th>\n",
       "    </tr>\n",
       "    <tr>\n",
       "      <th>Survived</th>\n",
       "      <th>Sex</th>\n",
       "      <th>Pclass</th>\n",
       "      <th></th>\n",
       "      <th></th>\n",
       "      <th></th>\n",
       "      <th></th>\n",
       "      <th></th>\n",
       "      <th></th>\n",
       "      <th></th>\n",
       "      <th></th>\n",
       "    </tr>\n",
       "  </thead>\n",
       "  <tbody>\n",
       "    <tr>\n",
       "      <th rowspan=\"6\" valign=\"top\">0.0</th>\n",
       "      <th rowspan=\"3\" valign=\"top\">female</th>\n",
       "      <th>1</th>\n",
       "      <td>3.0</td>\n",
       "      <td>110.604167</td>\n",
       "      <td>70.920264</td>\n",
       "      <td>28.7125</td>\n",
       "      <td>90.13125</td>\n",
       "      <td>151.55000</td>\n",
       "      <td>151.550000</td>\n",
       "      <td>151.5500</td>\n",
       "    </tr>\n",
       "    <tr>\n",
       "      <th>2</th>\n",
       "      <td>6.0</td>\n",
       "      <td>18.250000</td>\n",
       "      <td>6.969577</td>\n",
       "      <td>10.5000</td>\n",
       "      <td>13.00000</td>\n",
       "      <td>17.00000</td>\n",
       "      <td>24.750000</td>\n",
       "      <td>26.0000</td>\n",
       "    </tr>\n",
       "    <tr>\n",
       "      <th>3</th>\n",
       "      <td>72.0</td>\n",
       "      <td>19.773093</td>\n",
       "      <td>14.572275</td>\n",
       "      <td>6.7500</td>\n",
       "      <td>8.53125</td>\n",
       "      <td>14.47915</td>\n",
       "      <td>26.075025</td>\n",
       "      <td>69.5500</td>\n",
       "    </tr>\n",
       "    <tr>\n",
       "      <th rowspan=\"3\" valign=\"top\">male</th>\n",
       "      <th>1</th>\n",
       "      <td>77.0</td>\n",
       "      <td>62.894910</td>\n",
       "      <td>60.052545</td>\n",
       "      <td>0.0000</td>\n",
       "      <td>27.72080</td>\n",
       "      <td>42.40000</td>\n",
       "      <td>77.287500</td>\n",
       "      <td>263.0000</td>\n",
       "    </tr>\n",
       "    <tr>\n",
       "      <th>2</th>\n",
       "      <td>91.0</td>\n",
       "      <td>19.488965</td>\n",
       "      <td>15.720548</td>\n",
       "      <td>0.0000</td>\n",
       "      <td>11.50000</td>\n",
       "      <td>13.00000</td>\n",
       "      <td>26.000000</td>\n",
       "      <td>73.5000</td>\n",
       "    </tr>\n",
       "    <tr>\n",
       "      <th>3</th>\n",
       "      <td>300.0</td>\n",
       "      <td>12.204469</td>\n",
       "      <td>10.984904</td>\n",
       "      <td>0.0000</td>\n",
       "      <td>7.75000</td>\n",
       "      <td>7.89580</td>\n",
       "      <td>9.500000</td>\n",
       "      <td>69.5500</td>\n",
       "    </tr>\n",
       "    <tr>\n",
       "      <th rowspan=\"6\" valign=\"top\">1.0</th>\n",
       "      <th rowspan=\"3\" valign=\"top\">female</th>\n",
       "      <th>1</th>\n",
       "      <td>91.0</td>\n",
       "      <td>105.978159</td>\n",
       "      <td>74.738897</td>\n",
       "      <td>25.9292</td>\n",
       "      <td>57.48960</td>\n",
       "      <td>82.17080</td>\n",
       "      <td>134.075000</td>\n",
       "      <td>512.3292</td>\n",
       "    </tr>\n",
       "    <tr>\n",
       "      <th>2</th>\n",
       "      <td>70.0</td>\n",
       "      <td>22.288989</td>\n",
       "      <td>11.140937</td>\n",
       "      <td>10.5000</td>\n",
       "      <td>13.00000</td>\n",
       "      <td>23.00000</td>\n",
       "      <td>26.250000</td>\n",
       "      <td>65.0000</td>\n",
       "    </tr>\n",
       "    <tr>\n",
       "      <th>3</th>\n",
       "      <td>72.0</td>\n",
       "      <td>12.464526</td>\n",
       "      <td>5.984714</td>\n",
       "      <td>7.2250</td>\n",
       "      <td>7.75000</td>\n",
       "      <td>9.46875</td>\n",
       "      <td>15.912500</td>\n",
       "      <td>31.3875</td>\n",
       "    </tr>\n",
       "    <tr>\n",
       "      <th rowspan=\"3\" valign=\"top\">male</th>\n",
       "      <th>1</th>\n",
       "      <td>45.0</td>\n",
       "      <td>74.637320</td>\n",
       "      <td>101.091948</td>\n",
       "      <td>26.2875</td>\n",
       "      <td>29.70000</td>\n",
       "      <td>35.50000</td>\n",
       "      <td>79.200000</td>\n",
       "      <td>512.3292</td>\n",
       "    </tr>\n",
       "    <tr>\n",
       "      <th>2</th>\n",
       "      <td>17.0</td>\n",
       "      <td>21.095100</td>\n",
       "      <td>9.832542</td>\n",
       "      <td>10.5000</td>\n",
       "      <td>13.00000</td>\n",
       "      <td>18.75000</td>\n",
       "      <td>26.000000</td>\n",
       "      <td>39.0000</td>\n",
       "    </tr>\n",
       "    <tr>\n",
       "      <th>3</th>\n",
       "      <td>47.0</td>\n",
       "      <td>15.579696</td>\n",
       "      <td>15.232388</td>\n",
       "      <td>0.0000</td>\n",
       "      <td>7.82500</td>\n",
       "      <td>8.05000</td>\n",
       "      <td>15.820850</td>\n",
       "      <td>56.4958</td>\n",
       "    </tr>\n",
       "  </tbody>\n",
       "</table>\n",
       "</div>"
      ],
      "text/plain": [
       "                        count        mean         std      min       25%  \\\n",
       "Survived Sex    Pclass                                                     \n",
       "0.0      female 1         3.0  110.604167   70.920264  28.7125  90.13125   \n",
       "                2         6.0   18.250000    6.969577  10.5000  13.00000   \n",
       "                3        72.0   19.773093   14.572275   6.7500   8.53125   \n",
       "         male   1        77.0   62.894910   60.052545   0.0000  27.72080   \n",
       "                2        91.0   19.488965   15.720548   0.0000  11.50000   \n",
       "                3       300.0   12.204469   10.984904   0.0000   7.75000   \n",
       "1.0      female 1        91.0  105.978159   74.738897  25.9292  57.48960   \n",
       "                2        70.0   22.288989   11.140937  10.5000  13.00000   \n",
       "                3        72.0   12.464526    5.984714   7.2250   7.75000   \n",
       "         male   1        45.0   74.637320  101.091948  26.2875  29.70000   \n",
       "                2        17.0   21.095100    9.832542  10.5000  13.00000   \n",
       "                3        47.0   15.579696   15.232388   0.0000   7.82500   \n",
       "\n",
       "                              50%         75%       max  \n",
       "Survived Sex    Pclass                                   \n",
       "0.0      female 1       151.55000  151.550000  151.5500  \n",
       "                2        17.00000   24.750000   26.0000  \n",
       "                3        14.47915   26.075025   69.5500  \n",
       "         male   1        42.40000   77.287500  263.0000  \n",
       "                2        13.00000   26.000000   73.5000  \n",
       "                3         7.89580    9.500000   69.5500  \n",
       "1.0      female 1        82.17080  134.075000  512.3292  \n",
       "                2        23.00000   26.250000   65.0000  \n",
       "                3         9.46875   15.912500   31.3875  \n",
       "         male   1        35.50000   79.200000  512.3292  \n",
       "                2        18.75000   26.000000   39.0000  \n",
       "                3         8.05000   15.820850   56.4958  "
      ]
     },
     "execution_count": 13,
     "metadata": {},
     "output_type": "execute_result"
    }
   ],
   "source": [
    "pd.DataFrame(combined.groupby([\"Survived\", \"Sex\", \"Pclass\"])[\"Fare\"].describe())"
   ]
  },
  {
   "cell_type": "code",
   "execution_count": 14,
   "metadata": {},
   "outputs": [],
   "source": [
    "# Putting Median for male where the Pclass is 3\n",
    "combined.loc[(combined.Pclass ==3) & (combined.Sex==\"male\") & (combined.Fare.isnull()), \"Fare\"] = 7.89580"
   ]
  },
  {
   "cell_type": "code",
   "execution_count": 15,
   "metadata": {},
   "outputs": [
    {
     "data": {
      "text/plain": [
       "array([nan, 'B78', 'C52', 'F E69', 'E33', 'A32', 'A19', 'C106', 'E101',\n",
       "       'C128', 'D21', 'A14', 'C95', 'C126', 'C124', 'D45', 'F38', 'B102',\n",
       "       'C47', 'C92', 'D34', 'E46', 'F E46', 'D'], dtype=object)"
      ]
     },
     "execution_count": 15,
     "metadata": {},
     "output_type": "execute_result"
    }
   ],
   "source": [
    "# Age\n",
    "combined[combined.Age.isnull()][\"Cabin\"].unique()"
   ]
  },
  {
   "cell_type": "code",
   "execution_count": null,
   "metadata": {},
   "outputs": [],
   "source": []
  },
  {
   "cell_type": "code",
   "execution_count": 16,
   "metadata": {},
   "outputs": [
    {
     "data": {
      "text/plain": [
       "array(['C85', 'C123', 'E46', 'G6', 'C103', 'D56', 'A6', 'C23 C25 C27',\n",
       "       'B78', 'D33', 'B30', 'C52', 'B28', 'C83', 'F33', 'F G73', 'E31',\n",
       "       'A5', 'D10 D12', 'D26', 'C110', 'B58 B60', 'E101', 'F E69', 'D47',\n",
       "       'B86', 'F2', 'C2', 'E33', 'B19', 'A7', 'C49', 'F4', 'A32', 'B4',\n",
       "       'B80', 'A31', 'D36', 'D15', 'C93', 'C78', 'D35', 'C87', 'B77',\n",
       "       'E67', 'B94', 'C125', 'C99', 'C118', 'D7', 'A19', 'B49', 'D',\n",
       "       'C22 C26', 'C106', 'C65', 'E36', 'C54', 'B57 B59 B63 B66', 'C7',\n",
       "       'E34', 'C32', 'B18', 'C124', 'C91', 'E40', 'T', 'C128', 'D37',\n",
       "       'B35', 'E50', 'C82', 'B96 B98', 'E10', 'E44', 'A34', 'C104',\n",
       "       'C111', 'C92', 'E38', 'D21', 'E12', 'E63', 'A14', 'B37', 'C30',\n",
       "       'D20', 'B79', 'E25', 'D46', 'B73', 'C95', 'B38', 'B39', 'B22',\n",
       "       'C86', 'C70', 'A16', 'C101', 'C68', 'A10', 'E68', 'B41', 'A20',\n",
       "       'D19', 'D50', 'D9', 'A23', 'B50', 'A26', 'D48', 'E58', 'C126',\n",
       "       'B71', 'B51 B53 B55', 'D49', 'B5', 'B20', 'F G63', 'C62 C64',\n",
       "       'E24', 'C90', 'C45', 'E8', 'B101', 'D45', 'C46', 'D30', 'E121',\n",
       "       'D11', 'E77', 'F38', 'B3', 'D6', 'B82 B84', 'D17', 'A36', 'B102',\n",
       "       'B69', 'E49', 'C47', 'D28', 'E17', 'A24', 'C50', 'B42', 'C148',\n",
       "       'B45', 'B36', 'A21', 'D34', 'A9', 'C31', 'B61', 'C53', 'D43',\n",
       "       'C130', 'C132', 'C55 C57', 'C116', 'F', 'A29', 'C6', 'C28', 'C51',\n",
       "       'C97', 'D22', 'B10', 'E45', 'E52', 'A11', 'B11', 'C80', 'C89',\n",
       "       'F E46', 'B26', 'F E57', 'A18', 'E60', 'E39 E41', 'B52 B54 B56',\n",
       "       'C39', 'B24', 'D40', 'D38', 'C105'], dtype=object)"
      ]
     },
     "execution_count": 16,
     "metadata": {},
     "output_type": "execute_result"
    }
   ],
   "source": [
    "combined.Cabin.dropna().unique()"
   ]
  },
  {
   "cell_type": "code",
   "execution_count": 17,
   "metadata": {},
   "outputs": [],
   "source": [
    "# Cabin\n",
    "cabincount = ['C85', 'C123', 'E46', 'G6', 'C103', 'D56', 'A6', 'C23 C25 C27',\n",
    "       'B78', 'D33', 'B30', 'C52', 'B28', 'C83', 'F33', 'F G73', 'E31',\n",
    "       'A5', 'D10 D12', 'D26', 'C110', 'B58 B60', 'E101', 'F E69', 'D47',\n",
    "       'B86', 'F2', 'C2', 'E33', 'B19', 'A7', 'C49', 'F4', 'A32', 'B4',\n",
    "       'B80', 'A31', 'D36', 'D15', 'C93', 'C78', 'D35', 'C87', 'B77',\n",
    "       'E67', 'B94', 'C125', 'C99', 'C118', 'D7', 'A19', 'B49', 'D',\n",
    "       'C22 C26', 'C106', 'C65', 'E36', 'C54', 'B57 B59 B63 B66', 'C7',\n",
    "       'E34', 'C32', 'B18', 'C124', 'C91', 'E40', 'T', 'C128', 'D37',\n",
    "       'B35', 'E50', 'C82', 'B96 B98', 'E10', 'E44', 'A34', 'C104',\n",
    "       'C111', 'C92', 'E38', 'D21', 'E12', 'E63', 'A14', 'B37', 'C30',\n",
    "       'D20', 'B79', 'E25', 'D46', 'B73', 'C95', 'B38', 'B39', 'B22',\n",
    "       'C86', 'C70', 'A16', 'C101', 'C68', 'A10', 'E68', 'B41', 'A20',\n",
    "       'D19', 'D50', 'D9', 'A23', 'B50', 'A26', 'D48', 'E58', 'C126',\n",
    "       'B71', 'B51 B53 B55', 'D49', 'B5', 'B20', 'F G63', 'C62 C64',\n",
    "       'E24', 'C90', 'C45', 'E8', 'B101', 'D45', 'C46', 'D30', 'E121',\n",
    "       'D11', 'E77', 'F38', 'B3', 'D6', 'B82 B84', 'D17', 'A36', 'B102',\n",
    "       'B69', 'E49', 'C47', 'D28', 'E17', 'A24', 'C50', 'B42', 'C148',\n",
    "       'B45', 'B36', 'A21', 'D34', 'A9', 'C31', 'B61', 'C53', 'D43',\n",
    "       'C130', 'C132', 'C55 C57', 'C116', 'F', 'A29', 'C6', 'C28', 'C51',\n",
    "       'C97', 'D22', 'B10', 'E45', 'E52', 'A11', 'B11', 'C80', 'C89',\n",
    "       'F E46', 'B26', 'F E57', 'A18', 'E60', 'E39 E41', 'B52 B54 B56',\n",
    "       'C39', 'B24', 'D40', 'D38', 'C105']"
   ]
  },
  {
   "cell_type": "code",
   "execution_count": 18,
   "metadata": {},
   "outputs": [],
   "source": [
    "def cabins(x):\n",
    "    if(x in cabincount):\n",
    "        return(\"Cabin Allotted\")\n",
    "    else:\n",
    "        return(\"No Cabin Found\")"
   ]
  },
  {
   "cell_type": "code",
   "execution_count": 19,
   "metadata": {},
   "outputs": [],
   "source": [
    "combined[\"Cabin_Status\"] = pd.Series(combined.Cabin.apply(cabins))"
   ]
  },
  {
   "cell_type": "code",
   "execution_count": 20,
   "metadata": {},
   "outputs": [
    {
     "data": {
      "text/html": [
       "<div>\n",
       "<style scoped>\n",
       "    .dataframe tbody tr th:only-of-type {\n",
       "        vertical-align: middle;\n",
       "    }\n",
       "\n",
       "    .dataframe tbody tr th {\n",
       "        vertical-align: top;\n",
       "    }\n",
       "\n",
       "    .dataframe thead th {\n",
       "        text-align: right;\n",
       "    }\n",
       "</style>\n",
       "<table border=\"1\" class=\"dataframe\">\n",
       "  <thead>\n",
       "    <tr style=\"text-align: right;\">\n",
       "      <th></th>\n",
       "      <th>PassengerId</th>\n",
       "      <th>Survived</th>\n",
       "      <th>Pclass</th>\n",
       "      <th>Name</th>\n",
       "      <th>Sex</th>\n",
       "      <th>Age</th>\n",
       "      <th>SibSp</th>\n",
       "      <th>Parch</th>\n",
       "      <th>Ticket</th>\n",
       "      <th>Fare</th>\n",
       "      <th>Cabin</th>\n",
       "      <th>Embarked</th>\n",
       "      <th>Cabin_Status</th>\n",
       "    </tr>\n",
       "  </thead>\n",
       "  <tbody>\n",
       "    <tr>\n",
       "      <th>0</th>\n",
       "      <td>1</td>\n",
       "      <td>0.0</td>\n",
       "      <td>3</td>\n",
       "      <td>Braund, Mr. Owen Harris</td>\n",
       "      <td>male</td>\n",
       "      <td>22.0</td>\n",
       "      <td>1</td>\n",
       "      <td>0</td>\n",
       "      <td>A/5 21171</td>\n",
       "      <td>7.2500</td>\n",
       "      <td>NaN</td>\n",
       "      <td>S</td>\n",
       "      <td>No Cabin Found</td>\n",
       "    </tr>\n",
       "    <tr>\n",
       "      <th>1</th>\n",
       "      <td>2</td>\n",
       "      <td>1.0</td>\n",
       "      <td>1</td>\n",
       "      <td>Cumings, Mrs. John Bradley (Florence Briggs Th...</td>\n",
       "      <td>female</td>\n",
       "      <td>38.0</td>\n",
       "      <td>1</td>\n",
       "      <td>0</td>\n",
       "      <td>PC 17599</td>\n",
       "      <td>71.2833</td>\n",
       "      <td>C85</td>\n",
       "      <td>C</td>\n",
       "      <td>Cabin Allotted</td>\n",
       "    </tr>\n",
       "    <tr>\n",
       "      <th>2</th>\n",
       "      <td>3</td>\n",
       "      <td>1.0</td>\n",
       "      <td>3</td>\n",
       "      <td>Heikkinen, Miss. Laina</td>\n",
       "      <td>female</td>\n",
       "      <td>26.0</td>\n",
       "      <td>0</td>\n",
       "      <td>0</td>\n",
       "      <td>STON/O2. 3101282</td>\n",
       "      <td>7.9250</td>\n",
       "      <td>NaN</td>\n",
       "      <td>S</td>\n",
       "      <td>No Cabin Found</td>\n",
       "    </tr>\n",
       "    <tr>\n",
       "      <th>3</th>\n",
       "      <td>4</td>\n",
       "      <td>1.0</td>\n",
       "      <td>1</td>\n",
       "      <td>Futrelle, Mrs. Jacques Heath (Lily May Peel)</td>\n",
       "      <td>female</td>\n",
       "      <td>35.0</td>\n",
       "      <td>1</td>\n",
       "      <td>0</td>\n",
       "      <td>113803</td>\n",
       "      <td>53.1000</td>\n",
       "      <td>C123</td>\n",
       "      <td>S</td>\n",
       "      <td>Cabin Allotted</td>\n",
       "    </tr>\n",
       "    <tr>\n",
       "      <th>4</th>\n",
       "      <td>5</td>\n",
       "      <td>0.0</td>\n",
       "      <td>3</td>\n",
       "      <td>Allen, Mr. William Henry</td>\n",
       "      <td>male</td>\n",
       "      <td>35.0</td>\n",
       "      <td>0</td>\n",
       "      <td>0</td>\n",
       "      <td>373450</td>\n",
       "      <td>8.0500</td>\n",
       "      <td>NaN</td>\n",
       "      <td>S</td>\n",
       "      <td>No Cabin Found</td>\n",
       "    </tr>\n",
       "  </tbody>\n",
       "</table>\n",
       "</div>"
      ],
      "text/plain": [
       "   PassengerId  Survived  Pclass  \\\n",
       "0            1       0.0       3   \n",
       "1            2       1.0       1   \n",
       "2            3       1.0       3   \n",
       "3            4       1.0       1   \n",
       "4            5       0.0       3   \n",
       "\n",
       "                                                Name     Sex   Age  SibSp  \\\n",
       "0                            Braund, Mr. Owen Harris    male  22.0      1   \n",
       "1  Cumings, Mrs. John Bradley (Florence Briggs Th...  female  38.0      1   \n",
       "2                             Heikkinen, Miss. Laina  female  26.0      0   \n",
       "3       Futrelle, Mrs. Jacques Heath (Lily May Peel)  female  35.0      1   \n",
       "4                           Allen, Mr. William Henry    male  35.0      0   \n",
       "\n",
       "   Parch            Ticket     Fare Cabin Embarked    Cabin_Status  \n",
       "0      0         A/5 21171   7.2500   NaN        S  No Cabin Found  \n",
       "1      0          PC 17599  71.2833   C85        C  Cabin Allotted  \n",
       "2      0  STON/O2. 3101282   7.9250   NaN        S  No Cabin Found  \n",
       "3      0            113803  53.1000  C123        S  Cabin Allotted  \n",
       "4      0            373450   8.0500   NaN        S  No Cabin Found  "
      ]
     },
     "execution_count": 20,
     "metadata": {},
     "output_type": "execute_result"
    }
   ],
   "source": [
    "combined.head()"
   ]
  },
  {
   "cell_type": "code",
   "execution_count": 21,
   "metadata": {},
   "outputs": [],
   "source": [
    "# Extracting Title from Name\n",
    "g = combined.Name.transform(lambda x:x.split(\", \")[1])\n",
    "titles = g.transform(lambda x:x.split(\". \")[0])"
   ]
  },
  {
   "cell_type": "code",
   "execution_count": 22,
   "metadata": {},
   "outputs": [],
   "source": [
    "combined[\"Titles\"] = pd.Series(titles)"
   ]
  },
  {
   "cell_type": "code",
   "execution_count": 23,
   "metadata": {},
   "outputs": [],
   "source": [
    "titles_ignore = ['Don', 'Rev', 'Dr', 'Mme','Major', 'Lady', 'Sir', 'Mlle', 'Col', 'Capt', 'the Countess',\n",
    "                 'Jonkheer', 'Dona']"
   ]
  },
  {
   "cell_type": "code",
   "execution_count": 24,
   "metadata": {},
   "outputs": [],
   "source": [
    "def titleignore(x):\n",
    "    if(x in(titles_ignore)):\n",
    "        return(\"Others\")\n",
    "    else:\n",
    "        return(x)"
   ]
  },
  {
   "cell_type": "code",
   "execution_count": 25,
   "metadata": {},
   "outputs": [],
   "source": [
    "combined[\"Titles\"] = combined.Titles.apply(titleignore)"
   ]
  },
  {
   "cell_type": "code",
   "execution_count": 26,
   "metadata": {},
   "outputs": [],
   "source": [
    "# SIBSP and Parch\n",
    "family = combined.SibSp+combined.Parch"
   ]
  },
  {
   "cell_type": "code",
   "execution_count": 27,
   "metadata": {},
   "outputs": [],
   "source": [
    "family.replace(to_replace = 0, value =1,inplace = True)"
   ]
  },
  {
   "cell_type": "code",
   "execution_count": 28,
   "metadata": {},
   "outputs": [],
   "source": [
    "combined[\"Family\"] = pd.Series(family)"
   ]
  },
  {
   "cell_type": "code",
   "execution_count": 29,
   "metadata": {},
   "outputs": [
    {
     "data": {
      "text/plain": [
       "<matplotlib.axes._subplots.AxesSubplot at 0x11b9593c8>"
      ]
     },
     "execution_count": 29,
     "metadata": {},
     "output_type": "execute_result"
    },
    {
     "data": {
      "image/png": "[encoded data removed]",
      "text/plain": [
       "<Figure size 432x288 with 1 Axes>"
      ]
     },
     "metadata": {
      "needs_background": "light"
     },
     "output_type": "display_data"
    }
   ],
   "source": [
    "# Lets evaluate Family and Survival\n",
    "pd.DataFrame(combined.groupby(\"Family\")[\"Survived\"].value_counts()).plot(kind = \"barh\")\n",
    "# Singles have better survival chances\n",
    "# Anything beyond 03 members had a rare chance of survival"
   ]
  },
  {
   "cell_type": "code",
   "execution_count": 30,
   "metadata": {},
   "outputs": [],
   "source": [
    "def family_cat(x):\n",
    "    if(x ==1):\n",
    "        return(\"Singles\")\n",
    "    elif((x>1) & (x<3)):\n",
    "        return(\"Small Family\")\n",
    "    else:\n",
    "        return(\"Large Family\")"
   ]
  },
  {
   "cell_type": "code",
   "execution_count": 31,
   "metadata": {},
   "outputs": [],
   "source": [
    "combined[\"Family_On_Board\"] = pd.Series(combined.Family.apply(family_cat))"
   ]
  },
  {
   "cell_type": "code",
   "execution_count": 32,
   "metadata": {
    "scrolled": true
   },
   "outputs": [
    {
     "data": {
      "text/html": [
       "<div>\n",
       "<style scoped>\n",
       "    .dataframe tbody tr th:only-of-type {\n",
       "        vertical-align: middle;\n",
       "    }\n",
       "\n",
       "    .dataframe tbody tr th {\n",
       "        vertical-align: top;\n",
       "    }\n",
       "\n",
       "    .dataframe thead tr th {\n",
       "        text-align: left;\n",
       "    }\n",
       "</style>\n",
       "<table border=\"1\" class=\"dataframe\">\n",
       "  <thead>\n",
       "    <tr>\n",
       "      <th>Sex</th>\n",
       "      <th colspan=\"3\" halign=\"left\">female</th>\n",
       "      <th colspan=\"3\" halign=\"left\">male</th>\n",
       "    </tr>\n",
       "    <tr>\n",
       "      <th>Pclass</th>\n",
       "      <th>1</th>\n",
       "      <th>2</th>\n",
       "      <th>3</th>\n",
       "      <th>1</th>\n",
       "      <th>2</th>\n",
       "      <th>3</th>\n",
       "    </tr>\n",
       "  </thead>\n",
       "  <tbody>\n",
       "    <tr>\n",
       "      <th>count</th>\n",
       "      <td>133.000000</td>\n",
       "      <td>103.000000</td>\n",
       "      <td>152.000000</td>\n",
       "      <td>151.000000</td>\n",
       "      <td>158.00000</td>\n",
       "      <td>349.000000</td>\n",
       "    </tr>\n",
       "    <tr>\n",
       "      <th>mean</th>\n",
       "      <td>37.037594</td>\n",
       "      <td>27.499223</td>\n",
       "      <td>22.185329</td>\n",
       "      <td>41.029272</td>\n",
       "      <td>30.81538</td>\n",
       "      <td>25.962264</td>\n",
       "    </tr>\n",
       "    <tr>\n",
       "      <th>std</th>\n",
       "      <td>14.272460</td>\n",
       "      <td>12.911747</td>\n",
       "      <td>12.205254</td>\n",
       "      <td>14.578529</td>\n",
       "      <td>13.97740</td>\n",
       "      <td>11.682415</td>\n",
       "    </tr>\n",
       "    <tr>\n",
       "      <th>min</th>\n",
       "      <td>2.000000</td>\n",
       "      <td>0.920000</td>\n",
       "      <td>0.170000</td>\n",
       "      <td>0.920000</td>\n",
       "      <td>0.67000</td>\n",
       "      <td>0.330000</td>\n",
       "    </tr>\n",
       "    <tr>\n",
       "      <th>25%</th>\n",
       "      <td>24.000000</td>\n",
       "      <td>20.000000</td>\n",
       "      <td>16.000000</td>\n",
       "      <td>30.000000</td>\n",
       "      <td>23.00000</td>\n",
       "      <td>20.000000</td>\n",
       "    </tr>\n",
       "    <tr>\n",
       "      <th>50%</th>\n",
       "      <td>36.000000</td>\n",
       "      <td>28.000000</td>\n",
       "      <td>22.000000</td>\n",
       "      <td>42.000000</td>\n",
       "      <td>29.50000</td>\n",
       "      <td>25.000000</td>\n",
       "    </tr>\n",
       "    <tr>\n",
       "      <th>75%</th>\n",
       "      <td>48.000000</td>\n",
       "      <td>34.000000</td>\n",
       "      <td>30.000000</td>\n",
       "      <td>50.000000</td>\n",
       "      <td>38.75000</td>\n",
       "      <td>32.000000</td>\n",
       "    </tr>\n",
       "    <tr>\n",
       "      <th>max</th>\n",
       "      <td>76.000000</td>\n",
       "      <td>60.000000</td>\n",
       "      <td>63.000000</td>\n",
       "      <td>80.000000</td>\n",
       "      <td>70.00000</td>\n",
       "      <td>74.000000</td>\n",
       "    </tr>\n",
       "  </tbody>\n",
       "</table>\n",
       "</div>"
      ],
      "text/plain": [
       "Sex         female                                male                       \n",
       "Pclass           1           2           3           1          2           3\n",
       "count   133.000000  103.000000  152.000000  151.000000  158.00000  349.000000\n",
       "mean     37.037594   27.499223   22.185329   41.029272   30.81538   25.962264\n",
       "std      14.272460   12.911747   12.205254   14.578529   13.97740   11.682415\n",
       "min       2.000000    0.920000    0.170000    0.920000    0.67000    0.330000\n",
       "25%      24.000000   20.000000   16.000000   30.000000   23.00000   20.000000\n",
       "50%      36.000000   28.000000   22.000000   42.000000   29.50000   25.000000\n",
       "75%      48.000000   34.000000   30.000000   50.000000   38.75000   32.000000\n",
       "max      76.000000   60.000000   63.000000   80.000000   70.00000   74.000000"
      ]
     },
     "execution_count": 32,
     "metadata": {},
     "output_type": "execute_result"
    }
   ],
   "source": [
    "# Age is Dependent on the gender in Titanic. \n",
    "combined.groupby([\"Sex\", \"Pclass\"])[\"Age\"].describe().T"
   ]
  },
  {
   "cell_type": "code",
   "execution_count": 33,
   "metadata": {},
   "outputs": [],
   "source": [
    "combined[\"Fare_Per_Person\"] = combined.Fare/combined.Family"
   ]
  },
  {
   "cell_type": "code",
   "execution_count": 34,
   "metadata": {},
   "outputs": [
    {
     "data": {
      "text/plain": [
       "'Miss'"
      ]
     },
     "execution_count": 34,
     "metadata": {},
     "output_type": "execute_result"
    }
   ],
   "source": [
    "(\"McGowan, Miss. Anna Annie\").split()[1][:-1]"
   ]
  },
  {
   "cell_type": "code",
   "execution_count": 35,
   "metadata": {},
   "outputs": [],
   "source": [
    "titles = []\n",
    "for i in combined.Name:\n",
    "    titles.append(i.split()[1][:-1])"
   ]
  },
  {
   "cell_type": "code",
   "execution_count": 36,
   "metadata": {},
   "outputs": [
    {
     "data": {
      "text/plain": [
       "'Mr'"
      ]
     },
     "execution_count": 36,
     "metadata": {},
     "output_type": "execute_result"
    }
   ],
   "source": [
    "combined.Name[1279].split()[1][:-1]"
   ]
  },
  {
   "cell_type": "code",
   "execution_count": 37,
   "metadata": {},
   "outputs": [],
   "source": [
    "d = pd.DataFrame(titles, columns = [\"titles\"])"
   ]
  },
  {
   "cell_type": "code",
   "execution_count": 38,
   "metadata": {},
   "outputs": [],
   "source": [
    "combined[\"titles\"] = d"
   ]
  },
  {
   "cell_type": "code",
   "execution_count": 39,
   "metadata": {},
   "outputs": [],
   "source": [
    "agena = combined[combined.Age.isnull()]"
   ]
  },
  {
   "cell_type": "code",
   "execution_count": 40,
   "metadata": {
    "scrolled": true
   },
   "outputs": [
    {
     "data": {
      "text/html": [
       "<div>\n",
       "<style scoped>\n",
       "    .dataframe tbody tr th:only-of-type {\n",
       "        vertical-align: middle;\n",
       "    }\n",
       "\n",
       "    .dataframe tbody tr th {\n",
       "        vertical-align: top;\n",
       "    }\n",
       "\n",
       "    .dataframe thead th {\n",
       "        text-align: right;\n",
       "    }\n",
       "</style>\n",
       "<table border=\"1\" class=\"dataframe\">\n",
       "  <thead>\n",
       "    <tr style=\"text-align: right;\">\n",
       "      <th></th>\n",
       "      <th>PassengerId</th>\n",
       "      <th>Survived</th>\n",
       "      <th>Pclass</th>\n",
       "      <th>Name</th>\n",
       "      <th>Sex</th>\n",
       "      <th>Age</th>\n",
       "      <th>SibSp</th>\n",
       "      <th>Parch</th>\n",
       "      <th>Ticket</th>\n",
       "      <th>Fare</th>\n",
       "      <th>Cabin</th>\n",
       "      <th>Embarked</th>\n",
       "      <th>Cabin_Status</th>\n",
       "      <th>Titles</th>\n",
       "      <th>Family</th>\n",
       "      <th>Family_On_Board</th>\n",
       "      <th>Fare_Per_Person</th>\n",
       "      <th>titles</th>\n",
       "    </tr>\n",
       "  </thead>\n",
       "  <tbody>\n",
       "    <tr>\n",
       "      <th>5</th>\n",
       "      <td>6</td>\n",
       "      <td>0.0</td>\n",
       "      <td>3</td>\n",
       "      <td>Moran, Mr. James</td>\n",
       "      <td>male</td>\n",
       "      <td>NaN</td>\n",
       "      <td>0</td>\n",
       "      <td>0</td>\n",
       "      <td>330877</td>\n",
       "      <td>8.4583</td>\n",
       "      <td>NaN</td>\n",
       "      <td>Q</td>\n",
       "      <td>No Cabin Found</td>\n",
       "      <td>Mr</td>\n",
       "      <td>1</td>\n",
       "      <td>Singles</td>\n",
       "      <td>8.4583</td>\n",
       "      <td>Mr</td>\n",
       "    </tr>\n",
       "    <tr>\n",
       "      <th>17</th>\n",
       "      <td>18</td>\n",
       "      <td>1.0</td>\n",
       "      <td>2</td>\n",
       "      <td>Williams, Mr. Charles Eugene</td>\n",
       "      <td>male</td>\n",
       "      <td>NaN</td>\n",
       "      <td>0</td>\n",
       "      <td>0</td>\n",
       "      <td>244373</td>\n",
       "      <td>13.0000</td>\n",
       "      <td>NaN</td>\n",
       "      <td>S</td>\n",
       "      <td>No Cabin Found</td>\n",
       "      <td>Mr</td>\n",
       "      <td>1</td>\n",
       "      <td>Singles</td>\n",
       "      <td>13.0000</td>\n",
       "      <td>Mr</td>\n",
       "    </tr>\n",
       "    <tr>\n",
       "      <th>19</th>\n",
       "      <td>20</td>\n",
       "      <td>1.0</td>\n",
       "      <td>3</td>\n",
       "      <td>Masselmani, Mrs. Fatima</td>\n",
       "      <td>female</td>\n",
       "      <td>NaN</td>\n",
       "      <td>0</td>\n",
       "      <td>0</td>\n",
       "      <td>2649</td>\n",
       "      <td>7.2250</td>\n",
       "      <td>NaN</td>\n",
       "      <td>C</td>\n",
       "      <td>No Cabin Found</td>\n",
       "      <td>Mrs</td>\n",
       "      <td>1</td>\n",
       "      <td>Singles</td>\n",
       "      <td>7.2250</td>\n",
       "      <td>Mrs</td>\n",
       "    </tr>\n",
       "    <tr>\n",
       "      <th>26</th>\n",
       "      <td>27</td>\n",
       "      <td>0.0</td>\n",
       "      <td>3</td>\n",
       "      <td>Emir, Mr. Farred Chehab</td>\n",
       "      <td>male</td>\n",
       "      <td>NaN</td>\n",
       "      <td>0</td>\n",
       "      <td>0</td>\n",
       "      <td>2631</td>\n",
       "      <td>7.2250</td>\n",
       "      <td>NaN</td>\n",
       "      <td>C</td>\n",
       "      <td>No Cabin Found</td>\n",
       "      <td>Mr</td>\n",
       "      <td>1</td>\n",
       "      <td>Singles</td>\n",
       "      <td>7.2250</td>\n",
       "      <td>Mr</td>\n",
       "    </tr>\n",
       "    <tr>\n",
       "      <th>28</th>\n",
       "      <td>29</td>\n",
       "      <td>1.0</td>\n",
       "      <td>3</td>\n",
       "      <td>O'Dwyer, Miss. Ellen \"Nellie\"</td>\n",
       "      <td>female</td>\n",
       "      <td>NaN</td>\n",
       "      <td>0</td>\n",
       "      <td>0</td>\n",
       "      <td>330959</td>\n",
       "      <td>7.8792</td>\n",
       "      <td>NaN</td>\n",
       "      <td>Q</td>\n",
       "      <td>No Cabin Found</td>\n",
       "      <td>Miss</td>\n",
       "      <td>1</td>\n",
       "      <td>Singles</td>\n",
       "      <td>7.8792</td>\n",
       "      <td>Miss</td>\n",
       "    </tr>\n",
       "  </tbody>\n",
       "</table>\n",
       "</div>"
      ],
      "text/plain": [
       "    PassengerId  Survived  Pclass                           Name     Sex  Age  \\\n",
       "5             6       0.0       3               Moran, Mr. James    male  NaN   \n",
       "17           18       1.0       2   Williams, Mr. Charles Eugene    male  NaN   \n",
       "19           20       1.0       3        Masselmani, Mrs. Fatima  female  NaN   \n",
       "26           27       0.0       3        Emir, Mr. Farred Chehab    male  NaN   \n",
       "28           29       1.0       3  O'Dwyer, Miss. Ellen \"Nellie\"  female  NaN   \n",
       "\n",
       "    SibSp  Parch  Ticket     Fare Cabin Embarked    Cabin_Status Titles  \\\n",
       "5       0      0  330877   8.4583   NaN        Q  No Cabin Found     Mr   \n",
       "17      0      0  244373  13.0000   NaN        S  No Cabin Found     Mr   \n",
       "19      0      0    2649   7.2250   NaN        C  No Cabin Found    Mrs   \n",
       "26      0      0    2631   7.2250   NaN        C  No Cabin Found     Mr   \n",
       "28      0      0  330959   7.8792   NaN        Q  No Cabin Found   Miss   \n",
       "\n",
       "    Family Family_On_Board  Fare_Per_Person titles  \n",
       "5        1         Singles           8.4583     Mr  \n",
       "17       1         Singles          13.0000     Mr  \n",
       "19       1         Singles           7.2250    Mrs  \n",
       "26       1         Singles           7.2250     Mr  \n",
       "28       1         Singles           7.8792   Miss  "
      ]
     },
     "execution_count": 40,
     "metadata": {},
     "output_type": "execute_result"
    }
   ],
   "source": [
    "agena.head()\n",
    "# Rule Formation:\n",
    "# 1. Person is Male or Female & PClass & Survival\n",
    "# 2. Title\n",
    "# 3. Family_On_Board and their Survival"
   ]
  },
  {
   "cell_type": "markdown",
   "metadata": {},
   "source": [
    "# Rule Formation:\n",
    "1. Person is Male or Female & PClass & Survival\n",
    "2. Title\n",
    "3. Family_On_Board and their Survival"
   ]
  },
  {
   "cell_type": "code",
   "execution_count": 41,
   "metadata": {},
   "outputs": [],
   "source": [
    "# Libraries for ANOVA\n",
    "import scipy.stats as stats\n",
    "#import statsmodels.api as sms\n",
    "from statsmodels.formula.api import ols"
   ]
  },
  {
   "cell_type": "code",
   "execution_count": 42,
   "metadata": {},
   "outputs": [
    {
     "data": {
      "text/plain": [
       "F_onewayResult(statistic=108.32631005902482, pvalue=1.796708368328782e-43)"
      ]
     },
     "execution_count": 42,
     "metadata": {},
     "output_type": "execute_result"
    }
   ],
   "source": [
    "# stats.f_oneway(data_group1, data_group2, data_group3, data_groupN)\n",
    "\n",
    "stats.f_oneway(combined.loc[combined[\"Pclass\"]==1][\"Age\"].dropna(),\n",
    "               combined.loc[combined[\"Pclass\"]==2][\"Age\"].dropna(),\n",
    "               combined.loc[combined[\"Pclass\"]==3][\"Age\"].dropna()) \n",
    "\n",
    "# P value shows that Pclass has an impact on the Age"
   ]
  },
  {
   "cell_type": "code",
   "execution_count": 43,
   "metadata": {},
   "outputs": [],
   "source": [
    "# model_name = ols('outcome_variable ~ group1 + group2 + groupN', data=your_data).fit()\n",
    "model = ols(\"Age~Sex+Pclass\", data = combined).fit()"
   ]
  },
  {
   "cell_type": "code",
   "execution_count": 44,
   "metadata": {
    "scrolled": true
   },
   "outputs": [
    {
     "data": {
      "text/html": [
       "<table class=\"simpletable\">\n",
       "<caption>OLS Regression Results</caption>\n",
       "<tr>\n",
       "  <th>Dep. Variable:</th>           <td>Age</td>       <th>  R-squared:         </th> <td>   0.182</td>\n",
       "</tr>\n",
       "<tr>\n",
       "  <th>Model:</th>                   <td>OLS</td>       <th>  Adj. R-squared:    </th> <td>   0.180</td>\n",
       "</tr>\n",
       "<tr>\n",
       "  <th>Method:</th>             <td>Least Squares</td>  <th>  F-statistic:       </th> <td>   116.0</td>\n",
       "</tr>\n",
       "<tr>\n",
       "  <th>Date:</th>             <td>Sun, 22 Dec 2019</td> <th>  Prob (F-statistic):</th> <td>3.32e-46</td>\n",
       "</tr>\n",
       "<tr>\n",
       "  <th>Time:</th>                 <td>21:40:44</td>     <th>  Log-Likelihood:    </th> <td> -4169.6</td>\n",
       "</tr>\n",
       "<tr>\n",
       "  <th>No. Observations:</th>      <td>  1046</td>      <th>  AIC:               </th> <td>   8345.</td>\n",
       "</tr>\n",
       "<tr>\n",
       "  <th>Df Residuals:</th>          <td>  1043</td>      <th>  BIC:               </th> <td>   8360.</td>\n",
       "</tr>\n",
       "<tr>\n",
       "  <th>Df Model:</th>              <td>     2</td>      <th>                     </th>     <td> </td>   \n",
       "</tr>\n",
       "<tr>\n",
       "  <th>Covariance Type:</th>      <td>nonrobust</td>    <th>                     </th>     <td> </td>   \n",
       "</tr>\n",
       "</table>\n",
       "<table class=\"simpletable\">\n",
       "<tr>\n",
       "       <td></td>          <th>coef</th>     <th>std err</th>      <th>t</th>      <th>P>|t|</th>  <th>[0.025</th>    <th>0.975]</th>  \n",
       "</tr>\n",
       "<tr>\n",
       "  <th>Intercept</th>   <td>   43.6462</td> <td>    1.194</td> <td>   36.555</td> <td> 0.000</td> <td>   41.303</td> <td>   45.989</td>\n",
       "</tr>\n",
       "<tr>\n",
       "  <th>Sex[T.male]</th> <td>    3.7375</td> <td>    0.844</td> <td>    4.428</td> <td> 0.000</td> <td>    2.081</td> <td>    5.394</td>\n",
       "</tr>\n",
       "<tr>\n",
       "  <th>Pclass</th>      <td>   -7.3008</td> <td>    0.485</td> <td>  -15.059</td> <td> 0.000</td> <td>   -8.252</td> <td>   -6.349</td>\n",
       "</tr>\n",
       "</table>\n",
       "<table class=\"simpletable\">\n",
       "<tr>\n",
       "  <th>Omnibus:</th>       <td>14.009</td> <th>  Durbin-Watson:     </th> <td>   1.939</td>\n",
       "</tr>\n",
       "<tr>\n",
       "  <th>Prob(Omnibus):</th> <td> 0.001</td> <th>  Jarque-Bera (JB):  </th> <td>  14.798</td>\n",
       "</tr>\n",
       "<tr>\n",
       "  <th>Skew:</th>          <td> 0.242</td> <th>  Prob(JB):          </th> <td>0.000612</td>\n",
       "</tr>\n",
       "<tr>\n",
       "  <th>Kurtosis:</th>      <td> 3.324</td> <th>  Cond. No.          </th> <td>    8.42</td>\n",
       "</tr>\n",
       "</table><br/><br/>Warnings:<br/>[1] Standard Errors assume that the covariance matrix of the errors is correctly specified."
      ],
      "text/plain": [
       "<class 'statsmodels.iolib.summary.Summary'>\n",
       "\"\"\"\n",
       "                            OLS Regression Results                            \n",
       "==============================================================================\n",
       "Dep. Variable:                    Age   R-squared:                       0.182\n",
       "Model:                            OLS   Adj. R-squared:                  0.180\n",
       "Method:                 Least Squares   F-statistic:                     116.0\n",
       "Date:                Sun, 22 Dec 2019   Prob (F-statistic):           3.32e-46\n",
       "Time:                        21:40:44   Log-Likelihood:                -4169.6\n",
       "No. Observations:                1046   AIC:                             8345.\n",
       "Df Residuals:                    1043   BIC:                             8360.\n",
       "Df Model:                           2                                         \n",
       "Covariance Type:            nonrobust                                         \n",
       "===============================================================================\n",
       "                  coef    std err          t      P>|t|      [0.025      0.975]\n",
       "-------------------------------------------------------------------------------\n",
       "Intercept      43.6462      1.194     36.555      0.000      41.303      45.989\n",
       "Sex[T.male]     3.7375      0.844      4.428      0.000       2.081       5.394\n",
       "Pclass         -7.3008      0.485    -15.059      0.000      -8.252      -6.349\n",
       "==============================================================================\n",
       "Omnibus:                       14.009   Durbin-Watson:                   1.939\n",
       "Prob(Omnibus):                  0.001   Jarque-Bera (JB):               14.798\n",
       "Skew:                           0.242   Prob(JB):                     0.000612\n",
       "Kurtosis:                       3.324   Cond. No.                         8.42\n",
       "==============================================================================\n",
       "\n",
       "Warnings:\n",
       "[1] Standard Errors assume that the covariance matrix of the errors is correctly specified.\n",
       "\"\"\""
      ]
     },
     "execution_count": 44,
     "metadata": {},
     "output_type": "execute_result"
    }
   ],
   "source": [
    "model.summary()\n",
    "# This shows that Gender has an impact on the Age Variable"
   ]
  },
  {
   "cell_type": "markdown",
   "metadata": {},
   "source": [
    "#### Printing Model Diagnostics\n",
    "\n",
    "1. The Durban-Watson tests is to detect the presence of autocorrelation (not provided when calling diagnostics this way), \n",
    "2. Jarque-Bera (jb; jbpv is p-value) tests the assumption of normality, \n",
    "3. Omnibus (omni; omnipv is p-value) tests the assumption of homogeneity of variance, and the \n",
    "4. Condition Number (condno) assess multicollinearity. Condition Number values over 20 are indicative of multicollinearity.\n",
    "\n",
    "If the omnibus test were to be significant, an option on how to handle it would be to use a heteroscedasticity corrected coefficient covariance matrix in the .anova_lm() method. This corrects the calculations to account for the heteroscedasticity present."
   ]
  },
  {
   "cell_type": "code",
   "execution_count": 45,
   "metadata": {},
   "outputs": [
    {
     "name": "stdout",
     "output_type": "stream",
     "text": [
      "{'jb': 14.798044019974306, 'jbpv': 0.0006118508526413737, 'skew': 0.24201445096876661, 'kurtosis': 3.3244233236232192, 'omni': 14.009155048436545, 'omnipv': 0.000907717342875599, 'condno': 8.415821899016247, 'mineigval': 101.45754885423172}\n"
     ]
    }
   ],
   "source": [
    "print(model.diagn)"
   ]
  },
  {
   "cell_type": "code",
   "execution_count": 46,
   "metadata": {},
   "outputs": [
    {
     "data": {
      "text/html": [
       "<table class=\"simpletable\">\n",
       "<caption>OLS Regression Results</caption>\n",
       "<tr>\n",
       "  <th>Dep. Variable:</th>           <td>Age</td>       <th>  R-squared:         </th> <td>   0.289</td>\n",
       "</tr>\n",
       "<tr>\n",
       "  <th>Model:</th>                   <td>OLS</td>       <th>  Adj. R-squared:    </th> <td>   0.285</td>\n",
       "</tr>\n",
       "<tr>\n",
       "  <th>Method:</th>             <td>Least Squares</td>  <th>  F-statistic:       </th> <td>   84.40</td>\n",
       "</tr>\n",
       "<tr>\n",
       "  <th>Date:</th>             <td>Sun, 22 Dec 2019</td> <th>  Prob (F-statistic):</th> <td>1.70e-74</td>\n",
       "</tr>\n",
       "<tr>\n",
       "  <th>Time:</th>                 <td>21:40:44</td>     <th>  Log-Likelihood:    </th> <td> -4096.5</td>\n",
       "</tr>\n",
       "<tr>\n",
       "  <th>No. Observations:</th>      <td>  1046</td>      <th>  AIC:               </th> <td>   8205.</td>\n",
       "</tr>\n",
       "<tr>\n",
       "  <th>Df Residuals:</th>          <td>  1040</td>      <th>  BIC:               </th> <td>   8235.</td>\n",
       "</tr>\n",
       "<tr>\n",
       "  <th>Df Model:</th>              <td>     5</td>      <th>                     </th>     <td> </td>   \n",
       "</tr>\n",
       "<tr>\n",
       "  <th>Covariance Type:</th>      <td>nonrobust</td>    <th>                     </th>     <td> </td>   \n",
       "</tr>\n",
       "</table>\n",
       "<table class=\"simpletable\">\n",
       "<tr>\n",
       "          <td></td>            <th>coef</th>     <th>std err</th>      <th>t</th>      <th>P>|t|</th>  <th>[0.025</th>    <th>0.975]</th>  \n",
       "</tr>\n",
       "<tr>\n",
       "  <th>Intercept</th>        <td>    5.4826</td> <td>    1.674</td> <td>    3.275</td> <td> 0.001</td> <td>    2.198</td> <td>    8.767</td>\n",
       "</tr>\n",
       "<tr>\n",
       "  <th>Titles[T.Miss]</th>   <td>   16.2916</td> <td>    1.873</td> <td>    8.697</td> <td> 0.000</td> <td>   12.616</td> <td>   19.967</td>\n",
       "</tr>\n",
       "<tr>\n",
       "  <th>Titles[T.Mr]</th>     <td>   26.7695</td> <td>    1.749</td> <td>   15.310</td> <td> 0.000</td> <td>   23.338</td> <td>   30.201</td>\n",
       "</tr>\n",
       "<tr>\n",
       "  <th>Titles[T.Mrs]</th>    <td>   31.5115</td> <td>    1.917</td> <td>   16.437</td> <td> 0.000</td> <td>   27.750</td> <td>   35.273</td>\n",
       "</tr>\n",
       "<tr>\n",
       "  <th>Titles[T.Ms]</th>     <td>   22.5174</td> <td>   12.300</td> <td>    1.831</td> <td> 0.067</td> <td>   -1.619</td> <td>   46.653</td>\n",
       "</tr>\n",
       "<tr>\n",
       "  <th>Titles[T.Others]</th> <td>   37.6464</td> <td>    2.755</td> <td>   13.663</td> <td> 0.000</td> <td>   32.240</td> <td>   43.053</td>\n",
       "</tr>\n",
       "</table>\n",
       "<table class=\"simpletable\">\n",
       "<tr>\n",
       "  <th>Omnibus:</th>       <td>89.071</td> <th>  Durbin-Watson:     </th> <td>   1.989</td>\n",
       "</tr>\n",
       "<tr>\n",
       "  <th>Prob(Omnibus):</th> <td> 0.000</td> <th>  Jarque-Bera (JB):  </th> <td> 110.504</td>\n",
       "</tr>\n",
       "<tr>\n",
       "  <th>Skew:</th>          <td> 0.759</td> <th>  Prob(JB):          </th> <td>1.01e-24</td>\n",
       "</tr>\n",
       "<tr>\n",
       "  <th>Kurtosis:</th>      <td> 3.479</td> <th>  Cond. No.          </th> <td>    38.9</td>\n",
       "</tr>\n",
       "</table><br/><br/>Warnings:<br/>[1] Standard Errors assume that the covariance matrix of the errors is correctly specified."
      ],
      "text/plain": [
       "<class 'statsmodels.iolib.summary.Summary'>\n",
       "\"\"\"\n",
       "                            OLS Regression Results                            \n",
       "==============================================================================\n",
       "Dep. Variable:                    Age   R-squared:                       0.289\n",
       "Model:                            OLS   Adj. R-squared:                  0.285\n",
       "Method:                 Least Squares   F-statistic:                     84.40\n",
       "Date:                Sun, 22 Dec 2019   Prob (F-statistic):           1.70e-74\n",
       "Time:                        21:40:44   Log-Likelihood:                -4096.5\n",
       "No. Observations:                1046   AIC:                             8205.\n",
       "Df Residuals:                    1040   BIC:                             8235.\n",
       "Df Model:                           5                                         \n",
       "Covariance Type:            nonrobust                                         \n",
       "====================================================================================\n",
       "                       coef    std err          t      P>|t|      [0.025      0.975]\n",
       "------------------------------------------------------------------------------------\n",
       "Intercept            5.4826      1.674      3.275      0.001       2.198       8.767\n",
       "Titles[T.Miss]      16.2916      1.873      8.697      0.000      12.616      19.967\n",
       "Titles[T.Mr]        26.7695      1.749     15.310      0.000      23.338      30.201\n",
       "Titles[T.Mrs]       31.5115      1.917     16.437      0.000      27.750      35.273\n",
       "Titles[T.Ms]        22.5174     12.300      1.831      0.067      -1.619      46.653\n",
       "Titles[T.Others]    37.6464      2.755     13.663      0.000      32.240      43.053\n",
       "==============================================================================\n",
       "Omnibus:                       89.071   Durbin-Watson:                   1.989\n",
       "Prob(Omnibus):                  0.000   Jarque-Bera (JB):              110.504\n",
       "Skew:                           0.759   Prob(JB):                     1.01e-24\n",
       "Kurtosis:                       3.479   Cond. No.                         38.9\n",
       "==============================================================================\n",
       "\n",
       "Warnings:\n",
       "[1] Standard Errors assume that the covariance matrix of the errors is correctly specified.\n",
       "\"\"\""
      ]
     },
     "execution_count": 46,
     "metadata": {},
     "output_type": "execute_result"
    }
   ],
   "source": [
    "# Checking if Title has an impact on Age\n",
    "model_age = ols(\"Age~Titles\", data = combined).fit()\n",
    "model_age.summary()\n",
    "\n",
    "# Apart from Ms, titles have significant impact on the Age"
   ]
  },
  {
   "cell_type": "code",
   "execution_count": 47,
   "metadata": {
    "scrolled": true
   },
   "outputs": [
    {
     "data": {
      "text/html": [
       "<table class=\"simpletable\">\n",
       "<caption>OLS Regression Results</caption>\n",
       "<tr>\n",
       "  <th>Dep. Variable:</th>           <td>Age</td>       <th>  R-squared:         </th> <td>   0.071</td>\n",
       "</tr>\n",
       "<tr>\n",
       "  <th>Model:</th>                   <td>OLS</td>       <th>  Adj. R-squared:    </th> <td>   0.069</td>\n",
       "</tr>\n",
       "<tr>\n",
       "  <th>Method:</th>             <td>Least Squares</td>  <th>  F-statistic:       </th> <td>   39.69</td>\n",
       "</tr>\n",
       "<tr>\n",
       "  <th>Date:</th>             <td>Sun, 22 Dec 2019</td> <th>  Prob (F-statistic):</th> <td>2.45e-17</td>\n",
       "</tr>\n",
       "<tr>\n",
       "  <th>Time:</th>                 <td>21:40:44</td>     <th>  Log-Likelihood:    </th> <td> -4236.3</td>\n",
       "</tr>\n",
       "<tr>\n",
       "  <th>No. Observations:</th>      <td>  1046</td>      <th>  AIC:               </th> <td>   8479.</td>\n",
       "</tr>\n",
       "<tr>\n",
       "  <th>Df Residuals:</th>          <td>  1043</td>      <th>  BIC:               </th> <td>   8493.</td>\n",
       "</tr>\n",
       "<tr>\n",
       "  <th>Df Model:</th>              <td>     2</td>      <th>                     </th>     <td> </td>   \n",
       "</tr>\n",
       "<tr>\n",
       "  <th>Covariance Type:</th>      <td>nonrobust</td>    <th>                     </th>     <td> </td>   \n",
       "</tr>\n",
       "</table>\n",
       "<table class=\"simpletable\">\n",
       "<tr>\n",
       "                 <td></td>                    <th>coef</th>     <th>std err</th>      <th>t</th>      <th>P>|t|</th>  <th>[0.025</th>    <th>0.975]</th>  \n",
       "</tr>\n",
       "<tr>\n",
       "  <th>Intercept</th>                       <td>   19.8208</td> <td>    1.351</td> <td>   14.673</td> <td> 0.000</td> <td>   17.170</td> <td>   22.472</td>\n",
       "</tr>\n",
       "<tr>\n",
       "  <th>Family_On_Board[T.Singles]</th>      <td>   12.0055</td> <td>    1.438</td> <td>    8.349</td> <td> 0.000</td> <td>    9.184</td> <td>   14.827</td>\n",
       "</tr>\n",
       "<tr>\n",
       "  <th>Family_On_Board[T.Small Family]</th> <td>    6.7132</td> <td>    1.780</td> <td>    3.772</td> <td> 0.000</td> <td>    3.221</td> <td>   10.206</td>\n",
       "</tr>\n",
       "</table>\n",
       "<table class=\"simpletable\">\n",
       "<tr>\n",
       "  <th>Omnibus:</th>       <td>67.941</td> <th>  Durbin-Watson:     </th> <td>   1.965</td>\n",
       "</tr>\n",
       "<tr>\n",
       "  <th>Prob(Omnibus):</th> <td> 0.000</td> <th>  Jarque-Bera (JB):  </th> <td>  80.073</td>\n",
       "</tr>\n",
       "<tr>\n",
       "  <th>Skew:</th>          <td> 0.674</td> <th>  Prob(JB):          </th> <td>4.10e-18</td>\n",
       "</tr>\n",
       "<tr>\n",
       "  <th>Kurtosis:</th>      <td> 3.141</td> <th>  Cond. No.          </th> <td>    7.38</td>\n",
       "</tr>\n",
       "</table><br/><br/>Warnings:<br/>[1] Standard Errors assume that the covariance matrix of the errors is correctly specified."
      ],
      "text/plain": [
       "<class 'statsmodels.iolib.summary.Summary'>\n",
       "\"\"\"\n",
       "                            OLS Regression Results                            \n",
       "==============================================================================\n",
       "Dep. Variable:                    Age   R-squared:                       0.071\n",
       "Model:                            OLS   Adj. R-squared:                  0.069\n",
       "Method:                 Least Squares   F-statistic:                     39.69\n",
       "Date:                Sun, 22 Dec 2019   Prob (F-statistic):           2.45e-17\n",
       "Time:                        21:40:44   Log-Likelihood:                -4236.3\n",
       "No. Observations:                1046   AIC:                             8479.\n",
       "Df Residuals:                    1043   BIC:                             8493.\n",
       "Df Model:                           2                                         \n",
       "Covariance Type:            nonrobust                                         \n",
       "===================================================================================================\n",
       "                                      coef    std err          t      P>|t|      [0.025      0.975]\n",
       "---------------------------------------------------------------------------------------------------\n",
       "Intercept                          19.8208      1.351     14.673      0.000      17.170      22.472\n",
       "Family_On_Board[T.Singles]         12.0055      1.438      8.349      0.000       9.184      14.827\n",
       "Family_On_Board[T.Small Family]     6.7132      1.780      3.772      0.000       3.221      10.206\n",
       "==============================================================================\n",
       "Omnibus:                       67.941   Durbin-Watson:                   1.965\n",
       "Prob(Omnibus):                  0.000   Jarque-Bera (JB):               80.073\n",
       "Skew:                           0.674   Prob(JB):                     4.10e-18\n",
       "Kurtosis:                       3.141   Cond. No.                         7.38\n",
       "==============================================================================\n",
       "\n",
       "Warnings:\n",
       "[1] Standard Errors assume that the covariance matrix of the errors is correctly specified.\n",
       "\"\"\""
      ]
     },
     "execution_count": 47,
     "metadata": {},
     "output_type": "execute_result"
    }
   ],
   "source": [
    "# Check Family on Board\n",
    "model_family = ols(\"Age~Family_On_Board\", data=combined).fit()\n",
    "model_family.summary()"
   ]
  },
  {
   "cell_type": "markdown",
   "metadata": {},
   "source": [
    "#### Since ANOVA tests that Family On Board, Title, PClass and Gender are significant variables and hence we need to fill the median age basis these variables"
   ]
  },
  {
   "cell_type": "code",
   "execution_count": 48,
   "metadata": {},
   "outputs": [],
   "source": [
    "combined.loc[(combined[\"Pclass\"]==1) & (combined[\"Sex\"]==\"female\") & (combined[\"Titles\"]==\"Miss\") & (combined[\"Family_On_Board\"]==\"Singles\") & (combined[\"Age\"].isnull()), \"Age\"]=31.0\n",
    "combined.loc[(combined[\"Pclass\"]==1) & (combined[\"Sex\"]==\"female\") & (combined[\"Titles\"]==\"Mrs\") & (combined[\"Family_On_Board\"]==\"Singles\") & (combined[\"Age\"].isnull()), \"Age\"]=44.0\n",
    "combined.loc[(combined[\"Pclass\"]==1) & (combined[\"Sex\"]==\"male\") & (combined[\"Titles\"]==\"Mr\") & (combined[\"Family_On_Board\"]==\"Singles\") & (combined[\"Age\"].isnull()), \"Age\"] = 41.0\n",
    "combined.loc[(combined[\"Pclass\"]==1) & (combined[\"Sex\"]==\"male\") & (combined[\"Titles\"]==\"Others\") & (combined[\"Family_On_Board\"]==\"Singles\") & (combined[\"Age\"].isnull()), \"Age\"]=48.0\n",
    "combined.loc[(combined[\"Pclass\"]==2) & (combined[\"Sex\"]==\"female\") & (combined[\"Titles\"]==\"Miss\") & (combined[\"Family_On_Board\"]==\"Singles\") & (combined[\"Age\"].isnull()), \"Age\"]=26.5\n",
    "combined.loc[(combined[\"Pclass\"]==2) & (combined[\"Sex\"]==\"female\") & (combined[\"Titles\"]==\"Mrs\") & (combined[\"Family_On_Board\"]==\"Singles\") & (combined[\"Age\"].isnull()), \"Age\"]=29.5\n",
    "combined.loc[(combined[\"Pclass\"]==2) & (combined[\"Sex\"]==\"male\") & (combined[\"Titles\"]==\"Mr\") & (combined[\"Family_On_Board\"]==\"Singles\") & (combined[\"Age\"].isnull()), \"Age\"]=30.0\n",
    "combined.loc[(combined[\"Pclass\"]==3) & (combined[\"Sex\"]==\"female\") & (combined[\"Titles\"]==\"Miss\") & (combined[\"Family_On_Board\"]==\"Large Family\") & (combined[\"Age\"].isnull()), \"Age\"] = 8.0\n",
    "combined.loc[(combined[\"Pclass\"]==3) & (combined[\"Sex\"]==\"female\") & (combined[\"Titles\"]==\"Miss\") & (combined[\"Family_On_Board\"]==\"Singles\") & (combined[\"Age\"].isnull()), \"Age\"] = 22.0\n",
    "combined.loc[(combined[\"Pclass\"]==3) & (combined[\"Sex\"]==\"female\") & (combined[\"Titles\"]==\"Miss\") & (combined[\"Family_On_Board\"]==\"Small Family\") & (combined[\"Age\"].isnull()), \"Age\"] = 4.0\n",
    "combined.loc[(combined[\"Pclass\"]==3) & (combined[\"Sex\"]==\"female\") & (combined[\"Titles\"]==\"Mrs\") & (combined[\"Family_On_Board\"]==\"Large Family\") & (combined[\"Age\"].isnull()), \"Age\"] = 39.0\n",
    "combined.loc[(combined[\"Pclass\"]==3) & (combined[\"Sex\"]==\"female\") & (combined[\"Titles\"]==\"Mrs\") & (combined[\"Family_On_Board\"]==\"Singles\") & (combined[\"Age\"].isnull()), \"Age\"] = 31.0\n",
    "combined.loc[(combined[\"Pclass\"]==3) & (combined[\"Sex\"]==\"male\") & (combined[\"Titles\"]==\"Master\") & (combined[\"Family_On_Board\"]==\"Large Family\") & (combined[\"Age\"].isnull()), \"Age\"]=5.5\n",
    "combined.loc[(combined[\"Pclass\"]==3) & (combined[\"Sex\"]==\"male\") & (combined[\"Titles\"]==\"Master\") & (combined[\"Family_On_Board\"]==\"Singles\") & (combined[\"Age\"].isnull()), \"Age\"]=6.0\n",
    "combined.loc[(combined[\"Pclass\"]==3) & (combined[\"Sex\"]==\"male\") & (combined[\"Titles\"]==\"Master\") & (combined[\"Family_On_Board\"]==\"Small Family\") & (combined[\"Age\"].isnull()), \"Age\"] = 6.5\n",
    "combined.loc[(combined[\"Pclass\"]==3) & (combined[\"Sex\"]==\"male\") & (combined[\"Titles\"]==\"Mr\") & (combined[\"Family_On_Board\"]==\"Large Family\") & (combined[\"Age\"].isnull()), \"Age\"] = 27.5\n",
    "combined.loc[(combined[\"Pclass\"]==3) & (combined[\"Sex\"]==\"male\") & (combined[\"Titles\"]==\"Mr\") & (combined[\"Family_On_Board\"]==\"Singles\") & (combined[\"Age\"].isnull()), \"Age\"] = 26.0\n",
    "combined.loc[(combined[\"Pclass\"]==3) & (combined[\"Sex\"]==\"male\") & \n",
    "             (combined[\"Titles\"]==\"Mr\") & (combined[\"Family_On_Board\"]==\"Small Family\") & \n",
    "             (combined[\"Age\"].isnull()), \"Age\"]=25.0\n"
   ]
  },
  {
   "cell_type": "code",
   "execution_count": 49,
   "metadata": {},
   "outputs": [],
   "source": [
    "# Check for Ms, if Less then Put it in Others"
   ]
  },
  {
   "cell_type": "code",
   "execution_count": 50,
   "metadata": {},
   "outputs": [
    {
     "data": {
      "text/html": [
       "<div>\n",
       "<style scoped>\n",
       "    .dataframe tbody tr th:only-of-type {\n",
       "        vertical-align: middle;\n",
       "    }\n",
       "\n",
       "    .dataframe tbody tr th {\n",
       "        vertical-align: top;\n",
       "    }\n",
       "\n",
       "    .dataframe thead th {\n",
       "        text-align: right;\n",
       "    }\n",
       "</style>\n",
       "<table border=\"1\" class=\"dataframe\">\n",
       "  <thead>\n",
       "    <tr style=\"text-align: right;\">\n",
       "      <th></th>\n",
       "      <th></th>\n",
       "      <th></th>\n",
       "      <th></th>\n",
       "      <th>count</th>\n",
       "      <th>mean</th>\n",
       "      <th>std</th>\n",
       "      <th>min</th>\n",
       "      <th>25%</th>\n",
       "      <th>50%</th>\n",
       "      <th>75%</th>\n",
       "      <th>max</th>\n",
       "    </tr>\n",
       "    <tr>\n",
       "      <th>Pclass</th>\n",
       "      <th>Sex</th>\n",
       "      <th>Titles</th>\n",
       "      <th>Family_On_Board</th>\n",
       "      <th></th>\n",
       "      <th></th>\n",
       "      <th></th>\n",
       "      <th></th>\n",
       "      <th></th>\n",
       "      <th></th>\n",
       "      <th></th>\n",
       "      <th></th>\n",
       "    </tr>\n",
       "  </thead>\n",
       "  <tbody>\n",
       "    <tr>\n",
       "      <th rowspan=\"14\" valign=\"top\">1</th>\n",
       "      <th rowspan=\"7\" valign=\"top\">female</th>\n",
       "      <th rowspan=\"3\" valign=\"top\">Miss</th>\n",
       "      <th>Large Family</th>\n",
       "      <td>7.0</td>\n",
       "      <td>18.571429</td>\n",
       "      <td>8.560708</td>\n",
       "      <td>2.00</td>\n",
       "      <td>16.0000</td>\n",
       "      <td>21.0</td>\n",
       "      <td>23.500</td>\n",
       "      <td>28.0</td>\n",
       "    </tr>\n",
       "    <tr>\n",
       "      <th>Singles</th>\n",
       "      <td>47.0</td>\n",
       "      <td>32.468085</td>\n",
       "      <td>11.245968</td>\n",
       "      <td>15.00</td>\n",
       "      <td>23.5000</td>\n",
       "      <td>31.0</td>\n",
       "      <td>37.000</td>\n",
       "      <td>63.0</td>\n",
       "    </tr>\n",
       "    <tr>\n",
       "      <th>Small Family</th>\n",
       "      <td>6.0</td>\n",
       "      <td>27.500000</td>\n",
       "      <td>9.049862</td>\n",
       "      <td>18.00</td>\n",
       "      <td>19.7500</td>\n",
       "      <td>26.5</td>\n",
       "      <td>34.750</td>\n",
       "      <td>39.0</td>\n",
       "    </tr>\n",
       "    <tr>\n",
       "      <th rowspan=\"3\" valign=\"top\">Mrs</th>\n",
       "      <th>Large Family</th>\n",
       "      <td>5.0</td>\n",
       "      <td>39.200000</td>\n",
       "      <td>14.754660</td>\n",
       "      <td>25.00</td>\n",
       "      <td>27.0000</td>\n",
       "      <td>36.0</td>\n",
       "      <td>48.000</td>\n",
       "      <td>60.0</td>\n",
       "    </tr>\n",
       "    <tr>\n",
       "      <th>Singles</th>\n",
       "      <td>57.0</td>\n",
       "      <td>42.157895</td>\n",
       "      <td>13.398813</td>\n",
       "      <td>17.00</td>\n",
       "      <td>35.0000</td>\n",
       "      <td>44.0</td>\n",
       "      <td>51.000</td>\n",
       "      <td>76.0</td>\n",
       "    </tr>\n",
       "    <tr>\n",
       "      <th>Small Family</th>\n",
       "      <td>15.0</td>\n",
       "      <td>49.066667</td>\n",
       "      <td>10.081572</td>\n",
       "      <td>27.00</td>\n",
       "      <td>42.5000</td>\n",
       "      <td>50.0</td>\n",
       "      <td>54.500</td>\n",
       "      <td>64.0</td>\n",
       "    </tr>\n",
       "    <tr>\n",
       "      <th>Others</th>\n",
       "      <th>Singles</th>\n",
       "      <td>7.0</td>\n",
       "      <td>34.428571</td>\n",
       "      <td>11.148350</td>\n",
       "      <td>24.00</td>\n",
       "      <td>24.0000</td>\n",
       "      <td>33.0</td>\n",
       "      <td>43.500</td>\n",
       "      <td>49.0</td>\n",
       "    </tr>\n",
       "    <tr>\n",
       "      <th rowspan=\"7\" valign=\"top\">male</th>\n",
       "      <th rowspan=\"2\" valign=\"top\">Master</th>\n",
       "      <th>Large Family</th>\n",
       "      <td>3.0</td>\n",
       "      <td>8.306667</td>\n",
       "      <td>6.474730</td>\n",
       "      <td>0.92</td>\n",
       "      <td>5.9600</td>\n",
       "      <td>11.0</td>\n",
       "      <td>12.000</td>\n",
       "      <td>13.0</td>\n",
       "    </tr>\n",
       "    <tr>\n",
       "      <th>Small Family</th>\n",
       "      <td>2.0</td>\n",
       "      <td>5.000000</td>\n",
       "      <td>1.414214</td>\n",
       "      <td>4.00</td>\n",
       "      <td>4.5000</td>\n",
       "      <td>5.0</td>\n",
       "      <td>5.500</td>\n",
       "      <td>6.0</td>\n",
       "    </tr>\n",
       "    <tr>\n",
       "      <th rowspan=\"3\" valign=\"top\">Mr</th>\n",
       "      <th>Large Family</th>\n",
       "      <td>5.0</td>\n",
       "      <td>42.000000</td>\n",
       "      <td>19.710403</td>\n",
       "      <td>19.00</td>\n",
       "      <td>30.0000</td>\n",
       "      <td>36.0</td>\n",
       "      <td>61.000</td>\n",
       "      <td>64.0</td>\n",
       "    </tr>\n",
       "    <tr>\n",
       "      <th>Singles</th>\n",
       "      <td>142.0</td>\n",
       "      <td>41.017606</td>\n",
       "      <td>11.944228</td>\n",
       "      <td>17.00</td>\n",
       "      <td>32.6250</td>\n",
       "      <td>41.0</td>\n",
       "      <td>47.000</td>\n",
       "      <td>80.0</td>\n",
       "    </tr>\n",
       "    <tr>\n",
       "      <th>Small Family</th>\n",
       "      <td>12.0</td>\n",
       "      <td>45.333333</td>\n",
       "      <td>13.357554</td>\n",
       "      <td>17.00</td>\n",
       "      <td>37.0000</td>\n",
       "      <td>49.5</td>\n",
       "      <td>55.500</td>\n",
       "      <td>60.0</td>\n",
       "    </tr>\n",
       "    <tr>\n",
       "      <th rowspan=\"2\" valign=\"top\">Others</th>\n",
       "      <th>Singles</th>\n",
       "      <td>11.0</td>\n",
       "      <td>47.272727</td>\n",
       "      <td>8.210858</td>\n",
       "      <td>32.00</td>\n",
       "      <td>42.5000</td>\n",
       "      <td>48.0</td>\n",
       "      <td>52.500</td>\n",
       "      <td>60.0</td>\n",
       "    </tr>\n",
       "    <tr>\n",
       "      <th>Small Family</th>\n",
       "      <td>4.0</td>\n",
       "      <td>54.250000</td>\n",
       "      <td>11.146748</td>\n",
       "      <td>44.00</td>\n",
       "      <td>48.5000</td>\n",
       "      <td>51.5</td>\n",
       "      <td>57.250</td>\n",
       "      <td>70.0</td>\n",
       "    </tr>\n",
       "    <tr>\n",
       "      <th rowspan=\"14\" valign=\"top\">2</th>\n",
       "      <th rowspan=\"7\" valign=\"top\">female</th>\n",
       "      <th rowspan=\"3\" valign=\"top\">Miss</th>\n",
       "      <th>Large Family</th>\n",
       "      <td>9.0</td>\n",
       "      <td>10.435556</td>\n",
       "      <td>9.796294</td>\n",
       "      <td>0.92</td>\n",
       "      <td>3.0000</td>\n",
       "      <td>5.0</td>\n",
       "      <td>20.000</td>\n",
       "      <td>24.0</td>\n",
       "    </tr>\n",
       "    <tr>\n",
       "      <th>Singles</th>\n",
       "      <td>32.0</td>\n",
       "      <td>26.515625</td>\n",
       "      <td>9.950267</td>\n",
       "      <td>6.00</td>\n",
       "      <td>19.7500</td>\n",
       "      <td>26.5</td>\n",
       "      <td>31.375</td>\n",
       "      <td>50.0</td>\n",
       "    </tr>\n",
       "    <tr>\n",
       "      <th>Small Family</th>\n",
       "      <td>9.0</td>\n",
       "      <td>11.666667</td>\n",
       "      <td>7.664855</td>\n",
       "      <td>2.00</td>\n",
       "      <td>7.0000</td>\n",
       "      <td>8.0</td>\n",
       "      <td>18.000</td>\n",
       "      <td>25.0</td>\n",
       "    </tr>\n",
       "    <tr>\n",
       "      <th rowspan=\"3\" valign=\"top\">Mrs</th>\n",
       "      <th>Large Family</th>\n",
       "      <td>8.0</td>\n",
       "      <td>33.875000</td>\n",
       "      <td>11.716137</td>\n",
       "      <td>22.00</td>\n",
       "      <td>24.0000</td>\n",
       "      <td>31.5</td>\n",
       "      <td>39.000</td>\n",
       "      <td>54.0</td>\n",
       "    </tr>\n",
       "    <tr>\n",
       "      <th>Singles</th>\n",
       "      <td>35.0</td>\n",
       "      <td>33.357143</td>\n",
       "      <td>10.813643</td>\n",
       "      <td>14.00</td>\n",
       "      <td>27.5000</td>\n",
       "      <td>29.5</td>\n",
       "      <td>40.500</td>\n",
       "      <td>60.0</td>\n",
       "    </tr>\n",
       "    <tr>\n",
       "      <th>Small Family</th>\n",
       "      <td>12.0</td>\n",
       "      <td>33.416667</td>\n",
       "      <td>9.110018</td>\n",
       "      <td>22.00</td>\n",
       "      <td>25.5000</td>\n",
       "      <td>32.0</td>\n",
       "      <td>41.250</td>\n",
       "      <td>48.0</td>\n",
       "    </tr>\n",
       "    <tr>\n",
       "      <th>Ms</th>\n",
       "      <th>Singles</th>\n",
       "      <td>1.0</td>\n",
       "      <td>28.000000</td>\n",
       "      <td>NaN</td>\n",
       "      <td>28.00</td>\n",
       "      <td>28.0000</td>\n",
       "      <td>28.0</td>\n",
       "      <td>28.000</td>\n",
       "      <td>28.0</td>\n",
       "    </tr>\n",
       "    <tr>\n",
       "      <th rowspan=\"7\" valign=\"top\">male</th>\n",
       "      <th rowspan=\"2\" valign=\"top\">Master</th>\n",
       "      <th>Large Family</th>\n",
       "      <td>1.0</td>\n",
       "      <td>1.000000</td>\n",
       "      <td>NaN</td>\n",
       "      <td>1.00</td>\n",
       "      <td>1.0000</td>\n",
       "      <td>1.0</td>\n",
       "      <td>1.000</td>\n",
       "      <td>1.0</td>\n",
       "    </tr>\n",
       "    <tr>\n",
       "      <th>Small Family</th>\n",
       "      <td>10.0</td>\n",
       "      <td>2.933000</td>\n",
       "      <td>2.804794</td>\n",
       "      <td>0.67</td>\n",
       "      <td>0.8725</td>\n",
       "      <td>2.0</td>\n",
       "      <td>3.000</td>\n",
       "      <td>8.0</td>\n",
       "    </tr>\n",
       "    <tr>\n",
       "      <th rowspan=\"3\" valign=\"top\">Mr</th>\n",
       "      <th>Large Family</th>\n",
       "      <td>4.0</td>\n",
       "      <td>33.250000</td>\n",
       "      <td>11.954776</td>\n",
       "      <td>23.00</td>\n",
       "      <td>24.5000</td>\n",
       "      <td>30.5</td>\n",
       "      <td>39.250</td>\n",
       "      <td>49.0</td>\n",
       "    </tr>\n",
       "    <tr>\n",
       "      <th>Singles</th>\n",
       "      <td>133.0</td>\n",
       "      <td>32.157895</td>\n",
       "      <td>11.410118</td>\n",
       "      <td>14.00</td>\n",
       "      <td>25.0000</td>\n",
       "      <td>30.0</td>\n",
       "      <td>36.000</td>\n",
       "      <td>70.0</td>\n",
       "    </tr>\n",
       "    <tr>\n",
       "      <th>Small Family</th>\n",
       "      <td>13.0</td>\n",
       "      <td>31.653846</td>\n",
       "      <td>11.473492</td>\n",
       "      <td>19.00</td>\n",
       "      <td>24.0000</td>\n",
       "      <td>31.0</td>\n",
       "      <td>36.500</td>\n",
       "      <td>60.0</td>\n",
       "    </tr>\n",
       "    <tr>\n",
       "      <th rowspan=\"2\" valign=\"top\">Others</th>\n",
       "      <th>Singles</th>\n",
       "      <td>9.0</td>\n",
       "      <td>41.888889</td>\n",
       "      <td>13.119112</td>\n",
       "      <td>23.00</td>\n",
       "      <td>28.0000</td>\n",
       "      <td>42.0</td>\n",
       "      <td>54.000</td>\n",
       "      <td>57.0</td>\n",
       "    </tr>\n",
       "    <tr>\n",
       "      <th>Small Family</th>\n",
       "      <td>1.0</td>\n",
       "      <td>30.000000</td>\n",
       "      <td>NaN</td>\n",
       "      <td>30.00</td>\n",
       "      <td>30.0000</td>\n",
       "      <td>30.0</td>\n",
       "      <td>30.000</td>\n",
       "      <td>30.0</td>\n",
       "    </tr>\n",
       "    <tr>\n",
       "      <th rowspan=\"13\" valign=\"top\">3</th>\n",
       "      <th rowspan=\"7\" valign=\"top\">female</th>\n",
       "      <th rowspan=\"3\" valign=\"top\">Miss</th>\n",
       "      <th>Large Family</th>\n",
       "      <td>27.0</td>\n",
       "      <td>8.765556</td>\n",
       "      <td>7.594557</td>\n",
       "      <td>0.17</td>\n",
       "      <td>5.0000</td>\n",
       "      <td>8.0</td>\n",
       "      <td>9.000</td>\n",
       "      <td>38.0</td>\n",
       "    </tr>\n",
       "    <tr>\n",
       "      <th>Singles</th>\n",
       "      <td>106.0</td>\n",
       "      <td>21.702830</td>\n",
       "      <td>6.129079</td>\n",
       "      <td>2.00</td>\n",
       "      <td>19.2500</td>\n",
       "      <td>22.0</td>\n",
       "      <td>23.000</td>\n",
       "      <td>45.0</td>\n",
       "    </tr>\n",
       "    <tr>\n",
       "      <th>Small Family</th>\n",
       "      <td>17.0</td>\n",
       "      <td>5.941176</td>\n",
       "      <td>6.036044</td>\n",
       "      <td>1.00</td>\n",
       "      <td>2.0000</td>\n",
       "      <td>4.0</td>\n",
       "      <td>9.000</td>\n",
       "      <td>22.0</td>\n",
       "    </tr>\n",
       "    <tr>\n",
       "      <th rowspan=\"3\" valign=\"top\">Mrs</th>\n",
       "      <th>Large Family</th>\n",
       "      <td>14.0</td>\n",
       "      <td>37.785714</td>\n",
       "      <td>6.290146</td>\n",
       "      <td>24.00</td>\n",
       "      <td>34.2500</td>\n",
       "      <td>39.0</td>\n",
       "      <td>40.500</td>\n",
       "      <td>48.0</td>\n",
       "    </tr>\n",
       "    <tr>\n",
       "      <th>Singles</th>\n",
       "      <td>31.0</td>\n",
       "      <td>32.096774</td>\n",
       "      <td>10.520947</td>\n",
       "      <td>15.00</td>\n",
       "      <td>26.5000</td>\n",
       "      <td>31.0</td>\n",
       "      <td>37.000</td>\n",
       "      <td>63.0</td>\n",
       "    </tr>\n",
       "    <tr>\n",
       "      <th>Small Family</th>\n",
       "      <td>17.0</td>\n",
       "      <td>28.647059</td>\n",
       "      <td>6.402550</td>\n",
       "      <td>16.00</td>\n",
       "      <td>26.0000</td>\n",
       "      <td>29.0</td>\n",
       "      <td>32.000</td>\n",
       "      <td>41.0</td>\n",
       "    </tr>\n",
       "    <tr>\n",
       "      <th>Ms</th>\n",
       "      <th>Singles</th>\n",
       "      <td>0.0</td>\n",
       "      <td>NaN</td>\n",
       "      <td>NaN</td>\n",
       "      <td>NaN</td>\n",
       "      <td>NaN</td>\n",
       "      <td>NaN</td>\n",
       "      <td>NaN</td>\n",
       "      <td>NaN</td>\n",
       "    </tr>\n",
       "    <tr>\n",
       "      <th rowspan=\"6\" valign=\"top\">male</th>\n",
       "      <th rowspan=\"3\" valign=\"top\">Master</th>\n",
       "      <th>Large Family</th>\n",
       "      <td>25.0</td>\n",
       "      <td>6.000000</td>\n",
       "      <td>3.807887</td>\n",
       "      <td>1.00</td>\n",
       "      <td>3.0000</td>\n",
       "      <td>5.5</td>\n",
       "      <td>9.000</td>\n",
       "      <td>14.5</td>\n",
       "    </tr>\n",
       "    <tr>\n",
       "      <th>Singles</th>\n",
       "      <td>6.0</td>\n",
       "      <td>5.708333</td>\n",
       "      <td>4.524486</td>\n",
       "      <td>0.42</td>\n",
       "      <td>2.1225</td>\n",
       "      <td>6.0</td>\n",
       "      <td>8.250</td>\n",
       "      <td>12.0</td>\n",
       "    </tr>\n",
       "    <tr>\n",
       "      <th>Small Family</th>\n",
       "      <td>14.0</td>\n",
       "      <td>6.398571</td>\n",
       "      <td>3.613408</td>\n",
       "      <td>0.33</td>\n",
       "      <td>4.5000</td>\n",
       "      <td>6.5</td>\n",
       "      <td>8.500</td>\n",
       "      <td>13.0</td>\n",
       "    </tr>\n",
       "    <tr>\n",
       "      <th rowspan=\"3\" valign=\"top\">Mr</th>\n",
       "      <th>Large Family</th>\n",
       "      <td>17.0</td>\n",
       "      <td>27.088235</td>\n",
       "      <td>9.131394</td>\n",
       "      <td>14.00</td>\n",
       "      <td>18.0000</td>\n",
       "      <td>27.5</td>\n",
       "      <td>31.000</td>\n",
       "      <td>40.0</td>\n",
       "    </tr>\n",
       "    <tr>\n",
       "      <th>Singles</th>\n",
       "      <td>407.0</td>\n",
       "      <td>27.710074</td>\n",
       "      <td>8.283729</td>\n",
       "      <td>11.00</td>\n",
       "      <td>24.0000</td>\n",
       "      <td>26.0</td>\n",
       "      <td>29.000</td>\n",
       "      <td>74.0</td>\n",
       "    </tr>\n",
       "    <tr>\n",
       "      <th>Small Family</th>\n",
       "      <td>24.0</td>\n",
       "      <td>26.520833</td>\n",
       "      <td>8.875319</td>\n",
       "      <td>15.00</td>\n",
       "      <td>18.0000</td>\n",
       "      <td>25.0</td>\n",
       "      <td>34.500</td>\n",
       "      <td>41.0</td>\n",
       "    </tr>\n",
       "  </tbody>\n",
       "</table>\n",
       "</div>"
      ],
      "text/plain": [
       "                                      count       mean        std    min  \\\n",
       "Pclass Sex    Titles Family_On_Board                                       \n",
       "1      female Miss   Large Family       7.0  18.571429   8.560708   2.00   \n",
       "                     Singles           47.0  32.468085  11.245968  15.00   \n",
       "                     Small Family       6.0  27.500000   9.049862  18.00   \n",
       "              Mrs    Large Family       5.0  39.200000  14.754660  25.00   \n",
       "                     Singles           57.0  42.157895  13.398813  17.00   \n",
       "                     Small Family      15.0  49.066667  10.081572  27.00   \n",
       "              Others Singles            7.0  34.428571  11.148350  24.00   \n",
       "       male   Master Large Family       3.0   8.306667   6.474730   0.92   \n",
       "                     Small Family       2.0   5.000000   1.414214   4.00   \n",
       "              Mr     Large Family       5.0  42.000000  19.710403  19.00   \n",
       "                     Singles          142.0  41.017606  11.944228  17.00   \n",
       "                     Small Family      12.0  45.333333  13.357554  17.00   \n",
       "              Others Singles           11.0  47.272727   8.210858  32.00   \n",
       "                     Small Family       4.0  54.250000  11.146748  44.00   \n",
       "2      female Miss   Large Family       9.0  10.435556   9.796294   0.92   \n",
       "                     Singles           32.0  26.515625   9.950267   6.00   \n",
       "                     Small Family       9.0  11.666667   7.664855   2.00   \n",
       "              Mrs    Large Family       8.0  33.875000  11.716137  22.00   \n",
       "                     Singles           35.0  33.357143  10.813643  14.00   \n",
       "                     Small Family      12.0  33.416667   9.110018  22.00   \n",
       "              Ms     Singles            1.0  28.000000        NaN  28.00   \n",
       "       male   Master Large Family       1.0   1.000000        NaN   1.00   \n",
       "                     Small Family      10.0   2.933000   2.804794   0.67   \n",
       "              Mr     Large Family       4.0  33.250000  11.954776  23.00   \n",
       "                     Singles          133.0  32.157895  11.410118  14.00   \n",
       "                     Small Family      13.0  31.653846  11.473492  19.00   \n",
       "              Others Singles            9.0  41.888889  13.119112  23.00   \n",
       "                     Small Family       1.0  30.000000        NaN  30.00   \n",
       "3      female Miss   Large Family      27.0   8.765556   7.594557   0.17   \n",
       "                     Singles          106.0  21.702830   6.129079   2.00   \n",
       "                     Small Family      17.0   5.941176   6.036044   1.00   \n",
       "              Mrs    Large Family      14.0  37.785714   6.290146  24.00   \n",
       "                     Singles           31.0  32.096774  10.520947  15.00   \n",
       "                     Small Family      17.0  28.647059   6.402550  16.00   \n",
       "              Ms     Singles            0.0        NaN        NaN    NaN   \n",
       "       male   Master Large Family      25.0   6.000000   3.807887   1.00   \n",
       "                     Singles            6.0   5.708333   4.524486   0.42   \n",
       "                     Small Family      14.0   6.398571   3.613408   0.33   \n",
       "              Mr     Large Family      17.0  27.088235   9.131394  14.00   \n",
       "                     Singles          407.0  27.710074   8.283729  11.00   \n",
       "                     Small Family      24.0  26.520833   8.875319  15.00   \n",
       "\n",
       "                                          25%   50%     75%   max  \n",
       "Pclass Sex    Titles Family_On_Board                               \n",
       "1      female Miss   Large Family     16.0000  21.0  23.500  28.0  \n",
       "                     Singles          23.5000  31.0  37.000  63.0  \n",
       "                     Small Family     19.7500  26.5  34.750  39.0  \n",
       "              Mrs    Large Family     27.0000  36.0  48.000  60.0  \n",
       "                     Singles          35.0000  44.0  51.000  76.0  \n",
       "                     Small Family     42.5000  50.0  54.500  64.0  \n",
       "              Others Singles          24.0000  33.0  43.500  49.0  \n",
       "       male   Master Large Family      5.9600  11.0  12.000  13.0  \n",
       "                     Small Family      4.5000   5.0   5.500   6.0  \n",
       "              Mr     Large Family     30.0000  36.0  61.000  64.0  \n",
       "                     Singles          32.6250  41.0  47.000  80.0  \n",
       "                     Small Family     37.0000  49.5  55.500  60.0  \n",
       "              Others Singles          42.5000  48.0  52.500  60.0  \n",
       "                     Small Family     48.5000  51.5  57.250  70.0  \n",
       "2      female Miss   Large Family      3.0000   5.0  20.000  24.0  \n",
       "                     Singles          19.7500  26.5  31.375  50.0  \n",
       "                     Small Family      7.0000   8.0  18.000  25.0  \n",
       "              Mrs    Large Family     24.0000  31.5  39.000  54.0  \n",
       "                     Singles          27.5000  29.5  40.500  60.0  \n",
       "                     Small Family     25.5000  32.0  41.250  48.0  \n",
       "              Ms     Singles          28.0000  28.0  28.000  28.0  \n",
       "       male   Master Large Family      1.0000   1.0   1.000   1.0  \n",
       "                     Small Family      0.8725   2.0   3.000   8.0  \n",
       "              Mr     Large Family     24.5000  30.5  39.250  49.0  \n",
       "                     Singles          25.0000  30.0  36.000  70.0  \n",
       "                     Small Family     24.0000  31.0  36.500  60.0  \n",
       "              Others Singles          28.0000  42.0  54.000  57.0  \n",
       "                     Small Family     30.0000  30.0  30.000  30.0  \n",
       "3      female Miss   Large Family      5.0000   8.0   9.000  38.0  \n",
       "                     Singles          19.2500  22.0  23.000  45.0  \n",
       "                     Small Family      2.0000   4.0   9.000  22.0  \n",
       "              Mrs    Large Family     34.2500  39.0  40.500  48.0  \n",
       "                     Singles          26.5000  31.0  37.000  63.0  \n",
       "                     Small Family     26.0000  29.0  32.000  41.0  \n",
       "              Ms     Singles              NaN   NaN     NaN   NaN  \n",
       "       male   Master Large Family      3.0000   5.5   9.000  14.5  \n",
       "                     Singles           2.1225   6.0   8.250  12.0  \n",
       "                     Small Family      4.5000   6.5   8.500  13.0  \n",
       "              Mr     Large Family     18.0000  27.5  31.000  40.0  \n",
       "                     Singles          24.0000  26.0  29.000  74.0  \n",
       "                     Small Family     18.0000  25.0  34.500  41.0  "
      ]
     },
     "execution_count": 50,
     "metadata": {},
     "output_type": "execute_result"
    }
   ],
   "source": [
    "pd.DataFrame(combined.groupby([\"Pclass\", \"Sex\", \"Titles\", \"Family_On_Board\"])[\"Age\"].describe())"
   ]
  },
  {
   "cell_type": "code",
   "execution_count": 51,
   "metadata": {
    "scrolled": true
   },
   "outputs": [
    {
     "data": {
      "text/html": [
       "<div>\n",
       "<style scoped>\n",
       "    .dataframe tbody tr th:only-of-type {\n",
       "        vertical-align: middle;\n",
       "    }\n",
       "\n",
       "    .dataframe tbody tr th {\n",
       "        vertical-align: top;\n",
       "    }\n",
       "\n",
       "    .dataframe thead th {\n",
       "        text-align: right;\n",
       "    }\n",
       "</style>\n",
       "<table border=\"1\" class=\"dataframe\">\n",
       "  <thead>\n",
       "    <tr style=\"text-align: right;\">\n",
       "      <th></th>\n",
       "      <th></th>\n",
       "      <th>count</th>\n",
       "      <th>mean</th>\n",
       "      <th>std</th>\n",
       "      <th>min</th>\n",
       "      <th>25%</th>\n",
       "      <th>50%</th>\n",
       "      <th>75%</th>\n",
       "      <th>max</th>\n",
       "    </tr>\n",
       "    <tr>\n",
       "      <th>Titles</th>\n",
       "      <th>Family_On_Board</th>\n",
       "      <th></th>\n",
       "      <th></th>\n",
       "      <th></th>\n",
       "      <th></th>\n",
       "      <th></th>\n",
       "      <th></th>\n",
       "      <th></th>\n",
       "      <th></th>\n",
       "    </tr>\n",
       "  </thead>\n",
       "  <tbody>\n",
       "    <tr>\n",
       "      <th rowspan=\"2\" valign=\"top\">Master</th>\n",
       "      <th>False</th>\n",
       "      <td>55.0</td>\n",
       "      <td>5.542364</td>\n",
       "      <td>3.854088</td>\n",
       "      <td>0.33</td>\n",
       "      <td>2.0000</td>\n",
       "      <td>5.5</td>\n",
       "      <td>8.000</td>\n",
       "      <td>14.5</td>\n",
       "    </tr>\n",
       "    <tr>\n",
       "      <th>True</th>\n",
       "      <td>6.0</td>\n",
       "      <td>5.708333</td>\n",
       "      <td>4.524486</td>\n",
       "      <td>0.42</td>\n",
       "      <td>2.1225</td>\n",
       "      <td>6.0</td>\n",
       "      <td>8.250</td>\n",
       "      <td>12.0</td>\n",
       "    </tr>\n",
       "    <tr>\n",
       "      <th rowspan=\"2\" valign=\"top\">Miss</th>\n",
       "      <th>False</th>\n",
       "      <td>75.0</td>\n",
       "      <td>11.087867</td>\n",
       "      <td>9.572230</td>\n",
       "      <td>0.17</td>\n",
       "      <td>4.0000</td>\n",
       "      <td>8.0</td>\n",
       "      <td>18.000</td>\n",
       "      <td>39.0</td>\n",
       "    </tr>\n",
       "    <tr>\n",
       "      <th>True</th>\n",
       "      <td>185.0</td>\n",
       "      <td>25.270270</td>\n",
       "      <td>9.516858</td>\n",
       "      <td>2.00</td>\n",
       "      <td>21.0000</td>\n",
       "      <td>22.0</td>\n",
       "      <td>30.000</td>\n",
       "      <td>63.0</td>\n",
       "    </tr>\n",
       "    <tr>\n",
       "      <th rowspan=\"2\" valign=\"top\">Mr</th>\n",
       "      <th>False</th>\n",
       "      <td>75.0</td>\n",
       "      <td>31.940000</td>\n",
       "      <td>12.966943</td>\n",
       "      <td>14.00</td>\n",
       "      <td>22.5000</td>\n",
       "      <td>28.0</td>\n",
       "      <td>40.000</td>\n",
       "      <td>64.0</td>\n",
       "    </tr>\n",
       "    <tr>\n",
       "      <th>True</th>\n",
       "      <td>682.0</td>\n",
       "      <td>31.348240</td>\n",
       "      <td>11.100366</td>\n",
       "      <td>11.00</td>\n",
       "      <td>25.0000</td>\n",
       "      <td>27.0</td>\n",
       "      <td>36.375</td>\n",
       "      <td>80.0</td>\n",
       "    </tr>\n",
       "    <tr>\n",
       "      <th rowspan=\"2\" valign=\"top\">Mrs</th>\n",
       "      <th>False</th>\n",
       "      <td>71.0</td>\n",
       "      <td>36.901408</td>\n",
       "      <td>11.321478</td>\n",
       "      <td>16.00</td>\n",
       "      <td>27.5000</td>\n",
       "      <td>36.0</td>\n",
       "      <td>45.000</td>\n",
       "      <td>64.0</td>\n",
       "    </tr>\n",
       "    <tr>\n",
       "      <th>True</th>\n",
       "      <td>123.0</td>\n",
       "      <td>37.117886</td>\n",
       "      <td>12.827526</td>\n",
       "      <td>14.00</td>\n",
       "      <td>28.0000</td>\n",
       "      <td>35.0</td>\n",
       "      <td>45.000</td>\n",
       "      <td>76.0</td>\n",
       "    </tr>\n",
       "    <tr>\n",
       "      <th>Ms</th>\n",
       "      <th>True</th>\n",
       "      <td>1.0</td>\n",
       "      <td>28.000000</td>\n",
       "      <td>NaN</td>\n",
       "      <td>28.00</td>\n",
       "      <td>28.0000</td>\n",
       "      <td>28.0</td>\n",
       "      <td>28.000</td>\n",
       "      <td>28.0</td>\n",
       "    </tr>\n",
       "    <tr>\n",
       "      <th rowspan=\"2\" valign=\"top\">Others</th>\n",
       "      <th>False</th>\n",
       "      <td>5.0</td>\n",
       "      <td>49.400000</td>\n",
       "      <td>14.518953</td>\n",
       "      <td>30.00</td>\n",
       "      <td>44.0000</td>\n",
       "      <td>50.0</td>\n",
       "      <td>53.000</td>\n",
       "      <td>70.0</td>\n",
       "    </tr>\n",
       "    <tr>\n",
       "      <th>True</th>\n",
       "      <td>27.0</td>\n",
       "      <td>42.148148</td>\n",
       "      <td>11.608033</td>\n",
       "      <td>23.00</td>\n",
       "      <td>32.5000</td>\n",
       "      <td>45.0</td>\n",
       "      <td>51.500</td>\n",
       "      <td>60.0</td>\n",
       "    </tr>\n",
       "  </tbody>\n",
       "</table>\n",
       "</div>"
      ],
      "text/plain": [
       "                        count       mean        std    min      25%   50%  \\\n",
       "Titles Family_On_Board                                                      \n",
       "Master False             55.0   5.542364   3.854088   0.33   2.0000   5.5   \n",
       "       True               6.0   5.708333   4.524486   0.42   2.1225   6.0   \n",
       "Miss   False             75.0  11.087867   9.572230   0.17   4.0000   8.0   \n",
       "       True             185.0  25.270270   9.516858   2.00  21.0000  22.0   \n",
       "Mr     False             75.0  31.940000  12.966943  14.00  22.5000  28.0   \n",
       "       True             682.0  31.348240  11.100366  11.00  25.0000  27.0   \n",
       "Mrs    False             71.0  36.901408  11.321478  16.00  27.5000  36.0   \n",
       "       True             123.0  37.117886  12.827526  14.00  28.0000  35.0   \n",
       "Ms     True               1.0  28.000000        NaN  28.00  28.0000  28.0   \n",
       "Others False              5.0  49.400000  14.518953  30.00  44.0000  50.0   \n",
       "       True              27.0  42.148148  11.608033  23.00  32.5000  45.0   \n",
       "\n",
       "                           75%   max  \n",
       "Titles Family_On_Board                \n",
       "Master False             8.000  14.5  \n",
       "       True              8.250  12.0  \n",
       "Miss   False            18.000  39.0  \n",
       "       True             30.000  63.0  \n",
       "Mr     False            40.000  64.0  \n",
       "       True             36.375  80.0  \n",
       "Mrs    False            45.000  64.0  \n",
       "       True             45.000  76.0  \n",
       "Ms     True             28.000  28.0  \n",
       "Others False            53.000  70.0  \n",
       "       True             51.500  60.0  "
      ]
     },
     "execution_count": 51,
     "metadata": {},
     "output_type": "execute_result"
    }
   ],
   "source": [
    "# Age Basis PClass and Sex\n",
    "pd.DataFrame(combined.groupby([\"Titles\", combined.Family_On_Board==\"Singles\"])[\"Age\"].describe())"
   ]
  },
  {
   "cell_type": "code",
   "execution_count": 52,
   "metadata": {},
   "outputs": [],
   "source": [
    "combined.loc[combined.Age.isnull(), \"Age\"] =28.0"
   ]
  },
  {
   "cell_type": "code",
   "execution_count": 53,
   "metadata": {
    "scrolled": true
   },
   "outputs": [
    {
     "data": {
      "text/html": [
       "<div>\n",
       "<style scoped>\n",
       "    .dataframe tbody tr th:only-of-type {\n",
       "        vertical-align: middle;\n",
       "    }\n",
       "\n",
       "    .dataframe tbody tr th {\n",
       "        vertical-align: top;\n",
       "    }\n",
       "\n",
       "    .dataframe thead th {\n",
       "        text-align: right;\n",
       "    }\n",
       "</style>\n",
       "<table border=\"1\" class=\"dataframe\">\n",
       "  <thead>\n",
       "    <tr style=\"text-align: right;\">\n",
       "      <th></th>\n",
       "      <th>PassengerId</th>\n",
       "      <th>Survived</th>\n",
       "      <th>Pclass</th>\n",
       "      <th>Name</th>\n",
       "      <th>Sex</th>\n",
       "      <th>Age</th>\n",
       "      <th>SibSp</th>\n",
       "      <th>Parch</th>\n",
       "      <th>Ticket</th>\n",
       "      <th>Fare</th>\n",
       "      <th>Cabin</th>\n",
       "      <th>Embarked</th>\n",
       "      <th>Cabin_Status</th>\n",
       "      <th>Titles</th>\n",
       "      <th>Family</th>\n",
       "      <th>Family_On_Board</th>\n",
       "      <th>Fare_Per_Person</th>\n",
       "      <th>titles</th>\n",
       "    </tr>\n",
       "  </thead>\n",
       "  <tbody>\n",
       "    <tr>\n",
       "      <th>0</th>\n",
       "      <td>1</td>\n",
       "      <td>0.0</td>\n",
       "      <td>3</td>\n",
       "      <td>Braund, Mr. Owen Harris</td>\n",
       "      <td>male</td>\n",
       "      <td>22.0</td>\n",
       "      <td>1</td>\n",
       "      <td>0</td>\n",
       "      <td>A/5 21171</td>\n",
       "      <td>7.2500</td>\n",
       "      <td>NaN</td>\n",
       "      <td>S</td>\n",
       "      <td>No Cabin Found</td>\n",
       "      <td>Mr</td>\n",
       "      <td>1</td>\n",
       "      <td>Singles</td>\n",
       "      <td>7.2500</td>\n",
       "      <td>Mr</td>\n",
       "    </tr>\n",
       "    <tr>\n",
       "      <th>1</th>\n",
       "      <td>2</td>\n",
       "      <td>1.0</td>\n",
       "      <td>1</td>\n",
       "      <td>Cumings, Mrs. John Bradley (Florence Briggs Th...</td>\n",
       "      <td>female</td>\n",
       "      <td>38.0</td>\n",
       "      <td>1</td>\n",
       "      <td>0</td>\n",
       "      <td>PC 17599</td>\n",
       "      <td>71.2833</td>\n",
       "      <td>C85</td>\n",
       "      <td>C</td>\n",
       "      <td>Cabin Allotted</td>\n",
       "      <td>Mrs</td>\n",
       "      <td>1</td>\n",
       "      <td>Singles</td>\n",
       "      <td>71.2833</td>\n",
       "      <td>Mrs</td>\n",
       "    </tr>\n",
       "    <tr>\n",
       "      <th>2</th>\n",
       "      <td>3</td>\n",
       "      <td>1.0</td>\n",
       "      <td>3</td>\n",
       "      <td>Heikkinen, Miss. Laina</td>\n",
       "      <td>female</td>\n",
       "      <td>26.0</td>\n",
       "      <td>0</td>\n",
       "      <td>0</td>\n",
       "      <td>STON/O2. 3101282</td>\n",
       "      <td>7.9250</td>\n",
       "      <td>NaN</td>\n",
       "      <td>S</td>\n",
       "      <td>No Cabin Found</td>\n",
       "      <td>Miss</td>\n",
       "      <td>1</td>\n",
       "      <td>Singles</td>\n",
       "      <td>7.9250</td>\n",
       "      <td>Miss</td>\n",
       "    </tr>\n",
       "    <tr>\n",
       "      <th>3</th>\n",
       "      <td>4</td>\n",
       "      <td>1.0</td>\n",
       "      <td>1</td>\n",
       "      <td>Futrelle, Mrs. Jacques Heath (Lily May Peel)</td>\n",
       "      <td>female</td>\n",
       "      <td>35.0</td>\n",
       "      <td>1</td>\n",
       "      <td>0</td>\n",
       "      <td>113803</td>\n",
       "      <td>53.1000</td>\n",
       "      <td>C123</td>\n",
       "      <td>S</td>\n",
       "      <td>Cabin Allotted</td>\n",
       "      <td>Mrs</td>\n",
       "      <td>1</td>\n",
       "      <td>Singles</td>\n",
       "      <td>53.1000</td>\n",
       "      <td>Mrs</td>\n",
       "    </tr>\n",
       "    <tr>\n",
       "      <th>4</th>\n",
       "      <td>5</td>\n",
       "      <td>0.0</td>\n",
       "      <td>3</td>\n",
       "      <td>Allen, Mr. William Henry</td>\n",
       "      <td>male</td>\n",
       "      <td>35.0</td>\n",
       "      <td>0</td>\n",
       "      <td>0</td>\n",
       "      <td>373450</td>\n",
       "      <td>8.0500</td>\n",
       "      <td>NaN</td>\n",
       "      <td>S</td>\n",
       "      <td>No Cabin Found</td>\n",
       "      <td>Mr</td>\n",
       "      <td>1</td>\n",
       "      <td>Singles</td>\n",
       "      <td>8.0500</td>\n",
       "      <td>Mr</td>\n",
       "    </tr>\n",
       "  </tbody>\n",
       "</table>\n",
       "</div>"
      ],
      "text/plain": [
       "   PassengerId  Survived  Pclass  \\\n",
       "0            1       0.0       3   \n",
       "1            2       1.0       1   \n",
       "2            3       1.0       3   \n",
       "3            4       1.0       1   \n",
       "4            5       0.0       3   \n",
       "\n",
       "                                                Name     Sex   Age  SibSp  \\\n",
       "0                            Braund, Mr. Owen Harris    male  22.0      1   \n",
       "1  Cumings, Mrs. John Bradley (Florence Briggs Th...  female  38.0      1   \n",
       "2                             Heikkinen, Miss. Laina  female  26.0      0   \n",
       "3       Futrelle, Mrs. Jacques Heath (Lily May Peel)  female  35.0      1   \n",
       "4                           Allen, Mr. William Henry    male  35.0      0   \n",
       "\n",
       "   Parch            Ticket     Fare Cabin Embarked    Cabin_Status Titles  \\\n",
       "0      0         A/5 21171   7.2500   NaN        S  No Cabin Found     Mr   \n",
       "1      0          PC 17599  71.2833   C85        C  Cabin Allotted    Mrs   \n",
       "2      0  STON/O2. 3101282   7.9250   NaN        S  No Cabin Found   Miss   \n",
       "3      0            113803  53.1000  C123        S  Cabin Allotted    Mrs   \n",
       "4      0            373450   8.0500   NaN        S  No Cabin Found     Mr   \n",
       "\n",
       "   Family Family_On_Board  Fare_Per_Person titles  \n",
       "0       1         Singles           7.2500     Mr  \n",
       "1       1         Singles          71.2833    Mrs  \n",
       "2       1         Singles           7.9250   Miss  \n",
       "3       1         Singles          53.1000    Mrs  \n",
       "4       1         Singles           8.0500     Mr  "
      ]
     },
     "execution_count": 53,
     "metadata": {},
     "output_type": "execute_result"
    }
   ],
   "source": [
    "combined.head()"
   ]
  },
  {
   "cell_type": "code",
   "execution_count": 54,
   "metadata": {
    "scrolled": true
   },
   "outputs": [
    {
     "data": {
      "text/html": [
       "<div>\n",
       "<style scoped>\n",
       "    .dataframe tbody tr th:only-of-type {\n",
       "        vertical-align: middle;\n",
       "    }\n",
       "\n",
       "    .dataframe tbody tr th {\n",
       "        vertical-align: top;\n",
       "    }\n",
       "\n",
       "    .dataframe thead th {\n",
       "        text-align: right;\n",
       "    }\n",
       "</style>\n",
       "<table border=\"1\" class=\"dataframe\">\n",
       "  <thead>\n",
       "    <tr style=\"text-align: right;\">\n",
       "      <th>titles</th>\n",
       "      <th></th>\n",
       "      <th>Billiard</th>\n",
       "      <th>Brito</th>\n",
       "      <th>Capt</th>\n",
       "      <th>Carlo</th>\n",
       "      <th>Col</th>\n",
       "      <th>Cruyssen</th>\n",
       "      <th>Don</th>\n",
       "      <th>Dr</th>\n",
       "      <th>Gordon</th>\n",
       "      <th>...</th>\n",
       "      <th>Palmquist</th>\n",
       "      <th>Pelsmaeker</th>\n",
       "      <th>Planke</th>\n",
       "      <th>Rev</th>\n",
       "      <th>Shawah</th>\n",
       "      <th>Steen</th>\n",
       "      <th>Velde</th>\n",
       "      <th>Walle</th>\n",
       "      <th>de</th>\n",
       "      <th>th</th>\n",
       "    </tr>\n",
       "  </thead>\n",
       "  <tbody>\n",
       "    <tr>\n",
       "      <th>count</th>\n",
       "      <td>8.000000</td>\n",
       "      <td>3.00000</td>\n",
       "      <td>1.0</td>\n",
       "      <td>1.0</td>\n",
       "      <td>2.000000</td>\n",
       "      <td>4.000000</td>\n",
       "      <td>1.0</td>\n",
       "      <td>1.0</td>\n",
       "      <td>8.000000</td>\n",
       "      <td>2.000000</td>\n",
       "      <td>...</td>\n",
       "      <td>1.0</td>\n",
       "      <td>1.0</td>\n",
       "      <td>4.000000</td>\n",
       "      <td>8.000000</td>\n",
       "      <td>1.0</td>\n",
       "      <td>1.0</td>\n",
       "      <td>1.0</td>\n",
       "      <td>1.0</td>\n",
       "      <td>1.0</td>\n",
       "      <td>1.0</td>\n",
       "    </tr>\n",
       "    <tr>\n",
       "      <th>mean</th>\n",
       "      <td>27.312500</td>\n",
       "      <td>19.50000</td>\n",
       "      <td>32.0</td>\n",
       "      <td>70.0</td>\n",
       "      <td>26.500000</td>\n",
       "      <td>54.000000</td>\n",
       "      <td>47.0</td>\n",
       "      <td>40.0</td>\n",
       "      <td>44.125000</td>\n",
       "      <td>48.500000</td>\n",
       "      <td>...</td>\n",
       "      <td>26.0</td>\n",
       "      <td>16.0</td>\n",
       "      <td>24.000000</td>\n",
       "      <td>41.250000</td>\n",
       "      <td>30.0</td>\n",
       "      <td>28.0</td>\n",
       "      <td>33.0</td>\n",
       "      <td>28.0</td>\n",
       "      <td>61.0</td>\n",
       "      <td>33.0</td>\n",
       "    </tr>\n",
       "    <tr>\n",
       "      <th>std</th>\n",
       "      <td>7.055583</td>\n",
       "      <td>18.35756</td>\n",
       "      <td>NaN</td>\n",
       "      <td>NaN</td>\n",
       "      <td>3.535534</td>\n",
       "      <td>5.477226</td>\n",
       "      <td>NaN</td>\n",
       "      <td>NaN</td>\n",
       "      <td>10.973182</td>\n",
       "      <td>0.707107</td>\n",
       "      <td>...</td>\n",
       "      <td>NaN</td>\n",
       "      <td>NaN</td>\n",
       "      <td>8.124038</td>\n",
       "      <td>12.020815</td>\n",
       "      <td>NaN</td>\n",
       "      <td>NaN</td>\n",
       "      <td>NaN</td>\n",
       "      <td>NaN</td>\n",
       "      <td>NaN</td>\n",
       "      <td>NaN</td>\n",
       "    </tr>\n",
       "    <tr>\n",
       "      <th>min</th>\n",
       "      <td>17.000000</td>\n",
       "      <td>6.50000</td>\n",
       "      <td>32.0</td>\n",
       "      <td>70.0</td>\n",
       "      <td>24.000000</td>\n",
       "      <td>47.000000</td>\n",
       "      <td>47.0</td>\n",
       "      <td>40.0</td>\n",
       "      <td>23.000000</td>\n",
       "      <td>48.000000</td>\n",
       "      <td>...</td>\n",
       "      <td>26.0</td>\n",
       "      <td>16.0</td>\n",
       "      <td>16.000000</td>\n",
       "      <td>27.000000</td>\n",
       "      <td>30.0</td>\n",
       "      <td>28.0</td>\n",
       "      <td>33.0</td>\n",
       "      <td>28.0</td>\n",
       "      <td>61.0</td>\n",
       "      <td>33.0</td>\n",
       "    </tr>\n",
       "    <tr>\n",
       "      <th>25%</th>\n",
       "      <td>24.750000</td>\n",
       "      <td>9.00000</td>\n",
       "      <td>32.0</td>\n",
       "      <td>70.0</td>\n",
       "      <td>25.250000</td>\n",
       "      <td>51.500000</td>\n",
       "      <td>47.0</td>\n",
       "      <td>40.0</td>\n",
       "      <td>41.000000</td>\n",
       "      <td>48.250000</td>\n",
       "      <td>...</td>\n",
       "      <td>26.0</td>\n",
       "      <td>16.0</td>\n",
       "      <td>17.500000</td>\n",
       "      <td>29.500000</td>\n",
       "      <td>30.0</td>\n",
       "      <td>28.0</td>\n",
       "      <td>33.0</td>\n",
       "      <td>28.0</td>\n",
       "      <td>61.0</td>\n",
       "      <td>33.0</td>\n",
       "    </tr>\n",
       "    <tr>\n",
       "      <th>50%</th>\n",
       "      <td>28.750000</td>\n",
       "      <td>11.50000</td>\n",
       "      <td>32.0</td>\n",
       "      <td>70.0</td>\n",
       "      <td>26.500000</td>\n",
       "      <td>54.500000</td>\n",
       "      <td>47.0</td>\n",
       "      <td>40.0</td>\n",
       "      <td>48.500000</td>\n",
       "      <td>48.500000</td>\n",
       "      <td>...</td>\n",
       "      <td>26.0</td>\n",
       "      <td>16.0</td>\n",
       "      <td>24.500000</td>\n",
       "      <td>41.500000</td>\n",
       "      <td>30.0</td>\n",
       "      <td>28.0</td>\n",
       "      <td>33.0</td>\n",
       "      <td>28.0</td>\n",
       "      <td>61.0</td>\n",
       "      <td>33.0</td>\n",
       "    </tr>\n",
       "    <tr>\n",
       "      <th>75%</th>\n",
       "      <td>30.000000</td>\n",
       "      <td>26.00000</td>\n",
       "      <td>32.0</td>\n",
       "      <td>70.0</td>\n",
       "      <td>27.750000</td>\n",
       "      <td>57.000000</td>\n",
       "      <td>47.0</td>\n",
       "      <td>40.0</td>\n",
       "      <td>50.750000</td>\n",
       "      <td>48.750000</td>\n",
       "      <td>...</td>\n",
       "      <td>26.0</td>\n",
       "      <td>16.0</td>\n",
       "      <td>31.000000</td>\n",
       "      <td>51.750000</td>\n",
       "      <td>30.0</td>\n",
       "      <td>28.0</td>\n",
       "      <td>33.0</td>\n",
       "      <td>28.0</td>\n",
       "      <td>61.0</td>\n",
       "      <td>33.0</td>\n",
       "    </tr>\n",
       "    <tr>\n",
       "      <th>max</th>\n",
       "      <td>39.000000</td>\n",
       "      <td>40.50000</td>\n",
       "      <td>32.0</td>\n",
       "      <td>70.0</td>\n",
       "      <td>29.000000</td>\n",
       "      <td>60.000000</td>\n",
       "      <td>47.0</td>\n",
       "      <td>40.0</td>\n",
       "      <td>54.000000</td>\n",
       "      <td>49.000000</td>\n",
       "      <td>...</td>\n",
       "      <td>26.0</td>\n",
       "      <td>16.0</td>\n",
       "      <td>31.000000</td>\n",
       "      <td>57.000000</td>\n",
       "      <td>30.0</td>\n",
       "      <td>28.0</td>\n",
       "      <td>33.0</td>\n",
       "      <td>28.0</td>\n",
       "      <td>61.0</td>\n",
       "      <td>33.0</td>\n",
       "    </tr>\n",
       "  </tbody>\n",
       "</table>\n",
       "<p>8 rows × 34 columns</p>\n",
       "</div>"
      ],
      "text/plain": [
       "titles             Billiard  Brito  Capt      Carlo        Col  Cruyssen  \\\n",
       "count    8.000000   3.00000    1.0   1.0   2.000000   4.000000       1.0   \n",
       "mean    27.312500  19.50000   32.0  70.0  26.500000  54.000000      47.0   \n",
       "std      7.055583  18.35756    NaN   NaN   3.535534   5.477226       NaN   \n",
       "min     17.000000   6.50000   32.0  70.0  24.000000  47.000000      47.0   \n",
       "25%     24.750000   9.00000   32.0  70.0  25.250000  51.500000      47.0   \n",
       "50%     28.750000  11.50000   32.0  70.0  26.500000  54.500000      47.0   \n",
       "75%     30.000000  26.00000   32.0  70.0  27.750000  57.000000      47.0   \n",
       "max     39.000000  40.50000   32.0  70.0  29.000000  60.000000      47.0   \n",
       "\n",
       "titles   Don         Dr     Gordon  ...  Palmquist  Pelsmaeker     Planke  \\\n",
       "count    1.0   8.000000   2.000000  ...        1.0         1.0   4.000000   \n",
       "mean    40.0  44.125000  48.500000  ...       26.0        16.0  24.000000   \n",
       "std      NaN  10.973182   0.707107  ...        NaN         NaN   8.124038   \n",
       "min     40.0  23.000000  48.000000  ...       26.0        16.0  16.000000   \n",
       "25%     40.0  41.000000  48.250000  ...       26.0        16.0  17.500000   \n",
       "50%     40.0  48.500000  48.500000  ...       26.0        16.0  24.500000   \n",
       "75%     40.0  50.750000  48.750000  ...       26.0        16.0  31.000000   \n",
       "max     40.0  54.000000  49.000000  ...       26.0        16.0  31.000000   \n",
       "\n",
       "titles        Rev  Shawah  Steen  Velde  Walle    de    th  \n",
       "count    8.000000     1.0    1.0    1.0    1.0   1.0   1.0  \n",
       "mean    41.250000    30.0   28.0   33.0   28.0  61.0  33.0  \n",
       "std     12.020815     NaN    NaN    NaN    NaN   NaN   NaN  \n",
       "min     27.000000    30.0   28.0   33.0   28.0  61.0  33.0  \n",
       "25%     29.500000    30.0   28.0   33.0   28.0  61.0  33.0  \n",
       "50%     41.500000    30.0   28.0   33.0   28.0  61.0  33.0  \n",
       "75%     51.750000    30.0   28.0   33.0   28.0  61.0  33.0  \n",
       "max     57.000000    30.0   28.0   33.0   28.0  61.0  33.0  \n",
       "\n",
       "[8 rows x 34 columns]"
      ]
     },
     "execution_count": 54,
     "metadata": {},
     "output_type": "execute_result"
    }
   ],
   "source": [
    "combined.groupby(\"titles\")[\"Age\"].describe().T"
   ]
  },
  {
   "cell_type": "markdown",
   "metadata": {},
   "source": [
    "### Another Approach for Missing Age Values\n",
    "1. combined.loc[(combined.titles==\"Miss\") & (combined.Age.isnull()), \"Age\"]=22.0\n",
    "2. combined.loc[(combined.titles==\"Master\") & (combined.Age.isnull()), \"Age\"]=4.0\n",
    "3. combined.loc[(combined.titles==\"Mr\") & (combined.Age.isnull()), \"Age\"]=29.0\n",
    "4. combined.loc[(combined.titles==\"Mrs\") & (combined.Age.isnull()), \"Age\"]=36.0\n",
    "5. combined.loc[(combined.titles==\"Others\") & (combined.Age.isnull()), \"Age\"]=33.0"
   ]
  },
  {
   "cell_type": "code",
   "execution_count": 55,
   "metadata": {},
   "outputs": [],
   "source": [
    "# dropping Name, Ticket, Cabin and Passenger ID\n",
    "combined_new = combined.drop(['PassengerId', 'Name', \"SibSp\", \"Parch\", 'Ticket', 'Cabin'], axis = 1)"
   ]
  },
  {
   "cell_type": "code",
   "execution_count": 56,
   "metadata": {
    "scrolled": false
   },
   "outputs": [
    {
     "data": {
      "text/html": [
       "<div>\n",
       "<style scoped>\n",
       "    .dataframe tbody tr th:only-of-type {\n",
       "        vertical-align: middle;\n",
       "    }\n",
       "\n",
       "    .dataframe tbody tr th {\n",
       "        vertical-align: top;\n",
       "    }\n",
       "\n",
       "    .dataframe thead th {\n",
       "        text-align: right;\n",
       "    }\n",
       "</style>\n",
       "<table border=\"1\" class=\"dataframe\">\n",
       "  <thead>\n",
       "    <tr style=\"text-align: right;\">\n",
       "      <th></th>\n",
       "      <th>Survived</th>\n",
       "      <th>Pclass</th>\n",
       "      <th>Sex</th>\n",
       "      <th>Age</th>\n",
       "      <th>Fare</th>\n",
       "      <th>Embarked</th>\n",
       "      <th>Cabin_Status</th>\n",
       "      <th>Titles</th>\n",
       "      <th>Family</th>\n",
       "      <th>Family_On_Board</th>\n",
       "      <th>Fare_Per_Person</th>\n",
       "      <th>titles</th>\n",
       "    </tr>\n",
       "  </thead>\n",
       "  <tbody>\n",
       "    <tr>\n",
       "      <th>0</th>\n",
       "      <td>0.0</td>\n",
       "      <td>3</td>\n",
       "      <td>male</td>\n",
       "      <td>22.0</td>\n",
       "      <td>7.2500</td>\n",
       "      <td>S</td>\n",
       "      <td>No Cabin Found</td>\n",
       "      <td>Mr</td>\n",
       "      <td>1</td>\n",
       "      <td>Singles</td>\n",
       "      <td>7.2500</td>\n",
       "      <td>Mr</td>\n",
       "    </tr>\n",
       "    <tr>\n",
       "      <th>1</th>\n",
       "      <td>1.0</td>\n",
       "      <td>1</td>\n",
       "      <td>female</td>\n",
       "      <td>38.0</td>\n",
       "      <td>71.2833</td>\n",
       "      <td>C</td>\n",
       "      <td>Cabin Allotted</td>\n",
       "      <td>Mrs</td>\n",
       "      <td>1</td>\n",
       "      <td>Singles</td>\n",
       "      <td>71.2833</td>\n",
       "      <td>Mrs</td>\n",
       "    </tr>\n",
       "    <tr>\n",
       "      <th>2</th>\n",
       "      <td>1.0</td>\n",
       "      <td>3</td>\n",
       "      <td>female</td>\n",
       "      <td>26.0</td>\n",
       "      <td>7.9250</td>\n",
       "      <td>S</td>\n",
       "      <td>No Cabin Found</td>\n",
       "      <td>Miss</td>\n",
       "      <td>1</td>\n",
       "      <td>Singles</td>\n",
       "      <td>7.9250</td>\n",
       "      <td>Miss</td>\n",
       "    </tr>\n",
       "    <tr>\n",
       "      <th>3</th>\n",
       "      <td>1.0</td>\n",
       "      <td>1</td>\n",
       "      <td>female</td>\n",
       "      <td>35.0</td>\n",
       "      <td>53.1000</td>\n",
       "      <td>S</td>\n",
       "      <td>Cabin Allotted</td>\n",
       "      <td>Mrs</td>\n",
       "      <td>1</td>\n",
       "      <td>Singles</td>\n",
       "      <td>53.1000</td>\n",
       "      <td>Mrs</td>\n",
       "    </tr>\n",
       "    <tr>\n",
       "      <th>4</th>\n",
       "      <td>0.0</td>\n",
       "      <td>3</td>\n",
       "      <td>male</td>\n",
       "      <td>35.0</td>\n",
       "      <td>8.0500</td>\n",
       "      <td>S</td>\n",
       "      <td>No Cabin Found</td>\n",
       "      <td>Mr</td>\n",
       "      <td>1</td>\n",
       "      <td>Singles</td>\n",
       "      <td>8.0500</td>\n",
       "      <td>Mr</td>\n",
       "    </tr>\n",
       "  </tbody>\n",
       "</table>\n",
       "</div>"
      ],
      "text/plain": [
       "   Survived  Pclass     Sex   Age     Fare Embarked    Cabin_Status Titles  \\\n",
       "0       0.0       3    male  22.0   7.2500        S  No Cabin Found     Mr   \n",
       "1       1.0       1  female  38.0  71.2833        C  Cabin Allotted    Mrs   \n",
       "2       1.0       3  female  26.0   7.9250        S  No Cabin Found   Miss   \n",
       "3       1.0       1  female  35.0  53.1000        S  Cabin Allotted    Mrs   \n",
       "4       0.0       3    male  35.0   8.0500        S  No Cabin Found     Mr   \n",
       "\n",
       "   Family Family_On_Board  Fare_Per_Person titles  \n",
       "0       1         Singles           7.2500     Mr  \n",
       "1       1         Singles          71.2833    Mrs  \n",
       "2       1         Singles           7.9250   Miss  \n",
       "3       1         Singles          53.1000    Mrs  \n",
       "4       1         Singles           8.0500     Mr  "
      ]
     },
     "execution_count": 56,
     "metadata": {},
     "output_type": "execute_result"
    }
   ],
   "source": [
    "combined_new.head()"
   ]
  },
  {
   "cell_type": "code",
   "execution_count": null,
   "metadata": {},
   "outputs": [],
   "source": []
  },
  {
   "cell_type": "code",
   "execution_count": 57,
   "metadata": {},
   "outputs": [],
   "source": [
    "# Split the data in train and test\n",
    "newtrain = combined_new.loc[0:train.shape[0]-1]"
   ]
  },
  {
   "cell_type": "code",
   "execution_count": 58,
   "metadata": {},
   "outputs": [
    {
     "data": {
      "text/plain": [
       "Index(['Survived', 'Pclass', 'Sex', 'Age', 'Fare', 'Embarked', 'Cabin_Status',\n",
       "       'Titles', 'Family', 'Family_On_Board', 'Fare_Per_Person', 'titles'],\n",
       "      dtype='object')"
      ]
     },
     "execution_count": 58,
     "metadata": {},
     "output_type": "execute_result"
    }
   ],
   "source": [
    "newtrain.columns"
   ]
  },
  {
   "cell_type": "code",
   "execution_count": 59,
   "metadata": {},
   "outputs": [],
   "source": [
    "newtest = combined_new.loc[891:, :]"
   ]
  },
  {
   "cell_type": "code",
   "execution_count": 60,
   "metadata": {},
   "outputs": [
    {
     "data": {
      "text/plain": [
       "Index(['Survived', 'Pclass', 'Sex', 'Age', 'Fare', 'Embarked', 'Cabin_Status',\n",
       "       'Titles', 'Family', 'Family_On_Board', 'Fare_Per_Person', 'titles'],\n",
       "      dtype='object')"
      ]
     },
     "execution_count": 60,
     "metadata": {},
     "output_type": "execute_result"
    }
   ],
   "source": [
    "newtest.columns"
   ]
  },
  {
   "cell_type": "code",
   "execution_count": 61,
   "metadata": {},
   "outputs": [
    {
     "name": "stdout",
     "output_type": "stream",
     "text": [
      "Index(['Pclass', 'Sex', 'Age', 'Fare', 'Embarked', 'Cabin_Status', 'Titles',\n",
      "       'Family', 'Family_On_Board', 'Fare_Per_Person', 'titles'],\n",
      "      dtype='object')\n"
     ]
    },
    {
     "name": "stderr",
     "output_type": "stream",
     "text": [
      "/anaconda3/lib/python3.6/site-packages/pandas/core/frame.py:3940: SettingWithCopyWarning: \n",
      "A value is trying to be set on a copy of a slice from a DataFrame\n",
      "\n",
      "See the caveats in the documentation: http://pandas.pydata.org/pandas-docs/stable/indexing.html#indexing-view-versus-copy\n",
      "  errors=errors)\n"
     ]
    }
   ],
   "source": [
    "newtest.drop(['Survived'], axis=1,inplace=True)\n",
    "print(newtest.columns)"
   ]
  },
  {
   "cell_type": "code",
   "execution_count": 62,
   "metadata": {},
   "outputs": [
    {
     "name": "stderr",
     "output_type": "stream",
     "text": [
      "/anaconda3/lib/python3.6/site-packages/ipykernel_launcher.py:1: SettingWithCopyWarning: \n",
      "A value is trying to be set on a copy of a slice from a DataFrame.\n",
      "Try using .loc[row_indexer,col_indexer] = value instead\n",
      "\n",
      "See the caveats in the documentation: http://pandas.pydata.org/pandas-docs/stable/indexing.html#indexing-view-versus-copy\n",
      "  \"\"\"Entry point for launching an IPython kernel.\n"
     ]
    }
   ],
   "source": [
    "newtrain[\"Survived\"] = newtrain.Survived.astype(\"int\")"
   ]
  },
  {
   "cell_type": "code",
   "execution_count": 63,
   "metadata": {
    "scrolled": true
   },
   "outputs": [
    {
     "name": "stdout",
     "output_type": "stream",
     "text": [
      "Index(['Survived', 'Pclass', 'Sex', 'Age', 'Fare', 'Embarked', 'Cabin_Status',\n",
      "       'Titles', 'Family', 'Family_On_Board', 'Fare_Per_Person', 'titles'],\n",
      "      dtype='object')\n",
      "Index(['Pclass', 'Sex', 'Age', 'Fare', 'Embarked', 'Cabin_Status', 'Titles',\n",
      "       'Family', 'Family_On_Board', 'Fare_Per_Person', 'titles'],\n",
      "      dtype='object')\n"
     ]
    }
   ],
   "source": [
    "print(newtrain.columns)\n",
    "print(newtest.columns)"
   ]
  },
  {
   "cell_type": "code",
   "execution_count": 64,
   "metadata": {},
   "outputs": [],
   "source": [
    "newtrain.to_csv(\"TitanicTrain.csv\", index = False)\n",
    "newtest.to_csv(\"TitanicTest.csv\", index = False)"
   ]
  },
  {
   "cell_type": "code",
   "execution_count": 65,
   "metadata": {
    "scrolled": true
   },
   "outputs": [
    {
     "name": "stdout",
     "output_type": "stream",
     "text": [
      "/Users/mukul.singh\n"
     ]
    }
   ],
   "source": [
    "cd"
   ]
  },
  {
   "cell_type": "markdown",
   "metadata": {},
   "source": [
    "# Without considering Multicollinearity in Categorical Variables\n",
    "\n",
    "In a regression model, these values can be represented by dummy variables - variables containing values such as 1 or 0 representing the presence or absence of the categorical value.\n",
    "\n",
    "By including dummy variable in a regression model however, one should be careful of the Dummy Variable Trap. The Dummy Variable trap is a scenario in which the independent variables are multicollinear - a scenario in which two or more variables are highly correlated; in simple terms one variable can be predicted from the others.\n",
    "\n",
    "The solution to the dummy variable trap is to drop one of the categorical variables (or alternatively, drop the intercept constant) - if there are m number of categories, use m-1 in the model, the value left out can be thought of as the reference value and the fit values of the remaining categories represent the change from this reference.\n",
    "\n",
    "If the proportion of cases in the reference category is small, the indicator variables will necessarily have high VIFs, even if the categorical variable is not associated with other variables in the regression model.\n",
    "\n",
    "Suppose, for example, that a marital status variable has three categories: currently married, never married, and formerly married. You choose formerly married as the reference category, with indicator variables for the other two. What happens is that the correlation between those two indicators gets more negative as the fraction of people in the reference category gets smaller. For example, if 45 percent of people are never married, 45 percent are married, and 10 percent are formerly married, the VIFs for the married and never-married indicators will be at least 3.0.\n",
    "\n",
    "Is this a problem? Well, it does mean that p-values for the indicator variables may be high. But the overall test that all indicators have coefficients of zero is unaffected by the high VIFs. And nothing else in the regression is affected. If you really want to avoid the high VIFs, just choose a reference category with a larger fraction of the cases. That may be desirable in order to avoid situations where none of the individual indicators is statistically significant even though the overall set of indicators is significant. "
   ]
  },
  {
   "cell_type": "code",
   "execution_count": 68,
   "metadata": {},
   "outputs": [],
   "source": [
    "dummytrain = pd.get_dummies(newtrain)\n",
    "dummytest = pd.get_dummies(newtest)"
   ]
  },
  {
   "cell_type": "code",
   "execution_count": 69,
   "metadata": {},
   "outputs": [
    {
     "data": {
      "text/plain": [
       "(891, 53)"
      ]
     },
     "execution_count": 69,
     "metadata": {},
     "output_type": "execute_result"
    }
   ],
   "source": [
    "dummytrain.shape"
   ]
  },
  {
   "cell_type": "code",
   "execution_count": 678,
   "metadata": {},
   "outputs": [],
   "source": [
    "xtr = dummytrain.drop(\"Survived\", axis =1)\n",
    "ytr = dummytrain.Survived"
   ]
  },
  {
   "cell_type": "code",
   "execution_count": 679,
   "metadata": {},
   "outputs": [],
   "source": [
    "from sklearn.preprocessing import StandardScaler\n",
    "sc = StandardScaler()"
   ]
  },
  {
   "cell_type": "code",
   "execution_count": 681,
   "metadata": {},
   "outputs": [
    {
     "name": "stderr",
     "output_type": "stream",
     "text": [
      "/anaconda3/lib/python3.6/site-packages/sklearn/preprocessing/data.py:645: DataConversionWarning: Data with input dtype uint8, int64, float64 were all converted to float64 by StandardScaler.\n",
      "  return self.partial_fit(X, y)\n",
      "/anaconda3/lib/python3.6/site-packages/sklearn/base.py:464: DataConversionWarning: Data with input dtype uint8, int64, float64 were all converted to float64 by StandardScaler.\n",
      "  return self.fit(X, **fit_params).transform(X)\n"
     ]
    }
   ],
   "source": [
    "scaled_train = pd.DataFrame(sc.fit_transform(xtr), columns = xtr.columns)"
   ]
  },
  {
   "cell_type": "code",
   "execution_count": 682,
   "metadata": {},
   "outputs": [
    {
     "name": "stderr",
     "output_type": "stream",
     "text": [
      "/anaconda3/lib/python3.6/site-packages/ipykernel_launcher.py:1: DataConversionWarning: Data with input dtype uint8, int64, float64 were all converted to float64 by StandardScaler.\n",
      "  \"\"\"Entry point for launching an IPython kernel.\n"
     ]
    }
   ],
   "source": [
    "scaled_test = pd.DataFrame(sc.transform(dummytest), columns = dummytest.columns)"
   ]
  },
  {
   "cell_type": "code",
   "execution_count": 659,
   "metadata": {},
   "outputs": [],
   "source": [
    "from sklearn.tree import DecisionTreeClassifier\n",
    "dtree = DecisionTreeClassifier(criterion = \"entropy\")"
   ]
  },
  {
   "cell_type": "code",
   "execution_count": 660,
   "metadata": {},
   "outputs": [],
   "source": [
    "pred = dtree.fit(xtr,ytr).predict(dummytest)"
   ]
  },
  {
   "cell_type": "code",
   "execution_count": 661,
   "metadata": {},
   "outputs": [],
   "source": [
    "solution = pd.DataFrame({\"PassengerId\":test.PassengerId, \"Survived\": pred})\n",
    "solution.to_csv(\"DTREE NEW.csv\", index = False) # 0.74162"
   ]
  },
  {
   "cell_type": "code",
   "execution_count": 662,
   "metadata": {},
   "outputs": [
    {
     "name": "stdout",
     "output_type": "stream",
     "text": [
      "/Users/mukul.singh\n"
     ]
    }
   ],
   "source": [
    "cd"
   ]
  },
  {
   "cell_type": "code",
   "execution_count": 683,
   "metadata": {},
   "outputs": [],
   "source": [
    "from sklearn.ensemble import RandomForestClassifier\n",
    "rf = RandomForestClassifier(criterion=\"entropy\")"
   ]
  },
  {
   "cell_type": "code",
   "execution_count": 686,
   "metadata": {},
   "outputs": [],
   "source": [
    "pred = rf.fit(scaled_train,ytr).predict(scaled_test)"
   ]
  },
  {
   "cell_type": "code",
   "execution_count": 687,
   "metadata": {},
   "outputs": [],
   "source": [
    "solution = pd.DataFrame({\"PassengerId\":test.PassengerId, \"Survived\": pred})\n",
    "solution.to_csv(\"RF NEW.csv\", index = False) # 0.77990 | 0.76"
   ]
  },
  {
   "cell_type": "code",
   "execution_count": 691,
   "metadata": {
    "scrolled": false
   },
   "outputs": [
    {
     "data": {
      "text/plain": [
       "<matplotlib.axes._subplots.AxesSubplot at 0x12dcc1f98>"
      ]
     },
     "execution_count": 691,
     "metadata": {},
     "output_type": "execute_result"
    },
    {
     "data": {
      "image/png": "[encoded data removed]",
      "text/plain": [
       "<Figure size 432x288 with 1 Axes>"
      ]
     },
     "metadata": {
      "needs_background": "light"
     },
     "output_type": "display_data"
    }
   ],
   "source": [
    "pd.DataFrame(rf.feature_importances_, index = dummytest.columns, columns = [\"Features\"]).sort_values(by = \"Features\").plot(kind = \"barh\")"
   ]
  },
  {
   "cell_type": "code",
   "execution_count": 696,
   "metadata": {},
   "outputs": [],
   "source": [
    "params = {\"n_estimators\" :[50,100, 200, 500],\n",
    "         \"criterion\":[\"gini\", \"entropy\"],\n",
    "         \"max_depth\" : [2,4,5,6,7,8],\n",
    "         \"max_features\":[\"auto\", \"sqrt\", \"log2\"],\n",
    "         \"oob_score\":[True, False]}"
   ]
  },
  {
   "cell_type": "code",
   "execution_count": 699,
   "metadata": {},
   "outputs": [],
   "source": [
    "from sklearn.model_selection import GridSearchCV\n",
    "grid = GridSearchCV(estimator=rf, param_grid=params, cv = 5)"
   ]
  },
  {
   "cell_type": "code",
   "execution_count": 700,
   "metadata": {},
   "outputs": [],
   "source": [
    "model = grid.fit(scaled_train, ytr)"
   ]
  },
  {
   "cell_type": "code",
   "execution_count": 701,
   "metadata": {},
   "outputs": [
    {
     "name": "stdout",
     "output_type": "stream",
     "text": [
      "{'criterion': 'gini', 'max_depth': 8, 'max_features': 'auto', 'n_estimators': 100, 'oob_score': False}\n"
     ]
    }
   ],
   "source": [
    "print(grid.best_params_)"
   ]
  },
  {
   "cell_type": "code",
   "execution_count": 702,
   "metadata": {},
   "outputs": [],
   "source": [
    "rf = RandomForestClassifier(criterion='gini', max_depth=8, \n",
    "                            max_features='auto', n_estimators=100, \n",
    "                            oob_score=False)"
   ]
  },
  {
   "cell_type": "code",
   "execution_count": 703,
   "metadata": {},
   "outputs": [],
   "source": [
    "pred = rf.fit(scaled_train,ytr).predict(scaled_test)"
   ]
  },
  {
   "cell_type": "code",
   "execution_count": 704,
   "metadata": {},
   "outputs": [],
   "source": [
    "solution = pd.DataFrame({\"PassengerId\":test.PassengerId, \"Survived\": pred})\n",
    "solution.to_csv(\"RF NEW.csv\", index = False) # 0.78947"
   ]
  },
  {
   "cell_type": "code",
   "execution_count": 200,
   "metadata": {},
   "outputs": [],
   "source": [
    "from sklearn.neighbors import KNeighborsClassifier\n",
    "knn = KNeighborsClassifier()"
   ]
  },
  {
   "cell_type": "code",
   "execution_count": 201,
   "metadata": {},
   "outputs": [],
   "source": [
    "pred = knn.fit(xtr,ytr).predict(dummytest)\n",
    "solution = pd.DataFrame({\"PassengerId\":test.PassengerId, \"Survived\": pred})\n",
    "solution.to_csv(\"KNN Titanic Model.csv\", index = False) # 0.66985"
   ]
  },
  {
   "cell_type": "code",
   "execution_count": 706,
   "metadata": {},
   "outputs": [],
   "source": [
    "from sklearn.linear_model import LogisticRegression\n",
    "lg = LogisticRegression()"
   ]
  },
  {
   "cell_type": "code",
   "execution_count": 707,
   "metadata": {},
   "outputs": [
    {
     "name": "stderr",
     "output_type": "stream",
     "text": [
      "/anaconda3/lib/python3.6/site-packages/sklearn/linear_model/logistic.py:433: FutureWarning: Default solver will be changed to 'lbfgs' in 0.22. Specify a solver to silence this warning.\n",
      "  FutureWarning)\n"
     ]
    }
   ],
   "source": [
    "pred = lg.fit(xtr,ytr).predict(scaled_test)\n",
    "solution = pd.DataFrame({\"PassengerId\":test.PassengerId, \"Survived\": pred})\n",
    "solution.to_csv(\"Log Titanic Model.csv\", index = False) # 0.77033 | 0.71770"
   ]
  },
  {
   "cell_type": "code",
   "execution_count": 708,
   "metadata": {},
   "outputs": [],
   "source": [
    "from sklearn.ensemble import GradientBoostingClassifier\n",
    "gbm = GradientBoostingClassifier()"
   ]
  },
  {
   "cell_type": "code",
   "execution_count": 709,
   "metadata": {},
   "outputs": [],
   "source": [
    "pred = gbm.fit(scaled_train,ytr).predict(scaled_test)\n",
    "solution = pd.DataFrame({\"PassengerId\":test.PassengerId, \"Survived\": pred})\n",
    "solution.to_csv(\"GBM Titanic Model.csv\", index = False) # 0.77511 |0.755"
   ]
  },
  {
   "cell_type": "code",
   "execution_count": 732,
   "metadata": {},
   "outputs": [],
   "source": [
    "from sklearn.ensemble import VotingClassifier\n",
    "vc = VotingClassifier(estimators=[(\"RF\", rf),(\"LG\", lg), (\"GBM\", gbm), (\"bagg\", bag)])"
   ]
  },
  {
   "cell_type": "code",
   "execution_count": 713,
   "metadata": {},
   "outputs": [
    {
     "name": "stderr",
     "output_type": "stream",
     "text": [
      "/anaconda3/lib/python3.6/site-packages/sklearn/linear_model/logistic.py:433: FutureWarning: Default solver will be changed to 'lbfgs' in 0.22. Specify a solver to silence this warning.\n",
      "  FutureWarning)\n"
     ]
    }
   ],
   "source": [
    "pred = vc.fit(scaled_train,ytr).predict(scaled_test)\n",
    "solution = pd.DataFrame({\"PassengerId\":test.PassengerId, \"Survived\": pred})\n",
    "solution.to_csv(\"VC Titanic Model.csv\", index = False) # 0.77511 | 0.78468"
   ]
  },
  {
   "cell_type": "code",
   "execution_count": 733,
   "metadata": {},
   "outputs": [
    {
     "name": "stderr",
     "output_type": "stream",
     "text": [
      "/anaconda3/lib/python3.6/site-packages/sklearn/linear_model/logistic.py:433: FutureWarning: Default solver will be changed to 'lbfgs' in 0.22. Specify a solver to silence this warning.\n",
      "  FutureWarning)\n"
     ]
    }
   ],
   "source": [
    "pred_vc = vc.fit(newdata, dummytrain.Survived).predict(newtest)\n",
    "solution = pd.DataFrame({\"PassengerId\":test.PassengerId, \"Survived\": pred_vc})\n",
    "solution.to_csv(\"VC Selective Feature Model.csv\", index = False) # 0.78468"
   ]
  },
  {
   "cell_type": "code",
   "execution_count": 718,
   "metadata": {},
   "outputs": [
    {
     "data": {
      "image/png": "[encoded data removed]",
      "text/plain": [
       "<Figure size 432x288 with 1 Axes>"
      ]
     },
     "metadata": {
      "needs_background": "light"
     },
     "output_type": "display_data"
    }
   ],
   "source": [
    "pd.DataFrame(rf.feature_importances_, index = dummytest.columns, columns = [\"Features\"]).sort_values(by=\"Features\").plot(kind = \"barh\")\n",
    "plt.show()"
   ]
  },
  {
   "cell_type": "code",
   "execution_count": 722,
   "metadata": {},
   "outputs": [
    {
     "data": {
      "text/plain": [
       "Index(['Titles_Mr', 'Sex_male', 'Fare_Per_Person', 'Sex_female', 'Fare', 'Age',\n",
       "       'Pclass', 'Family', 'Titles_Mrs', 'Titles_Miss',\n",
       "       'Cabin_Status_Cabin Allotted', 'Cabin_Status_No Cabin Found',\n",
       "       'Family_On_Board_Large Family', 'Titles_Master',\n",
       "       'Family_On_Board_Small Family', 'Embarked_S', 'Embarked_C',\n",
       "       'Titles_Others', 'Family_On_Board_Singles', 'Embarked_Q', 'Titles_Ms'],\n",
       "      dtype='object')"
      ]
     },
     "execution_count": 722,
     "metadata": {},
     "output_type": "execute_result"
    }
   ],
   "source": [
    "pd.DataFrame(rf.feature_importances_, index = dummytest.columns, columns = [\"Features\"]).sort_values(by = \"Features\", ascending = False).index"
   ]
  },
  {
   "cell_type": "code",
   "execution_count": 723,
   "metadata": {},
   "outputs": [],
   "source": [
    "newdata = scaled_train.loc[:, ['Titles_Mr', 'Sex_male', 'Fare_Per_Person', 'Sex_female', 'Fare', 'Age',\n",
    "       'Pclass', 'Family', 'Titles_Mrs', 'Titles_Miss']]"
   ]
  },
  {
   "cell_type": "code",
   "execution_count": 724,
   "metadata": {},
   "outputs": [],
   "source": [
    "newtest = scaled_test.loc[:, ['Titles_Mr', 'Sex_male', 'Fare_Per_Person', 'Sex_female', 'Fare', 'Age',\n",
    "       'Pclass', 'Family', 'Titles_Mrs', 'Titles_Miss']]"
   ]
  },
  {
   "cell_type": "code",
   "execution_count": 725,
   "metadata": {},
   "outputs": [],
   "source": [
    "pred1 = rf.fit(newdata, dummytrain.Survived).predict(newtest)"
   ]
  },
  {
   "cell_type": "code",
   "execution_count": 726,
   "metadata": {},
   "outputs": [],
   "source": [
    "solution = pd.DataFrame({\"PassengerId\":test.PassengerId, \"Survived\": pred1})\n",
    "solution.to_csv(\"RF1 Model.csv\", index = False) # 0.77990"
   ]
  },
  {
   "cell_type": "code",
   "execution_count": 727,
   "metadata": {},
   "outputs": [],
   "source": [
    "# GBM Model\n",
    "pred_gbm = gbm.fit(newdata, dummytrain.Survived).predict(newtest)\n",
    "solution = pd.DataFrame({\"PassengerId\":test.PassengerId, \"Survived\": pred_gbm})\n",
    "solution.to_csv(\"GBM Selective Feature Model.csv\", index = False) # 0.77033"
   ]
  },
  {
   "cell_type": "code",
   "execution_count": 729,
   "metadata": {
    "scrolled": true
   },
   "outputs": [
    {
     "data": {
      "image/png": "[encoded data removed]",
      "text/plain": [
       "<Figure size 432x288 with 1 Axes>"
      ]
     },
     "metadata": {
      "needs_background": "light"
     },
     "output_type": "display_data"
    }
   ],
   "source": [
    "pd.DataFrame(gbm.feature_importances_, index = newtest.columns, columns = [\"Features\"]).sort_values(by=\"Features\").plot(kind = \"barh\")\n",
    "plt.show()"
   ]
  },
  {
   "cell_type": "code",
   "execution_count": 730,
   "metadata": {},
   "outputs": [],
   "source": [
    "from sklearn.ensemble import BaggingClassifier\n",
    "bag = BaggingClassifier()"
   ]
  },
  {
   "cell_type": "code",
   "execution_count": 731,
   "metadata": {},
   "outputs": [],
   "source": [
    "pred_bag = bag.fit(newdata, dummytrain.Survived).predict(newtest)\n",
    "solution = pd.DataFrame({\"PassengerId\":test.PassengerId, \"Survived\": pred_bag})\n",
    "solution.to_csv(\"BAGG Selective Feature Model.csv\", index = False) # 0.73684"
   ]
  },
  {
   "cell_type": "code",
   "execution_count": 239,
   "metadata": {},
   "outputs": [],
   "source": [
    "import scipy.stats as stats"
   ]
  },
  {
   "cell_type": "code",
   "execution_count": 251,
   "metadata": {},
   "outputs": [
    {
     "name": "stdout",
     "output_type": "stream",
     "text": [
      "0.9999999999837883\n"
     ]
    }
   ],
   "source": [
    "# H0: There exists no relaitonship between the Survived and PClass\n",
    "chi_sq_Stat, p_value, deg_freedom, exp_freq = stats.chi2_contingency([dummytrain.Pclass, dummytrain.Survived])\n",
    "print(p_value)"
   ]
  },
  {
   "cell_type": "code",
   "execution_count": 305,
   "metadata": {},
   "outputs": [],
   "source": [
    "from sklearn.preprocessing import StandardScaler\n",
    "from sklearn.model_selection import train_test_split\n",
    "sc = StandardScaler()"
   ]
  },
  {
   "cell_type": "code",
   "execution_count": 306,
   "metadata": {},
   "outputs": [],
   "source": [
    "xtrain,xtest,ytrain,ytest = train_test_split(dummytrain.drop(\"Survived\", axis = 1),\n",
    "                                            dummytrain.Survived, test_size = 0.20, random_state = 1)"
   ]
  },
  {
   "cell_type": "code",
   "execution_count": 307,
   "metadata": {},
   "outputs": [
    {
     "name": "stderr",
     "output_type": "stream",
     "text": [
      "/anaconda3/lib/python3.6/site-packages/sklearn/preprocessing/data.py:645: DataConversionWarning: Data with input dtype uint8, int64, float64 were all converted to float64 by StandardScaler.\n",
      "  return self.partial_fit(X, y)\n",
      "/anaconda3/lib/python3.6/site-packages/sklearn/base.py:464: DataConversionWarning: Data with input dtype uint8, int64, float64 were all converted to float64 by StandardScaler.\n",
      "  return self.fit(X, **fit_params).transform(X)\n"
     ]
    }
   ],
   "source": [
    "xtrain_scaled = pd.DataFrame(sc.fit_transform(xtrain), columns = xtrain.columns)"
   ]
  },
  {
   "cell_type": "code",
   "execution_count": 310,
   "metadata": {},
   "outputs": [
    {
     "name": "stderr",
     "output_type": "stream",
     "text": [
      "/anaconda3/lib/python3.6/site-packages/ipykernel_launcher.py:1: DataConversionWarning: Data with input dtype uint8, int64, float64 were all converted to float64 by StandardScaler.\n",
      "  \"\"\"Entry point for launching an IPython kernel.\n"
     ]
    }
   ],
   "source": [
    "xtest_scaled = pd.DataFrame(sc.transform(xtest), columns = xtest.columns)"
   ]
  },
  {
   "cell_type": "code",
   "execution_count": 311,
   "metadata": {},
   "outputs": [],
   "source": [
    "rf = RandomForestClassifier(criterion = 'gini', \n",
    "                            max_depth=6, \n",
    "                            max_features='auto')"
   ]
  },
  {
   "cell_type": "code",
   "execution_count": 312,
   "metadata": {},
   "outputs": [
    {
     "name": "stderr",
     "output_type": "stream",
     "text": [
      "/anaconda3/lib/python3.6/site-packages/sklearn/ensemble/forest.py:246: FutureWarning: The default value of n_estimators will change from 10 in version 0.20 to 100 in 0.22.\n",
      "  \"10 in version 0.20 to 100 in 0.22.\", FutureWarning)\n"
     ]
    },
    {
     "data": {
      "text/plain": [
       "RandomForestClassifier(bootstrap=True, class_weight=None, criterion='gini',\n",
       "            max_depth=6, max_features='auto', max_leaf_nodes=None,\n",
       "            min_impurity_decrease=0.0, min_impurity_split=None,\n",
       "            min_samples_leaf=1, min_samples_split=2,\n",
       "            min_weight_fraction_leaf=0.0, n_estimators=10, n_jobs=None,\n",
       "            oob_score=False, random_state=None, verbose=0,\n",
       "            warm_start=False)"
      ]
     },
     "execution_count": 312,
     "metadata": {},
     "output_type": "execute_result"
    }
   ],
   "source": [
    "rf.fit(xtrain,ytrain)"
   ]
  },
  {
   "cell_type": "code",
   "execution_count": 314,
   "metadata": {},
   "outputs": [],
   "source": [
    "pred = rf.predict(xtest)"
   ]
  },
  {
   "cell_type": "code",
   "execution_count": 315,
   "metadata": {},
   "outputs": [],
   "source": [
    "from sklearn.metrics import accuracy_score, confusion_matrix, classification_report, cohen_kappa_score"
   ]
  },
  {
   "cell_type": "code",
   "execution_count": 316,
   "metadata": {},
   "outputs": [
    {
     "data": {
      "text/plain": [
       "0.7932960893854749"
      ]
     },
     "execution_count": 316,
     "metadata": {},
     "output_type": "execute_result"
    }
   ],
   "source": [
    "accuracy_score(ytest, pred)"
   ]
  },
  {
   "cell_type": "code",
   "execution_count": 328,
   "metadata": {},
   "outputs": [
    {
     "data": {
      "image/png": "[encoded data removed]",
      "text/plain": [
       "<Figure size 432x288 with 2 Axes>"
      ]
     },
     "metadata": {
      "needs_background": "light"
     },
     "output_type": "display_data"
    }
   ],
   "source": [
    "sns.heatmap(confusion_matrix(ytest, pred), annot = True, cmap = \"YlGnBu\")\n",
    "plt.title(\"Confusion Matrix\")\n",
    "plt.xlabel(\"Predicted Values\")\n",
    "plt.ylabel(\"Actual Values\")\n",
    "plt.show()"
   ]
  },
  {
   "cell_type": "markdown",
   "metadata": {},
   "source": [
    "# About Confusion Matrix\n",
    "\n",
    "1. A False Positive (type I error) — when you reject a true null hypothesis. For e.g. Null Hypothesis is that In Titanic, Jack Did Not Survive whereas the we assume that Jack Survived. This is False Positive. Another Example is that we know that Superheros don't exist in real world but we assume that they exist while watching movies like Spiderman, Superman etc. In Simple words, Assuming something when it is actually not.\n",
    "\n",
    "\n",
    "2. A False Negative (type II error) — when you accept a false null hypothesis - Someone is telling a Lie and You Accept the Lie. It means you really did some mischief and you say that you did not.\n",
    "\n",
    "\n",
    "3. Precision - Precision is the ratio of correctly predicted positive observations to the total predicted positive observations. The question that this metric answer is of all passengers that labeled as survived, how many actually survived? High precision relates to the low false positive rate. We have got 0.788 precision which is pretty good.\n",
    "\n",
    "###### Precision = TP/TP+FP\n",
    "\n",
    "\n",
    "4. Recall (Sensitivity) - Recall is the ratio of correctly predicted positive observations to the all observations in actual class - yes. The question recall answers is: Of all the passengers that truly survived, how many did we label? We have got recall of 0.631 which is good for this model as it’s above 0.5.\n",
    "\n",
    "###### Recall = TP/TP+FN\n",
    "\n",
    "5. F1 Score is the weighted average of Precision and Recall. Therefore, this score takes both false positives and false negatives into account. Intuitively it is not as easy to understand as accuracy, but F1 is usually more useful than accuracy, especially if you have an uneven class distribution. Accuracy works best if false positives and false negatives have similar cost. If the cost of false positives and false negatives are very different, it’s better to look at both Precision and Recall. In our case, F1 score is 0.701.\n",
    "\n",
    "###### F1 Score = 2*(Recall * Precision) / (Recall + Precision)"
   ]
  },
  {
   "cell_type": "code",
   "execution_count": 338,
   "metadata": {},
   "outputs": [
    {
     "name": "stdout",
     "output_type": "stream",
     "text": [
      "The Precision of 0 is 0.78\n",
      "The Precision of 1 is 0.83\n"
     ]
    }
   ],
   "source": [
    "# precision is TP/(TP+FP)\n",
    "print(\"The Precision of 0 is {}\".format(round(97/(97+28),2))) # Precision of 0\n",
    "\n",
    "# Precision of 1\n",
    "print(\"The Precision of 1 is {}\".format(round(45/(45+9),2)))"
   ]
  },
  {
   "cell_type": "code",
   "execution_count": 348,
   "metadata": {},
   "outputs": [
    {
     "name": "stdout",
     "output_type": "stream",
     "text": [
      "The Recall of 0 is 0.92\n",
      "The Recall of 1 is 0.62\n",
      "0.725\n"
     ]
    }
   ],
   "source": [
    "print(\"The Recall of 0 is\", round(97/(97+9),2))\n",
    "print(\"The Recall of 1 is\", round(45/(45+28),2))\n",
    "\n",
    "# F1 Score = 2*(Recall * Precision) / (Recall + Precision)"
   ]
  },
  {
   "cell_type": "code",
   "execution_count": 319,
   "metadata": {},
   "outputs": [
    {
     "name": "stdout",
     "output_type": "stream",
     "text": [
      "              precision    recall  f1-score   support\n",
      "\n",
      "           0       0.78      0.92      0.84       106\n",
      "           1       0.83      0.62      0.71        73\n",
      "\n",
      "   micro avg       0.79      0.79      0.79       179\n",
      "   macro avg       0.80      0.77      0.77       179\n",
      "weighted avg       0.80      0.79      0.79       179\n",
      "\n"
     ]
    }
   ],
   "source": [
    "print(classification_report(ytest, pred))"
   ]
  },
  {
   "cell_type": "code",
   "execution_count": 320,
   "metadata": {},
   "outputs": [
    {
     "data": {
      "text/plain": [
       "0.5539766987675938"
      ]
     },
     "execution_count": 320,
     "metadata": {},
     "output_type": "execute_result"
    }
   ],
   "source": [
    "cohen_kappa_score(ytest, pred)"
   ]
  },
  {
   "cell_type": "markdown",
   "metadata": {},
   "source": [
    "### Using K Fold Cross Validation Set\n",
    "\n",
    "from sklearn.model_selection import KFold \n",
    "kf = RepeatedKFold(n_splits=5, n_repeats=10, random_state=None) \n",
    "\n",
    "\n",
    "for train_index, test_index in kf.split(X):\n",
    "      print(\"Train:\", train_index, \"Validation:\",test_index)\n",
    "      X_train, X_test = X[train_index], X[test_index] \n",
    "      y_train, y_test = y[train_index], y[test_index]"
   ]
  },
  {
   "cell_type": "code",
   "execution_count": 750,
   "metadata": {},
   "outputs": [
    {
     "ename": "KeyError",
     "evalue": "\"None of [Int64Index([  0,   3,   4,   5,   6,   7,   8,   9,  10,  11,\\n            ...\\n            880, 881, 882, 883, 884, 885, 886, 887, 888, 889],\\n           dtype='int64', length=712)] are in the [columns]\"",
     "output_type": "error",
     "traceback": [
      "\u001b[0;31m---------------------------------------------------------------------------\u001b[0m",
      "\u001b[0;31mKeyError\u001b[0m                                  Traceback (most recent call last)",
      "\u001b[0;32m<ipython-input-750-791e21204451>\u001b[0m in \u001b[0;36m<module>\u001b[0;34m\u001b[0m\n\u001b[1;32m      4\u001b[0m \u001b[0;32mfor\u001b[0m \u001b[0mtrain_index\u001b[0m\u001b[0;34m,\u001b[0m \u001b[0mtest_index\u001b[0m \u001b[0;32min\u001b[0m \u001b[0mkf\u001b[0m\u001b[0;34m.\u001b[0m\u001b[0msplit\u001b[0m\u001b[0;34m(\u001b[0m\u001b[0mscaled_train\u001b[0m\u001b[0;34m)\u001b[0m\u001b[0;34m:\u001b[0m\u001b[0;34m\u001b[0m\u001b[0;34m\u001b[0m\u001b[0m\n\u001b[1;32m      5\u001b[0m     \u001b[0;31m#print(\"Train:\", train_index, \"Validation:\",test_index)\u001b[0m\u001b[0;34m\u001b[0m\u001b[0;34m\u001b[0m\u001b[0;34m\u001b[0m\u001b[0m\n\u001b[0;32m----> 6\u001b[0;31m     \u001b[0mX_train\u001b[0m\u001b[0;34m,\u001b[0m \u001b[0mX_test\u001b[0m \u001b[0;34m=\u001b[0m \u001b[0mscaled_train\u001b[0m\u001b[0;34m[\u001b[0m\u001b[0mtrain_index\u001b[0m\u001b[0;34m]\u001b[0m\u001b[0;34m,\u001b[0m \u001b[0mscaled_train\u001b[0m\u001b[0;34m[\u001b[0m\u001b[0mtest_index\u001b[0m\u001b[0;34m]\u001b[0m\u001b[0;34m\u001b[0m\u001b[0;34m\u001b[0m\u001b[0m\n\u001b[0m\u001b[1;32m      7\u001b[0m     \u001b[0my_train\u001b[0m\u001b[0;34m,\u001b[0m \u001b[0my_test\u001b[0m \u001b[0;34m=\u001b[0m \u001b[0mytr\u001b[0m\u001b[0;34m[\u001b[0m\u001b[0mtrain_index\u001b[0m\u001b[0;34m]\u001b[0m\u001b[0;34m,\u001b[0m \u001b[0mytr\u001b[0m\u001b[0;34m[\u001b[0m\u001b[0mtest_index\u001b[0m\u001b[0;34m]\u001b[0m\u001b[0;34m\u001b[0m\u001b[0;34m\u001b[0m\u001b[0m\n",
      "\u001b[0;32m/anaconda3/lib/python3.6/site-packages/pandas/core/frame.py\u001b[0m in \u001b[0;36m__getitem__\u001b[0;34m(self, key)\u001b[0m\n\u001b[1;32m   2932\u001b[0m                 \u001b[0mkey\u001b[0m \u001b[0;34m=\u001b[0m \u001b[0mlist\u001b[0m\u001b[0;34m(\u001b[0m\u001b[0mkey\u001b[0m\u001b[0;34m)\u001b[0m\u001b[0;34m\u001b[0m\u001b[0;34m\u001b[0m\u001b[0m\n\u001b[1;32m   2933\u001b[0m             indexer = self.loc._convert_to_indexer(key, axis=1,\n\u001b[0;32m-> 2934\u001b[0;31m                                                    raise_missing=True)\n\u001b[0m\u001b[1;32m   2935\u001b[0m \u001b[0;34m\u001b[0m\u001b[0m\n\u001b[1;32m   2936\u001b[0m         \u001b[0;31m# take() does not accept boolean indexers\u001b[0m\u001b[0;34m\u001b[0m\u001b[0;34m\u001b[0m\u001b[0;34m\u001b[0m\u001b[0m\n",
      "\u001b[0;32m/anaconda3/lib/python3.6/site-packages/pandas/core/indexing.py\u001b[0m in \u001b[0;36m_convert_to_indexer\u001b[0;34m(self, obj, axis, is_setter, raise_missing)\u001b[0m\n\u001b[1;32m   1352\u001b[0m                 kwargs = {'raise_missing': True if is_setter else\n\u001b[1;32m   1353\u001b[0m                           raise_missing}\n\u001b[0;32m-> 1354\u001b[0;31m                 \u001b[0;32mreturn\u001b[0m \u001b[0mself\u001b[0m\u001b[0;34m.\u001b[0m\u001b[0m_get_listlike_indexer\u001b[0m\u001b[0;34m(\u001b[0m\u001b[0mobj\u001b[0m\u001b[0;34m,\u001b[0m \u001b[0maxis\u001b[0m\u001b[0;34m,\u001b[0m \u001b[0;34m**\u001b[0m\u001b[0mkwargs\u001b[0m\u001b[0;34m)\u001b[0m\u001b[0;34m[\u001b[0m\u001b[0;36m1\u001b[0m\u001b[0;34m]\u001b[0m\u001b[0;34m\u001b[0m\u001b[0;34m\u001b[0m\u001b[0m\n\u001b[0m\u001b[1;32m   1355\u001b[0m         \u001b[0;32melse\u001b[0m\u001b[0;34m:\u001b[0m\u001b[0;34m\u001b[0m\u001b[0;34m\u001b[0m\u001b[0m\n\u001b[1;32m   1356\u001b[0m             \u001b[0;32mtry\u001b[0m\u001b[0;34m:\u001b[0m\u001b[0;34m\u001b[0m\u001b[0;34m\u001b[0m\u001b[0m\n",
      "\u001b[0;32m/anaconda3/lib/python3.6/site-packages/pandas/core/indexing.py\u001b[0m in \u001b[0;36m_get_listlike_indexer\u001b[0;34m(self, key, axis, raise_missing)\u001b[0m\n\u001b[1;32m   1159\u001b[0m         self._validate_read_indexer(keyarr, indexer,\n\u001b[1;32m   1160\u001b[0m                                     \u001b[0mo\u001b[0m\u001b[0;34m.\u001b[0m\u001b[0m_get_axis_number\u001b[0m\u001b[0;34m(\u001b[0m\u001b[0maxis\u001b[0m\u001b[0;34m)\u001b[0m\u001b[0;34m,\u001b[0m\u001b[0;34m\u001b[0m\u001b[0;34m\u001b[0m\u001b[0m\n\u001b[0;32m-> 1161\u001b[0;31m                                     raise_missing=raise_missing)\n\u001b[0m\u001b[1;32m   1162\u001b[0m         \u001b[0;32mreturn\u001b[0m \u001b[0mkeyarr\u001b[0m\u001b[0;34m,\u001b[0m \u001b[0mindexer\u001b[0m\u001b[0;34m\u001b[0m\u001b[0;34m\u001b[0m\u001b[0m\n\u001b[1;32m   1163\u001b[0m \u001b[0;34m\u001b[0m\u001b[0m\n",
      "\u001b[0;32m/anaconda3/lib/python3.6/site-packages/pandas/core/indexing.py\u001b[0m in \u001b[0;36m_validate_read_indexer\u001b[0;34m(self, key, indexer, axis, raise_missing)\u001b[0m\n\u001b[1;32m   1244\u001b[0m                 raise KeyError(\n\u001b[1;32m   1245\u001b[0m                     u\"None of [{key}] are in the [{axis}]\".format(\n\u001b[0;32m-> 1246\u001b[0;31m                         key=key, axis=self.obj._get_axis_name(axis)))\n\u001b[0m\u001b[1;32m   1247\u001b[0m \u001b[0;34m\u001b[0m\u001b[0m\n\u001b[1;32m   1248\u001b[0m             \u001b[0;31m# We (temporarily) allow for some missing keys with .loc, except in\u001b[0m\u001b[0;34m\u001b[0m\u001b[0;34m\u001b[0m\u001b[0;34m\u001b[0m\u001b[0m\n",
      "\u001b[0;31mKeyError\u001b[0m: \"None of [Int64Index([  0,   3,   4,   5,   6,   7,   8,   9,  10,  11,\\n            ...\\n            880, 881, 882, 883, 884, 885, 886, 887, 888, 889],\\n           dtype='int64', length=712)] are in the [columns]\""
     ]
    }
   ],
   "source": [
    "from sklearn.model_selection import RepeatedKFold \n",
    "kf = RepeatedKFold(n_splits=5, n_repeats=10, random_state=None) \n",
    "\n",
    "for train_index, test_index in kf.split(scaled_train):\n",
    "    #print(\"Train:\", train_index, \"Validation:\",test_index)\n",
    "    X_train, X_test = scaled_train[train_index], scaled_train[test_index] \n",
    "    y_train, y_test = ytr[train_index], ytr[test_index]"
   ]
  },
  {
   "cell_type": "code",
   "execution_count": 752,
   "metadata": {},
   "outputs": [],
   "source": [
    "from sklearn.model_selection import KFold, cross_val_score, cross_val_predict"
   ]
  },
  {
   "cell_type": "code",
   "execution_count": 759,
   "metadata": {},
   "outputs": [
    {
     "data": {
      "text/plain": [
       "0.8258888888888889"
      ]
     },
     "execution_count": 759,
     "metadata": {},
     "output_type": "execute_result"
    }
   ],
   "source": [
    "#rf = RandomForestClassifier(criterion='gini', max_depth=8, max_features='auto', n_estimators=100, oob_score=False)\n",
    "#np.mean(cross_val_score(rf, scaled_train, ytr, cv = 100)) # cv = 50 - 0.8317483660130719, 100 - 0.83552\n",
    "np.mean(cross_val_score(gbm, scaled_train, ytr, cv = 100)) # cv: 100 - 0.82588"
   ]
  },
  {
   "cell_type": "markdown",
   "metadata": {},
   "source": [
    "### Tune GBM and Try on Whole Dataset"
   ]
  },
  {
   "cell_type": "code",
   "execution_count": 760,
   "metadata": {},
   "outputs": [],
   "source": [
    "params = {\"loss\":[\"deviance\", \"exponential\"],\n",
    "         \"learning_rate\":[0.1, 0.5, 0.9, 1],\n",
    "         \"n_estimators\":[100, 200, 300, 500],\n",
    "         \"max_depth\":[2,4,5,6,7,8],\n",
    "         \"max_features\":[\"auto\", \"sqrt\", \"log2\"]}"
   ]
  },
  {
   "cell_type": "code",
   "execution_count": 761,
   "metadata": {},
   "outputs": [],
   "source": [
    "grid = GridSearchCV(estimator=gbm, param_grid=params, cv = 10)"
   ]
  },
  {
   "cell_type": "code",
   "execution_count": 762,
   "metadata": {},
   "outputs": [
    {
     "name": "stdout",
     "output_type": "stream",
     "text": [
      "{'learning_rate': 0.1, 'loss': 'exponential', 'max_depth': 2, 'max_features': 'auto', 'n_estimators': 300}\n"
     ]
    }
   ],
   "source": [
    "grid.fit(scaled_train, ytr)\n",
    "print(grid.best_params_)"
   ]
  },
  {
   "cell_type": "code",
   "execution_count": 765,
   "metadata": {},
   "outputs": [],
   "source": [
    "gbm = GradientBoostingClassifier(learning_rate=0.1, loss='exponential', \n",
    "                                 max_depth=2, max_features='auto', n_estimators=100)"
   ]
  },
  {
   "cell_type": "code",
   "execution_count": 766,
   "metadata": {},
   "outputs": [],
   "source": [
    "model_gbmfit = gbm.fit(scaled_train,ytr).predict(scaled_test)\n",
    "solution = pd.DataFrame({\"PassengerId\":test.PassengerId, \"Survived\": model_gbmfit})\n",
    "solution.to_csv(\"GBM Tuned.csv\", index = False) # 0.7655 on 300 Trees, 0.77990 for 100 Trees"
   ]
  },
  {
   "cell_type": "markdown",
   "metadata": {},
   "source": [
    "### Voting Classifier on Tuned RF and GBM"
   ]
  },
  {
   "cell_type": "code",
   "execution_count": 802,
   "metadata": {},
   "outputs": [],
   "source": [
    "vc = VotingClassifier(estimators=[(\"RF\", rf),(\"GBM\", gbm), (\"xgb\", model)])"
   ]
  },
  {
   "cell_type": "code",
   "execution_count": 804,
   "metadata": {},
   "outputs": [],
   "source": [
    "model_vcfit = vc.fit(scaled_train,ytr).predict(scaled_test)\n",
    "solution = pd.DataFrame({\"PassengerId\":test.PassengerId, \"Survived\": model_vcfit})\n",
    "solution.to_csv(\"VC Tuned.csv\", index = False) # 0.79425"
   ]
  },
  {
   "cell_type": "markdown",
   "metadata": {},
   "source": [
    "### Adaboost - Grid Search"
   ]
  },
  {
   "cell_type": "code",
   "execution_count": 770,
   "metadata": {},
   "outputs": [],
   "source": [
    "# Finding the Parameters of Adaboost\n",
    "boostparam={\n",
    "    \"base_estimator\":[rf],\n",
    "    \"n_estimators\":[50,75,100],\n",
    "    \"learning_rate\":[1,2,3,4,5],\n",
    "    \"algorithm\":[\"SAMME\", \"SAMME.R\"],\n",
    "    \"random_state\" : [123]\n",
    "}"
   ]
  },
  {
   "cell_type": "code",
   "execution_count": 772,
   "metadata": {},
   "outputs": [],
   "source": [
    "from sklearn.ensemble import AdaBoostClassifier\n",
    "ada = AdaBoostClassifier()\n",
    "grid = GridSearchCV(estimator = ada, param_grid=boostparam, cv = 10)"
   ]
  },
  {
   "cell_type": "code",
   "execution_count": 798,
   "metadata": {},
   "outputs": [],
   "source": [
    "from xgboost.sklearn import XGBClassifier\n",
    "model = XGBClassifier(learning_rate=0.001,n_estimators=2500,\n",
    "                                max_depth=5, min_child_weight=0,\n",
    "                                gamma=0, subsample=0.7,\n",
    "                                colsample_bytree=0.7,\n",
    "                                scale_pos_weight=1, seed=27,\n",
    "                                reg_alpha=0.00006)"
   ]
  },
  {
   "cell_type": "code",
   "execution_count": 799,
   "metadata": {},
   "outputs": [],
   "source": [
    "model_XGBfit = model.fit(scaled_train,ytr).predict(scaled_test)\n",
    "solution = pd.DataFrame({\"PassengerId\":test.PassengerId, \"Survived\": model_XGBfit})\n",
    "solution.to_csv(\"XGB Tuned.csv\", index = False) #0.79904"
   ]
  },
  {
   "cell_type": "code",
   "execution_count": 810,
   "metadata": {},
   "outputs": [
    {
     "data": {
      "text/plain": [
       "0.8387996618765848"
      ]
     },
     "execution_count": 810,
     "metadata": {},
     "output_type": "execute_result"
    }
   ],
   "source": [
    "np.mean(cross_val_score(model, scaled_train, ytr, cv = 65))"
   ]
  },
  {
   "cell_type": "code",
   "execution_count": 811,
   "metadata": {},
   "outputs": [],
   "source": [
    "model_XGBfit = model.predict(scaled_test)\n",
    "solution = pd.DataFrame({\"PassengerId\":test.PassengerId, \"Survived\": model_XGBfit})\n",
    "solution.to_csv(\"XGB Tuned.csv\", index = False) #0.79904"
   ]
  },
  {
   "cell_type": "code",
   "execution_count": 813,
   "metadata": {},
   "outputs": [],
   "source": [
    "params = {\"learning_rate\":[0.1, 0.01, 0.001],\"n_estimators\":[1000, 500, 2000, 2500, 2800, 3000],\n",
    "                                \"max_depth\":[3,4,5,6], \"min_child_weight\":[0,1]}"
   ]
  },
  {
   "cell_type": "code",
   "execution_count": 814,
   "metadata": {},
   "outputs": [],
   "source": [
    "grid = GridSearchCV(estimator=model, param_grid=params, cv = 10)"
   ]
  },
  {
   "cell_type": "code",
   "execution_count": 815,
   "metadata": {},
   "outputs": [
    {
     "data": {
      "text/plain": [
       "GridSearchCV(cv=10, error_score='raise-deprecating',\n",
       "       estimator=XGBClassifier(base_score=0.5, booster='gbtree', colsample_bylevel=1,\n",
       "       colsample_bytree=0.7, gamma=0, learning_rate=0.001,\n",
       "       max_delta_step=0, max_depth=5, min_child_weight=0, missing=None,\n",
       "       n_estimators=2500, n_jobs=1, nthread=None,\n",
       "       objective='binary:logistic', random_state=0, reg_alpha=6e-05,\n",
       "       reg_lambda=1, scale_pos_weight=1, seed=27, silent=True,\n",
       "       subsample=0.7),\n",
       "       fit_params=None, iid='warn', n_jobs=None,\n",
       "       param_grid={'learning_rate': [0.1, 0.01, 0.001], 'n_estimators': [1000, 500, 2000, 2500, 2800, 3000], 'max_depth': [3, 4, 5, 6], 'min_child_weight': [0, 1]},\n",
       "       pre_dispatch='2*n_jobs', refit=True, return_train_score='warn',\n",
       "       scoring=None, verbose=0)"
      ]
     },
     "execution_count": 815,
     "metadata": {},
     "output_type": "execute_result"
    }
   ],
   "source": [
    "grid.fit(scaled_train, ytr)"
   ]
  },
  {
   "cell_type": "code",
   "execution_count": 816,
   "metadata": {},
   "outputs": [
    {
     "data": {
      "text/plain": [
       "{'learning_rate': 0.001,\n",
       " 'max_depth': 6,\n",
       " 'min_child_weight': 0,\n",
       " 'n_estimators': 1000}"
      ]
     },
     "execution_count": 816,
     "metadata": {},
     "output_type": "execute_result"
    }
   ],
   "source": [
    "grid.best_params_"
   ]
  },
  {
   "cell_type": "code",
   "execution_count": 844,
   "metadata": {},
   "outputs": [],
   "source": [
    "xgb = XGBClassifier(learning_rate=0.001,max_depth=8,n_estimators=1000, \n",
    "                    min_child_weight=0,gamma=0, subsample=0.7,colsample_bytree=0.7,scale_pos_weight=1, seed=2019,\n",
    "                                reg_alpha=0.00006)"
   ]
  },
  {
   "cell_type": "code",
   "execution_count": 845,
   "metadata": {},
   "outputs": [
    {
     "data": {
      "text/plain": [
       "0.841756327318125"
      ]
     },
     "execution_count": 845,
     "metadata": {},
     "output_type": "execute_result"
    }
   ],
   "source": [
    "np.mean(cross_val_score(xgb, scaled_train, ytr, cv = 10))"
   ]
  },
  {
   "cell_type": "code",
   "execution_count": 846,
   "metadata": {},
   "outputs": [],
   "source": [
    "model_XGBfit = xgb.fit(scaled_train,ytr).predict(scaled_test)\n",
    "solution = pd.DataFrame({\"PassengerId\":test.PassengerId, \"Survived\": model_XGBfit})\n",
    "solution.to_csv(\"XGB Tuned.csv\", index = False) #0.80382 when n estimators is 1000 and depth is 6"
   ]
  },
  {
   "cell_type": "markdown",
   "metadata": {},
   "source": [
    "### Considering Multicollinearity in cat variables.\n",
    "\n",
    "We will drop first cat col to deter from Multicollinearity"
   ]
  },
  {
   "cell_type": "code",
   "execution_count": 78,
   "metadata": {
    "scrolled": true
   },
   "outputs": [],
   "source": [
    "newtrain = newtrain.drop(\"titles\" , axis = 1)\n",
    "newtest = newtest.drop(\"titles\" , axis = 1)"
   ]
  },
  {
   "cell_type": "code",
   "execution_count": 79,
   "metadata": {},
   "outputs": [
    {
     "data": {
      "text/plain": [
       "Index(['Pclass', 'Sex', 'Age', 'Fare', 'Embarked', 'Cabin_Status', 'Titles',\n",
       "       'Family', 'Family_On_Board', 'Fare_Per_Person'],\n",
       "      dtype='object')"
      ]
     },
     "execution_count": 79,
     "metadata": {},
     "output_type": "execute_result"
    }
   ],
   "source": [
    "newtest.columns"
   ]
  },
  {
   "cell_type": "code",
   "execution_count": 80,
   "metadata": {},
   "outputs": [],
   "source": [
    "dummytrain = pd.get_dummies(newtrain,drop_first = True)\n",
    "dummytest = pd.get_dummies(newtest, drop_first=True)"
   ]
  },
  {
   "cell_type": "code",
   "execution_count": 81,
   "metadata": {},
   "outputs": [
    {
     "name": "stdout",
     "output_type": "stream",
     "text": [
      "(891, 17)\n",
      "(418, 16)\n"
     ]
    }
   ],
   "source": [
    "print(dummytrain.shape)\n",
    "print(dummytest.shape)"
   ]
  },
  {
   "cell_type": "code",
   "execution_count": 82,
   "metadata": {},
   "outputs": [
    {
     "name": "stderr",
     "output_type": "stream",
     "text": [
      "/anaconda3/lib/python3.6/site-packages/sklearn/preprocessing/data.py:645: DataConversionWarning: Data with input dtype uint8, int64, float64 were all converted to float64 by StandardScaler.\n",
      "  return self.partial_fit(X, y)\n",
      "/anaconda3/lib/python3.6/site-packages/sklearn/base.py:464: DataConversionWarning: Data with input dtype uint8, int64, float64 were all converted to float64 by StandardScaler.\n",
      "  return self.fit(X, **fit_params).transform(X)\n",
      "/anaconda3/lib/python3.6/site-packages/ipykernel_launcher.py:9: DataConversionWarning: Data with input dtype uint8, int64, float64 were all converted to float64 by StandardScaler.\n",
      "  if __name__ == '__main__':\n"
     ]
    }
   ],
   "source": [
    "xtr = dummytrain.drop(\"Survived\", axis =1)\n",
    "ytr = dummytrain.Survived\n",
    "\n",
    "from sklearn.preprocessing import StandardScaler\n",
    "sc = StandardScaler()\n",
    "\n",
    "scaled_train = pd.DataFrame(sc.fit_transform(xtr), columns = xtr.columns)\n",
    "\n",
    "scaled_test = pd.DataFrame(sc.transform(dummytest), columns = dummytest.columns)"
   ]
  },
  {
   "cell_type": "code",
   "execution_count": 83,
   "metadata": {},
   "outputs": [],
   "source": [
    "from xgboost.sklearn import XGBClassifier\n",
    "xgb = XGBClassifier(learning_rate=0.001,max_depth=8,n_estimators=1000, \n",
    "                    min_child_weight=0,gamma=0, subsample=0.7,colsample_bytree=0.7,scale_pos_weight=1, seed=2019,\n",
    "                                reg_alpha=0.00006)\n",
    "\n",
    "model_XGBfit = xgb.fit(scaled_train,ytr).predict(scaled_test)\n",
    "solution = pd.DataFrame({\"PassengerId\":test.PassengerId, \"Survived\": model_XGBfit})\n",
    "solution.to_csv(\"XGB Tuned.csv\", index = False) #0.79425"
   ]
  },
  {
   "cell_type": "code",
   "execution_count": 99,
   "metadata": {},
   "outputs": [],
   "source": [
    "# Importing Variance Inflation Factor\n",
    "from statsmodels.stats.outliers_influence import variance_inflation_factor\n",
    "vif = pd.DataFrame()\n",
    "vif[\"VIF Factor\"]= [variance_inflation_factor(xtr.values, i) for i in range(xtr.shape[1])]\n",
    "vif[\"features\"] = xtr.columns"
   ]
  },
  {
   "cell_type": "code",
   "execution_count": 106,
   "metadata": {},
   "outputs": [
    {
     "data": {
      "text/html": [
       "<div>\n",
       "<style scoped>\n",
       "    .dataframe tbody tr th:only-of-type {\n",
       "        vertical-align: middle;\n",
       "    }\n",
       "\n",
       "    .dataframe tbody tr th {\n",
       "        vertical-align: top;\n",
       "    }\n",
       "\n",
       "    .dataframe thead th {\n",
       "        text-align: right;\n",
       "    }\n",
       "</style>\n",
       "<table border=\"1\" class=\"dataframe\">\n",
       "  <thead>\n",
       "    <tr style=\"text-align: right;\">\n",
       "      <th></th>\n",
       "      <th>VIF Factor</th>\n",
       "      <th>features</th>\n",
       "    </tr>\n",
       "  </thead>\n",
       "  <tbody>\n",
       "    <tr>\n",
       "      <th>5</th>\n",
       "      <td>48.842873</td>\n",
       "      <td>Sex_male</td>\n",
       "    </tr>\n",
       "    <tr>\n",
       "      <th>14</th>\n",
       "      <td>37.314450</td>\n",
       "      <td>Family_On_Board_Singles</td>\n",
       "    </tr>\n",
       "    <tr>\n",
       "      <th>0</th>\n",
       "      <td>24.894882</td>\n",
       "      <td>Pclass</td>\n",
       "    </tr>\n",
       "    <tr>\n",
       "      <th>10</th>\n",
       "      <td>19.435436</td>\n",
       "      <td>Titles_Mr</td>\n",
       "    </tr>\n",
       "    <tr>\n",
       "      <th>9</th>\n",
       "      <td>16.329017</td>\n",
       "      <td>Titles_Miss</td>\n",
       "    </tr>\n",
       "    <tr>\n",
       "      <th>2</th>\n",
       "      <td>14.416153</td>\n",
       "      <td>Fare</td>\n",
       "    </tr>\n",
       "    <tr>\n",
       "      <th>4</th>\n",
       "      <td>12.562370</td>\n",
       "      <td>Fare_Per_Person</td>\n",
       "    </tr>\n",
       "    <tr>\n",
       "      <th>11</th>\n",
       "      <td>12.205314</td>\n",
       "      <td>Titles_Mrs</td>\n",
       "    </tr>\n",
       "    <tr>\n",
       "      <th>1</th>\n",
       "      <td>10.297883</td>\n",
       "      <td>Age</td>\n",
       "    </tr>\n",
       "    <tr>\n",
       "      <th>8</th>\n",
       "      <td>9.622599</td>\n",
       "      <td>Cabin_Status_No Cabin Found</td>\n",
       "    </tr>\n",
       "    <tr>\n",
       "      <th>3</th>\n",
       "      <td>9.073908</td>\n",
       "      <td>Family</td>\n",
       "    </tr>\n",
       "    <tr>\n",
       "      <th>7</th>\n",
       "      <td>5.423225</td>\n",
       "      <td>Embarked_S</td>\n",
       "    </tr>\n",
       "    <tr>\n",
       "      <th>15</th>\n",
       "      <td>3.991834</td>\n",
       "      <td>Family_On_Board_Small Family</td>\n",
       "    </tr>\n",
       "    <tr>\n",
       "      <th>13</th>\n",
       "      <td>1.968425</td>\n",
       "      <td>Titles_Others</td>\n",
       "    </tr>\n",
       "    <tr>\n",
       "      <th>6</th>\n",
       "      <td>1.677289</td>\n",
       "      <td>Embarked_Q</td>\n",
       "    </tr>\n",
       "    <tr>\n",
       "      <th>12</th>\n",
       "      <td>1.093642</td>\n",
       "      <td>Titles_Ms</td>\n",
       "    </tr>\n",
       "  </tbody>\n",
       "</table>\n",
       "</div>"
      ],
      "text/plain": [
       "    VIF Factor                      features\n",
       "5    48.842873                      Sex_male\n",
       "14   37.314450       Family_On_Board_Singles\n",
       "0    24.894882                        Pclass\n",
       "10   19.435436                     Titles_Mr\n",
       "9    16.329017                   Titles_Miss\n",
       "2    14.416153                          Fare\n",
       "4    12.562370               Fare_Per_Person\n",
       "11   12.205314                    Titles_Mrs\n",
       "1    10.297883                           Age\n",
       "8     9.622599   Cabin_Status_No Cabin Found\n",
       "3     9.073908                        Family\n",
       "7     5.423225                    Embarked_S\n",
       "15    3.991834  Family_On_Board_Small Family\n",
       "13    1.968425                 Titles_Others\n",
       "6     1.677289                    Embarked_Q\n",
       "12    1.093642                     Titles_Ms"
      ]
     },
     "execution_count": 106,
     "metadata": {},
     "output_type": "execute_result"
    }
   ],
   "source": [
    "vif.sort_values(by=\"VIF Factor\", ascending=False)"
   ]
  },
  {
   "cell_type": "code",
   "execution_count": 108,
   "metadata": {},
   "outputs": [],
   "source": [
    "newxtr = xtr.drop([\"Sex_male\", \"Family_On_Board_Singles\", \"Pclass\", \"Titles_Mr\",\n",
    "                  \"Titles_Miss\", \"Fare\"], axis = 1)"
   ]
  },
  {
   "cell_type": "code",
   "execution_count": 107,
   "metadata": {},
   "outputs": [],
   "source": [
    "newdummytest = dummytest.drop([\"Sex_male\", \"Family_On_Board_Singles\", \"Pclass\", \"Titles_Mr\",\n",
    "                  \"Titles_Miss\", \"Fare\"], axis = 1)"
   ]
  },
  {
   "cell_type": "code",
   "execution_count": 109,
   "metadata": {},
   "outputs": [
    {
     "name": "stderr",
     "output_type": "stream",
     "text": [
      "/anaconda3/lib/python3.6/site-packages/sklearn/preprocessing/data.py:645: DataConversionWarning: Data with input dtype uint8, int64, float64 were all converted to float64 by StandardScaler.\n",
      "  return self.partial_fit(X, y)\n",
      "/anaconda3/lib/python3.6/site-packages/sklearn/base.py:464: DataConversionWarning: Data with input dtype uint8, int64, float64 were all converted to float64 by StandardScaler.\n",
      "  return self.fit(X, **fit_params).transform(X)\n",
      "/anaconda3/lib/python3.6/site-packages/ipykernel_launcher.py:6: DataConversionWarning: Data with input dtype uint8, int64, float64 were all converted to float64 by StandardScaler.\n",
      "  \n"
     ]
    }
   ],
   "source": [
    "from sklearn.preprocessing import StandardScaler\n",
    "sc1 = StandardScaler()\n",
    "\n",
    "scaled_train = pd.DataFrame(sc1.fit_transform(newxtr), columns = newxtr.columns)\n",
    "\n",
    "scaled_test = pd.DataFrame(sc1.transform(newdummytest), columns = newdummytest.columns)"
   ]
  },
  {
   "cell_type": "code",
   "execution_count": 115,
   "metadata": {
    "scrolled": true
   },
   "outputs": [
    {
     "name": "stderr",
     "output_type": "stream",
     "text": [
      "/anaconda3/lib/python3.6/site-packages/sklearn/model_selection/_search.py:841: DeprecationWarning: The default of the `iid` parameter will change from True to False in version 0.22 and will be removed in 0.24. This will change numeric results when test-set sizes are unequal.\n",
      "  DeprecationWarning)\n"
     ]
    },
    {
     "data": {
      "text/plain": [
       "GridSearchCV(cv=10, error_score='raise-deprecating',\n",
       "       estimator=XGBClassifier(base_score=0.5, booster='gbtree', colsample_bylevel=1,\n",
       "       colsample_bytree=1, gamma=0, learning_rate=0.1, max_delta_step=0,\n",
       "       max_depth=3, min_child_weight=1, missing=None, n_estimators=100,\n",
       "       n_jobs=1, nthread=None, objective='binary:logistic', random_state=0,\n",
       "       reg_alpha=0, reg_lambda=1, scale_pos_weight=1, seed=None,\n",
       "       silent=True, subsample=1),\n",
       "       fit_params=None, iid='warn', n_jobs=None,\n",
       "       param_grid={'learning_rate': [0.1, 0.01, 0.001], 'n_estimators': [1000, 500, 2000, 2500], 'max_depth': [3, 4, 5, 6], 'min_child_weight': [0, 1]},\n",
       "       pre_dispatch='2*n_jobs', refit=True, return_train_score='warn',\n",
       "       scoring=None, verbose=0)"
      ]
     },
     "execution_count": 115,
     "metadata": {},
     "output_type": "execute_result"
    }
   ],
   "source": [
    "from sklearn.model_selection import GridSearchCV\n",
    "params = {\"learning_rate\":[0.1, 0.01, 0.001],\n",
    "          \"n_estimators\":[1000, 500, 2000, 2500],\n",
    "          \"max_depth\":[3,4,5,6], \n",
    "          \"min_child_weight\":[0,1]}\n",
    "xgb = XGBClassifier()\n",
    "\n",
    "grid = GridSearchCV(estimator=xgb, param_grid=params, cv = 10)\n",
    "grid.fit(scaled_train, ytr)"
   ]
  },
  {
   "cell_type": "code",
   "execution_count": 116,
   "metadata": {},
   "outputs": [
    {
     "data": {
      "text/plain": [
       "{'learning_rate': 0.01,\n",
       " 'max_depth': 6,\n",
       " 'min_child_weight': 1,\n",
       " 'n_estimators': 500}"
      ]
     },
     "execution_count": 116,
     "metadata": {},
     "output_type": "execute_result"
    }
   ],
   "source": [
    "grid.best_params_"
   ]
  },
  {
   "cell_type": "code",
   "execution_count": 118,
   "metadata": {},
   "outputs": [],
   "source": [
    "xgb = XGBClassifier(learning_rate=0.01,max_depth=6,n_estimators=500, \n",
    "                    min_child_weight=1)\n",
    "\n",
    "model_XGBfit = xgb.fit(scaled_train,ytr).predict(scaled_test)\n",
    "solution = pd.DataFrame({\"PassengerId\":test.PassengerId, \"Survived\": model_XGBfit})\n",
    "solution.to_csv(\"XGB Tuned.csv\", index = False) #0.68899"
   ]
  },
  {
   "cell_type": "markdown",
   "metadata": {},
   "source": [
    "### Conclusion\n",
    "\n",
    "1. Multicollinearity treatment in the case of titanic did not work well. Lost the accuracy.\n",
    "2. Need to check the variables if they are contributing significantly to the model else we will use vital information from the data and hence model will be a worse model like we see above.\n",
    "\n",
    "3. Multicollinearity in categorical variables is a reality but we need to see if the variables are contributing to the model. If yes, then we need not remove the variable per se.\n",
    "\n",
    "\n",
    "### Recursive Feature Elimination\n",
    "\n",
    "1. Recursive - Doing same thing several times.\n",
    "\n",
    "2. Feature - Set of Columns\n",
    "\n",
    "3. Cross-Validation — a technique for evaluating ML models by training several ML models on subsets of the available input data and evaluating them on the complementary subset of the data. Use cross-validation to detect overfitting, ie, failing to generalize a pattern.\n",
    "\n",
    "\n",
    "##### How RFE Works\n",
    "\n",
    "1. As previously noted, recursive feature elimination (RFE, Guyon et al. (2002)) is basically a backward selection of the predictors. This technique begins by building a model on the entire set of predictors and computing an importance score(grid score) for each predictor. \n",
    "\n",
    "2. The least important predictor(s) are then removed, the model is re-built, and importance scores are computed again. In practice, the analyst specifies the number of predictor subsets to evaluate as well as each subset’s size. \n",
    "\n",
    "3. Therefore, the subset size is a tuning parameter for RFE. The subset size that optimizes the performance criteria is used to select the predictors based on the importance rankings. The optimal subset is then used to train the final model."
   ]
  },
  {
   "cell_type": "code",
   "execution_count": 119,
   "metadata": {},
   "outputs": [],
   "source": [
    "# Finding Correlated Features\n",
    "\n",
    "correlated_features = set()\n",
    "correlation_matrix = dummytrain.drop(\"Survived\", axis =1).corr()\n",
    "\n",
    "for i in range(len(correlation_matrix.columns)):\n",
    "    for j in range(i):\n",
    "        if abs(correlation_matrix.iloc[i, j]) > 0.8:\n",
    "            colname = correlation_matrix.columns[i]\n",
    "            correlated_features.add(colname)"
   ]
  },
  {
   "cell_type": "code",
   "execution_count": 120,
   "metadata": {},
   "outputs": [
    {
     "data": {
      "text/plain": [
       "{'Fare_Per_Person', 'Titles_Mr'}"
      ]
     },
     "execution_count": 120,
     "metadata": {},
     "output_type": "execute_result"
    }
   ],
   "source": [
    "correlated_features"
   ]
  },
  {
   "cell_type": "markdown",
   "metadata": {},
   "source": [
    "### Applying Recursive Feature Elimination\n",
    "\n",
    "1. You will need to declare two variables — X and target where first represents all the features, and the second represents the target variable. \n",
    "\n",
    "2. Then you’ll make an instance of the Machine learning algorithm (I’m using RandomForests). In it, you can optionally pass a random state seed for reproducibility. Now you can create an instance of RFECV, here are needed arguments:\n",
    "\n",
    "   * estimator — your model instance\n",
    "\n",
    "   * step — number of features to remove at each iteration\n",
    "\n",
    "   * cv — your Cross-Validation, use StratifiedKFold and set K to 10\n",
    "\n",
    "   * scoring — scoring metric, what you want to optimize for. I’ve used ‘accuracy’ but you can select any other"
   ]
  },
  {
   "cell_type": "code",
   "execution_count": 173,
   "metadata": {},
   "outputs": [
    {
     "data": {
      "text/plain": [
       "RFECV(cv=StratifiedKFold(n_splits=10, random_state=None, shuffle=False),\n",
       "   estimator=XGBClassifier(base_score=0.5, booster='gbtree', colsample_bylevel=1,\n",
       "       colsample_bytree=1, gamma=0, learning_rate=0.1, max_delta_step=0,\n",
       "       max_depth=3, min_child_weight=1, missing=None, n_estimators=100,\n",
       "       n_jobs=1, nthread=None, objective='binary:logistic', random_state=0,\n",
       "       reg_alpha=0, reg_lambda=1, scale_pos_weight=1, seed=None,\n",
       "       silent=True, subsample=1),\n",
       "   min_features_to_select=1, n_jobs=None, scoring='accuracy', step=1,\n",
       "   verbose=0)"
      ]
     },
     "execution_count": 173,
     "metadata": {},
     "output_type": "execute_result"
    }
   ],
   "source": [
    "## Applying RFE\n",
    "\n",
    "X = dummytrain.drop(['Survived', 'Fare_Per_Person', 'Titles_Mr'], axis=1)\n",
    "target = dummytrain['Survived']\n",
    "\n",
    "from sklearn.feature_selection import RFECV\n",
    "from sklearn.model_selection import StratifiedKFold\n",
    "from sklearn.ensemble import RandomForestClassifier\n",
    "import warnings\n",
    "warnings.filterwarnings('ignore')\n",
    "\n",
    "rf = RandomForestClassifier(random_state=101)\n",
    "rfecv = RFECV(estimator=xgb, step=1, cv=StratifiedKFold(10), scoring='accuracy')\n",
    "rfecv.fit(X, target)"
   ]
  },
  {
   "cell_type": "code",
   "execution_count": 174,
   "metadata": {},
   "outputs": [
    {
     "name": "stdout",
     "output_type": "stream",
     "text": [
      "Optimal No of Features 5\n"
     ]
    }
   ],
   "source": [
    "print(\"Optimal No of Features {}\".format(rfecv.n_features_))\n",
    "# These are the Ideal Features for the Model"
   ]
  },
  {
   "cell_type": "markdown",
   "metadata": {},
   "source": [
    "1. rfecv.grid_scores_ - These are the cross validation scores for every feature. "
   ]
  },
  {
   "cell_type": "code",
   "execution_count": 175,
   "metadata": {},
   "outputs": [
    {
     "data": {
      "image/png": "[encoded data removed]",
      "text/plain": [
       "<Figure size 720x432 with 1 Axes>"
      ]
     },
     "metadata": {
      "needs_background": "light"
     },
     "output_type": "display_data"
    }
   ],
   "source": [
    "# Plotting Accuracy with every feature\n",
    "plt.figure(figsize=(10, 6))\n",
    "plt.title('Recursive Feature Elimination with Cross-Validation', fontsize=18, \n",
    "          fontweight='bold', pad=20)\n",
    "plt.xlabel('Number of features selected', fontsize=14, labelpad = 10)\n",
    "plt.ylabel('% Correct Classification', fontsize=14, labelpad = 10)\n",
    "plt.plot(range(1, len(rfecv.grid_scores_)+1), \n",
    "         rfecv.grid_scores_, color='red', linewidth=2)\n",
    "\n",
    "plt.show()"
   ]
  },
  {
   "cell_type": "markdown",
   "metadata": {},
   "source": [
    "print out which features are considered to be least important and drop them with this snippet:"
   ]
  },
  {
   "cell_type": "code",
   "execution_count": 176,
   "metadata": {},
   "outputs": [
    {
     "name": "stdout",
     "output_type": "stream",
     "text": [
      "[ 5  6  7  8  9 10 11 12 13]\n"
     ]
    }
   ],
   "source": [
    "print(np.where(rfecv.support_ == False)[0])\n",
    "\n",
    "X.drop(X.columns[np.where(rfecv.support_ == False)[0]], axis=1, inplace=True)"
   ]
  },
  {
   "cell_type": "code",
   "execution_count": 177,
   "metadata": {
    "scrolled": true
   },
   "outputs": [
    {
     "data": {
      "text/html": [
       "<div>\n",
       "<style scoped>\n",
       "    .dataframe tbody tr th:only-of-type {\n",
       "        vertical-align: middle;\n",
       "    }\n",
       "\n",
       "    .dataframe tbody tr th {\n",
       "        vertical-align: top;\n",
       "    }\n",
       "\n",
       "    .dataframe thead th {\n",
       "        text-align: right;\n",
       "    }\n",
       "</style>\n",
       "<table border=\"1\" class=\"dataframe\">\n",
       "  <thead>\n",
       "    <tr style=\"text-align: right;\">\n",
       "      <th></th>\n",
       "      <th>Pclass</th>\n",
       "      <th>Age</th>\n",
       "      <th>Fare</th>\n",
       "      <th>Family</th>\n",
       "      <th>Sex_male</th>\n",
       "    </tr>\n",
       "  </thead>\n",
       "  <tbody>\n",
       "    <tr>\n",
       "      <th>0</th>\n",
       "      <td>3</td>\n",
       "      <td>22.0</td>\n",
       "      <td>7.2500</td>\n",
       "      <td>1</td>\n",
       "      <td>1</td>\n",
       "    </tr>\n",
       "    <tr>\n",
       "      <th>1</th>\n",
       "      <td>1</td>\n",
       "      <td>38.0</td>\n",
       "      <td>71.2833</td>\n",
       "      <td>1</td>\n",
       "      <td>0</td>\n",
       "    </tr>\n",
       "    <tr>\n",
       "      <th>2</th>\n",
       "      <td>3</td>\n",
       "      <td>26.0</td>\n",
       "      <td>7.9250</td>\n",
       "      <td>1</td>\n",
       "      <td>0</td>\n",
       "    </tr>\n",
       "    <tr>\n",
       "      <th>3</th>\n",
       "      <td>1</td>\n",
       "      <td>35.0</td>\n",
       "      <td>53.1000</td>\n",
       "      <td>1</td>\n",
       "      <td>0</td>\n",
       "    </tr>\n",
       "    <tr>\n",
       "      <th>4</th>\n",
       "      <td>3</td>\n",
       "      <td>35.0</td>\n",
       "      <td>8.0500</td>\n",
       "      <td>1</td>\n",
       "      <td>1</td>\n",
       "    </tr>\n",
       "  </tbody>\n",
       "</table>\n",
       "</div>"
      ],
      "text/plain": [
       "   Pclass   Age     Fare  Family  Sex_male\n",
       "0       3  22.0   7.2500       1         1\n",
       "1       1  38.0  71.2833       1         0\n",
       "2       3  26.0   7.9250       1         0\n",
       "3       1  35.0  53.1000       1         0\n",
       "4       3  35.0   8.0500       1         1"
      ]
     },
     "execution_count": 177,
     "metadata": {},
     "output_type": "execute_result"
    }
   ],
   "source": [
    "X.head()"
   ]
  },
  {
   "cell_type": "code",
   "execution_count": 178,
   "metadata": {},
   "outputs": [
    {
     "data": {
      "text/plain": [
       "Index(['Pclass', 'Age', 'Fare', 'Family', 'Sex_male'], dtype='object')"
      ]
     },
     "execution_count": 178,
     "metadata": {},
     "output_type": "execute_result"
    }
   ],
   "source": [
    "X.columns"
   ]
  },
  {
   "cell_type": "code",
   "execution_count": 179,
   "metadata": {},
   "outputs": [],
   "source": [
    "from sklearn.preprocessing import StandardScaler\n",
    "sc2 = StandardScaler()"
   ]
  },
  {
   "cell_type": "code",
   "execution_count": 180,
   "metadata": {},
   "outputs": [],
   "source": [
    "scaled_x = sc2.fit_transform(X)"
   ]
  },
  {
   "cell_type": "code",
   "execution_count": 181,
   "metadata": {},
   "outputs": [],
   "source": [
    "scaled_test = sc2.transform(dummytest.loc[:, X.columns])"
   ]
  },
  {
   "cell_type": "code",
   "execution_count": 157,
   "metadata": {},
   "outputs": [],
   "source": [
    "from xgboost.sklearn import XGBClassifier\n",
    "xgb = XGBClassifier()"
   ]
  },
  {
   "cell_type": "code",
   "execution_count": 182,
   "metadata": {},
   "outputs": [],
   "source": [
    "pred = xgb.fit(scaled_x, target).predict(scaled_test)"
   ]
  },
  {
   "cell_type": "code",
   "execution_count": 183,
   "metadata": {},
   "outputs": [],
   "source": [
    "solution = pd.DataFrame({\"PassengerId\":test.PassengerId, \"Survived\": pred})\n",
    "solution.to_csv(\"XGB POST RFE.csv\", index = False) #0.77033"
   ]
  },
  {
   "cell_type": "code",
   "execution_count": 184,
   "metadata": {},
   "outputs": [
    {
     "data": {
      "text/plain": [
       "array([0.67036914, 0.71393769, 0.73079191, 0.77101691, 0.83953382,\n",
       "       0.8250017 , 0.83057003, 0.8339411 , 0.83510243, 0.8339533 ,\n",
       "       0.83397855, 0.83285495, 0.83285495, 0.83285495])"
      ]
     },
     "execution_count": 184,
     "metadata": {},
     "output_type": "execute_result"
    }
   ],
   "source": [
    "rfecv.grid_scores_"
   ]
  },
  {
   "cell_type": "code",
   "execution_count": null,
   "metadata": {},
   "outputs": [],
   "source": []
  }
 ],
 "metadata": {
  "kernelspec": {
   "display_name": "Python 3",
   "language": "python",
   "name": "python3"
  },
  "language_info": {
   "codemirror_mode": {
    "name": "ipython",
    "version": 3
   },
   "file_extension": ".py",
   "mimetype": "text/x-python",
   "name": "python",
   "nbconvert_exporter": "python",
   "pygments_lexer": "ipython3",
   "version": "3.6.8"
  }
 },
 "nbformat": 4,
 "nbformat_minor": 2
}
