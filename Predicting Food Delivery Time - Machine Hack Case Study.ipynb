{
 "cells": [
  {
   "cell_type": "markdown",
   "metadata": {},
   "source": [
    "In this hackathon, we are providing you with data from thousands of restaurants in India regarding the time they take to deliver food for online order. As data scientists, your goal is to predict the online order delivery time based on the given factors.\n",
    "\n",
    "Size of training set: 11,094 records\n",
    "\n",
    "Size of test set: 2,774 records\n",
    "\n",
    "FEATURES:\n",
    "\n",
    "* Restaurant: A unique ID that represents a restaurant.\n",
    "* Location: The location of the restaurant.\n",
    "* Cuisines: The cuisines offered by the restaurant.\n",
    "* Average_Cost: The average cost for one person/order.\n",
    "* Minimum_Order: The minimum order amount.\n",
    "* Rating: Customer rating for the restaurant.\n",
    "* Votes: The total number of customer votes for the restaurant.\n",
    "* Reviews: The number of customer reviews for the restaurant.\n",
    "* Delivery_Time: The order delivery time of the restaurant. (Target Classes) "
   ]
  },
  {
   "cell_type": "code",
   "execution_count": 2,
   "metadata": {},
   "outputs": [],
   "source": [
    "import numpy as np\n",
    "import pandas as pd\n",
    "import matplotlib.pyplot as plt\n",
    "import seaborn as sns"
   ]
  },
  {
   "cell_type": "code",
   "execution_count": 9,
   "metadata": {},
   "outputs": [],
   "source": [
    "# Importing the Dataset\n",
    "train = pd.read_excel(\"./Downloads/Food Prices/Participants Data/Data_Train.xlsx\")\n",
    "test = pd.read_excel(\"./Downloads/Food Prices/Participants Data/Data_Test.xlsx\")"
   ]
  },
  {
   "cell_type": "code",
   "execution_count": 14,
   "metadata": {},
   "outputs": [
    {
     "data": {
      "text/html": [
       "<div>\n",
       "<style scoped>\n",
       "    .dataframe tbody tr th:only-of-type {\n",
       "        vertical-align: middle;\n",
       "    }\n",
       "\n",
       "    .dataframe tbody tr th {\n",
       "        vertical-align: top;\n",
       "    }\n",
       "\n",
       "    .dataframe thead th {\n",
       "        text-align: right;\n",
       "    }\n",
       "</style>\n",
       "<table border=\"1\" class=\"dataframe\">\n",
       "  <thead>\n",
       "    <tr style=\"text-align: right;\">\n",
       "      <th></th>\n",
       "      <th>Restaurant</th>\n",
       "      <th>Location</th>\n",
       "      <th>Cuisines</th>\n",
       "      <th>Average_Cost</th>\n",
       "      <th>Minimum_Order</th>\n",
       "      <th>Rating</th>\n",
       "      <th>Votes</th>\n",
       "      <th>Reviews</th>\n",
       "      <th>Delivery_Time</th>\n",
       "    </tr>\n",
       "  </thead>\n",
       "  <tbody>\n",
       "    <tr>\n",
       "      <th>0</th>\n",
       "      <td>ID_6321</td>\n",
       "      <td>FTI College, Law College Road, Pune</td>\n",
       "      <td>Fast Food, Rolls, Burger, Salad, Wraps</td>\n",
       "      <td>₹200</td>\n",
       "      <td>₹50</td>\n",
       "      <td>3.5</td>\n",
       "      <td>12</td>\n",
       "      <td>4</td>\n",
       "      <td>30 minutes</td>\n",
       "    </tr>\n",
       "    <tr>\n",
       "      <th>1</th>\n",
       "      <td>ID_2882</td>\n",
       "      <td>Sector 3, Marathalli</td>\n",
       "      <td>Ice Cream, Desserts</td>\n",
       "      <td>₹100</td>\n",
       "      <td>₹50</td>\n",
       "      <td>3.5</td>\n",
       "      <td>11</td>\n",
       "      <td>4</td>\n",
       "      <td>30 minutes</td>\n",
       "    </tr>\n",
       "    <tr>\n",
       "      <th>2</th>\n",
       "      <td>ID_1595</td>\n",
       "      <td>Mumbai Central</td>\n",
       "      <td>Italian, Street Food, Fast Food</td>\n",
       "      <td>₹150</td>\n",
       "      <td>₹50</td>\n",
       "      <td>3.6</td>\n",
       "      <td>99</td>\n",
       "      <td>30</td>\n",
       "      <td>65 minutes</td>\n",
       "    </tr>\n",
       "    <tr>\n",
       "      <th>3</th>\n",
       "      <td>ID_5929</td>\n",
       "      <td>Sector 1, Noida</td>\n",
       "      <td>Mughlai, North Indian, Chinese</td>\n",
       "      <td>₹250</td>\n",
       "      <td>₹99</td>\n",
       "      <td>3.7</td>\n",
       "      <td>176</td>\n",
       "      <td>95</td>\n",
       "      <td>30 minutes</td>\n",
       "    </tr>\n",
       "    <tr>\n",
       "      <th>4</th>\n",
       "      <td>ID_6123</td>\n",
       "      <td>Rmz Centennial, I Gate, Whitefield</td>\n",
       "      <td>Cafe, Beverages</td>\n",
       "      <td>₹200</td>\n",
       "      <td>₹99</td>\n",
       "      <td>3.2</td>\n",
       "      <td>521</td>\n",
       "      <td>235</td>\n",
       "      <td>65 minutes</td>\n",
       "    </tr>\n",
       "  </tbody>\n",
       "</table>\n",
       "</div>"
      ],
      "text/plain": [
       "  Restaurant                             Location  \\\n",
       "0    ID_6321  FTI College, Law College Road, Pune   \n",
       "1    ID_2882                 Sector 3, Marathalli   \n",
       "2    ID_1595                       Mumbai Central   \n",
       "3    ID_5929                      Sector 1, Noida   \n",
       "4    ID_6123   Rmz Centennial, I Gate, Whitefield   \n",
       "\n",
       "                                 Cuisines Average_Cost Minimum_Order Rating  \\\n",
       "0  Fast Food, Rolls, Burger, Salad, Wraps         ₹200           ₹50    3.5   \n",
       "1                     Ice Cream, Desserts         ₹100           ₹50    3.5   \n",
       "2         Italian, Street Food, Fast Food         ₹150           ₹50    3.6   \n",
       "3          Mughlai, North Indian, Chinese         ₹250           ₹99    3.7   \n",
       "4                         Cafe, Beverages         ₹200           ₹99    3.2   \n",
       "\n",
       "  Votes Reviews Delivery_Time  \n",
       "0    12       4    30 minutes  \n",
       "1    11       4    30 minutes  \n",
       "2    99      30    65 minutes  \n",
       "3   176      95    30 minutes  \n",
       "4   521     235    65 minutes  "
      ]
     },
     "execution_count": 14,
     "metadata": {},
     "output_type": "execute_result"
    }
   ],
   "source": [
    "train.head()"
   ]
  },
  {
   "cell_type": "markdown",
   "metadata": {},
   "source": [
    "### Observations from the Data\n",
    "\n",
    "1. Location and Cuisines - Need Cleaning\n",
    "\n",
    "2. We need to Generalize the Location and Cuisines\n",
    "\n",
    "3. Cleaning needs to be done for Avg Cost and Min Price\n",
    "\n",
    "4. Delivery Time is mentioned in Categories. Ideally it should be Numeric. This means we need to remove the \"Minutes\" from the Target\n",
    "\n",
    "### Exploratory Data Analysis\n",
    "\n",
    "#### 1. Univariate Analysis - Single variable Analysis\n",
    "\n",
    "Numerical Column - Histogram. \n",
    "\n",
    "What is a Histogram?\n",
    "Histogram is a statistical plot that defines the shape of the data. If the data is not normal then the histogram will show a skewed curve. Here skewness is result of the presence of outliers in the data. Hence, mean, median and mode will never be equal. \n",
    "\n",
    "Having Said that, If Mean> Median> Mode : +vely Skewed Data and vice versa.\n",
    "\n",
    "\n",
    "Categorical Column - barplot/countplot\n",
    "\n",
    "#### 2. Bivariate Analysis - Predictor variable vs Target Variable\n",
    "\n",
    "* Numerica Vs Numerica -Scatterplot\n",
    "* Categorical vs Numerical - Boxplot (aka Box and Whisker Plot) Min, Max, 25%, 50%, 75%. IQR(75%-25%)\n",
    "* Categorical Vs Categorical - table | pd.crosstab()\n",
    "\n",
    "#### 3. Missing Value Imputation\n",
    "\n",
    "#### 4. Feature Engineering\n",
    "\n",
    "#### 5. Scaling the Dataset\n",
    "\n",
    "Why do you scale the data?\n",
    "\n",
    "To Bring the Data in a certain range so that the computation or the Pattern Recognition from the ML Algo angle becomes easy.\n",
    "\n",
    "Also, to bring the data in same scale so that the mean of the data becomes 0 and SD becomes 1.\n",
    "\n",
    "### Preprocessing Stage - We get into Modelling"
   ]
  },
  {
   "cell_type": "code",
   "execution_count": 16,
   "metadata": {},
   "outputs": [],
   "source": [
    "combined = pd.concat([train,test], sort = False, ignore_index = True)"
   ]
  },
  {
   "cell_type": "code",
   "execution_count": 18,
   "metadata": {},
   "outputs": [
    {
     "data": {
      "text/html": [
       "<div>\n",
       "<style scoped>\n",
       "    .dataframe tbody tr th:only-of-type {\n",
       "        vertical-align: middle;\n",
       "    }\n",
       "\n",
       "    .dataframe tbody tr th {\n",
       "        vertical-align: top;\n",
       "    }\n",
       "\n",
       "    .dataframe thead th {\n",
       "        text-align: right;\n",
       "    }\n",
       "</style>\n",
       "<table border=\"1\" class=\"dataframe\">\n",
       "  <thead>\n",
       "    <tr style=\"text-align: right;\">\n",
       "      <th></th>\n",
       "      <th>Restaurant</th>\n",
       "      <th>Location</th>\n",
       "      <th>Cuisines</th>\n",
       "      <th>Average_Cost</th>\n",
       "      <th>Minimum_Order</th>\n",
       "      <th>Rating</th>\n",
       "      <th>Votes</th>\n",
       "      <th>Reviews</th>\n",
       "      <th>Delivery_Time</th>\n",
       "    </tr>\n",
       "  </thead>\n",
       "  <tbody>\n",
       "    <tr>\n",
       "      <th>13863</th>\n",
       "      <td>ID_6342</td>\n",
       "      <td>Delhi University-GTB Nagar</td>\n",
       "      <td>Fast Food, Chinese</td>\n",
       "      <td>₹100</td>\n",
       "      <td>₹50</td>\n",
       "      <td>NEW</td>\n",
       "      <td>-</td>\n",
       "      <td>-</td>\n",
       "      <td>NaN</td>\n",
       "    </tr>\n",
       "    <tr>\n",
       "      <th>13864</th>\n",
       "      <td>ID_8495</td>\n",
       "      <td>Mico Layout, Stage 2, BTM Layout,Bangalore</td>\n",
       "      <td>Continental, North Indian, Desserts, Beverages</td>\n",
       "      <td>₹250</td>\n",
       "      <td>₹50</td>\n",
       "      <td>3.1</td>\n",
       "      <td>5</td>\n",
       "      <td>1</td>\n",
       "      <td>NaN</td>\n",
       "    </tr>\n",
       "    <tr>\n",
       "      <th>13865</th>\n",
       "      <td>ID_7122</td>\n",
       "      <td>Noorkhan Bazaar, Malakpet, Hyderabad</td>\n",
       "      <td>Andhra, South Indian</td>\n",
       "      <td>₹150</td>\n",
       "      <td>₹50</td>\n",
       "      <td>3.0</td>\n",
       "      <td>16</td>\n",
       "      <td>1</td>\n",
       "      <td>NaN</td>\n",
       "    </tr>\n",
       "    <tr>\n",
       "      <th>13866</th>\n",
       "      <td>ID_2475</td>\n",
       "      <td>D-Block, Sector 63, Noida</td>\n",
       "      <td>Bakery</td>\n",
       "      <td>₹100</td>\n",
       "      <td>₹99</td>\n",
       "      <td>3.0</td>\n",
       "      <td>7</td>\n",
       "      <td>2</td>\n",
       "      <td>NaN</td>\n",
       "    </tr>\n",
       "    <tr>\n",
       "      <th>13867</th>\n",
       "      <td>ID_1595</td>\n",
       "      <td>Dockyard Road, Mumbai CST Area</td>\n",
       "      <td>Italian, Street Food, Fast Food</td>\n",
       "      <td>₹150</td>\n",
       "      <td>₹50</td>\n",
       "      <td>3.6</td>\n",
       "      <td>99</td>\n",
       "      <td>30</td>\n",
       "      <td>NaN</td>\n",
       "    </tr>\n",
       "  </tbody>\n",
       "</table>\n",
       "</div>"
      ],
      "text/plain": [
       "      Restaurant                                    Location  \\\n",
       "13863    ID_6342                  Delhi University-GTB Nagar   \n",
       "13864    ID_8495  Mico Layout, Stage 2, BTM Layout,Bangalore   \n",
       "13865    ID_7122        Noorkhan Bazaar, Malakpet, Hyderabad   \n",
       "13866    ID_2475                   D-Block, Sector 63, Noida   \n",
       "13867    ID_1595              Dockyard Road, Mumbai CST Area   \n",
       "\n",
       "                                             Cuisines Average_Cost  \\\n",
       "13863                              Fast Food, Chinese         ₹100   \n",
       "13864  Continental, North Indian, Desserts, Beverages         ₹250   \n",
       "13865                            Andhra, South Indian         ₹150   \n",
       "13866                                          Bakery         ₹100   \n",
       "13867                 Italian, Street Food, Fast Food         ₹150   \n",
       "\n",
       "      Minimum_Order Rating Votes Reviews Delivery_Time  \n",
       "13863           ₹50    NEW     -       -           NaN  \n",
       "13864           ₹50    3.1     5       1           NaN  \n",
       "13865           ₹50    3.0    16       1           NaN  \n",
       "13866           ₹99    3.0     7       2           NaN  \n",
       "13867           ₹50    3.6    99      30           NaN  "
      ]
     },
     "execution_count": 18,
     "metadata": {},
     "output_type": "execute_result"
    }
   ],
   "source": [
    "combined.tail()"
   ]
  },
  {
   "cell_type": "code",
   "execution_count": 19,
   "metadata": {},
   "outputs": [
    {
     "data": {
      "text/plain": [
       "30 minutes     7406\n",
       "45 minutes     2665\n",
       "65 minutes      923\n",
       "120 minutes      62\n",
       "20 minutes       20\n",
       "80 minutes       14\n",
       "10 minutes        4\n",
       "Name: Delivery_Time, dtype: int64"
      ]
     },
     "execution_count": 19,
     "metadata": {},
     "output_type": "execute_result"
    }
   ],
   "source": [
    "combined.Delivery_Time.value_counts()"
   ]
  },
  {
   "cell_type": "code",
   "execution_count": 33,
   "metadata": {},
   "outputs": [
    {
     "data": {
      "text/plain": [
       "'Gurgoan'"
      ]
     },
     "execution_count": 33,
     "metadata": {},
     "output_type": "execute_result"
    }
   ],
   "source": [
    "# Location\n",
    "combined.Location[182].split(\", \")[-1]"
   ]
  },
  {
   "cell_type": "code",
   "execution_count": 34,
   "metadata": {},
   "outputs": [],
   "source": [
    "# loop\n",
    "locs = []\n",
    "for i in combined.Location:\n",
    "    locs.append(i.split(\", \")[-1])"
   ]
  },
  {
   "cell_type": "code",
   "execution_count": 37,
   "metadata": {},
   "outputs": [],
   "source": [
    "# Add into combined columns\n",
    "combined[\"Locs_Cleansed\"]=pd.Series(locs)"
   ]
  },
  {
   "cell_type": "code",
   "execution_count": 40,
   "metadata": {},
   "outputs": [
    {
     "data": {
      "text/plain": [
       "array(['Pune', 'Marathalli', 'Mumbai Central', 'Noida', 'Whitefield',\n",
       "       'Delhi University-GTB Nagar', 'Maharashtra', 'Timarpur', 'Kolkata',\n",
       "       'Mumbai CST Area', 'Pune University', 'BTM Layout,Bangalore',\n",
       "       'Gurgoan', 'Begumpet', 'Majestic', 'India Gate', 'Hyderabad',\n",
       "       'Sector 63A,Gurgaon', 'Delhi Cantt.', 'Mumbai', 'Delhi',\n",
       "       'Electronic City'], dtype=object)"
      ]
     },
     "execution_count": 40,
     "metadata": {},
     "output_type": "execute_result"
    }
   ],
   "source": [
    "combined.Locs_Cleansed.unique()"
   ]
  },
  {
   "cell_type": "code",
   "execution_count": 51,
   "metadata": {},
   "outputs": [
    {
     "data": {
      "text/plain": [
       "Noida                         2647\n",
       "Pune                          1719\n",
       "BTM Layout,Bangalore          1158\n",
       "Mumbai CST Area                825\n",
       "Delhi University-GTB Nagar     699\n",
       "Kolkata                        678\n",
       "Gurgoan                        611\n",
       "Timarpur                       602\n",
       "Whitefield                     585\n",
       "Mumbai Central                 578\n",
       "India Gate                     504\n",
       "Marathalli                     444\n",
       "Majestic                       411\n",
       "Delhi Cantt.                   397\n",
       "Maharashtra                    379\n",
       "Hyderabad                      371\n",
       "Pune University                344\n",
       "Delhi                          337\n",
       "Sector 63A,Gurgaon             323\n",
       "Mumbai                         133\n",
       "Begumpet                        93\n",
       "Bangalore                       30\n",
       "Name: Locs_Cleansed, dtype: int64"
      ]
     },
     "execution_count": 51,
     "metadata": {},
     "output_type": "execute_result"
    }
   ],
   "source": [
    "combined.Locs_Cleansed.value_counts()"
   ]
  },
  {
   "cell_type": "markdown",
   "metadata": {},
   "source": [
    "Further Cleaning is required in Following Cases:\n",
    "\n",
    "1. Checking City for Electronic City and Make Imputations acc.\n",
    "\n",
    "2. Delhi University GTB Nagar\n",
    "\n",
    "3. Sector 63A,Gurgaon\n",
    "\n",
    "4. Spell Correction Needed for Gurgaon City\n",
    "\n",
    "5. India Gate\n",
    "\n",
    "6. BTM Layout bangalore\n",
    "\n",
    "7. Pune University\n",
    "\n",
    "8. Marathalli, Majestic and Whitefield Impute Bengaluru\n",
    "\n",
    "9. Change Begumpet to Hyderabad\n",
    "\n",
    "10. Check mahrasthra"
   ]
  },
  {
   "cell_type": "code",
   "execution_count": 48,
   "metadata": {},
   "outputs": [
    {
     "data": {
      "text/plain": [
       "Series([], Name: Location, dtype: object)"
      ]
     },
     "execution_count": 48,
     "metadata": {},
     "output_type": "execute_result"
    }
   ],
   "source": [
    "# Point 1\n",
    "combined[combined.Locs_Cleansed==\"Electronic City\"][\"Location\"]"
   ]
  },
  {
   "cell_type": "code",
   "execution_count": 47,
   "metadata": {},
   "outputs": [],
   "source": [
    "# Replacing the Electronic City with Bangalore\n",
    "combined.loc[combined.Locs_Cleansed==\"Electronic City\", \n",
    "             \"Locs_Cleansed\"]=\"Bangalore\""
   ]
  },
  {
   "cell_type": "code",
   "execution_count": 53,
   "metadata": {},
   "outputs": [],
   "source": [
    "# Replacing Whitefield, Marathalli, Majestic, BTM Layout,Bangalore\n",
    "listtoreplace = [\"Whitefield\", \"Marathalli\", \"Majestic\", \"BTM Layout,Bangalore\"]\n",
    "combined.Locs_Cleansed.replace(to_replace=listtoreplace,\n",
    "                              value = [\"Bangalore\"]*4, inplace = True)"
   ]
  },
  {
   "cell_type": "code",
   "execution_count": 55,
   "metadata": {},
   "outputs": [],
   "source": [
    "# Delhi University\n",
    "listtoreplace = [\"Timarpur\",\"Delhi Cantt.\", \n",
    "                 \"India Gate\", \"Delhi University-GTB Nagar\"]\n",
    "combined.Locs_Cleansed.replace(to_replace=listtoreplace,\n",
    "                              value = [\"Delhi\"]*4, inplace = True)"
   ]
  },
  {
   "cell_type": "code",
   "execution_count": 74,
   "metadata": {},
   "outputs": [
    {
     "data": {
      "text/plain": [
       "array(['Pune', 'Bangalore', 'Mumbai', 'Noida', 'Delhi', 'Kolkata',\n",
       "       'Gurgaon', 'Hyderabad'], dtype=object)"
      ]
     },
     "execution_count": 74,
     "metadata": {},
     "output_type": "execute_result"
    }
   ],
   "source": [
    "combined.Locs_Cleansed.unique()"
   ]
  },
  {
   "cell_type": "markdown",
   "metadata": {},
   "source": [
    "7. Pune University\n",
    "\n",
    "9. Change Begumpet to Hyderabad\n",
    "\n",
    "10. Check mahrasthra"
   ]
  },
  {
   "cell_type": "code",
   "execution_count": 57,
   "metadata": {},
   "outputs": [],
   "source": [
    "# Mumbai\n",
    "listtoreplace = [\"Mumbai Central\",\"Mumbai CST Area\", ]\n",
    "combined.Locs_Cleansed.replace(to_replace=listtoreplace,\n",
    "                              value = [\"Mumbai\"]*2, inplace = True)"
   ]
  },
  {
   "cell_type": "code",
   "execution_count": 62,
   "metadata": {},
   "outputs": [],
   "source": [
    "# Gurgaon\n",
    "listtoreplace = [\"Gurgoan\",\"Sector 63A,Gurgaon\"] \n",
    "combined.Locs_Cleansed.replace(to_replace=listtoreplace,\n",
    "                              value = [\"Gurgaon\"]*2, inplace = True)"
   ]
  },
  {
   "cell_type": "code",
   "execution_count": 68,
   "metadata": {},
   "outputs": [],
   "source": [
    "# Begumpet\n",
    "combined.loc[combined.Locs_Cleansed==\"Begumpet\",\"Locs_Cleansed\"]=\"Hyderabad\""
   ]
  },
  {
   "cell_type": "code",
   "execution_count": 73,
   "metadata": {},
   "outputs": [],
   "source": [
    "# Pune and Mahrashtra\n",
    "combined.Locs_Cleansed.replace(to_replace=[\"Maharashtra\", \"Pune University\"],\n",
    "                              value = [\"Pune\"]*2, inplace = True)"
   ]
  },
  {
   "cell_type": "code",
   "execution_count": 75,
   "metadata": {},
   "outputs": [
    {
     "data": {
      "text/plain": [
       "<matplotlib.axes._subplots.AxesSubplot at 0x18c4e2405c0>"
      ]
     },
     "execution_count": 75,
     "metadata": {},
     "output_type": "execute_result"
    },
    {
     "data": {
      "image/png": "[encoded data removed]",
      "text/plain": [
       "<Figure size 432x288 with 1 Axes>"
      ]
     },
     "metadata": {
      "needs_background": "light"
     },
     "output_type": "display_data"
    }
   ],
   "source": [
    "combined.Locs_Cleansed.value_counts().plot(kind = \"bar\")"
   ]
  },
  {
   "cell_type": "markdown",
   "metadata": {},
   "source": [
    "#### Majority of Orders are coming from Noida, Bangalore, Delhi and Pune.\n",
    "#### Hyderabad is the lowest"
   ]
  },
  {
   "cell_type": "code",
   "execution_count": 76,
   "metadata": {},
   "outputs": [
    {
     "data": {
      "text/plain": [
       "array(['Fast Food, Rolls, Burger, Salad, Wraps', 'Ice Cream, Desserts',\n",
       "       'Italian, Street Food, Fast Food', ...,\n",
       "       'North Indian, Chinese, Japanese',\n",
       "       'Asian, Italian, Continental, Desserts, Healthy Food',\n",
       "       'North Indian, Rolls, Chinese, Continental, Fast Food'],\n",
       "      dtype=object)"
      ]
     },
     "execution_count": 76,
     "metadata": {},
     "output_type": "execute_result"
    }
   ],
   "source": [
    "# Cuisines\n",
    "combined.Cuisines.unique()"
   ]
  },
  {
   "cell_type": "code",
   "execution_count": 78,
   "metadata": {},
   "outputs": [
    {
     "data": {
      "text/plain": [
       "['Fast Food', ' Rolls', ' Burger', ' Salad', ' Wraps']"
      ]
     },
     "execution_count": 78,
     "metadata": {},
     "output_type": "execute_result"
    }
   ],
   "source": [
    "combined.Cuisines[0].split(\",\")"
   ]
  },
  {
   "cell_type": "code",
   "execution_count": 110,
   "metadata": {},
   "outputs": [],
   "source": [
    "cuisines =[]\n",
    "for i in combined.Cuisines:\n",
    "    cuisines.append(i.split(\", \"))"
   ]
  },
  {
   "cell_type": "code",
   "execution_count": 123,
   "metadata": {},
   "outputs": [],
   "source": [
    "df = pd.DataFrame(cuisines)"
   ]
  },
  {
   "cell_type": "code",
   "execution_count": 124,
   "metadata": {},
   "outputs": [
    {
     "data": {
      "text/html": [
       "<div>\n",
       "<style scoped>\n",
       "    .dataframe tbody tr th:only-of-type {\n",
       "        vertical-align: middle;\n",
       "    }\n",
       "\n",
       "    .dataframe tbody tr th {\n",
       "        vertical-align: top;\n",
       "    }\n",
       "\n",
       "    .dataframe thead th {\n",
       "        text-align: right;\n",
       "    }\n",
       "</style>\n",
       "<table border=\"1\" class=\"dataframe\">\n",
       "  <thead>\n",
       "    <tr style=\"text-align: right;\">\n",
       "      <th></th>\n",
       "      <th>0</th>\n",
       "      <th>1</th>\n",
       "      <th>2</th>\n",
       "      <th>3</th>\n",
       "      <th>4</th>\n",
       "      <th>5</th>\n",
       "      <th>6</th>\n",
       "      <th>7</th>\n",
       "    </tr>\n",
       "  </thead>\n",
       "  <tbody>\n",
       "    <tr>\n",
       "      <th>0</th>\n",
       "      <td>Fast Food</td>\n",
       "      <td>Rolls</td>\n",
       "      <td>Burger</td>\n",
       "      <td>Salad</td>\n",
       "      <td>Wraps</td>\n",
       "      <td>None</td>\n",
       "      <td>None</td>\n",
       "      <td>None</td>\n",
       "    </tr>\n",
       "    <tr>\n",
       "      <th>1</th>\n",
       "      <td>Ice Cream</td>\n",
       "      <td>Desserts</td>\n",
       "      <td>None</td>\n",
       "      <td>None</td>\n",
       "      <td>None</td>\n",
       "      <td>None</td>\n",
       "      <td>None</td>\n",
       "      <td>None</td>\n",
       "    </tr>\n",
       "    <tr>\n",
       "      <th>2</th>\n",
       "      <td>Italian</td>\n",
       "      <td>Street Food</td>\n",
       "      <td>Fast Food</td>\n",
       "      <td>None</td>\n",
       "      <td>None</td>\n",
       "      <td>None</td>\n",
       "      <td>None</td>\n",
       "      <td>None</td>\n",
       "    </tr>\n",
       "    <tr>\n",
       "      <th>3</th>\n",
       "      <td>Mughlai</td>\n",
       "      <td>North Indian</td>\n",
       "      <td>Chinese</td>\n",
       "      <td>None</td>\n",
       "      <td>None</td>\n",
       "      <td>None</td>\n",
       "      <td>None</td>\n",
       "      <td>None</td>\n",
       "    </tr>\n",
       "    <tr>\n",
       "      <th>4</th>\n",
       "      <td>Cafe</td>\n",
       "      <td>Beverages</td>\n",
       "      <td>None</td>\n",
       "      <td>None</td>\n",
       "      <td>None</td>\n",
       "      <td>None</td>\n",
       "      <td>None</td>\n",
       "      <td>None</td>\n",
       "    </tr>\n",
       "  </tbody>\n",
       "</table>\n",
       "</div>"
      ],
      "text/plain": [
       "           0             1          2      3      4     5     6     7\n",
       "0  Fast Food         Rolls     Burger  Salad  Wraps  None  None  None\n",
       "1  Ice Cream      Desserts       None   None   None  None  None  None\n",
       "2    Italian   Street Food  Fast Food   None   None  None  None  None\n",
       "3    Mughlai  North Indian    Chinese   None   None  None  None  None\n",
       "4       Cafe     Beverages       None   None   None  None  None  None"
      ]
     },
     "execution_count": 124,
     "metadata": {},
     "output_type": "execute_result"
    }
   ],
   "source": [
    "df.head()"
   ]
  },
  {
   "cell_type": "code",
   "execution_count": 96,
   "metadata": {},
   "outputs": [],
   "source": [
    "cuisinezero = df[0].unique()"
   ]
  },
  {
   "cell_type": "code",
   "execution_count": 113,
   "metadata": {},
   "outputs": [],
   "source": [
    "# Chcking First Col value with 3rd col\n",
    "def findcuisines(x):\n",
    "    if x in cuisinezero:\n",
    "        return(\"Found\")\n",
    "    else:\n",
    "        return(\"NF\")"
   ]
  },
  {
   "cell_type": "code",
   "execution_count": 127,
   "metadata": {},
   "outputs": [],
   "source": [
    "df[\"var\"] = df[1].apply(findcuisines)"
   ]
  },
  {
   "cell_type": "code",
   "execution_count": 144,
   "metadata": {},
   "outputs": [
    {
     "data": {
      "text/plain": [
       "array(['Fast Food', 'Ice Cream', 'Italian', 'Mughlai', 'Cafe',\n",
       "       'South Indian', 'Beverages', 'Chinese', 'Mithai', 'North Indian',\n",
       "       'Burger', 'Biryani', 'Kerala', 'Desserts', 'Bakery', 'Asian',\n",
       "       'Street Food', 'Pizza', 'Lucknowi', 'Tea', 'Rolls', 'Bengali',\n",
       "       'Mishti', 'European', 'Momos', 'Continental', 'Andhra', 'German',\n",
       "       'Finger Food', 'Sandwich', 'Chettinad', 'Juices', 'Parsi',\n",
       "       'Japanese', 'Salad', 'Tamil', 'North Eastern', 'Maharashtrian',\n",
       "       'Tibetan', 'Arabian', 'Bar Food', 'Konkan', 'Odia', 'Paan',\n",
       "       'Wraps', 'Lebanese', 'American', 'Mediterranean', 'Bohri',\n",
       "       'Mangalorean', 'Thai', 'Healthy Food', 'Raw Meats', 'Gujarati',\n",
       "       'Seafood', 'Rajasthani', 'BBQ', 'Coffee', 'Mexican', 'Goan',\n",
       "       'Korean', 'Kebab', 'Kashmiri', 'Bihari', 'Portuguese',\n",
       "       'Frozen Yogurt', 'Afghan', 'Awadhi', 'Malwani', 'Malaysian',\n",
       "       'Hyderabadi', 'French', 'Modern Indian', 'Sushi', 'Hot dogs',\n",
       "       'Iranian', 'Brazilian', 'Indian', 'African', 'Bubble Tea',\n",
       "       'Turkish', 'Assamese', 'Naga', 'Middle Eastern', 'Vietnamese',\n",
       "       'Steak'], dtype=object)"
      ]
     },
     "execution_count": 144,
     "metadata": {},
     "output_type": "execute_result"
    }
   ],
   "source": [
    "df[0].unique()"
   ]
  },
  {
   "cell_type": "code",
   "execution_count": 108,
   "metadata": {},
   "outputs": [],
   "source": [
    "foodlist = ['Fast Food', 'Ice Cream', 'Italian', 'Mughlai', 'Cafe',\n",
    "       'South Indian', 'Beverages', 'Chinese', 'Mithai', 'North Indian',\n",
    "       'Burger', 'Biryani', 'Kerala', 'Desserts', 'Bakery', 'Asian',\n",
    "       'Street Food', 'Pizza', 'Lucknowi', 'Tea', 'Rolls', 'Bengali',\n",
    "       'Mishti', 'European', 'Momos', 'Continental', 'Andhra', 'German',\n",
    "       'Finger Food', 'Sandwich', 'Chettinad', 'Juices', 'Parsi',\n",
    "       'Japanese', 'Salad', 'Tamil', 'North Eastern', 'Maharashtrian',\n",
    "       'Tibetan', 'Arabian', 'Bar Food', 'Konkan', 'Odia', 'Paan',\n",
    "       'Wraps', 'Lebanese', 'American', 'Mediterranean', 'Bohri',\n",
    "       'Mangalorean', 'Thai', 'Healthy Food', 'Raw Meats', 'Gujarati',\n",
    "       'Seafood', 'Rajasthani', 'BBQ', 'Coffee', 'Mexican', 'Goan',\n",
    "       'Korean', 'Kebab', 'Kashmiri', 'Bihari', 'Portuguese',\n",
    "       'Frozen Yogurt', 'Afghan', 'Awadhi', 'Malwani', 'Malaysian',\n",
    "       'Hyderabadi', 'French', 'Modern Indian', 'Sushi', 'Hot dogs',\n",
    "       'Iranian', 'Brazilian', 'Indian', 'African', 'Bubble Tea',\n",
    "       'Turkish', 'Assamese', 'Naga', 'Middle Eastern', 'Vietnamese',\n",
    "       'Steak']"
   ]
  },
  {
   "cell_type": "code",
   "execution_count": 148,
   "metadata": {},
   "outputs": [],
   "source": [
    "deserts = ['Ice Cream','Mithai','Mishti','Desserts',\n",
    "          'Frozen Yogurt', 'Paan']\n",
    "\n",
    "beverages = ['Beverages', 'Tea','Coffee','Bubble Tea','Juices']\n",
    "\n",
    "fastfood = ['Fast Food','Cafe','Burger','Street Food','Bakery',\n",
    "           'Pizza', \"Rolls\",'Momos','Finger Food', 'Sandwich','Wraps',\n",
    "           'Bar Food', 'Hot dogs']\n",
    "\n",
    "maincourse = ['Italian', 'Mughlai','South Indian','Chinese','North Indian',\n",
    "       'Biryani', 'Kerala', 'Asian','Lucknowi', 'Bengali',\n",
    "       'European', 'Continental', 'Andhra', 'German',\n",
    "      'Chettinad', 'Parsi','Japanese', 'Salad', 'Tamil', 'North Eastern', \n",
    "    'Maharashtrian','Tibetan', 'Arabian', 'Konkan', 'Odia',\n",
    "       'Lebanese', 'American', 'Mediterranean', 'Bohri',\n",
    "       'Mangalorean', 'Thai', 'Healthy Food', 'Raw Meats', 'Gujarati',\n",
    "       'Seafood', 'Rajasthani', 'BBQ', 'Mexican', 'Goan',\n",
    "       'Korean', 'Kebab', 'Kashmiri', 'Bihari', 'Portuguese',\n",
    "       'Afghan', 'Awadhi', 'Malwani', 'Malaysian',\n",
    "       'Hyderabadi', 'French', 'Modern Indian', 'Sushi', \n",
    "       'Iranian', 'Brazilian', 'Indian', 'African',\n",
    "       'Turkish', 'Assamese', 'Naga', 'Middle Eastern', 'Vietnamese',\n",
    "       'Steak']"
   ]
  },
  {
   "cell_type": "code",
   "execution_count": 149,
   "metadata": {},
   "outputs": [],
   "source": [
    "# Make a Function\n",
    "def cuisinedekho(x):\n",
    "    if(x in deserts):\n",
    "        return(\"Deserts\")\n",
    "    elif(x in beverages):\n",
    "        return(\"Beverages\")\n",
    "    elif(x in fastfood):\n",
    "        return(\"FastFood\")\n",
    "    else:\n",
    "        return(\"Main Course\")"
   ]
  },
  {
   "cell_type": "code",
   "execution_count": 151,
   "metadata": {},
   "outputs": [],
   "source": [
    "combined[\"Cuisine_Cleansed\"] = df[0].apply(cuisinedekho)"
   ]
  },
  {
   "cell_type": "code",
   "execution_count": 152,
   "metadata": {},
   "outputs": [
    {
     "data": {
      "text/html": [
       "<div>\n",
       "<style scoped>\n",
       "    .dataframe tbody tr th:only-of-type {\n",
       "        vertical-align: middle;\n",
       "    }\n",
       "\n",
       "    .dataframe tbody tr th {\n",
       "        vertical-align: top;\n",
       "    }\n",
       "\n",
       "    .dataframe thead th {\n",
       "        text-align: right;\n",
       "    }\n",
       "</style>\n",
       "<table border=\"1\" class=\"dataframe\">\n",
       "  <thead>\n",
       "    <tr style=\"text-align: right;\">\n",
       "      <th></th>\n",
       "      <th>Restaurant</th>\n",
       "      <th>Location</th>\n",
       "      <th>Cuisines</th>\n",
       "      <th>Average_Cost</th>\n",
       "      <th>Minimum_Order</th>\n",
       "      <th>Rating</th>\n",
       "      <th>Votes</th>\n",
       "      <th>Reviews</th>\n",
       "      <th>Delivery_Time</th>\n",
       "      <th>Locs_Cleansed</th>\n",
       "      <th>Cuisine_Cleansed</th>\n",
       "    </tr>\n",
       "  </thead>\n",
       "  <tbody>\n",
       "    <tr>\n",
       "      <th>0</th>\n",
       "      <td>ID_6321</td>\n",
       "      <td>FTI College, Law College Road, Pune</td>\n",
       "      <td>Fast Food, Rolls, Burger, Salad, Wraps</td>\n",
       "      <td>₹200</td>\n",
       "      <td>₹50</td>\n",
       "      <td>3.5</td>\n",
       "      <td>12</td>\n",
       "      <td>4</td>\n",
       "      <td>30 minutes</td>\n",
       "      <td>Pune</td>\n",
       "      <td>FastFood</td>\n",
       "    </tr>\n",
       "    <tr>\n",
       "      <th>1</th>\n",
       "      <td>ID_2882</td>\n",
       "      <td>Sector 3, Marathalli</td>\n",
       "      <td>Ice Cream, Desserts</td>\n",
       "      <td>₹100</td>\n",
       "      <td>₹50</td>\n",
       "      <td>3.5</td>\n",
       "      <td>11</td>\n",
       "      <td>4</td>\n",
       "      <td>30 minutes</td>\n",
       "      <td>Bangalore</td>\n",
       "      <td>Deserts</td>\n",
       "    </tr>\n",
       "    <tr>\n",
       "      <th>2</th>\n",
       "      <td>ID_1595</td>\n",
       "      <td>Mumbai Central</td>\n",
       "      <td>Italian, Street Food, Fast Food</td>\n",
       "      <td>₹150</td>\n",
       "      <td>₹50</td>\n",
       "      <td>3.6</td>\n",
       "      <td>99</td>\n",
       "      <td>30</td>\n",
       "      <td>65 minutes</td>\n",
       "      <td>Mumbai</td>\n",
       "      <td>Main Course</td>\n",
       "    </tr>\n",
       "    <tr>\n",
       "      <th>3</th>\n",
       "      <td>ID_5929</td>\n",
       "      <td>Sector 1, Noida</td>\n",
       "      <td>Mughlai, North Indian, Chinese</td>\n",
       "      <td>₹250</td>\n",
       "      <td>₹99</td>\n",
       "      <td>3.7</td>\n",
       "      <td>176</td>\n",
       "      <td>95</td>\n",
       "      <td>30 minutes</td>\n",
       "      <td>Noida</td>\n",
       "      <td>Main Course</td>\n",
       "    </tr>\n",
       "    <tr>\n",
       "      <th>4</th>\n",
       "      <td>ID_6123</td>\n",
       "      <td>Rmz Centennial, I Gate, Whitefield</td>\n",
       "      <td>Cafe, Beverages</td>\n",
       "      <td>₹200</td>\n",
       "      <td>₹99</td>\n",
       "      <td>3.2</td>\n",
       "      <td>521</td>\n",
       "      <td>235</td>\n",
       "      <td>65 minutes</td>\n",
       "      <td>Bangalore</td>\n",
       "      <td>FastFood</td>\n",
       "    </tr>\n",
       "  </tbody>\n",
       "</table>\n",
       "</div>"
      ],
      "text/plain": [
       "  Restaurant                             Location  \\\n",
       "0    ID_6321  FTI College, Law College Road, Pune   \n",
       "1    ID_2882                 Sector 3, Marathalli   \n",
       "2    ID_1595                       Mumbai Central   \n",
       "3    ID_5929                      Sector 1, Noida   \n",
       "4    ID_6123   Rmz Centennial, I Gate, Whitefield   \n",
       "\n",
       "                                 Cuisines Average_Cost Minimum_Order Rating  \\\n",
       "0  Fast Food, Rolls, Burger, Salad, Wraps         ₹200           ₹50    3.5   \n",
       "1                     Ice Cream, Desserts         ₹100           ₹50    3.5   \n",
       "2         Italian, Street Food, Fast Food         ₹150           ₹50    3.6   \n",
       "3          Mughlai, North Indian, Chinese         ₹250           ₹99    3.7   \n",
       "4                         Cafe, Beverages         ₹200           ₹99    3.2   \n",
       "\n",
       "  Votes Reviews Delivery_Time Locs_Cleansed Cuisine_Cleansed  \n",
       "0    12       4    30 minutes          Pune         FastFood  \n",
       "1    11       4    30 minutes     Bangalore          Deserts  \n",
       "2    99      30    65 minutes        Mumbai      Main Course  \n",
       "3   176      95    30 minutes         Noida      Main Course  \n",
       "4   521     235    65 minutes     Bangalore         FastFood  "
      ]
     },
     "execution_count": 152,
     "metadata": {},
     "output_type": "execute_result"
    }
   ],
   "source": [
    "combined.head()"
   ]
  },
  {
   "cell_type": "code",
   "execution_count": 153,
   "metadata": {},
   "outputs": [
    {
     "data": {
      "text/plain": [
       "array(['₹200', '₹100', '₹150', '₹250', '₹650', '₹350', '₹800', '₹50',\n",
       "       '₹400', '₹600', '₹300', '₹750', '₹450', '₹550', '₹1,000', '₹500',\n",
       "       '₹900', '₹1,200', '₹950', '₹850', '₹700', '₹1,150', 'for',\n",
       "       '₹1,100', '₹1,400', '₹2,050'], dtype=object)"
      ]
     },
     "execution_count": 153,
     "metadata": {},
     "output_type": "execute_result"
    }
   ],
   "source": [
    "# Average Cost\n",
    "combined.Average_Cost.unique()"
   ]
  },
  {
   "cell_type": "code",
   "execution_count": 154,
   "metadata": {},
   "outputs": [
    {
     "data": {
      "text/html": [
       "<div>\n",
       "<style scoped>\n",
       "    .dataframe tbody tr th:only-of-type {\n",
       "        vertical-align: middle;\n",
       "    }\n",
       "\n",
       "    .dataframe tbody tr th {\n",
       "        vertical-align: top;\n",
       "    }\n",
       "\n",
       "    .dataframe thead th {\n",
       "        text-align: right;\n",
       "    }\n",
       "</style>\n",
       "<table border=\"1\" class=\"dataframe\">\n",
       "  <thead>\n",
       "    <tr style=\"text-align: right;\">\n",
       "      <th></th>\n",
       "      <th>Restaurant</th>\n",
       "      <th>Location</th>\n",
       "      <th>Cuisines</th>\n",
       "      <th>Average_Cost</th>\n",
       "      <th>Minimum_Order</th>\n",
       "      <th>Rating</th>\n",
       "      <th>Votes</th>\n",
       "      <th>Reviews</th>\n",
       "      <th>Delivery_Time</th>\n",
       "      <th>Locs_Cleansed</th>\n",
       "      <th>Cuisine_Cleansed</th>\n",
       "    </tr>\n",
       "  </thead>\n",
       "  <tbody>\n",
       "    <tr>\n",
       "      <th>9891</th>\n",
       "      <td>ID_33</td>\n",
       "      <td>Delhi High Court, India Gate</td>\n",
       "      <td>Continental, North Indian, Italian, Asian</td>\n",
       "      <td>₹2,050</td>\n",
       "      <td>₹50</td>\n",
       "      <td>3.9</td>\n",
       "      <td>671</td>\n",
       "      <td>357</td>\n",
       "      <td>30 minutes</td>\n",
       "      <td>Delhi</td>\n",
       "      <td>Main Course</td>\n",
       "    </tr>\n",
       "  </tbody>\n",
       "</table>\n",
       "</div>"
      ],
      "text/plain": [
       "     Restaurant                      Location  \\\n",
       "9891      ID_33  Delhi High Court, India Gate   \n",
       "\n",
       "                                       Cuisines Average_Cost Minimum_Order  \\\n",
       "9891  Continental, North Indian, Italian, Asian       ₹2,050           ₹50   \n",
       "\n",
       "     Rating Votes Reviews Delivery_Time Locs_Cleansed Cuisine_Cleansed  \n",
       "9891    3.9   671     357    30 minutes         Delhi      Main Course  "
      ]
     },
     "execution_count": 154,
     "metadata": {},
     "output_type": "execute_result"
    }
   ],
   "source": [
    "combined.loc[combined.Average_Cost=='₹2,050']"
   ]
  },
  {
   "cell_type": "code",
   "execution_count": 167,
   "metadata": {},
   "outputs": [],
   "source": [
    "a = combined.loc[9891,\"Average_Cost\"].split(\"₹\")[1]"
   ]
  },
  {
   "cell_type": "code",
   "execution_count": 173,
   "metadata": {},
   "outputs": [],
   "source": [
    "combined.Average_Cost = combined.Average_Cost.str.replace(\"₹\", \"\")"
   ]
  },
  {
   "cell_type": "code",
   "execution_count": 175,
   "metadata": {},
   "outputs": [],
   "source": [
    "combined.Average_Cost = combined.Average_Cost.str.replace(\",\", \"\")"
   ]
  },
  {
   "cell_type": "code",
   "execution_count": 179,
   "metadata": {},
   "outputs": [
    {
     "data": {
      "text/plain": [
       "array(['200', '100', '150', '250', '650', '350', '800', '50', '400',\n",
       "       '600', '300', '750', '450', '550', '1000', '500', '900', '1200',\n",
       "       '950', '850', '700', '1150', 'for', '1100', '1400', '2050'],\n",
       "      dtype=object)"
      ]
     },
     "execution_count": 179,
     "metadata": {},
     "output_type": "execute_result"
    }
   ],
   "source": [
    "combined.Average_Cost.unique()"
   ]
  },
  {
   "cell_type": "code",
   "execution_count": 181,
   "metadata": {},
   "outputs": [
    {
     "data": {
      "text/html": [
       "<div>\n",
       "<style scoped>\n",
       "    .dataframe tbody tr th:only-of-type {\n",
       "        vertical-align: middle;\n",
       "    }\n",
       "\n",
       "    .dataframe tbody tr th {\n",
       "        vertical-align: top;\n",
       "    }\n",
       "\n",
       "    .dataframe thead th {\n",
       "        text-align: right;\n",
       "    }\n",
       "</style>\n",
       "<table border=\"1\" class=\"dataframe\">\n",
       "  <thead>\n",
       "    <tr style=\"text-align: right;\">\n",
       "      <th></th>\n",
       "      <th>Restaurant</th>\n",
       "      <th>Location</th>\n",
       "      <th>Cuisines</th>\n",
       "      <th>Average_Cost</th>\n",
       "      <th>Minimum_Order</th>\n",
       "      <th>Rating</th>\n",
       "      <th>Votes</th>\n",
       "      <th>Reviews</th>\n",
       "      <th>Delivery_Time</th>\n",
       "      <th>Locs_Cleansed</th>\n",
       "      <th>Cuisine_Cleansed</th>\n",
       "    </tr>\n",
       "  </thead>\n",
       "  <tbody>\n",
       "    <tr>\n",
       "      <th>6297</th>\n",
       "      <td>ID_6472</td>\n",
       "      <td>Pune University</td>\n",
       "      <td>Fast Food</td>\n",
       "      <td>for</td>\n",
       "      <td>₹50</td>\n",
       "      <td>NEW</td>\n",
       "      <td>-</td>\n",
       "      <td>-</td>\n",
       "      <td>30 minutes</td>\n",
       "      <td>Pune</td>\n",
       "      <td>FastFood</td>\n",
       "    </tr>\n",
       "  </tbody>\n",
       "</table>\n",
       "</div>"
      ],
      "text/plain": [
       "     Restaurant         Location   Cuisines Average_Cost Minimum_Order Rating  \\\n",
       "6297    ID_6472  Pune University  Fast Food          for           ₹50    NEW   \n",
       "\n",
       "     Votes Reviews Delivery_Time Locs_Cleansed Cuisine_Cleansed  \n",
       "6297     -       -    30 minutes          Pune         FastFood  "
      ]
     },
     "execution_count": 181,
     "metadata": {},
     "output_type": "execute_result"
    }
   ],
   "source": [
    "combined[combined.Average_Cost==\"for\"]"
   ]
  },
  {
   "cell_type": "code",
   "execution_count": 202,
   "metadata": {},
   "outputs": [
    {
     "data": {
      "text/plain": [
       "count    891.00000\n",
       "mean     183.55780\n",
       "std      112.63754\n",
       "min       50.00000\n",
       "25%      100.00000\n",
       "50%      150.00000\n",
       "75%      200.00000\n",
       "max      800.00000\n",
       "Name: Average_Cost, dtype: float64"
      ]
     },
     "execution_count": 202,
     "metadata": {},
     "output_type": "execute_result"
    }
   ],
   "source": [
    "combined[(combined.Cuisine_Cleansed==\"FastFood\") & (combined.Locs_Cleansed==\"Pune\")][\"Average_Cost\"].describe()"
   ]
  },
  {
   "cell_type": "code",
   "execution_count": 197,
   "metadata": {},
   "outputs": [],
   "source": [
    "combined.Average_Cost = pd.to_numeric(combined.Average_Cost, errors=\"coerce\")"
   ]
  },
  {
   "cell_type": "code",
   "execution_count": 206,
   "metadata": {},
   "outputs": [
    {
     "data": {
      "text/html": [
       "<div>\n",
       "<style scoped>\n",
       "    .dataframe tbody tr th:only-of-type {\n",
       "        vertical-align: middle;\n",
       "    }\n",
       "\n",
       "    .dataframe tbody tr th {\n",
       "        vertical-align: top;\n",
       "    }\n",
       "\n",
       "    .dataframe thead th {\n",
       "        text-align: right;\n",
       "    }\n",
       "</style>\n",
       "<table border=\"1\" class=\"dataframe\">\n",
       "  <thead>\n",
       "    <tr style=\"text-align: right;\">\n",
       "      <th></th>\n",
       "      <th>Restaurant</th>\n",
       "      <th>Location</th>\n",
       "      <th>Cuisines</th>\n",
       "      <th>Average_Cost</th>\n",
       "      <th>Minimum_Order</th>\n",
       "      <th>Rating</th>\n",
       "      <th>Votes</th>\n",
       "      <th>Reviews</th>\n",
       "      <th>Delivery_Time</th>\n",
       "      <th>Locs_Cleansed</th>\n",
       "      <th>Cuisine_Cleansed</th>\n",
       "    </tr>\n",
       "  </thead>\n",
       "  <tbody>\n",
       "  </tbody>\n",
       "</table>\n",
       "</div>"
      ],
      "text/plain": [
       "Empty DataFrame\n",
       "Columns: [Restaurant, Location, Cuisines, Average_Cost, Minimum_Order, Rating, Votes, Reviews, Delivery_Time, Locs_Cleansed, Cuisine_Cleansed]\n",
       "Index: []"
      ]
     },
     "execution_count": 206,
     "metadata": {},
     "output_type": "execute_result"
    }
   ],
   "source": [
    "combined[combined.Average_Cost.isnull()]"
   ]
  },
  {
   "cell_type": "code",
   "execution_count": 205,
   "metadata": {},
   "outputs": [],
   "source": [
    "combined.loc[combined.Average_Cost.isnull(), \"Average_Cost\"] = 150"
   ]
  },
  {
   "cell_type": "code",
   "execution_count": 208,
   "metadata": {},
   "outputs": [
    {
     "data": {
      "text/plain": [
       "array(['₹50', '₹99', '₹0', '₹200', '₹450', '₹350', '₹79', '₹400', '₹199',\n",
       "       '₹500', '₹250', '₹150', '₹90', '₹299', '₹300', '₹240', '₹89',\n",
       "       '₹59', '₹149', '₹399'], dtype=object)"
      ]
     },
     "execution_count": 208,
     "metadata": {},
     "output_type": "execute_result"
    }
   ],
   "source": [
    "combined.Minimum_Order.unique()"
   ]
  },
  {
   "cell_type": "code",
   "execution_count": 209,
   "metadata": {},
   "outputs": [],
   "source": [
    "combined.Minimum_Order = combined.Minimum_Order.str.replace(\"₹\", \"\")"
   ]
  },
  {
   "cell_type": "code",
   "execution_count": 212,
   "metadata": {},
   "outputs": [],
   "source": [
    "combined.Minimum_Order = combined.Minimum_Order.astype(\"int\")"
   ]
  },
  {
   "cell_type": "code",
   "execution_count": 213,
   "metadata": {},
   "outputs": [
    {
     "name": "stdout",
     "output_type": "stream",
     "text": [
      "<class 'pandas.core.frame.DataFrame'>\n",
      "RangeIndex: 13868 entries, 0 to 13867\n",
      "Data columns (total 11 columns):\n",
      "Restaurant          13868 non-null object\n",
      "Location            13868 non-null object\n",
      "Cuisines            13868 non-null object\n",
      "Average_Cost        13868 non-null float64\n",
      "Minimum_Order       13868 non-null int32\n",
      "Rating              13868 non-null object\n",
      "Votes               13868 non-null object\n",
      "Reviews             13868 non-null object\n",
      "Delivery_Time       11094 non-null object\n",
      "Locs_Cleansed       13868 non-null object\n",
      "Cuisine_Cleansed    13868 non-null object\n",
      "dtypes: float64(1), int32(1), object(9)\n",
      "memory usage: 1.1+ MB\n"
     ]
    }
   ],
   "source": [
    "combined.info()"
   ]
  },
  {
   "cell_type": "code",
   "execution_count": 214,
   "metadata": {},
   "outputs": [
    {
     "data": {
      "text/html": [
       "<div>\n",
       "<style scoped>\n",
       "    .dataframe tbody tr th:only-of-type {\n",
       "        vertical-align: middle;\n",
       "    }\n",
       "\n",
       "    .dataframe tbody tr th {\n",
       "        vertical-align: top;\n",
       "    }\n",
       "\n",
       "    .dataframe thead th {\n",
       "        text-align: right;\n",
       "    }\n",
       "</style>\n",
       "<table border=\"1\" class=\"dataframe\">\n",
       "  <thead>\n",
       "    <tr style=\"text-align: right;\">\n",
       "      <th></th>\n",
       "      <th>Restaurant</th>\n",
       "      <th>Location</th>\n",
       "      <th>Cuisines</th>\n",
       "      <th>Average_Cost</th>\n",
       "      <th>Minimum_Order</th>\n",
       "      <th>Rating</th>\n",
       "      <th>Votes</th>\n",
       "      <th>Reviews</th>\n",
       "      <th>Delivery_Time</th>\n",
       "      <th>Locs_Cleansed</th>\n",
       "      <th>Cuisine_Cleansed</th>\n",
       "    </tr>\n",
       "  </thead>\n",
       "  <tbody>\n",
       "    <tr>\n",
       "      <th>0</th>\n",
       "      <td>ID_6321</td>\n",
       "      <td>FTI College, Law College Road, Pune</td>\n",
       "      <td>Fast Food, Rolls, Burger, Salad, Wraps</td>\n",
       "      <td>200.0</td>\n",
       "      <td>50</td>\n",
       "      <td>3.5</td>\n",
       "      <td>12</td>\n",
       "      <td>4</td>\n",
       "      <td>30 minutes</td>\n",
       "      <td>Pune</td>\n",
       "      <td>FastFood</td>\n",
       "    </tr>\n",
       "    <tr>\n",
       "      <th>1</th>\n",
       "      <td>ID_2882</td>\n",
       "      <td>Sector 3, Marathalli</td>\n",
       "      <td>Ice Cream, Desserts</td>\n",
       "      <td>100.0</td>\n",
       "      <td>50</td>\n",
       "      <td>3.5</td>\n",
       "      <td>11</td>\n",
       "      <td>4</td>\n",
       "      <td>30 minutes</td>\n",
       "      <td>Bangalore</td>\n",
       "      <td>Deserts</td>\n",
       "    </tr>\n",
       "    <tr>\n",
       "      <th>2</th>\n",
       "      <td>ID_1595</td>\n",
       "      <td>Mumbai Central</td>\n",
       "      <td>Italian, Street Food, Fast Food</td>\n",
       "      <td>150.0</td>\n",
       "      <td>50</td>\n",
       "      <td>3.6</td>\n",
       "      <td>99</td>\n",
       "      <td>30</td>\n",
       "      <td>65 minutes</td>\n",
       "      <td>Mumbai</td>\n",
       "      <td>Main Course</td>\n",
       "    </tr>\n",
       "    <tr>\n",
       "      <th>3</th>\n",
       "      <td>ID_5929</td>\n",
       "      <td>Sector 1, Noida</td>\n",
       "      <td>Mughlai, North Indian, Chinese</td>\n",
       "      <td>250.0</td>\n",
       "      <td>99</td>\n",
       "      <td>3.7</td>\n",
       "      <td>176</td>\n",
       "      <td>95</td>\n",
       "      <td>30 minutes</td>\n",
       "      <td>Noida</td>\n",
       "      <td>Main Course</td>\n",
       "    </tr>\n",
       "    <tr>\n",
       "      <th>4</th>\n",
       "      <td>ID_6123</td>\n",
       "      <td>Rmz Centennial, I Gate, Whitefield</td>\n",
       "      <td>Cafe, Beverages</td>\n",
       "      <td>200.0</td>\n",
       "      <td>99</td>\n",
       "      <td>3.2</td>\n",
       "      <td>521</td>\n",
       "      <td>235</td>\n",
       "      <td>65 minutes</td>\n",
       "      <td>Bangalore</td>\n",
       "      <td>FastFood</td>\n",
       "    </tr>\n",
       "  </tbody>\n",
       "</table>\n",
       "</div>"
      ],
      "text/plain": [
       "  Restaurant                             Location  \\\n",
       "0    ID_6321  FTI College, Law College Road, Pune   \n",
       "1    ID_2882                 Sector 3, Marathalli   \n",
       "2    ID_1595                       Mumbai Central   \n",
       "3    ID_5929                      Sector 1, Noida   \n",
       "4    ID_6123   Rmz Centennial, I Gate, Whitefield   \n",
       "\n",
       "                                 Cuisines  Average_Cost  Minimum_Order Rating  \\\n",
       "0  Fast Food, Rolls, Burger, Salad, Wraps         200.0             50    3.5   \n",
       "1                     Ice Cream, Desserts         100.0             50    3.5   \n",
       "2         Italian, Street Food, Fast Food         150.0             50    3.6   \n",
       "3          Mughlai, North Indian, Chinese         250.0             99    3.7   \n",
       "4                         Cafe, Beverages         200.0             99    3.2   \n",
       "\n",
       "  Votes Reviews Delivery_Time Locs_Cleansed Cuisine_Cleansed  \n",
       "0    12       4    30 minutes          Pune         FastFood  \n",
       "1    11       4    30 minutes     Bangalore          Deserts  \n",
       "2    99      30    65 minutes        Mumbai      Main Course  \n",
       "3   176      95    30 minutes         Noida      Main Course  \n",
       "4   521     235    65 minutes     Bangalore         FastFood  "
      ]
     },
     "execution_count": 214,
     "metadata": {},
     "output_type": "execute_result"
    }
   ],
   "source": [
    "combined.head()"
   ]
  },
  {
   "cell_type": "code",
   "execution_count": 239,
   "metadata": {},
   "outputs": [],
   "source": [
    "combined.Rating = pd.to_numeric(combined.Rating, errors = \"coerce\") # 3.600000"
   ]
  },
  {
   "cell_type": "code",
   "execution_count": 242,
   "metadata": {},
   "outputs": [],
   "source": [
    "#combined.loc[combined.Rating == \"-\"][\"Delivery_Time\"].describe()"
   ]
  },
  {
   "cell_type": "code",
   "execution_count": 243,
   "metadata": {},
   "outputs": [
    {
     "data": {
      "text/html": [
       "<div>\n",
       "<style scoped>\n",
       "    .dataframe tbody tr th:only-of-type {\n",
       "        vertical-align: middle;\n",
       "    }\n",
       "\n",
       "    .dataframe tbody tr th {\n",
       "        vertical-align: top;\n",
       "    }\n",
       "\n",
       "    .dataframe thead th {\n",
       "        text-align: right;\n",
       "    }\n",
       "</style>\n",
       "<table border=\"1\" class=\"dataframe\">\n",
       "  <thead>\n",
       "    <tr style=\"text-align: right;\">\n",
       "      <th></th>\n",
       "      <th>count</th>\n",
       "      <th>mean</th>\n",
       "      <th>std</th>\n",
       "      <th>min</th>\n",
       "      <th>25%</th>\n",
       "      <th>50%</th>\n",
       "      <th>75%</th>\n",
       "      <th>max</th>\n",
       "    </tr>\n",
       "    <tr>\n",
       "      <th>Locs_Cleansed</th>\n",
       "      <th></th>\n",
       "      <th></th>\n",
       "      <th></th>\n",
       "      <th></th>\n",
       "      <th></th>\n",
       "      <th></th>\n",
       "      <th></th>\n",
       "      <th></th>\n",
       "    </tr>\n",
       "  </thead>\n",
       "  <tbody>\n",
       "    <tr>\n",
       "      <th>Bangalore</th>\n",
       "      <td>2188.0</td>\n",
       "      <td>3.662340</td>\n",
       "      <td>0.400775</td>\n",
       "      <td>2.1</td>\n",
       "      <td>3.4</td>\n",
       "      <td>3.7</td>\n",
       "      <td>3.9</td>\n",
       "      <td>4.9</td>\n",
       "    </tr>\n",
       "    <tr>\n",
       "      <th>Delhi</th>\n",
       "      <td>2070.0</td>\n",
       "      <td>3.615121</td>\n",
       "      <td>0.402744</td>\n",
       "      <td>2.3</td>\n",
       "      <td>3.3</td>\n",
       "      <td>3.6</td>\n",
       "      <td>3.9</td>\n",
       "      <td>4.9</td>\n",
       "    </tr>\n",
       "    <tr>\n",
       "      <th>Gurgaon</th>\n",
       "      <td>718.0</td>\n",
       "      <td>3.564763</td>\n",
       "      <td>0.406225</td>\n",
       "      <td>2.5</td>\n",
       "      <td>3.3</td>\n",
       "      <td>3.5</td>\n",
       "      <td>3.8</td>\n",
       "      <td>4.9</td>\n",
       "    </tr>\n",
       "    <tr>\n",
       "      <th>Hyderabad</th>\n",
       "      <td>399.0</td>\n",
       "      <td>3.573935</td>\n",
       "      <td>0.354260</td>\n",
       "      <td>2.5</td>\n",
       "      <td>3.3</td>\n",
       "      <td>3.6</td>\n",
       "      <td>3.9</td>\n",
       "      <td>4.3</td>\n",
       "    </tr>\n",
       "    <tr>\n",
       "      <th>Kolkata</th>\n",
       "      <td>566.0</td>\n",
       "      <td>3.597880</td>\n",
       "      <td>0.398354</td>\n",
       "      <td>2.2</td>\n",
       "      <td>3.3</td>\n",
       "      <td>3.6</td>\n",
       "      <td>3.9</td>\n",
       "      <td>4.9</td>\n",
       "    </tr>\n",
       "    <tr>\n",
       "      <th>Mumbai</th>\n",
       "      <td>1291.0</td>\n",
       "      <td>3.596437</td>\n",
       "      <td>0.379048</td>\n",
       "      <td>2.4</td>\n",
       "      <td>3.3</td>\n",
       "      <td>3.6</td>\n",
       "      <td>3.9</td>\n",
       "      <td>4.9</td>\n",
       "    </tr>\n",
       "    <tr>\n",
       "      <th>Noida</th>\n",
       "      <td>2129.0</td>\n",
       "      <td>3.579568</td>\n",
       "      <td>0.428749</td>\n",
       "      <td>2.3</td>\n",
       "      <td>3.3</td>\n",
       "      <td>3.6</td>\n",
       "      <td>3.9</td>\n",
       "      <td>4.9</td>\n",
       "    </tr>\n",
       "    <tr>\n",
       "      <th>Pune</th>\n",
       "      <td>2037.0</td>\n",
       "      <td>3.619784</td>\n",
       "      <td>0.452429</td>\n",
       "      <td>2.1</td>\n",
       "      <td>3.3</td>\n",
       "      <td>3.6</td>\n",
       "      <td>3.9</td>\n",
       "      <td>4.8</td>\n",
       "    </tr>\n",
       "  </tbody>\n",
       "</table>\n",
       "</div>"
      ],
      "text/plain": [
       "                count      mean       std  min  25%  50%  75%  max\n",
       "Locs_Cleansed                                                     \n",
       "Bangalore      2188.0  3.662340  0.400775  2.1  3.4  3.7  3.9  4.9\n",
       "Delhi          2070.0  3.615121  0.402744  2.3  3.3  3.6  3.9  4.9\n",
       "Gurgaon         718.0  3.564763  0.406225  2.5  3.3  3.5  3.8  4.9\n",
       "Hyderabad       399.0  3.573935  0.354260  2.5  3.3  3.6  3.9  4.3\n",
       "Kolkata         566.0  3.597880  0.398354  2.2  3.3  3.6  3.9  4.9\n",
       "Mumbai         1291.0  3.596437  0.379048  2.4  3.3  3.6  3.9  4.9\n",
       "Noida          2129.0  3.579568  0.428749  2.3  3.3  3.6  3.9  4.9\n",
       "Pune           2037.0  3.619784  0.452429  2.1  3.3  3.6  3.9  4.8"
      ]
     },
     "execution_count": 243,
     "metadata": {},
     "output_type": "execute_result"
    }
   ],
   "source": [
    "pd.DataFrame(combined.groupby(\"Locs_Cleansed\")[\"Rating\"].describe())"
   ]
  },
  {
   "cell_type": "code",
   "execution_count": 250,
   "metadata": {},
   "outputs": [],
   "source": [
    "combined.loc[combined.Rating.isnull(), \"Rating\"] = 3.6"
   ]
  },
  {
   "cell_type": "code",
   "execution_count": 251,
   "metadata": {},
   "outputs": [
    {
     "data": {
      "text/plain": [
       "Index(['Restaurant', 'Location', 'Cuisines', 'Average_Cost', 'Minimum_Order',\n",
       "       'Rating', 'Votes', 'Reviews', 'Delivery_Time', 'Locs_Cleansed',\n",
       "       'Cuisine_Cleansed'],\n",
       "      dtype='object')"
      ]
     },
     "execution_count": 251,
     "metadata": {},
     "output_type": "execute_result"
    }
   ],
   "source": [
    "combined.columns"
   ]
  },
  {
   "cell_type": "code",
   "execution_count": 255,
   "metadata": {},
   "outputs": [],
   "source": [
    "combined.Votes = pd.to_numeric(combined.Votes, errors = \"coerce\")"
   ]
  },
  {
   "cell_type": "code",
   "execution_count": 257,
   "metadata": {},
   "outputs": [
    {
     "data": {
      "text/plain": [
       "count    11252.000000\n",
       "mean       241.050036\n",
       "std        549.570301\n",
       "min          3.000000\n",
       "25%         19.000000\n",
       "50%         63.000000\n",
       "75%        214.000000\n",
       "max       9054.000000\n",
       "Name: Votes, dtype: float64"
      ]
     },
     "execution_count": 257,
     "metadata": {},
     "output_type": "execute_result"
    }
   ],
   "source": [
    "combined.Votes.describe()"
   ]
  },
  {
   "cell_type": "code",
   "execution_count": 259,
   "metadata": {},
   "outputs": [],
   "source": [
    "combined.loc[combined.Votes.isnull(), \"Votes\"] = 63"
   ]
  },
  {
   "cell_type": "code",
   "execution_count": 261,
   "metadata": {},
   "outputs": [],
   "source": [
    "combined.Reviews = pd.to_numeric(combined.Reviews, errors = \"coerce\")"
   ]
  },
  {
   "cell_type": "code",
   "execution_count": 262,
   "metadata": {},
   "outputs": [
    {
     "data": {
      "text/plain": [
       "count    10963.000000\n",
       "mean       120.893004\n",
       "std        315.592114\n",
       "min          1.000000\n",
       "25%          7.000000\n",
       "50%         26.000000\n",
       "75%         90.000000\n",
       "max       6504.000000\n",
       "Name: Reviews, dtype: float64"
      ]
     },
     "execution_count": 262,
     "metadata": {},
     "output_type": "execute_result"
    }
   ],
   "source": [
    "combined.Reviews.describe()"
   ]
  },
  {
   "cell_type": "code",
   "execution_count": 264,
   "metadata": {},
   "outputs": [],
   "source": [
    "combined.loc[combined.Reviews.isnull(), \"Reviews\"] = 26"
   ]
  },
  {
   "cell_type": "code",
   "execution_count": 266,
   "metadata": {},
   "outputs": [
    {
     "data": {
      "text/plain": [
       "Restaurant             0\n",
       "Location               0\n",
       "Cuisines               0\n",
       "Average_Cost           0\n",
       "Minimum_Order          0\n",
       "Rating                 0\n",
       "Votes                  0\n",
       "Reviews                0\n",
       "Delivery_Time       2774\n",
       "Locs_Cleansed          0\n",
       "Cuisine_Cleansed       0\n",
       "dtype: int64"
      ]
     },
     "execution_count": 266,
     "metadata": {},
     "output_type": "execute_result"
    }
   ],
   "source": [
    "combined.isnull().sum()"
   ]
  },
  {
   "cell_type": "code",
   "execution_count": 267,
   "metadata": {},
   "outputs": [
    {
     "name": "stdout",
     "output_type": "stream",
     "text": [
      "<class 'pandas.core.frame.DataFrame'>\n",
      "RangeIndex: 13868 entries, 0 to 13867\n",
      "Data columns (total 11 columns):\n",
      "Restaurant          13868 non-null object\n",
      "Location            13868 non-null object\n",
      "Cuisines            13868 non-null object\n",
      "Average_Cost        13868 non-null float64\n",
      "Minimum_Order       13868 non-null int32\n",
      "Rating              13868 non-null float64\n",
      "Votes               13868 non-null float64\n",
      "Reviews             13868 non-null float64\n",
      "Delivery_Time       11094 non-null object\n",
      "Locs_Cleansed       13868 non-null object\n",
      "Cuisine_Cleansed    13868 non-null object\n",
      "dtypes: float64(4), int32(1), object(6)\n",
      "memory usage: 1.1+ MB\n"
     ]
    }
   ],
   "source": [
    "combined.info()"
   ]
  },
  {
   "cell_type": "code",
   "execution_count": 268,
   "metadata": {},
   "outputs": [],
   "source": [
    "def ratingcat(x):\n",
    "    if(x>=4.0):\n",
    "        return(\"Good\")\n",
    "    elif(x>=3.0):\n",
    "        return(\"Average\")\n",
    "    else:\n",
    "        return(\"Poor\")"
   ]
  },
  {
   "cell_type": "code",
   "execution_count": 270,
   "metadata": {},
   "outputs": [],
   "source": [
    "combined[\"Rating_Cat\"] = combined.Rating.apply(ratingcat)"
   ]
  },
  {
   "cell_type": "code",
   "execution_count": 273,
   "metadata": {},
   "outputs": [
    {
     "data": {
      "text/plain": [
       "<matplotlib.axes._subplots.AxesSubplot at 0x18c50b6c2e8>"
      ]
     },
     "execution_count": 273,
     "metadata": {},
     "output_type": "execute_result"
    },
    {
     "data": {
      "image/png": "[encoded data removed]",
      "text/plain": [
       "<Figure size 432x288 with 1 Axes>"
      ]
     },
     "metadata": {
      "needs_background": "light"
     },
     "output_type": "display_data"
    }
   ],
   "source": [
    "combined.Rating_Cat.value_counts().plot(kind = \"bar\")"
   ]
  },
  {
   "cell_type": "code",
   "execution_count": 276,
   "metadata": {
    "scrolled": true
   },
   "outputs": [
    {
     "data": {
      "text/plain": [
       "Rating_Cat  Delivery_Time\n",
       "Average     30 minutes       6232\n",
       "            45 minutes       1780\n",
       "            65 minutes        586\n",
       "            120 minutes        37\n",
       "            20 minutes         16\n",
       "            80 minutes          7\n",
       "            10 minutes          4\n",
       "Good        30 minutes        876\n",
       "            45 minutes        742\n",
       "            65 minutes        270\n",
       "            120 minutes        12\n",
       "            80 minutes          7\n",
       "            20 minutes          3\n",
       "Poor        30 minutes        298\n",
       "            45 minutes        143\n",
       "            65 minutes         67\n",
       "            120 minutes        13\n",
       "            20 minutes          1\n",
       "Name: Delivery_Time, dtype: int64"
      ]
     },
     "execution_count": 276,
     "metadata": {},
     "output_type": "execute_result"
    }
   ],
   "source": [
    "combined.groupby(\"Rating_Cat\")[\"Delivery_Time\"].value_counts()"
   ]
  },
  {
   "cell_type": "markdown",
   "metadata": {},
   "source": [
    "### Finding if Rating has an impact on Delivery Time\n",
    "\n",
    "### H0: The Rating has no impact on Delivery Time or vice versa.\n",
    "\n",
    "### H1: Delivery Time is influenced by the Rating\n",
    "\n",
    "Test Performed - Since one column iun Numerical and Another Categorical and Hence the Test applied is F Test."
   ]
  },
  {
   "cell_type": "code",
   "execution_count": 277,
   "metadata": {},
   "outputs": [],
   "source": [
    "from statsmodels.formula.api import ols"
   ]
  },
  {
   "cell_type": "code",
   "execution_count": 278,
   "metadata": {},
   "outputs": [],
   "source": [
    "import statsmodels.api as sms"
   ]
  },
  {
   "cell_type": "code",
   "execution_count": 279,
   "metadata": {},
   "outputs": [
    {
     "data": {
      "text/plain": [
       "Index(['Restaurant', 'Location', 'Cuisines', 'Average_Cost', 'Minimum_Order',\n",
       "       'Rating', 'Votes', 'Reviews', 'Delivery_Time', 'Locs_Cleansed',\n",
       "       'Cuisine_Cleansed', 'Rating_Cat'],\n",
       "      dtype='object')"
      ]
     },
     "execution_count": 279,
     "metadata": {},
     "output_type": "execute_result"
    }
   ],
   "source": [
    "combined.columns"
   ]
  },
  {
   "cell_type": "code",
   "execution_count": 283,
   "metadata": {},
   "outputs": [],
   "source": [
    "model = ols(\"Rating~Delivery_Time\", data = combined).fit()"
   ]
  },
  {
   "cell_type": "code",
   "execution_count": 284,
   "metadata": {},
   "outputs": [
    {
     "name": "stdout",
     "output_type": "stream",
     "text": [
      "                    df       sum_sq   mean_sq          F        PR(>F)\n",
      "Delivery_Time      6.0    51.471247  8.578541  62.727838  7.136598e-77\n",
      "Residual       11087.0  1516.237260  0.136758        NaN           NaN\n"
     ]
    }
   ],
   "source": [
    "print(sms.stats.anova_lm(model))"
   ]
  },
  {
   "cell_type": "markdown",
   "metadata": {},
   "source": [
    "#### Inference\n",
    "\n",
    "As we see that the Pvalue is less than 0.05 and hence we can conclude that we reject the Ho meaning that the Delivery Time is influenced by the Rating"
   ]
  },
  {
   "cell_type": "code",
   "execution_count": 286,
   "metadata": {},
   "outputs": [],
   "source": [
    "new = combined.drop([\"Restaurant\", \"Location\", \"Cuisines\"], axis = 1)"
   ]
  },
  {
   "cell_type": "code",
   "execution_count": 287,
   "metadata": {},
   "outputs": [
    {
     "data": {
      "text/html": [
       "<div>\n",
       "<style scoped>\n",
       "    .dataframe tbody tr th:only-of-type {\n",
       "        vertical-align: middle;\n",
       "    }\n",
       "\n",
       "    .dataframe tbody tr th {\n",
       "        vertical-align: top;\n",
       "    }\n",
       "\n",
       "    .dataframe thead th {\n",
       "        text-align: right;\n",
       "    }\n",
       "</style>\n",
       "<table border=\"1\" class=\"dataframe\">\n",
       "  <thead>\n",
       "    <tr style=\"text-align: right;\">\n",
       "      <th></th>\n",
       "      <th>Average_Cost</th>\n",
       "      <th>Minimum_Order</th>\n",
       "      <th>Rating</th>\n",
       "      <th>Votes</th>\n",
       "      <th>Reviews</th>\n",
       "      <th>Delivery_Time</th>\n",
       "      <th>Locs_Cleansed</th>\n",
       "      <th>Cuisine_Cleansed</th>\n",
       "      <th>Rating_Cat</th>\n",
       "    </tr>\n",
       "  </thead>\n",
       "  <tbody>\n",
       "    <tr>\n",
       "      <th>0</th>\n",
       "      <td>200.0</td>\n",
       "      <td>50</td>\n",
       "      <td>3.5</td>\n",
       "      <td>12.0</td>\n",
       "      <td>4.0</td>\n",
       "      <td>30 minutes</td>\n",
       "      <td>Pune</td>\n",
       "      <td>FastFood</td>\n",
       "      <td>Average</td>\n",
       "    </tr>\n",
       "    <tr>\n",
       "      <th>1</th>\n",
       "      <td>100.0</td>\n",
       "      <td>50</td>\n",
       "      <td>3.5</td>\n",
       "      <td>11.0</td>\n",
       "      <td>4.0</td>\n",
       "      <td>30 minutes</td>\n",
       "      <td>Bangalore</td>\n",
       "      <td>Deserts</td>\n",
       "      <td>Average</td>\n",
       "    </tr>\n",
       "    <tr>\n",
       "      <th>2</th>\n",
       "      <td>150.0</td>\n",
       "      <td>50</td>\n",
       "      <td>3.6</td>\n",
       "      <td>99.0</td>\n",
       "      <td>30.0</td>\n",
       "      <td>65 minutes</td>\n",
       "      <td>Mumbai</td>\n",
       "      <td>Main Course</td>\n",
       "      <td>Average</td>\n",
       "    </tr>\n",
       "    <tr>\n",
       "      <th>3</th>\n",
       "      <td>250.0</td>\n",
       "      <td>99</td>\n",
       "      <td>3.7</td>\n",
       "      <td>176.0</td>\n",
       "      <td>95.0</td>\n",
       "      <td>30 minutes</td>\n",
       "      <td>Noida</td>\n",
       "      <td>Main Course</td>\n",
       "      <td>Average</td>\n",
       "    </tr>\n",
       "    <tr>\n",
       "      <th>4</th>\n",
       "      <td>200.0</td>\n",
       "      <td>99</td>\n",
       "      <td>3.2</td>\n",
       "      <td>521.0</td>\n",
       "      <td>235.0</td>\n",
       "      <td>65 minutes</td>\n",
       "      <td>Bangalore</td>\n",
       "      <td>FastFood</td>\n",
       "      <td>Average</td>\n",
       "    </tr>\n",
       "  </tbody>\n",
       "</table>\n",
       "</div>"
      ],
      "text/plain": [
       "   Average_Cost  Minimum_Order  Rating  Votes  Reviews Delivery_Time  \\\n",
       "0         200.0             50     3.5   12.0      4.0    30 minutes   \n",
       "1         100.0             50     3.5   11.0      4.0    30 minutes   \n",
       "2         150.0             50     3.6   99.0     30.0    65 minutes   \n",
       "3         250.0             99     3.7  176.0     95.0    30 minutes   \n",
       "4         200.0             99     3.2  521.0    235.0    65 minutes   \n",
       "\n",
       "  Locs_Cleansed Cuisine_Cleansed Rating_Cat  \n",
       "0          Pune         FastFood    Average  \n",
       "1     Bangalore          Deserts    Average  \n",
       "2        Mumbai      Main Course    Average  \n",
       "3         Noida      Main Course    Average  \n",
       "4     Bangalore         FastFood    Average  "
      ]
     },
     "execution_count": 287,
     "metadata": {},
     "output_type": "execute_result"
    }
   ],
   "source": [
    "new.head()"
   ]
  },
  {
   "cell_type": "code",
   "execution_count": 292,
   "metadata": {},
   "outputs": [
    {
     "name": "stdout",
     "output_type": "stream",
     "text": [
      "<class 'pandas.core.frame.DataFrame'>\n",
      "RangeIndex: 13868 entries, 0 to 13867\n",
      "Data columns (total 9 columns):\n",
      "Average_Cost        13868 non-null float64\n",
      "Minimum_Order       13868 non-null int32\n",
      "Rating              13868 non-null float64\n",
      "Votes               13868 non-null float64\n",
      "Reviews             13868 non-null float64\n",
      "Delivery_Time       11094 non-null object\n",
      "Locs_Cleansed       13868 non-null object\n",
      "Cuisine_Cleansed    13868 non-null object\n",
      "Rating_Cat          13868 non-null object\n",
      "dtypes: float64(4), int32(1), object(4)\n",
      "memory usage: 921.0+ KB\n"
     ]
    }
   ],
   "source": [
    "new.info()"
   ]
  },
  {
   "cell_type": "code",
   "execution_count": 293,
   "metadata": {},
   "outputs": [],
   "source": [
    "# Bring it in train and test\n",
    "newtrain = new.loc[:train.shape[0]-1]"
   ]
  },
  {
   "cell_type": "code",
   "execution_count": 295,
   "metadata": {},
   "outputs": [
    {
     "data": {
      "text/html": [
       "<div>\n",
       "<style scoped>\n",
       "    .dataframe tbody tr th:only-of-type {\n",
       "        vertical-align: middle;\n",
       "    }\n",
       "\n",
       "    .dataframe tbody tr th {\n",
       "        vertical-align: top;\n",
       "    }\n",
       "\n",
       "    .dataframe thead th {\n",
       "        text-align: right;\n",
       "    }\n",
       "</style>\n",
       "<table border=\"1\" class=\"dataframe\">\n",
       "  <thead>\n",
       "    <tr style=\"text-align: right;\">\n",
       "      <th></th>\n",
       "      <th>Average_Cost</th>\n",
       "      <th>Minimum_Order</th>\n",
       "      <th>Rating</th>\n",
       "      <th>Votes</th>\n",
       "      <th>Reviews</th>\n",
       "      <th>Delivery_Time</th>\n",
       "      <th>Locs_Cleansed</th>\n",
       "      <th>Cuisine_Cleansed</th>\n",
       "      <th>Rating_Cat</th>\n",
       "    </tr>\n",
       "  </thead>\n",
       "  <tbody>\n",
       "    <tr>\n",
       "      <th>11089</th>\n",
       "      <td>250.0</td>\n",
       "      <td>50</td>\n",
       "      <td>4.2</td>\n",
       "      <td>326.0</td>\n",
       "      <td>189.0</td>\n",
       "      <td>30 minutes</td>\n",
       "      <td>Bangalore</td>\n",
       "      <td>Main Course</td>\n",
       "      <td>Good</td>\n",
       "    </tr>\n",
       "    <tr>\n",
       "      <th>11090</th>\n",
       "      <td>100.0</td>\n",
       "      <td>50</td>\n",
       "      <td>3.6</td>\n",
       "      <td>36.0</td>\n",
       "      <td>16.0</td>\n",
       "      <td>30 minutes</td>\n",
       "      <td>Noida</td>\n",
       "      <td>FastFood</td>\n",
       "      <td>Average</td>\n",
       "    </tr>\n",
       "    <tr>\n",
       "      <th>11091</th>\n",
       "      <td>100.0</td>\n",
       "      <td>50</td>\n",
       "      <td>3.5</td>\n",
       "      <td>45.0</td>\n",
       "      <td>18.0</td>\n",
       "      <td>30 minutes</td>\n",
       "      <td>Bangalore</td>\n",
       "      <td>Main Course</td>\n",
       "      <td>Average</td>\n",
       "    </tr>\n",
       "    <tr>\n",
       "      <th>11092</th>\n",
       "      <td>100.0</td>\n",
       "      <td>50</td>\n",
       "      <td>3.1</td>\n",
       "      <td>24.0</td>\n",
       "      <td>9.0</td>\n",
       "      <td>30 minutes</td>\n",
       "      <td>Bangalore</td>\n",
       "      <td>Main Course</td>\n",
       "      <td>Average</td>\n",
       "    </tr>\n",
       "    <tr>\n",
       "      <th>11093</th>\n",
       "      <td>100.0</td>\n",
       "      <td>50</td>\n",
       "      <td>3.6</td>\n",
       "      <td>63.0</td>\n",
       "      <td>26.0</td>\n",
       "      <td>30 minutes</td>\n",
       "      <td>Gurgaon</td>\n",
       "      <td>Main Course</td>\n",
       "      <td>Average</td>\n",
       "    </tr>\n",
       "  </tbody>\n",
       "</table>\n",
       "</div>"
      ],
      "text/plain": [
       "       Average_Cost  Minimum_Order  Rating  Votes  Reviews Delivery_Time  \\\n",
       "11089         250.0             50     4.2  326.0    189.0    30 minutes   \n",
       "11090         100.0             50     3.6   36.0     16.0    30 minutes   \n",
       "11091         100.0             50     3.5   45.0     18.0    30 minutes   \n",
       "11092         100.0             50     3.1   24.0      9.0    30 minutes   \n",
       "11093         100.0             50     3.6   63.0     26.0    30 minutes   \n",
       "\n",
       "      Locs_Cleansed Cuisine_Cleansed Rating_Cat  \n",
       "11089     Bangalore      Main Course       Good  \n",
       "11090         Noida         FastFood    Average  \n",
       "11091     Bangalore      Main Course    Average  \n",
       "11092     Bangalore      Main Course    Average  \n",
       "11093       Gurgaon      Main Course    Average  "
      ]
     },
     "execution_count": 295,
     "metadata": {},
     "output_type": "execute_result"
    }
   ],
   "source": [
    "newtrain.tail()"
   ]
  },
  {
   "cell_type": "code",
   "execution_count": 299,
   "metadata": {},
   "outputs": [],
   "source": [
    "newtest = new.loc[11094:combined.shape[0]]"
   ]
  },
  {
   "cell_type": "code",
   "execution_count": 302,
   "metadata": {},
   "outputs": [
    {
     "name": "stderr",
     "output_type": "stream",
     "text": [
      "C:\\Users\\It\\Anaconda3\\lib\\site-packages\\pandas\\core\\frame.py:3697: SettingWithCopyWarning: \n",
      "A value is trying to be set on a copy of a slice from a DataFrame\n",
      "\n",
      "See the caveats in the documentation: http://pandas.pydata.org/pandas-docs/stable/indexing.html#indexing-view-versus-copy\n",
      "  errors=errors)\n"
     ]
    }
   ],
   "source": [
    "newtest.drop(['Delivery_Time'], axis=1, inplace = True)"
   ]
  },
  {
   "cell_type": "code",
   "execution_count": 303,
   "metadata": {},
   "outputs": [
    {
     "data": {
      "text/plain": [
       "Index(['Average_Cost', 'Minimum_Order', 'Rating', 'Votes', 'Reviews',\n",
       "       'Locs_Cleansed', 'Cuisine_Cleansed', 'Rating_Cat'],\n",
       "      dtype='object')"
      ]
     },
     "execution_count": 303,
     "metadata": {},
     "output_type": "execute_result"
    }
   ],
   "source": [
    "newtest.columns"
   ]
  },
  {
   "cell_type": "code",
   "execution_count": 304,
   "metadata": {},
   "outputs": [
    {
     "data": {
      "text/plain": [
       "Index(['Average_Cost', 'Minimum_Order', 'Rating', 'Votes', 'Reviews',\n",
       "       'Delivery_Time', 'Locs_Cleansed', 'Cuisine_Cleansed', 'Rating_Cat'],\n",
       "      dtype='object')"
      ]
     },
     "execution_count": 304,
     "metadata": {},
     "output_type": "execute_result"
    }
   ],
   "source": [
    "newtrain.columns"
   ]
  },
  {
   "cell_type": "code",
   "execution_count": 305,
   "metadata": {},
   "outputs": [],
   "source": [
    "# Sklearn - LE\n",
    "from sklearn.preprocessing import LabelEncoder"
   ]
  },
  {
   "cell_type": "code",
   "execution_count": 306,
   "metadata": {},
   "outputs": [],
   "source": [
    "le = LabelEncoder()"
   ]
  },
  {
   "cell_type": "code",
   "execution_count": 308,
   "metadata": {},
   "outputs": [
    {
     "name": "stderr",
     "output_type": "stream",
     "text": [
      "C:\\Users\\It\\Anaconda3\\lib\\site-packages\\ipykernel_launcher.py:1: SettingWithCopyWarning: \n",
      "A value is trying to be set on a copy of a slice from a DataFrame.\n",
      "Try using .loc[row_indexer,col_indexer] = value instead\n",
      "\n",
      "See the caveats in the documentation: http://pandas.pydata.org/pandas-docs/stable/indexing.html#indexing-view-versus-copy\n",
      "  \"\"\"Entry point for launching an IPython kernel.\n"
     ]
    }
   ],
   "source": [
    "newtrain[\"Delivery_TimeCat\"] = le.fit_transform(newtrain.Delivery_Time)"
   ]
  },
  {
   "cell_type": "code",
   "execution_count": 310,
   "metadata": {},
   "outputs": [
    {
     "data": {
      "text/html": [
       "<div>\n",
       "<style scoped>\n",
       "    .dataframe tbody tr th:only-of-type {\n",
       "        vertical-align: middle;\n",
       "    }\n",
       "\n",
       "    .dataframe tbody tr th {\n",
       "        vertical-align: top;\n",
       "    }\n",
       "\n",
       "    .dataframe thead th {\n",
       "        text-align: right;\n",
       "    }\n",
       "</style>\n",
       "<table border=\"1\" class=\"dataframe\">\n",
       "  <thead>\n",
       "    <tr style=\"text-align: right;\">\n",
       "      <th></th>\n",
       "      <th>Average_Cost</th>\n",
       "      <th>Minimum_Order</th>\n",
       "      <th>Rating</th>\n",
       "      <th>Votes</th>\n",
       "      <th>Reviews</th>\n",
       "      <th>Delivery_Time</th>\n",
       "      <th>Locs_Cleansed</th>\n",
       "      <th>Cuisine_Cleansed</th>\n",
       "      <th>Rating_Cat</th>\n",
       "      <th>Delivery_TimeCat</th>\n",
       "    </tr>\n",
       "  </thead>\n",
       "  <tbody>\n",
       "    <tr>\n",
       "      <th>0</th>\n",
       "      <td>200.0</td>\n",
       "      <td>50</td>\n",
       "      <td>3.5</td>\n",
       "      <td>12.0</td>\n",
       "      <td>4.0</td>\n",
       "      <td>30 minutes</td>\n",
       "      <td>Pune</td>\n",
       "      <td>FastFood</td>\n",
       "      <td>Average</td>\n",
       "      <td>3</td>\n",
       "    </tr>\n",
       "    <tr>\n",
       "      <th>1</th>\n",
       "      <td>100.0</td>\n",
       "      <td>50</td>\n",
       "      <td>3.5</td>\n",
       "      <td>11.0</td>\n",
       "      <td>4.0</td>\n",
       "      <td>30 minutes</td>\n",
       "      <td>Bangalore</td>\n",
       "      <td>Deserts</td>\n",
       "      <td>Average</td>\n",
       "      <td>3</td>\n",
       "    </tr>\n",
       "    <tr>\n",
       "      <th>2</th>\n",
       "      <td>150.0</td>\n",
       "      <td>50</td>\n",
       "      <td>3.6</td>\n",
       "      <td>99.0</td>\n",
       "      <td>30.0</td>\n",
       "      <td>65 minutes</td>\n",
       "      <td>Mumbai</td>\n",
       "      <td>Main Course</td>\n",
       "      <td>Average</td>\n",
       "      <td>5</td>\n",
       "    </tr>\n",
       "    <tr>\n",
       "      <th>3</th>\n",
       "      <td>250.0</td>\n",
       "      <td>99</td>\n",
       "      <td>3.7</td>\n",
       "      <td>176.0</td>\n",
       "      <td>95.0</td>\n",
       "      <td>30 minutes</td>\n",
       "      <td>Noida</td>\n",
       "      <td>Main Course</td>\n",
       "      <td>Average</td>\n",
       "      <td>3</td>\n",
       "    </tr>\n",
       "    <tr>\n",
       "      <th>4</th>\n",
       "      <td>200.0</td>\n",
       "      <td>99</td>\n",
       "      <td>3.2</td>\n",
       "      <td>521.0</td>\n",
       "      <td>235.0</td>\n",
       "      <td>65 minutes</td>\n",
       "      <td>Bangalore</td>\n",
       "      <td>FastFood</td>\n",
       "      <td>Average</td>\n",
       "      <td>5</td>\n",
       "    </tr>\n",
       "  </tbody>\n",
       "</table>\n",
       "</div>"
      ],
      "text/plain": [
       "   Average_Cost  Minimum_Order  Rating  Votes  Reviews Delivery_Time  \\\n",
       "0         200.0             50     3.5   12.0      4.0    30 minutes   \n",
       "1         100.0             50     3.5   11.0      4.0    30 minutes   \n",
       "2         150.0             50     3.6   99.0     30.0    65 minutes   \n",
       "3         250.0             99     3.7  176.0     95.0    30 minutes   \n",
       "4         200.0             99     3.2  521.0    235.0    65 minutes   \n",
       "\n",
       "  Locs_Cleansed Cuisine_Cleansed Rating_Cat  Delivery_TimeCat  \n",
       "0          Pune         FastFood    Average                 3  \n",
       "1     Bangalore          Deserts    Average                 3  \n",
       "2        Mumbai      Main Course    Average                 5  \n",
       "3         Noida      Main Course    Average                 3  \n",
       "4     Bangalore         FastFood    Average                 5  "
      ]
     },
     "execution_count": 310,
     "metadata": {},
     "output_type": "execute_result"
    }
   ],
   "source": [
    "newtrain.head()"
   ]
  },
  {
   "cell_type": "code",
   "execution_count": 314,
   "metadata": {
    "scrolled": true
   },
   "outputs": [
    {
     "data": {
      "text/html": [
       "<div>\n",
       "<style scoped>\n",
       "    .dataframe tbody tr th:only-of-type {\n",
       "        vertical-align: middle;\n",
       "    }\n",
       "\n",
       "    .dataframe tbody tr th {\n",
       "        vertical-align: top;\n",
       "    }\n",
       "\n",
       "    .dataframe thead th {\n",
       "        text-align: right;\n",
       "    }\n",
       "</style>\n",
       "<table border=\"1\" class=\"dataframe\">\n",
       "  <thead>\n",
       "    <tr style=\"text-align: right;\">\n",
       "      <th></th>\n",
       "      <th></th>\n",
       "      <th>Delivery_TimeCat</th>\n",
       "    </tr>\n",
       "    <tr>\n",
       "      <th>Delivery_Time</th>\n",
       "      <th>Delivery_TimeCat</th>\n",
       "      <th></th>\n",
       "    </tr>\n",
       "  </thead>\n",
       "  <tbody>\n",
       "    <tr>\n",
       "      <th>10 minutes</th>\n",
       "      <th>0</th>\n",
       "      <td>4</td>\n",
       "    </tr>\n",
       "    <tr>\n",
       "      <th>120 minutes</th>\n",
       "      <th>1</th>\n",
       "      <td>62</td>\n",
       "    </tr>\n",
       "    <tr>\n",
       "      <th>20 minutes</th>\n",
       "      <th>2</th>\n",
       "      <td>20</td>\n",
       "    </tr>\n",
       "    <tr>\n",
       "      <th>30 minutes</th>\n",
       "      <th>3</th>\n",
       "      <td>7406</td>\n",
       "    </tr>\n",
       "    <tr>\n",
       "      <th>45 minutes</th>\n",
       "      <th>4</th>\n",
       "      <td>2665</td>\n",
       "    </tr>\n",
       "    <tr>\n",
       "      <th>65 minutes</th>\n",
       "      <th>5</th>\n",
       "      <td>923</td>\n",
       "    </tr>\n",
       "    <tr>\n",
       "      <th>80 minutes</th>\n",
       "      <th>6</th>\n",
       "      <td>14</td>\n",
       "    </tr>\n",
       "  </tbody>\n",
       "</table>\n",
       "</div>"
      ],
      "text/plain": [
       "                                Delivery_TimeCat\n",
       "Delivery_Time Delivery_TimeCat                  \n",
       "10 minutes    0                                4\n",
       "120 minutes   1                               62\n",
       "20 minutes    2                               20\n",
       "30 minutes    3                             7406\n",
       "45 minutes    4                             2665\n",
       "65 minutes    5                              923\n",
       "80 minutes    6                               14"
      ]
     },
     "execution_count": 314,
     "metadata": {},
     "output_type": "execute_result"
    }
   ],
   "source": [
    "# Relation\n",
    "pd.DataFrame(newtrain.groupby(\"Delivery_Time\")[\"Delivery_TimeCat\"].value_counts())"
   ]
  },
  {
   "cell_type": "code",
   "execution_count": 342,
   "metadata": {},
   "outputs": [],
   "source": [
    "def mapkardo(x):\n",
    "    if(x==0):\n",
    "        return(\"10 minutes\")\n",
    "    elif(x==1):\n",
    "        return(\"120 minutes\")\n",
    "    elif(x ==2):\n",
    "        return(\"20 minutes\")\n",
    "    elif(x==3):\n",
    "        return(\"30 minutes\")\n",
    "    elif(x==4):\n",
    "        return(\"45 minutes\")\n",
    "    elif(x==5):\n",
    "        return(\"65 minutes\")\n",
    "    else:\n",
    "        return(\"80 minutes\")\n"
   ]
  },
  {
   "cell_type": "code",
   "execution_count": 319,
   "metadata": {},
   "outputs": [],
   "source": [
    "# Delete Delivery Time\n",
    "finaltrain = newtrain.drop(\"Delivery_Time\", axis = 1)"
   ]
  },
  {
   "cell_type": "code",
   "execution_count": 322,
   "metadata": {},
   "outputs": [],
   "source": [
    "scaled_train = pd.get_dummies(finaltrain)"
   ]
  },
  {
   "cell_type": "code",
   "execution_count": 323,
   "metadata": {},
   "outputs": [],
   "source": [
    "scaled_test = pd.get_dummies(newtest)"
   ]
  },
  {
   "cell_type": "code",
   "execution_count": 325,
   "metadata": {},
   "outputs": [],
   "source": [
    "# Standard Scaling\n",
    "from sklearn.preprocessing import StandardScaler\n",
    "sc = StandardScaler()"
   ]
  },
  {
   "cell_type": "code",
   "execution_count": 326,
   "metadata": {},
   "outputs": [],
   "source": [
    "x = scaled_train.drop(\"Delivery_TimeCat\", axis = 1)\n",
    "y = scaled_train.Delivery_TimeCat"
   ]
  },
  {
   "cell_type": "code",
   "execution_count": 328,
   "metadata": {},
   "outputs": [],
   "source": [
    "train_scaled = pd.DataFrame(sc.fit_transform(x), columns=x.columns)"
   ]
  },
  {
   "cell_type": "code",
   "execution_count": 331,
   "metadata": {},
   "outputs": [],
   "source": [
    "test_scaled=pd.DataFrame(sc.transform(scaled_test), \n",
    "                         columns=scaled_test.columns)"
   ]
  },
  {
   "cell_type": "markdown",
   "metadata": {},
   "source": [
    "### Modelling\n",
    "\n",
    "1. Decision tree"
   ]
  },
  {
   "cell_type": "code",
   "execution_count": 332,
   "metadata": {},
   "outputs": [],
   "source": [
    "from sklearn.tree import DecisionTreeClassifier"
   ]
  },
  {
   "cell_type": "code",
   "execution_count": 333,
   "metadata": {},
   "outputs": [],
   "source": [
    "dtree = DecisionTreeClassifier(criterion=\"entropy\")"
   ]
  },
  {
   "cell_type": "code",
   "execution_count": 348,
   "metadata": {},
   "outputs": [],
   "source": [
    "pred = dtree.fit(train_scaled, y).predict(test_scaled)"
   ]
  },
  {
   "cell_type": "code",
   "execution_count": 349,
   "metadata": {},
   "outputs": [],
   "source": [
    "solution = pd.DataFrame({\"Delivery_Time\":pred})"
   ]
  },
  {
   "cell_type": "code",
   "execution_count": 352,
   "metadata": {},
   "outputs": [],
   "source": [
    "solution[\"Delivery_Time\"] = solution.Delivery_Time.apply(mapkardo)"
   ]
  },
  {
   "cell_type": "code",
   "execution_count": 360,
   "metadata": {},
   "outputs": [],
   "source": [
    "# Export as csv\n",
    "solution.to_excel(\"DTREEMODEL.xlsx\", index = False)"
   ]
  },
  {
   "cell_type": "code",
   "execution_count": 361,
   "metadata": {},
   "outputs": [],
   "source": [
    "from sklearn.ensemble import RandomForestClassifier\n",
    "rf = RandomForestClassifier(criterion = \"entropy\")"
   ]
  },
  {
   "cell_type": "code",
   "execution_count": 362,
   "metadata": {},
   "outputs": [
    {
     "name": "stderr",
     "output_type": "stream",
     "text": [
      "C:\\Users\\It\\Anaconda3\\lib\\site-packages\\sklearn\\ensemble\\forest.py:245: FutureWarning: The default value of n_estimators will change from 10 in version 0.20 to 100 in 0.22.\n",
      "  \"10 in version 0.20 to 100 in 0.22.\", FutureWarning)\n"
     ]
    }
   ],
   "source": [
    "pred = rf.fit(train_scaled, y).predict(test_scaled)\n",
    "solution = pd.DataFrame({\"Delivery_Time\":pred})\n",
    "solution[\"Delivery_Time\"] = solution.Delivery_Time.apply(mapkardo)\n",
    "# Export as csv\n",
    "solution.to_excel(\"RFMODEL.xlsx\", index = False)"
   ]
  },
  {
   "cell_type": "code",
   "execution_count": null,
   "metadata": {},
   "outputs": [],
   "source": []
  }
 ],
 "metadata": {
  "kernelspec": {
   "display_name": "Python 3",
   "language": "python",
   "name": "python3"
  },
  "language_info": {
   "codemirror_mode": {
    "name": "ipython",
    "version": 3
   },
   "file_extension": ".py",
   "mimetype": "text/x-python",
   "name": "python",
   "nbconvert_exporter": "python",
   "pygments_lexer": "ipython3",
   "version": "3.7.0"
  }
 },
 "nbformat": 4,
 "nbformat_minor": 2
}
