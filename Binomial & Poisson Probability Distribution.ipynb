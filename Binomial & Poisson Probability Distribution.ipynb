{
  "nbformat": 4,
  "nbformat_minor": 0,
  "metadata": {
    "colab": {
      "name": "Probability Distributions - Day 01.ipynb",
      "provenance": [],
      "authorship_tag": "ABX9TyN/l/PW5gIb0PPc6qTCiXiu",
      "include_colab_link": true
    },
    "kernelspec": {
      "name": "python3",
      "display_name": "Python 3"
    }
  },
  "cells": [
    {
      "cell_type": "markdown",
      "metadata": {
        "id": "view-in-github",
        "colab_type": "text"
      },
      "source": [
        "<a href=\"https://colab.research.google.com/github/mukul-mschauhan/Data-Science-Projects/blob/master/Binomial%20%26%20Poisson%20Probability%20Distribution.ipynb\" target=\"_parent\"><img src=\"https://colab.research.google.com/assets/colab-badge.svg\" alt=\"Open In Colab\"/></a>"
      ]
    },
    {
      "cell_type": "markdown",
      "metadata": {
        "id": "fHPal9QLEZAO",
        "colab_type": "text"
      },
      "source": [
        "## Statistics\n",
        "\n",
        "1. Descriptive Statistics - It helps in describing the data. (Mean, Median, Mode SD, Variance, Range, Boxplot).\n",
        "\n",
        "2. Inferential Statistics - This part of Statistics deals with finding inferences from the SAMPLE of data available. A sample preferably helps in understanding the behaviour of the population. Such a sample is called Representative Sample.\n",
        "\n",
        "3. Probability - Distributions.\n",
        "\n",
        "### What is Random Variable?\n",
        "\n",
        "A Variable whose value is unknown and it can have assume multiple values.\n",
        "Declare a RV called X. It can have finite/continuous values and the probability can be associated.\n",
        "\n",
        "A Variable can assume multiple values however, if we assign the probability to each and every value of variable, then it would be known as random variable.\n",
        "\n",
        "A Random Variable is a variable whose value is determined by some random experiment and the associated prob. with it.\n",
        "\n",
        "E = {H, T} # Experiment of Tossing a Coin | Two Outcomes & Prob.\n",
        "\n",
        "### Types of Random Variable\n",
        "\n",
        "Discrete & Continuous\n",
        "\n",
        "In Discrete Random Variable, we focus on count of values or point values.\n",
        "Lets say if the defective item from a machine is of 0.1 cm & each and every defective patch in 1 mt rod is always of 0.1 cm. \n",
        "\n",
        "E.g. - No of Students in Class, Currency Notes (Counting)\n",
        "Categorical Data, No of Pages in a Book, No of Deliveries\n",
        "No of Complaints recd by the Govt, No of People Infected.\n",
        "No of Coins Flipped in Test Matche\n",
        "\n",
        "The probability of Discrete RV is calculated using PMF (Prob. Mass Function).\n",
        "The Discrete RV is countable in nature (Point Values)\n",
        "\n",
        "Continuous Random Variable, we focus on values in between INTERVALS and thats the reason Cont RV is measured.\n",
        "\n",
        "The Probability is calculated using PDF (Prob. Density Function).\n",
        "\n",
        "E.g. - Amount of Claims made to Insurance Company in the wake of Covid.\n",
        "Amount of Withdrawl made to Employee PF by the Employees\n",
        "Amount of Milk in one pkt of AMUL\n",
        "Price of our house\n",
        "\n",
        "\n"
      ]
    },
    {
      "cell_type": "code",
      "metadata": {
        "id": "8lonU8c49mhb",
        "colab_type": "code",
        "colab": {}
      },
      "source": [
        ""
      ],
      "execution_count": 0,
      "outputs": []
    },
    {
      "cell_type": "markdown",
      "metadata": {
        "id": "2-rupU9tLNUy",
        "colab_type": "text"
      },
      "source": [
        "# Discrete Random Variable\n",
        "1. Binomial Probability Distribution\n",
        "2. Poisson Prob Distribution\n",
        "\n",
        "### What contitutes a Binomial Experiment\n",
        "1. Two Outcomes\n",
        "2. Trials should be independent.\n",
        "3. Outcomes are also independent.\n",
        "4. Experiements are repeated.\n",
        "5. Probability of happening of any event is always same.\n",
        "\n",
        "### What is Probability Mass Function\n",
        "PMF is nothing but the probability calculated from Binomial Prob. Dist Function.\n",
        "For a Discrete RV X with the possible values of x1, x2, x3....\n",
        "the PMF is a function s.t.\n",
        "1. sum of all PMF Values =1\n",
        "2. Prob>=0\n",
        "\n",
        "Q.1. 60% of people who purchase sports car are men.\n",
        "If 10 sports car owners are randomly selected, \n",
        "Find the probability that exactly 7 are men.\n"
      ]
    },
    {
      "cell_type": "code",
      "metadata": {
        "id": "dOnJgaoGG93N",
        "colab_type": "code",
        "colab": {}
      },
      "source": [
        "#No of Success - Interested in Finding the Probability\n",
        "# Trials - Total no of Samples Available in Data/Question\n",
        "# Prob: Probability of Success\n",
        "# Formula: P(X = r) = nCr*p**r*q**(n-r)\n",
        "import scipy.stats as stats"
      ],
      "execution_count": 0,
      "outputs": []
    },
    {
      "cell_type": "code",
      "metadata": {
        "id": "nPftkVX7PF5f",
        "colab_type": "code",
        "colab": {
          "base_uri": "https://localhost:8080/",
          "height": 34
        },
        "outputId": "3c332834-504d-4202-b1e5-35846b00bf7c"
      },
      "source": [
        "stats.binom.pmf(k = 7, n = 10, p = 0.60).round(3)"
      ],
      "execution_count": 8,
      "outputs": [
        {
          "output_type": "execute_result",
          "data": {
            "text/plain": [
              "0.215"
            ]
          },
          "metadata": {
            "tags": []
          },
          "execution_count": 8
        }
      ]
    },
    {
      "cell_type": "markdown",
      "metadata": {
        "id": "P1EAUtxwPrTn",
        "colab_type": "text"
      },
      "source": [
        "# Mean & Standard Deviation of Binomial Probability Distribution\n",
        "1. The Mean or the Expected Value is sum(xi*p)\n",
        "2. The Variance is given by (xi-xbar)**2 * p\n",
        "\n",
        "So, if an experiment is executed infinite no of times, then the value that I get on an average is the expected value of that experiment."
      ]
    },
    {
      "cell_type": "code",
      "metadata": {
        "id": "Byj368F4PU7-",
        "colab_type": "code",
        "colab": {}
      },
      "source": [
        "# Create a Prob Distribution in this Question\n",
        "import numpy as np\n",
        "import pandas as pd"
      ],
      "execution_count": 0,
      "outputs": []
    },
    {
      "cell_type": "code",
      "metadata": {
        "id": "OK76BUvtR7G_",
        "colab_type": "code",
        "colab": {}
      },
      "source": [
        "prob = []\n",
        "for i in np.arange(1,11):\n",
        "  prob.append(stats.binom.pmf(k = i, n=10, p = 0.60))"
      ],
      "execution_count": 0,
      "outputs": []
    },
    {
      "cell_type": "code",
      "metadata": {
        "id": "AIDH6XaFR9si",
        "colab_type": "code",
        "colab": {}
      },
      "source": [
        "df = pd.DataFrame({\"x\": np.arange(1,11), \"prob\":prob})"
      ],
      "execution_count": 0,
      "outputs": []
    },
    {
      "cell_type": "code",
      "metadata": {
        "id": "PnltF_JjSRTf",
        "colab_type": "code",
        "colab": {}
      },
      "source": [
        "# mean of prob dis - xi * prob\n",
        "df[\"xi_prob\"] = df[\"x\"]*df[\"prob\"]"
      ],
      "execution_count": 0,
      "outputs": []
    },
    {
      "cell_type": "code",
      "metadata": {
        "id": "DOdJH-CeSSGY",
        "colab_type": "code",
        "colab": {
          "base_uri": "https://localhost:8080/",
          "height": 34
        },
        "outputId": "cd48ca6a-810b-4d37-e2bb-89d2dec7a890"
      },
      "source": [
        "print(\"The expected value is: \", df[\"xi_prob\"].sum().round(2))\n",
        "# Inference - On an average the males who own sport cars are 6 with a SD of 1.6 males."
      ],
      "execution_count": 19,
      "outputs": [
        {
          "output_type": "stream",
          "text": [
            "The expected value is:  6.0\n"
          ],
          "name": "stdout"
        }
      ]
    },
    {
      "cell_type": "code",
      "metadata": {
        "id": "3Y43CODlT8M1",
        "colab_type": "code",
        "colab": {}
      },
      "source": [
        "# Variance - sum([(xi)-xbar]**2 * prob)\n",
        "df[\"var\"] = (df[\"x\"] - df[\"x\"].mean())**2*df[\"prob\"]"
      ],
      "execution_count": 0,
      "outputs": []
    },
    {
      "cell_type": "code",
      "metadata": {
        "id": "l8YzCnJKVCol",
        "colab_type": "code",
        "colab": {
          "base_uri": "https://localhost:8080/",
          "height": 51
        },
        "outputId": "591ab75d-a959-4921-b2be-04eb3f07d99e"
      },
      "source": [
        "print(\"Variance: \", df[\"var\"].sum())\n",
        "print(\"SD: \", np.sqrt(df[\"var\"].sum()))"
      ],
      "execution_count": 32,
      "outputs": [
        {
          "output_type": "stream",
          "text": [
            "Variance:  2.6468280576000014\n",
            "SD:  1.6269075135360342\n"
          ],
          "name": "stdout"
        }
      ]
    },
    {
      "cell_type": "markdown",
      "metadata": {
        "id": "64_qE9eAWQdo",
        "colab_type": "text"
      },
      "source": [
        "Q.2. When looking at person's eye color, it turns out that 1% of the people in the world have Green Eyes. Considering the Group of 20 people, find the prob that:\n",
        "\n",
        "1. None has Green Eyes\n",
        "2. 9 people have Green Eyes\n",
        "3. At Most 3 Have Green Eyes\n",
        "4. At Least 4 have Gren Eyes. \n",
        "\n",
        "\n",
        "Q.3. There are 10 customers in a shop. The probability that any customer purchases something is 0.4.\n",
        "\n",
        "1. Calculate the Probability that ONE Customer buys something.\n",
        "\n",
        "2. Calculate the Probability that Four Customers buy something.\n",
        "\n",
        "3. Calculate the Probability that AT MOST Two Customers buy something.\n",
        "\n",
        "4. Calculate the Probability that AT LEAST Two Customers buy something.\n",
        "\n",
        "5. How Many Customers do we expect to Buy Something?"
      ]
    },
    {
      "cell_type": "code",
      "metadata": {
        "id": "eDpxnz3RVqlG",
        "colab_type": "code",
        "colab": {
          "base_uri": "https://localhost:8080/",
          "height": 34
        },
        "outputId": "c9f40a3d-24b2-4bee-f6c5-a4b26231ff17"
      },
      "source": [
        "# p - 0.01, k = 0 n = 20\n",
        "stats.binom.pmf(k = 0, n = 20, p = 0.01)"
      ],
      "execution_count": 33,
      "outputs": [
        {
          "output_type": "execute_result",
          "data": {
            "text/plain": [
              "0.8179069375972309"
            ]
          },
          "metadata": {
            "tags": []
          },
          "execution_count": 33
        }
      ]
    },
    {
      "cell_type": "code",
      "metadata": {
        "id": "p3YQWjCKXnKi",
        "colab_type": "code",
        "colab": {
          "base_uri": "https://localhost:8080/",
          "height": 34
        },
        "outputId": "ad9e778e-a7ec-4f91-fb4c-63a106d10393"
      },
      "source": [
        "# 9 have Green Eyes\n",
        "stats.binom.pmf(k = 9, n = 20, p = 0.01)"
      ],
      "execution_count": 34,
      "outputs": [
        {
          "output_type": "execute_result",
          "data": {
            "text/plain": [
              "1.5038101318529419e-13"
            ]
          },
          "metadata": {
            "tags": []
          },
          "execution_count": 34
        }
      ]
    },
    {
      "cell_type": "code",
      "metadata": {
        "id": "s-TJlhpxXtye",
        "colab_type": "code",
        "colab": {
          "base_uri": "https://localhost:8080/",
          "height": 34
        },
        "outputId": "889e6ab9-94ce-4379-e901-8939d85b13b5"
      },
      "source": [
        "# At Most 3 Have Green Eyes\n",
        "stats.binom.cdf(k = 3, n = 20, p = 0.01)"
      ],
      "execution_count": 35,
      "outputs": [
        {
          "output_type": "execute_result",
          "data": {
            "text/plain": [
              "0.9999573790723576"
            ]
          },
          "metadata": {
            "tags": []
          },
          "execution_count": 35
        }
      ]
    },
    {
      "cell_type": "code",
      "metadata": {
        "id": "dFcSeY2QX8mM",
        "colab_type": "code",
        "colab": {
          "base_uri": "https://localhost:8080/",
          "height": 34
        },
        "outputId": "0f366f88-9f5d-4552-9a7b-5e4251b9ae10"
      },
      "source": [
        "# At Least 4 have Gren Eyes - It means it can have 4 or mor\n",
        "1 - stats.binom.cdf(k = 3, n = 20, p = 0.01)\n"
      ],
      "execution_count": 36,
      "outputs": [
        {
          "output_type": "execute_result",
          "data": {
            "text/plain": [
              "4.262092764240055e-05"
            ]
          },
          "metadata": {
            "tags": []
          },
          "execution_count": 36
        }
      ]
    },
    {
      "cell_type": "markdown",
      "metadata": {
        "id": "37diUauUYhbh",
        "colab_type": "text"
      },
      "source": [
        "Q.3. There are 10 customers in a shop. The probability that any customer purchases something is 0.4.\n",
        "1. Calculate the Probability that ONE Customer buys something.\n",
        "2. Calculate the Probability that Four Customers buy something.\n",
        "3. Calculate the Probability that AT MOST Two Customers buy something.\n",
        "4. Calculate the Probability that AT LEAST Two Customers buy something.\n",
        "5. How Many Customers do we expect to Buy Something?"
      ]
    },
    {
      "cell_type": "code",
      "metadata": {
        "id": "uf4TkSoWYFHc",
        "colab_type": "code",
        "colab": {
          "base_uri": "https://localhost:8080/",
          "height": 34
        },
        "outputId": "417a5467-ab4c-4b21-bee6-deb14b9ba400"
      },
      "source": [
        "# ONE Customer buys something.\n",
        "stats.binom.pmf(k = 1, n = 10, p = 0.4)"
      ],
      "execution_count": 37,
      "outputs": [
        {
          "output_type": "execute_result",
          "data": {
            "text/plain": [
              "0.04031078400000004"
            ]
          },
          "metadata": {
            "tags": []
          },
          "execution_count": 37
        }
      ]
    },
    {
      "cell_type": "code",
      "metadata": {
        "id": "iWL4zUehYt7u",
        "colab_type": "code",
        "colab": {
          "base_uri": "https://localhost:8080/",
          "height": 34
        },
        "outputId": "f78bc3ce-0d69-4f60-82d0-9fdfe0155474"
      },
      "source": [
        "# Probability that Four Customers buy something\n",
        "stats.binom.pmf(k = 4, n = 10, p = 0.4)"
      ],
      "execution_count": 38,
      "outputs": [
        {
          "output_type": "execute_result",
          "data": {
            "text/plain": [
              "0.2508226560000002"
            ]
          },
          "metadata": {
            "tags": []
          },
          "execution_count": 38
        }
      ]
    },
    {
      "cell_type": "code",
      "metadata": {
        "id": "zz5CE8BQY3tt",
        "colab_type": "code",
        "colab": {
          "base_uri": "https://localhost:8080/",
          "height": 34
        },
        "outputId": "8cce6826-ded1-4966-f7e5-da5753192ca2"
      },
      "source": [
        "# AT MOST Two Customers buy something\n",
        "stats.binom.cdf(k = 2, n = 10, p = 0.40)"
      ],
      "execution_count": 39,
      "outputs": [
        {
          "output_type": "execute_result",
          "data": {
            "text/plain": [
              "0.16728975360000004"
            ]
          },
          "metadata": {
            "tags": []
          },
          "execution_count": 39
        }
      ]
    },
    {
      "cell_type": "code",
      "metadata": {
        "id": "XwK2a10_ZBuI",
        "colab_type": "code",
        "colab": {
          "base_uri": "https://localhost:8080/",
          "height": 34
        },
        "outputId": "7875dda5-bcb7-4e49-b451-36f9661aeea7"
      },
      "source": [
        "# AT LEAST TWO Customers Buy Something: It means that prob(0) + prob(1)\n",
        "# P(X>=2) = P(X<=1)\n",
        "1-stats.binom.cdf(k = 1, n = 10, p = 0.40)"
      ],
      "execution_count": 41,
      "outputs": [
        {
          "output_type": "execute_result",
          "data": {
            "text/plain": [
              "0.9536425984"
            ]
          },
          "metadata": {
            "tags": []
          },
          "execution_count": 41
        }
      ]
    },
    {
      "cell_type": "code",
      "metadata": {
        "id": "Hglha6iXZqhO",
        "colab_type": "code",
        "colab": {
          "base_uri": "https://localhost:8080/",
          "height": 34
        },
        "outputId": "6a700f9e-41c3-4e83-a1e1-0e2a4f5a5690"
      },
      "source": [
        "# Expected Value - n*p n - 10 & p - 0.4\n",
        "10* 0.4 # On Average 4 people should be buying products in the store."
      ],
      "execution_count": 42,
      "outputs": [
        {
          "output_type": "execute_result",
          "data": {
            "text/plain": [
              "4.0"
            ]
          },
          "metadata": {
            "tags": []
          },
          "execution_count": 42
        }
      ]
    },
    {
      "cell_type": "markdown",
      "metadata": {
        "id": "BLT3owSOaDmj",
        "colab_type": "text"
      },
      "source": [
        "### Examples of Binomial Prob. Distribution.\n",
        "\n",
        "1. Drug Testing - Whether the Vaccine will work or not\n",
        "2. Buying Lottery - Either you win or whine\n",
        "3. Online Shopping - Either you Buy or Dont Buy\n",
        "4. Credit Cards - Default Payments or Not.\n",
        "\n",
        "Y is the no of Flights Sold by Travel Agency online. \n",
        "The Travel Agency sells 10 flights per hour. Find the Probability that exactly 5 flights are sold.\n",
        "\n",
        "# Poisson Probability Distribution\n",
        "It measures how many times an event occurs in X Time Interval.\n",
        "\n",
        "### Properties of Poisson\n",
        "1. Poisson is based on Time Interval, Space Interval and Volume Interval\n",
        "2. The Occurence of event is random in nature. If it is a planned event, poisson cannot be applied.\n",
        "3. Happening of One Event is Independent of the Other.\n",
        "4. The Average no of Occurences is given by Lambda or mew.\n",
        "5. Actual No of Occurences are denoted by small x.\n",
        "\n",
        "### Formula for Poisson Distribution - P(X = x): [e^-lambda * lambda**x]/factorial(x)\n"
      ]
    },
    {
      "cell_type": "code",
      "metadata": {
        "id": "37ZAggsXZ5to",
        "colab_type": "code",
        "colab": {
          "base_uri": "https://localhost:8080/",
          "height": 34
        },
        "outputId": "460bd0ea-4298-4489-b644-266b80ddee2c"
      },
      "source": [
        "# Find the Probability of at most 3 births during any 1-second interval\n",
        "# Global Birth Rate Per Second - 4.3 Births Per Second\n",
        "stats.poisson.cdf(k = 3, mu = 4.3)"
      ],
      "execution_count": 43,
      "outputs": [
        {
          "output_type": "execute_result",
          "data": {
            "text/plain": [
              "0.3771539277296392"
            ]
          },
          "metadata": {
            "tags": []
          },
          "execution_count": 43
        }
      ]
    },
    {
      "cell_type": "code",
      "metadata": {
        "id": "N7VVnqcyd7Y4",
        "colab_type": "code",
        "colab": {
          "base_uri": "https://localhost:8080/",
          "height": 34
        },
        "outputId": "02ab2488-0feb-4f41-be5a-9dae863d43a0"
      },
      "source": [
        "# Exactly 5 Births during 1 - second interval\n",
        "stats.poisson.pmf(k = 5, mu = 4.3)"
      ],
      "execution_count": 44,
      "outputs": [
        {
          "output_type": "execute_result",
          "data": {
            "text/plain": [
              "0.1662243945114398"
            ]
          },
          "metadata": {
            "tags": []
          },
          "execution_count": 44
        }
      ]
    },
    {
      "cell_type": "code",
      "metadata": {
        "id": "Vl0K-2weeIEX",
        "colab_type": "code",
        "colab": {
          "base_uri": "https://localhost:8080/",
          "height": 34
        },
        "outputId": "394acaaf-c1eb-4c7f-a5ac-ece83ce09edb"
      },
      "source": [
        "# Global Death Rate Per Second - 1.8 humans\n",
        "# Lets Find at most 2 Global Deaths\n",
        "stats.poisson.cdf(k = 2, mu = 1.8) "
      ],
      "execution_count": 45,
      "outputs": [
        {
          "output_type": "execute_result",
          "data": {
            "text/plain": [
              "0.7306210859394124"
            ]
          },
          "metadata": {
            "tags": []
          },
          "execution_count": 45
        }
      ]
    },
    {
      "cell_type": "code",
      "metadata": {
        "id": "3Zfoo7m4eci1",
        "colab_type": "code",
        "colab": {}
      },
      "source": [
        ""
      ],
      "execution_count": 0,
      "outputs": []
    }
  ]
}